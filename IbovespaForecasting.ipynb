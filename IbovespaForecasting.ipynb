{
 "cells": [
  {
   "cell_type": "markdown",
   "metadata": {},
   "source": [
    "# Ibovespa forecasting using neural networks\n",
    "\n",
    "## Machine Learning Engineer Nanodegree - Capstone Proposal"
   ]
  },
  {
   "cell_type": "markdown",
   "metadata": {},
   "source": [
    "### Import python packages"
   ]
  },
  {
   "cell_type": "code",
   "execution_count": 1,
   "metadata": {},
   "outputs": [],
   "source": [
    "import os\n",
    "import numpy as np\n",
    "import pandas as pd\n",
    "from tqdm import tqdm\n",
    "import torch\n",
    "import torch.utils.data\n",
    "from torch import optim\n",
    "from torch import nn\n",
    "from torch.autograd import Variable\n",
    "from ibov.utils import load_config\n",
    "from ibov.feature import create_lags, consolidate_features\n",
    "from ibov.model import Ibovespa, train\n",
    "from ibov.request import get_history, label_train_test"
   ]
  },
  {
   "cell_type": "markdown",
   "metadata": {},
   "source": [
    "### Loading Configs"
   ]
  },
  {
   "cell_type": "code",
   "execution_count": 2,
   "metadata": {},
   "outputs": [],
   "source": [
    "# Load config dict\n",
    "config = load_config()"
   ]
  },
  {
   "cell_type": "code",
   "execution_count": 3,
   "metadata": {},
   "outputs": [],
   "source": [
    "# Feature Engineering Configs\n",
    "split = config.get(\"feature\").get(\"split\")\n",
    "window = config.get(\"feature\").get(\"window\")\n",
    "\n",
    "# Data Configs\n",
    "data_dir = config.get(\"data\").get(\"dir\")\n",
    "ibov_ticker = config.get(\"ibov\").get(\"ticker\")\n",
    "history_file = config.get(\"data\").get(\"history\")"
   ]
  },
  {
   "cell_type": "markdown",
   "metadata": {},
   "source": [
    "### Data Preparation"
   ]
  },
  {
   "cell_type": "code",
   "execution_count": 4,
   "metadata": {},
   "outputs": [],
   "source": [
    "# Invoke yahoo finance api\n",
    "ibovespa = get_history(ticker=ibov_ticker)[:1000]\n",
    "\n",
    "# Save data on disk\n",
    "ibovespa.to_csv(os.path.join(data_dir, history_file), index=False)\n",
    "\n",
    "# Label datapoint as train or test dataset\n",
    "ibovespa = label_train_test(ibovespa, split=split, split_valid=0.1)"
   ]
  },
  {
   "cell_type": "code",
   "execution_count": 5,
   "metadata": {},
   "outputs": [],
   "source": [
    "from sklearn.preprocessing import MinMaxScaler"
   ]
  },
  {
   "cell_type": "code",
   "execution_count": 6,
   "metadata": {},
   "outputs": [],
   "source": [
    "scaler = MinMaxScaler()"
   ]
  },
  {
   "cell_type": "code",
   "execution_count": 7,
   "metadata": {},
   "outputs": [],
   "source": [
    "ibovespa[['close']] = scaler.fit_transform(ibovespa[['close']])"
   ]
  },
  {
   "cell_type": "markdown",
   "metadata": {},
   "source": [
    "### Feature Engineering"
   ]
  },
  {
   "cell_type": "code",
   "execution_count": 8,
   "metadata": {},
   "outputs": [],
   "source": [
    "# Create lag variables\n",
    "ibov_lags_df = create_lags(ibovespa, window=window, var=\"close\", index=\"date\")"
   ]
  },
  {
   "cell_type": "code",
   "execution_count": 9,
   "metadata": {},
   "outputs": [],
   "source": [
    "def create_delta_sign(data, var, index, window):\n",
    "    \n",
    "    data = data.copy()\n",
    "    \n",
    "    delta_sign = \\\n",
    "        np.reshape([np.sign(i-j) for t in data[var] for i, j in zip(t[:-1], t[1:])], (data.shape[0], window-1))\n",
    "    \n",
    "    result = [a+[x] for a,x in zip([l.tolist() for l in delta_sign], [0]*delta_sign.shape[0])]\n",
    "    \n",
    "    data[\"delta_sign\"] = result\n",
    "    \n",
    "    delta_sign_df = data[[index, \"delta_sign\"]]  \n",
    "    \n",
    "    return delta_sign_df"
   ]
  },
  {
   "cell_type": "code",
   "execution_count": 10,
   "metadata": {},
   "outputs": [],
   "source": [
    "ibov_delta_sign_df = create_delta_sign(ibov_lags_df, var=\"lags\", index=\"date\", window=window)"
   ]
  },
  {
   "cell_type": "code",
   "execution_count": 11,
   "metadata": {},
   "outputs": [],
   "source": [
    "# Consolidate raw data with features\n",
    "master_table = consolidate_features(ibovespa, \"date\", ibov_lags_df, ibov_delta_sign_df)"
   ]
  },
  {
   "cell_type": "markdown",
   "metadata": {},
   "source": [
    "### Definição do modelo"
   ]
  },
  {
   "cell_type": "code",
   "execution_count": 12,
   "metadata": {},
   "outputs": [],
   "source": [
    "variables=[\"lags\", \"delta_sign\"]"
   ]
  },
  {
   "cell_type": "code",
   "execution_count": 13,
   "metadata": {},
   "outputs": [],
   "source": [
    "def torch_data(df, target, variables, group_var, batch, group):\n",
    "    \n",
    "    data  = df[df[group_var] == group].reset_index()\n",
    "    \n",
    "    x_tensor = torch.Tensor(data[variables].values.tolist())\n",
    "    y_tensor = torch.Tensor(data[target])\n",
    "    \n",
    "    dataset = torch.utils.data.TensorDataset(x_tensor,y_tensor)\n",
    "    loader = torch.utils.data.DataLoader(dataset, batch_size=batch)\n",
    "    \n",
    "    return loader, x_tensor, y_tensor   "
   ]
  },
  {
   "cell_type": "code",
   "execution_count": 14,
   "metadata": {},
   "outputs": [],
   "source": [
    "train_loader, train_x_tensor, train_y_tensor = \\\n",
    "    torch_data(master_table, target=\"target\", variables=[\"lags\"], group_var=\"group\", batch=100, group=\"train\")\n",
    "\n",
    "valid_loader, valid_x_tensor, valid_y_tensor = \\\n",
    "    torch_data(master_table, target=\"target\", variables=[\"lags\"], group_var=\"group\", batch=100, group=\"valid\")\n",
    "\n",
    "test_loader, test_x_tensor, test_y_tensor = \\\n",
    "    torch_data(master_table, target=\"target\", variables=[\"lags\"], group_var=\"group\", batch=100, group=\"test\")"
   ]
  },
  {
   "cell_type": "code",
   "execution_count": 15,
   "metadata": {},
   "outputs": [],
   "source": [
    "class Ibovespa_two_headed(nn.Module):\n",
    "\n",
    "    def __init__(self, input_layer, hidden_layer=50, dropout=0.25):\n",
    "\n",
    "        super(Ibovespa_two_headed, self).__init__()\n",
    "        \n",
    "        self.dropout = nn.Dropout(dropout)\n",
    "        self.fc1 = nn.Linear(input_layer, hidden_layer)\n",
    "        self.fc2 = nn.Linear(input_layer, hidden_layer)\n",
    "        self.fc3 = nn.Linear(hidden_layer*2, 1)\n",
    "        \n",
    "        self.tanh = nn.Tanh()\n",
    "        \n",
    "    def forward(self, input):\n",
    "       \n",
    "        x_lags = input[:,0]\n",
    "        x_sign = input[:,1]\n",
    "        \n",
    "        out_lags = self.fc1(x_lags)\n",
    "        out_lags = self.dropout(out_lags)\n",
    "\n",
    "        out_sign = self.fc2(x_sign)\n",
    "        out_sign = self.tanh(out_lags)\n",
    "\n",
    "\n",
    "        output = self.fc3(torch.cat((out_lags, out_sign), 1))\n",
    "\n",
    "        return output"
   ]
  },
  {
   "cell_type": "code",
   "execution_count": 16,
   "metadata": {},
   "outputs": [],
   "source": [
    "class Ibovespa_lstm(nn.Module):\n",
    "\n",
    "    def __init__(self, input_layer, hidden_layer=50, dropout=0.25):\n",
    "\n",
    "        super(Ibovespa_lstm, self).__init__()\n",
    "        \n",
    "        self.hidden_layer = hidden_layer\n",
    "        \n",
    "        self.hidden_cell = (torch.zeros(1,1,self.hidden_layer),\n",
    "                            torch.zeros(1,1,self.hidden_layer))\n",
    "        \n",
    "        self.lstm = nn.LSTM(input_layer, hidden_layer)\n",
    "\n",
    "        self.linear = nn.Linear(hidden_layer, 1)\n",
    "        \n",
    "    def forward(self, input):\n",
    "       \n",
    "        x_lags = input\n",
    "        lstm_out, self.hidden_cell = self.lstm(x_lags.view(len(x_lags),1 , -1), self.hidden_cell)\n",
    "      \n",
    "        output = self.linear(lstm_out)\n",
    "        return lstm_out[:,:,0]"
   ]
  },
  {
   "cell_type": "code",
   "execution_count": 17,
   "metadata": {},
   "outputs": [],
   "source": [
    "from tqdm import tqdm"
   ]
  },
  {
   "cell_type": "code",
   "execution_count": 18,
   "metadata": {},
   "outputs": [],
   "source": [
    "def train(model, trainData, validData, criterion, optimizer, epochs):\n",
    "\n",
    "    loss_list = []\n",
    "    valid_loss_list = []\n",
    "\n",
    "    for epoch in tqdm(range(epochs)):\n",
    "        \n",
    "        # Restart model training status\n",
    "        model.train()\n",
    "        # Restart loss value\n",
    "        loss_value = 0.0\n",
    "        valid_loss_value = 0.0\n",
    "        \n",
    "        for batch in trainData:\n",
    "            # Get training data\n",
    "            batch_x, batch_y = batch\n",
    "            # Zero the parameter gradients\n",
    "            optimizer.zero_grad()\n",
    "            # Forward\n",
    "            outputs = model(batch_x)\n",
    "            loss = criterion(outputs, batch_y)\n",
    "#             print(outputs.shape)\n",
    "#             print(\"-------\")\n",
    "#             print(batch_y.shape)\n",
    "            # Backward\n",
    "            loss.backward(retain_graph=True)\n",
    "            # Optimize\n",
    "            optimizer.step()\n",
    "            # Update Loss\n",
    "            loss_value += loss.item()\n",
    "            # Turn model to evaluation mode\n",
    "            model.eval()\n",
    "        # Predict over validation dataset\n",
    "        for batch in validData:\n",
    "            # Get validation data\n",
    "            batch_x, batch_y = batch\n",
    "            # Prediction\n",
    "            outputs = model(batch_x)\n",
    "            # Validation loss\n",
    "            valid_loss = criterion(outputs, batch_y)\n",
    "            # Update loss\n",
    "            valid_loss_value += valid_loss.item()\n",
    "        # Plot loss across epochs\n",
    "        loss_list.append(loss_value)\n",
    "        valid_loss_list.append(valid_loss_value)\n",
    "        # print(valid_loss_value)\n",
    "        pl.plot(loss_list, '-b', label=\"TrainLoss\")\n",
    "        pl.plot(valid_loss_list, '-r', label=\"ValidLoss\")\n",
    "        # if epoch == 1:\n",
    "        #     pl.legend(loc='upper right')\n",
    "        display.display(pl.gcf())\n",
    "        print(f\"training error: {loss_value}\")\n",
    "        print(f\"validation error: {valid_loss_value}\")\n",
    "        display.clear_output(wait=True)\n",
    "    print(f\"training error: {loss_value}\")\n",
    "    print(f\"validation error: {valid_loss_value}\")\n",
    "    model.eval()"
   ]
  },
  {
   "cell_type": "code",
   "execution_count": 19,
   "metadata": {},
   "outputs": [],
   "source": [
    "import pylab as pl\n",
    "from IPython import display"
   ]
  },
  {
   "cell_type": "code",
   "execution_count": 20,
   "metadata": {},
   "outputs": [],
   "source": [
    "model = Ibovespa_lstm(input_layer=window, hidden_layer=50, dropout=0.25)\n",
    "criterion = nn.L1Loss()\n",
    "optimizer = optim.Adam(model.parameters(), lr=0.001)"
   ]
  },
  {
   "cell_type": "code",
   "execution_count": 21,
   "metadata": {
    "scrolled": true
   },
   "outputs": [
    {
     "name": "stderr",
     "output_type": "stream",
     "text": [
      "100%|██████████| 30/30 [09:24<00:00, 18.81s/it]"
     ]
    },
    {
     "name": "stdout",
     "output_type": "stream",
     "text": [
      "training error: 0.2378317741677165\n",
      "validation error: 0.062243152409791946\n"
     ]
    },
    {
     "name": "stderr",
     "output_type": "stream",
     "text": [
      "\n"
     ]
    },
    {
     "data": {
      "image/png": "[encoded data removed]",
      "text/plain": [
       "<Figure size 432x288 with 1 Axes>"
      ]
     },
     "metadata": {
      "needs_background": "light"
     },
     "output_type": "display_data"
    }
   ],
   "source": [
    "train(model, train_loader, valid_loader, criterion, optimizer, epochs=30)"
   ]
  },
  {
   "cell_type": "code",
   "execution_count": 22,
   "metadata": {},
   "outputs": [
    {
     "data": {
      "text/plain": [
       "Ibovespa_lstm(\n",
       "  (lstm): LSTM(3, 50)\n",
       "  (linear): Linear(in_features=50, out_features=1, bias=True)\n",
       ")"
      ]
     },
     "execution_count": 22,
     "metadata": {},
     "output_type": "execute_result"
    }
   ],
   "source": [
    "model.eval()"
   ]
  },
  {
   "cell_type": "code",
   "execution_count": 23,
   "metadata": {},
   "outputs": [],
   "source": [
    "import seaborn as sns"
   ]
  },
  {
   "cell_type": "code",
   "execution_count": 24,
   "metadata": {},
   "outputs": [],
   "source": [
    "def evaluate_results(train_x_tensor, train_y_tensor):\n",
    "    pred = np.array(np.hstack(model(train_x_tensor).detach().numpy()).tolist())\n",
    "    true = np.array(np.hstack(train_y_tensor).tolist())\n",
    "    # Prediction error\n",
    "    mae = np.mean(np.abs(pred - true))\n",
    "    # Predict delta accuracy\n",
    "    delta_true = np.array([1 if np.sign(true[idx]-true[idx+1]) >=0 else 0 for idx in range(true.shape[0]-1)])\n",
    "    delta_pred = np.array([1 if np.sign(pred[idx]-pred[idx+1]) >=0 else 0 for idx in range(pred.shape[0]-1)])\n",
    "    tp = sum(1 for val in (delta_true + delta_pred) if val==2)\n",
    "    fp = sum(1 for val in (delta_true - delta_pred) if val==-1)\n",
    "    fn = sum(1 for val in (delta_true - delta_pred) if val==1)\n",
    "    precision = tp/(tp+fp)\n",
    "    recal = tp/(tp+fn)\n",
    "    f1 = 2*(precision*recal)/(precision+recal)\n",
    "    \n",
    "    return mae, f1"
   ]
  },
  {
   "cell_type": "code",
   "execution_count": 25,
   "metadata": {},
   "outputs": [
    {
     "data": {
      "text/plain": [
       "(0.025661910664539773, 0.6430939226519337)"
      ]
     },
     "execution_count": 25,
     "metadata": {},
     "output_type": "execute_result"
    }
   ],
   "source": [
    "evaluate_results(train_x_tensor, train_y_tensor)"
   ]
  },
  {
   "cell_type": "code",
   "execution_count": 26,
   "metadata": {},
   "outputs": [
    {
     "data": {
      "text/plain": [
       "(0.06212773640732189, 0.6964285714285714)"
      ]
     },
     "execution_count": 26,
     "metadata": {},
     "output_type": "execute_result"
    }
   ],
   "source": [
    "evaluate_results(valid_x_tensor, valid_y_tensor)"
   ]
  },
  {
   "cell_type": "code",
   "execution_count": 27,
   "metadata": {},
   "outputs": [
    {
     "data": {
      "text/plain": [
       "(0.0636500009894371, 0.6422018348623854)"
      ]
     },
     "execution_count": 27,
     "metadata": {},
     "output_type": "execute_result"
    }
   ],
   "source": [
    "evaluate_results(test_x_tensor, test_y_tensor)"
   ]
  },
  {
   "cell_type": "markdown",
   "metadata": {},
   "source": [
    "### Benchmark Model"
   ]
  },
  {
   "cell_type": "code",
   "execution_count": 28,
   "metadata": {},
   "outputs": [],
   "source": [
    "bcm_true = np.array(np.hstack(test_y_tensor).tolist())\n",
    "bcm_pred = np.array(list(np.array(np.hstack(test_y_tensor).tolist())[1:]) + list(np.array(valid_y_tensor[0])))"
   ]
  },
  {
   "cell_type": "code",
   "execution_count": 29,
   "metadata": {},
   "outputs": [],
   "source": [
    "mae = np.mean(np.abs(bcm_pred - bcm_true))\n",
    "# Predict delta accuracy\n",
    "delta_true = np.array([1 if np.sign(bcm_true[idx]-bcm_true[idx+1]) >=0 else 0 for idx in range(bcm_true.shape[0]-1)])\n",
    "delta_pred = np.array([1 if np.sign(bcm_pred[idx]-bcm_pred[idx+1]) >=0 else 0 for idx in range(bcm_pred.shape[0]-1)])\n",
    "tp = sum(1 for val in (delta_true + delta_pred) if val==2)\n",
    "fp = sum(1 for val in (delta_true - delta_pred) if val==-1)\n",
    "fn = sum(1 for val in (delta_true - delta_pred) if val==1)\n",
    "precision = tp/(tp+fp)\n",
    "recal = tp/(tp+fn)\n",
    "f1 = 2*(precision*recal)/(precision+recal)"
   ]
  },
  {
   "cell_type": "code",
   "execution_count": 30,
   "metadata": {},
   "outputs": [
    {
     "data": {
      "text/plain": [
       "(0.01721727252006531, 0.5614035087719298)"
      ]
     },
     "execution_count": 30,
     "metadata": {},
     "output_type": "execute_result"
    }
   ],
   "source": [
    "mae, f1"
   ]
  },
  {
   "cell_type": "markdown",
   "metadata": {},
   "source": [
    "### Graphical Evaluation"
   ]
  },
  {
   "cell_type": "code",
   "execution_count": 31,
   "metadata": {},
   "outputs": [
    {
     "data": {
      "text/plain": [
       "Ibovespa_lstm(\n",
       "  (lstm): LSTM(3, 50)\n",
       "  (linear): Linear(in_features=50, out_features=1, bias=True)\n",
       ")"
      ]
     },
     "execution_count": 31,
     "metadata": {},
     "output_type": "execute_result"
    }
   ],
   "source": [
    "model.eval()"
   ]
  },
  {
   "cell_type": "code",
   "execution_count": 32,
   "metadata": {},
   "outputs": [],
   "source": [
    "import matplotlib.pyplot as plt\n",
    "import seaborn as sns"
   ]
  },
  {
   "cell_type": "code",
   "execution_count": 33,
   "metadata": {},
   "outputs": [],
   "source": [
    "bcm = pd.DataFrame()\n",
    "bcm[\"true\"] = bcm_true\n",
    "bcm[\"pred\"] = bcm_pred"
   ]
  },
  {
   "cell_type": "code",
   "execution_count": 34,
   "metadata": {
    "scrolled": true
   },
   "outputs": [
    {
     "data": {
      "text/html": [
       "<div>\n",
       "<style scoped>\n",
       "    .dataframe tbody tr th:only-of-type {\n",
       "        vertical-align: middle;\n",
       "    }\n",
       "\n",
       "    .dataframe tbody tr th {\n",
       "        vertical-align: top;\n",
       "    }\n",
       "\n",
       "    .dataframe thead th {\n",
       "        text-align: right;\n",
       "    }\n",
       "</style>\n",
       "<table border=\"1\" class=\"dataframe\">\n",
       "  <thead>\n",
       "    <tr style=\"text-align: right;\">\n",
       "      <th></th>\n",
       "      <th>true</th>\n",
       "      <th>pred</th>\n",
       "    </tr>\n",
       "  </thead>\n",
       "  <tbody>\n",
       "    <tr>\n",
       "      <th>0</th>\n",
       "      <td>0.984091</td>\n",
       "      <td>0.687476</td>\n",
       "    </tr>\n",
       "    <tr>\n",
       "      <th>1</th>\n",
       "      <td>0.966530</td>\n",
       "      <td>0.710527</td>\n",
       "    </tr>\n",
       "    <tr>\n",
       "      <th>2</th>\n",
       "      <td>1.000000</td>\n",
       "      <td>0.728547</td>\n",
       "    </tr>\n",
       "    <tr>\n",
       "      <th>3</th>\n",
       "      <td>0.953982</td>\n",
       "      <td>0.743387</td>\n",
       "    </tr>\n",
       "    <tr>\n",
       "      <th>4</th>\n",
       "      <td>0.922945</td>\n",
       "      <td>0.755261</td>\n",
       "    </tr>\n",
       "  </tbody>\n",
       "</table>\n",
       "</div>"
      ],
      "text/plain": [
       "       true      pred\n",
       "0  0.984091  0.687476\n",
       "1  0.966530  0.710527\n",
       "2  1.000000  0.728547\n",
       "3  0.953982  0.743387\n",
       "4  0.922945  0.755261"
      ]
     },
     "execution_count": 34,
     "metadata": {},
     "output_type": "execute_result"
    }
   ],
   "source": [
    "pred = np.array(np.hstack(model(test_x_tensor).detach().numpy()).tolist())\n",
    "true = np.array(np.hstack(test_y_tensor).tolist())\n",
    "modelo = pd.DataFrame()\n",
    "modelo[\"true\"] = true\n",
    "modelo[\"pred\"] = pred\n",
    "modelo.head()"
   ]
  },
  {
   "cell_type": "code",
   "execution_count": 38,
   "metadata": {},
   "outputs": [
    {
     "data": {
      "image/png": "[encoded data removed]",
      "text/plain": [
       "<Figure size 1188x842.4 with 6 Axes>"
      ]
     },
     "metadata": {
      "needs_background": "light"
     },
     "output_type": "display_data"
    }
   ],
   "source": [
    "f, axes = plt.subplots(3, 2, figsize=(16.5, 11.7))\n",
    "sns.despine(left=True)\n",
    "\n",
    "# Plot a simple distribution of the desired columns\n",
    "sns.scatterplot(x=\"index\", y='true', data=modelo.reset_index(), ax=axes[0, 0])\n",
    "sns.lineplot(x=\"index\", y=\"pred\", data=modelo.reset_index(),ax=axes[0, 0], color='r')\n",
    "\n",
    "sns.scatterplot(x=\"index\", y='true', data=bcm.reset_index(), ax=axes[0, 1])\n",
    "sns.lineplot(x=\"index\", y=\"pred\", data=bcm.reset_index(),ax=axes[0, 1], color='r')\n",
    "\n",
    "sns.lineplot(x=\"true\", y=\"pred\", data=modelo.reset_index(),ax=axes[1, 0], color='r')\n",
    "sns.lineplot(x=\"true\", y=\"true\", data=modelo.reset_index(),ax=axes[1, 0], color='blue')\n",
    "\n",
    "sns.lineplot(x=\"true\", y=\"pred\", data=bcm.reset_index(),ax=axes[1, 1], color='r')\n",
    "sns.lineplot(x=\"true\", y=\"true\", data=bcm.reset_index(),ax=axes[1, 1], color='blue')\n",
    "\n",
    "sns.histplot(data = modelo[\"true\"] - modelo[\"pred\"],ax=axes[2, 0], color='r')\n",
    "axes[2, 0].set_xlim(-1, 1)\n",
    "\n",
    "sns.histplot(data = bcm[\"true\"] - bcm[\"pred\"],ax=axes[2, 1], color='r')\n",
    "axes[2, 1].set_xlim(-1, 1)\n",
    "\n",
    "plt.setp(axes, yticks=[])\n",
    "plt.tight_layout()"
   ]
  },
  {
   "cell_type": "markdown",
   "metadata": {},
   "source": [
    "### Sagemaker Training"
   ]
  },
  {
   "cell_type": "markdown",
   "metadata": {},
   "source": [
    "import boto3\n",
    "import sagemaker\n",
    "\n",
    "sagemaker_session = sagemaker.Session(boto_session=boto3.session.Session(region_name=\"sa-east-1\"))\n",
    "\n",
    "bucket = sagemaker_session.default_bucket()\n",
    "prefix = 'sagemaker/ibovespa'\n",
    "\n",
    "try:\n",
    "    role = sagemaker.get_execution_role()\n",
    "except Exception as err:\n",
    "    role = \"arn:aws:iam::977053370764:role/service-role/AmazonSageMaker-ExecutionRole-20201202T141643\""
   ]
  },
  {
   "cell_type": "markdown",
   "metadata": {},
   "source": [
    "data_root_dir"
   ]
  },
  {
   "cell_type": "markdown",
   "metadata": {},
   "source": [
    "input_data = sagemaker_session.upload_data(path=data_root_dir, bucket=bucket, key_prefix=prefix)\n",
    "input_data"
   ]
  },
  {
   "cell_type": "markdown",
   "metadata": {},
   "source": [
    "from sagemaker.pytorch import PyTorch\n",
    "\n",
    "estimator = PyTorch(entry_point=\"train.py\",\n",
    "                    source_dir=\"ibov\",\n",
    "                    py_version=\"py3\",\n",
    "                    role=role,\n",
    "                    framework_version='0.4.0',\n",
    "                    train_instance_count=1,\n",
    "                    train_instance_type='ml.m5.large')"
   ]
  },
  {
   "cell_type": "markdown",
   "metadata": {},
   "source": [
    "estimator.fit({'train': input_data})"
   ]
  },
  {
   "cell_type": "markdown",
   "metadata": {},
   "source": [
    "predictor = estimator.deploy(initial_instance_count=1,instance_type=\"ml.m4.xlarge\")"
   ]
  }
 ],
 "metadata": {
  "kernelspec": {
   "display_name": "Python 3",
   "language": "python",
   "name": "python3"
  },
  "language_info": {
   "codemirror_mode": {
    "name": "ipython",
    "version": 3
   },
   "file_extension": ".py",
   "mimetype": "text/x-python",
   "name": "python",
   "nbconvert_exporter": "python",
   "pygments_lexer": "ipython3",
   "version": "3.8.5"
  }
 },
 "nbformat": 4,
 "nbformat_minor": 4
}
