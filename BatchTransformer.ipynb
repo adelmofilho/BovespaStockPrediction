{
 "cells": [
  {
   "cell_type": "code",
   "execution_count": 1,
   "metadata": {},
   "outputs": [],
   "source": [
    "import boto3"
   ]
  },
  {
   "cell_type": "code",
   "execution_count": 2,
   "metadata": {},
   "outputs": [],
   "source": [
    "client = boto3.client(\"sagemaker\")"
   ]
  },
  {
   "cell_type": "code",
   "execution_count": 34,
   "metadata": {},
   "outputs": [],
   "source": [
    "list_models = []\n",
    "\n",
    "models = client.list_endpoint_configs()[\"EndpointConfigs\"]"
   ]
  },
  {
   "cell_type": "code",
   "execution_count": 35,
   "metadata": {},
   "outputs": [],
   "source": [
    "for model in models:\n",
    "    client.delete_endpoint_config(EndpointConfigName=model[\"EndpointConfigName\"])"
   ]
  },
  {
   "cell_type": "code",
   "execution_count": 3,
   "metadata": {},
   "outputs": [],
   "source": [
    "response = client.create_transform_job(\n",
    "    TransformJobName='string3',\n",
    "    ModelName='sagemaker-pytorch-2021-01-17-19-45-55-738',\n",
    "    MaxConcurrentTransforms=1,\n",
    "    ModelClientConfig={\n",
    "        'InvocationsTimeoutInSeconds': 123,\n",
    "        'InvocationsMaxRetries': 1\n",
    "    },\n",
    "    MaxPayloadInMB=10,\n",
    "    BatchStrategy='SingleRecord',\n",
    "    Environment={\n",
    "        'SAGEMAKER_PROGRAM': 'train.py',\n",
    "        'SAGEMAKER_SUBMIT_DIRECTORY': \"s3://sagemaker-us-east-1-977053370764/sagemaker-pytorch-2021-01-17-19-45-55-738/source/sourcedir.tar.gz\"\n",
    "    },\n",
    "    TransformInput={\n",
    "        'DataSource': {\n",
    "            'S3DataSource': {\n",
    "                'S3DataType': 'S3Prefix',\n",
    "                'S3Uri': 's3://udacity-capstone-977053370764-us-east-1/input'\n",
    "            }\n",
    "        },\n",
    "        'ContentType': 'text/csv',\n",
    "        'CompressionType': 'None',\n",
    "        'SplitType': 'None'\n",
    "    },\n",
    "    TransformOutput={\n",
    "        'S3OutputPath': 's3://udacity-capstone-977053370764-us-east-1/output',\n",
    "        'Accept': 'text/csv'\n",
    "    },\n",
    "    TransformResources={\n",
    "        'InstanceType': 'ml.m4.xlarge',\n",
    "        'InstanceCount': 1\n",
    "    }\n",
    ")"
   ]
  },
  {
   "cell_type": "code",
   "execution_count": 4,
   "metadata": {},
   "outputs": [
    {
     "data": {
      "text/plain": [
       "{'TransformJobArn': 'arn:aws:sagemaker:us-east-1:977053370764:transform-job/string3',\n",
       " 'ResponseMetadata': {'RequestId': '731afe21-4256-4683-a651-789872738836',\n",
       "  'HTTPStatusCode': 200,\n",
       "  'HTTPHeaders': {'x-amzn-requestid': '731afe21-4256-4683-a651-789872738836',\n",
       "   'content-type': 'application/x-amz-json-1.1',\n",
       "   'content-length': '84',\n",
       "   'date': 'Thu, 21 Jan 2021 13:27:45 GMT'},\n",
       "  'RetryAttempts': 0}}"
      ]
     },
     "execution_count": 4,
     "metadata": {},
     "output_type": "execute_result"
    }
   ],
   "source": [
    "response"
   ]
  },
  {
   "cell_type": "code",
   "execution_count": 1,
   "metadata": {},
   "outputs": [],
   "source": [
    "import string\n",
    "import random"
   ]
  },
  {
   "cell_type": "code",
   "execution_count": 7,
   "metadata": {},
   "outputs": [
    {
     "data": {
      "text/plain": [
       "'KHtaumHnIL'"
      ]
     },
     "execution_count": 7,
     "metadata": {},
     "output_type": "execute_result"
    }
   ],
   "source": []
  },
  {
   "cell_type": "code",
   "execution_count": null,
   "metadata": {},
   "outputs": [],
   "source": []
  }
 ],
 "metadata": {
  "kernelspec": {
   "display_name": "Python 3",
   "language": "python",
   "name": "python3"
  },
  "language_info": {
   "codemirror_mode": {
    "name": "ipython",
    "version": 3
   },
   "file_extension": ".py",
   "mimetype": "text/x-python",
   "name": "python",
   "nbconvert_exporter": "python",
   "pygments_lexer": "ipython3",
   "version": "3.8.5"
  }
 },
 "nbformat": 4,
 "nbformat_minor": 4
}
