{
 "cells": [
  {
   "cell_type": "code",
   "execution_count": 1,
   "metadata": {},
   "outputs": [],
   "source": [
    "import boto3"
   ]
  },
  {
   "cell_type": "code",
   "execution_count": 2,
   "metadata": {},
   "outputs": [],
   "source": [
    "client = boto3.client(\"sagemaker\")"
   ]
  },
  {
   "cell_type": "code",
   "execution_count": 8,
   "metadata": {},
   "outputs": [],
   "source": [
    "training_job = client.describe_training_job(TrainingJobName=\"sagemaker-pytorch-2021-01-16-17-49-15-976\")"
   ]
  },
  {
   "cell_type": "code",
   "execution_count": 11,
   "metadata": {},
   "outputs": [
    {
     "data": {
      "text/plain": [
       "{'TrainingJobName': 'sagemaker-pytorch-2021-01-16-17-49-15-976',\n",
       " 'TrainingJobArn': 'arn:aws:sagemaker:us-east-1:977053370764:training-job/sagemaker-pytorch-2021-01-16-17-49-15-976',\n",
       " 'ModelArtifacts': {'S3ModelArtifacts': 's3://sagemaker-us-east-1-977053370764/sagemaker-pytorch-2021-01-16-17-49-15-976/output/model.tar.gz'},\n",
       " 'TrainingJobStatus': 'Completed',\n",
       " 'SecondaryStatus': 'Completed',\n",
       " 'HyperParameters': {'sagemaker_container_log_level': '20',\n",
       "  'sagemaker_job_name': '\"sagemaker-pytorch-2021-01-16-17-49-15-976\"',\n",
       "  'sagemaker_program': '\"train.py\"',\n",
       "  'sagemaker_region': '\"us-east-1\"',\n",
       "  'sagemaker_submit_directory': '\"s3://sagemaker-us-east-1-977053370764/sagemaker-pytorch-2021-01-16-17-49-15-976/source/sourcedir.tar.gz\"'},\n",
       " 'AlgorithmSpecification': {'TrainingImage': '520713654638.dkr.ecr.us-east-1.amazonaws.com/sagemaker-pytorch:0.4.0-gpu-py3',\n",
       "  'TrainingInputMode': 'File',\n",
       "  'EnableSageMakerMetricsTimeSeries': False},\n",
       " 'RoleArn': 'arn:aws:iam::977053370764:role/service-role/AmazonSageMaker-ExecutionRole-20201202T141643',\n",
       " 'InputDataConfig': [{'ChannelName': 'train',\n",
       "   'DataSource': {'S3DataSource': {'S3DataType': 'S3Prefix',\n",
       "     'S3Uri': 's3://sagemaker-us-east-1-977053370764/sagemaker/ibovespa',\n",
       "     'S3DataDistributionType': 'FullyReplicated'}},\n",
       "   'CompressionType': 'None',\n",
       "   'RecordWrapperType': 'None'},\n",
       "  {'ChannelName': 'config',\n",
       "   'DataSource': {'S3DataSource': {'S3DataType': 'S3Prefix',\n",
       "     'S3Uri': 's3://sagemaker-us-east-1-977053370764/sagemaker/ibovespa/config.json',\n",
       "     'S3DataDistributionType': 'FullyReplicated'}},\n",
       "   'CompressionType': 'None',\n",
       "   'RecordWrapperType': 'None'}],\n",
       " 'OutputDataConfig': {'KmsKeyId': '',\n",
       "  'S3OutputPath': 's3://sagemaker-us-east-1-977053370764/'},\n",
       " 'ResourceConfig': {'InstanceType': 'ml.p2.xlarge',\n",
       "  'InstanceCount': 1,\n",
       "  'VolumeSizeInGB': 30},\n",
       " 'StoppingCondition': {'MaxRuntimeInSeconds': 86400},\n",
       " 'CreationTime': datetime.datetime(2021, 1, 16, 14, 49, 25, 147000, tzinfo=tzlocal()),\n",
       " 'TrainingStartTime': datetime.datetime(2021, 1, 16, 14, 52, 35, 611000, tzinfo=tzlocal()),\n",
       " 'TrainingEndTime': datetime.datetime(2021, 1, 16, 15, 2, 15, 677000, tzinfo=tzlocal()),\n",
       " 'LastModifiedTime': datetime.datetime(2021, 1, 16, 15, 2, 23, 740000, tzinfo=tzlocal()),\n",
       " 'SecondaryStatusTransitions': [{'Status': 'Starting',\n",
       "   'StartTime': datetime.datetime(2021, 1, 16, 14, 49, 25, 147000, tzinfo=tzlocal()),\n",
       "   'EndTime': datetime.datetime(2021, 1, 16, 14, 52, 35, 611000, tzinfo=tzlocal()),\n",
       "   'StatusMessage': 'Preparing the instances for training'},\n",
       "  {'Status': 'Downloading',\n",
       "   'StartTime': datetime.datetime(2021, 1, 16, 14, 52, 35, 611000, tzinfo=tzlocal()),\n",
       "   'EndTime': datetime.datetime(2021, 1, 16, 14, 52, 55, 96000, tzinfo=tzlocal()),\n",
       "   'StatusMessage': 'Downloading input data'},\n",
       "  {'Status': 'Training',\n",
       "   'StartTime': datetime.datetime(2021, 1, 16, 14, 52, 55, 96000, tzinfo=tzlocal()),\n",
       "   'EndTime': datetime.datetime(2021, 1, 16, 15, 2, 8, 11000, tzinfo=tzlocal()),\n",
       "   'StatusMessage': 'Training image download completed. Training in progress.'},\n",
       "  {'Status': 'Uploading',\n",
       "   'StartTime': datetime.datetime(2021, 1, 16, 15, 2, 8, 11000, tzinfo=tzlocal()),\n",
       "   'EndTime': datetime.datetime(2021, 1, 16, 15, 2, 15, 677000, tzinfo=tzlocal()),\n",
       "   'StatusMessage': 'Uploading generated training model'},\n",
       "  {'Status': 'Completed',\n",
       "   'StartTime': datetime.datetime(2021, 1, 16, 15, 2, 15, 677000, tzinfo=tzlocal()),\n",
       "   'EndTime': datetime.datetime(2021, 1, 16, 15, 2, 15, 677000, tzinfo=tzlocal()),\n",
       "   'StatusMessage': 'Training job completed'}],\n",
       " 'EnableNetworkIsolation': False,\n",
       " 'EnableInterContainerTrafficEncryption': False,\n",
       " 'EnableManagedSpotTraining': False,\n",
       " 'TrainingTimeInSeconds': 580,\n",
       " 'BillableTimeInSeconds': 580,\n",
       " 'DebugHookConfig': {'S3OutputPath': 's3://sagemaker-us-east-1-977053370764/',\n",
       "  'CollectionConfigurations': []},\n",
       " 'ProfilerConfig': {'S3OutputPath': 's3://sagemaker-us-east-1-977053370764/',\n",
       "  'ProfilingIntervalInMilliseconds': 500},\n",
       " 'ProfilerRuleConfigurations': [{'RuleConfigurationName': 'ProfilerReport-1610819362',\n",
       "   'RuleEvaluatorImage': '503895931360.dkr.ecr.us-east-1.amazonaws.com/sagemaker-debugger-rules:latest',\n",
       "   'VolumeSizeInGB': 0,\n",
       "   'RuleParameters': {'rule_to_invoke': 'ProfilerReport'}}],\n",
       " 'ProfilerRuleEvaluationStatuses': [{'RuleConfigurationName': 'ProfilerReport-1610819362',\n",
       "   'RuleEvaluationJobArn': 'arn:aws:sagemaker:us-east-1:977053370764:processing-job/sagemaker-pytorch-2021-01--profilerreport-1610819362-250549da',\n",
       "   'RuleEvaluationStatus': 'IssuesFound',\n",
       "   'StatusDetails': 'RuleEvaluationConditionMet: Evaluation of the rule ProfilerReport at step 10 resulted in the condition being met\\n',\n",
       "   'LastModifiedTime': datetime.datetime(2021, 1, 16, 15, 2, 23, 734000, tzinfo=tzlocal())}],\n",
       " 'ProfilingStatus': 'Enabled',\n",
       " 'ResponseMetadata': {'RequestId': '4667a84c-7082-4904-b8e5-ec3230005706',\n",
       "  'HTTPStatusCode': 200,\n",
       "  'HTTPHeaders': {'x-amzn-requestid': '4667a84c-7082-4904-b8e5-ec3230005706',\n",
       "   'content-type': 'application/x-amz-json-1.1',\n",
       "   'content-length': '3931',\n",
       "   'date': 'Sat, 16 Jan 2021 18:06:40 GMT'},\n",
       "  'RetryAttempts': 0}}"
      ]
     },
     "execution_count": 11,
     "metadata": {},
     "output_type": "execute_result"
    }
   ],
   "source": [
    "training_job"
   ]
  },
  {
   "cell_type": "code",
   "execution_count": 9,
   "metadata": {},
   "outputs": [],
   "source": [
    "model_details = client.describe_model(ModelName=\"sagemaker-pytorch-2021-01-16-18-02-29-843\")"
   ]
  },
  {
   "cell_type": "code",
   "execution_count": 10,
   "metadata": {},
   "outputs": [
    {
     "data": {
      "text/plain": [
       "{'Image': '520713654638.dkr.ecr.us-east-1.amazonaws.com/sagemaker-pytorch:0.4.0-cpu-py3',\n",
       " 'Mode': 'SingleModel',\n",
       " 'ModelDataUrl': 's3://sagemaker-us-east-1-977053370764/sagemaker-pytorch-2021-01-16-17-49-15-976/output/model.tar.gz',\n",
       " 'Environment': {'SAGEMAKER_CONTAINER_LOG_LEVEL': '20',\n",
       "  'SAGEMAKER_PROGRAM': 'train.py',\n",
       "  'SAGEMAKER_REGION': 'us-east-1',\n",
       "  'SAGEMAKER_SUBMIT_DIRECTORY': 's3://sagemaker-us-east-1-977053370764/sagemaker-pytorch-2021-01-16-17-49-15-976/source/sourcedir.tar.gz'}}"
      ]
     },
     "execution_count": 10,
     "metadata": {},
     "output_type": "execute_result"
    }
   ],
   "source": [
    "model_details[\"PrimaryContainer\"]"
   ]
  },
  {
   "cell_type": "code",
   "execution_count": 15,
   "metadata": {},
   "outputs": [
    {
     "data": {
      "text/plain": [
       "'s3://sagemaker-us-east-1-977053370764/sagemaker-pytorch-2021-01-16-17-49-15-976/output/model.tar.gz'"
      ]
     },
     "execution_count": 15,
     "metadata": {},
     "output_type": "execute_result"
    }
   ],
   "source": [
    "training_job[\"ModelArtifacts\"][\"S3ModelArtifacts\"]"
   ]
  },
  {
   "cell_type": "code",
   "execution_count": 28,
   "metadata": {},
   "outputs": [],
   "source": [
    "prefx_name = \"udacity1\"\n",
    "model_name = f\"{prefx_name}-model\"\n",
    "confg_name = f\"{prefx_name}-config\"\n",
    "endpt_name = f\"{prefx_name}-endpoint\""
   ]
  },
  {
   "cell_type": "code",
   "execution_count": 29,
   "metadata": {},
   "outputs": [
    {
     "ename": "ClientError",
     "evalue": "An error occurred (ValidationException) when calling the CreateModel operation: Cannot create already existing model \"arn:aws:sagemaker:us-east-1:977053370764:model/udacity1-model\".",
     "output_type": "error",
     "traceback": [
      "\u001b[0;31m---------------------------------------------------------------------------\u001b[0m",
      "\u001b[0;31mClientError\u001b[0m                               Traceback (most recent call last)",
      "\u001b[0;32m<ipython-input-29-683acc888642>\u001b[0m in \u001b[0;36m<module>\u001b[0;34m\u001b[0m\n\u001b[0;32m----> 1\u001b[0;31m response = client.create_model(\n\u001b[0m\u001b[1;32m      2\u001b[0m     \u001b[0mModelName\u001b[0m\u001b[0;34m=\u001b[0m\u001b[0mmodel_name\u001b[0m\u001b[0;34m,\u001b[0m\u001b[0;34m\u001b[0m\u001b[0;34m\u001b[0m\u001b[0m\n\u001b[1;32m      3\u001b[0m     PrimaryContainer={\n\u001b[1;32m      4\u001b[0m         \u001b[0;34m'ContainerHostname'\u001b[0m\u001b[0;34m:\u001b[0m \u001b[0mprefx_name\u001b[0m\u001b[0;34m,\u001b[0m\u001b[0;34m\u001b[0m\u001b[0;34m\u001b[0m\u001b[0m\n\u001b[1;32m      5\u001b[0m         \u001b[0;34m'Image'\u001b[0m\u001b[0;34m:\u001b[0m \u001b[0mtraining_job\u001b[0m\u001b[0;34m[\u001b[0m\u001b[0;34m\"AlgorithmSpecification\"\u001b[0m\u001b[0;34m]\u001b[0m\u001b[0;34m[\u001b[0m\u001b[0;34m\"TrainingImage\"\u001b[0m\u001b[0;34m]\u001b[0m\u001b[0;34m,\u001b[0m\u001b[0;34m\u001b[0m\u001b[0;34m\u001b[0m\u001b[0m\n",
      "\u001b[0;32m~/projetos/udacity/BovespaStockPrediction/.env/lib/python3.8/site-packages/botocore/client.py\u001b[0m in \u001b[0;36m_api_call\u001b[0;34m(self, *args, **kwargs)\u001b[0m\n\u001b[1;32m    355\u001b[0m                     \"%s() only accepts keyword arguments.\" % py_operation_name)\n\u001b[1;32m    356\u001b[0m             \u001b[0;31m# The \"self\" in this scope is referring to the BaseClient.\u001b[0m\u001b[0;34m\u001b[0m\u001b[0;34m\u001b[0m\u001b[0;34m\u001b[0m\u001b[0m\n\u001b[0;32m--> 357\u001b[0;31m             \u001b[0;32mreturn\u001b[0m \u001b[0mself\u001b[0m\u001b[0;34m.\u001b[0m\u001b[0m_make_api_call\u001b[0m\u001b[0;34m(\u001b[0m\u001b[0moperation_name\u001b[0m\u001b[0;34m,\u001b[0m \u001b[0mkwargs\u001b[0m\u001b[0;34m)\u001b[0m\u001b[0;34m\u001b[0m\u001b[0;34m\u001b[0m\u001b[0m\n\u001b[0m\u001b[1;32m    358\u001b[0m \u001b[0;34m\u001b[0m\u001b[0m\n\u001b[1;32m    359\u001b[0m         \u001b[0m_api_call\u001b[0m\u001b[0;34m.\u001b[0m\u001b[0m__name__\u001b[0m \u001b[0;34m=\u001b[0m \u001b[0mstr\u001b[0m\u001b[0;34m(\u001b[0m\u001b[0mpy_operation_name\u001b[0m\u001b[0;34m)\u001b[0m\u001b[0;34m\u001b[0m\u001b[0;34m\u001b[0m\u001b[0m\n",
      "\u001b[0;32m~/projetos/udacity/BovespaStockPrediction/.env/lib/python3.8/site-packages/botocore/client.py\u001b[0m in \u001b[0;36m_make_api_call\u001b[0;34m(self, operation_name, api_params)\u001b[0m\n\u001b[1;32m    674\u001b[0m             \u001b[0merror_code\u001b[0m \u001b[0;34m=\u001b[0m \u001b[0mparsed_response\u001b[0m\u001b[0;34m.\u001b[0m\u001b[0mget\u001b[0m\u001b[0;34m(\u001b[0m\u001b[0;34m\"Error\"\u001b[0m\u001b[0;34m,\u001b[0m \u001b[0;34m{\u001b[0m\u001b[0;34m}\u001b[0m\u001b[0;34m)\u001b[0m\u001b[0;34m.\u001b[0m\u001b[0mget\u001b[0m\u001b[0;34m(\u001b[0m\u001b[0;34m\"Code\"\u001b[0m\u001b[0;34m)\u001b[0m\u001b[0;34m\u001b[0m\u001b[0;34m\u001b[0m\u001b[0m\n\u001b[1;32m    675\u001b[0m             \u001b[0merror_class\u001b[0m \u001b[0;34m=\u001b[0m \u001b[0mself\u001b[0m\u001b[0;34m.\u001b[0m\u001b[0mexceptions\u001b[0m\u001b[0;34m.\u001b[0m\u001b[0mfrom_code\u001b[0m\u001b[0;34m(\u001b[0m\u001b[0merror_code\u001b[0m\u001b[0;34m)\u001b[0m\u001b[0;34m\u001b[0m\u001b[0;34m\u001b[0m\u001b[0m\n\u001b[0;32m--> 676\u001b[0;31m             \u001b[0;32mraise\u001b[0m \u001b[0merror_class\u001b[0m\u001b[0;34m(\u001b[0m\u001b[0mparsed_response\u001b[0m\u001b[0;34m,\u001b[0m \u001b[0moperation_name\u001b[0m\u001b[0;34m)\u001b[0m\u001b[0;34m\u001b[0m\u001b[0;34m\u001b[0m\u001b[0m\n\u001b[0m\u001b[1;32m    677\u001b[0m         \u001b[0;32melse\u001b[0m\u001b[0;34m:\u001b[0m\u001b[0;34m\u001b[0m\u001b[0;34m\u001b[0m\u001b[0m\n\u001b[1;32m    678\u001b[0m             \u001b[0;32mreturn\u001b[0m \u001b[0mparsed_response\u001b[0m\u001b[0;34m\u001b[0m\u001b[0;34m\u001b[0m\u001b[0m\n",
      "\u001b[0;31mClientError\u001b[0m: An error occurred (ValidationException) when calling the CreateModel operation: Cannot create already existing model \"arn:aws:sagemaker:us-east-1:977053370764:model/udacity1-model\"."
     ]
    }
   ],
   "source": [
    "response = client.create_model(\n",
    "    ModelName=model_name,\n",
    "    PrimaryContainer={\n",
    "        'ContainerHostname': prefx_name,\n",
    "        'Image': training_job[\"AlgorithmSpecification\"][\"TrainingImage\"],\n",
    "        'ImageConfig': {\n",
    "            'RepositoryAccessMode': 'Platform'\n",
    "        },\n",
    "        'Mode': 'SingleModel',\n",
    "        'ModelDataUrl': training_job[\"ModelArtifacts\"][\"S3ModelArtifacts\"]\n",
    "    },\n",
    "    ExecutionRoleArn='arn:aws:iam::977053370764:role/service-role/AmazonSageMaker-ExecutionRole-20201202T141643')"
   ]
  },
  {
   "cell_type": "code",
   "execution_count": 30,
   "metadata": {},
   "outputs": [],
   "source": [
    "response = client.create_endpoint_config(\n",
    "    EndpointConfigName=confg_name,\n",
    "    ProductionVariants=[\n",
    "        {\n",
    "            'VariantName': 'string',\n",
    "            'ModelName': model_name,\n",
    "            'InitialInstanceCount': 1,\n",
    "            'InstanceType': 'ml.t2.medium'\n",
    "        },\n",
    "    ]\n",
    ")"
   ]
  },
  {
   "cell_type": "code",
   "execution_count": 31,
   "metadata": {},
   "outputs": [],
   "source": [
    "response = client.create_endpoint(\n",
    "    EndpointName=endpt_name,\n",
    "    EndpointConfigName=confg_name\n",
    ")"
   ]
  },
  {
   "cell_type": "code",
   "execution_count": 45,
   "metadata": {},
   "outputs": [],
   "source": [
    "import os\n",
    "import io\n",
    "import pandas as pd"
   ]
  },
  {
   "cell_type": "code",
   "execution_count": 36,
   "metadata": {},
   "outputs": [],
   "source": [
    "ibovespa = pd.read_csv(os.path.join(\"data\", \"data.csv\"))"
   ]
  },
  {
   "cell_type": "code",
   "execution_count": 39,
   "metadata": {},
   "outputs": [],
   "source": [
    "with open(os.path.join(\"data\", \"data.csv\")) as f:\n",
    "    dados = f.read().encode(\"utf-8\")"
   ]
  },
  {
   "cell_type": "code",
   "execution_count": 48,
   "metadata": {},
   "outputs": [],
   "source": [
    "df = pd.read_csv(  io.StringIO(dados.decode('utf-8'))  , sep=\",\")"
   ]
  },
  {
   "cell_type": "code",
   "execution_count": 49,
   "metadata": {},
   "outputs": [
    {
     "data": {
      "text/html": [
       "<div>\n",
       "<style scoped>\n",
       "    .dataframe tbody tr th:only-of-type {\n",
       "        vertical-align: middle;\n",
       "    }\n",
       "\n",
       "    .dataframe tbody tr th {\n",
       "        vertical-align: top;\n",
       "    }\n",
       "\n",
       "    .dataframe thead th {\n",
       "        text-align: right;\n",
       "    }\n",
       "</style>\n",
       "<table border=\"1\" class=\"dataframe\">\n",
       "  <thead>\n",
       "    <tr style=\"text-align: right;\">\n",
       "      <th></th>\n",
       "      <th>symbol</th>\n",
       "      <th>date</th>\n",
       "      <th>open</th>\n",
       "      <th>close</th>\n",
       "      <th>high</th>\n",
       "      <th>low</th>\n",
       "      <th>volume</th>\n",
       "      <th>adjclose</th>\n",
       "    </tr>\n",
       "  </thead>\n",
       "  <tbody>\n",
       "    <tr>\n",
       "      <th>0</th>\n",
       "      <td>^BVSP</td>\n",
       "      <td>2019-07-26</td>\n",
       "      <td>102654.0</td>\n",
       "      <td>102819.0</td>\n",
       "      <td>103209.0</td>\n",
       "      <td>102196.0</td>\n",
       "      <td>5141400.0</td>\n",
       "      <td>102819.0</td>\n",
       "    </tr>\n",
       "    <tr>\n",
       "      <th>1</th>\n",
       "      <td>^BVSP</td>\n",
       "      <td>2019-07-29</td>\n",
       "      <td>102817.0</td>\n",
       "      <td>103483.0</td>\n",
       "      <td>103483.0</td>\n",
       "      <td>102461.0</td>\n",
       "      <td>3559900.0</td>\n",
       "      <td>103483.0</td>\n",
       "    </tr>\n",
       "    <tr>\n",
       "      <th>2</th>\n",
       "      <td>^BVSP</td>\n",
       "      <td>2019-07-30</td>\n",
       "      <td>103483.0</td>\n",
       "      <td>102933.0</td>\n",
       "      <td>103555.0</td>\n",
       "      <td>102596.0</td>\n",
       "      <td>4060500.0</td>\n",
       "      <td>102933.0</td>\n",
       "    </tr>\n",
       "    <tr>\n",
       "      <th>3</th>\n",
       "      <td>^BVSP</td>\n",
       "      <td>2019-07-31</td>\n",
       "      <td>102946.0</td>\n",
       "      <td>101812.0</td>\n",
       "      <td>103129.0</td>\n",
       "      <td>100950.0</td>\n",
       "      <td>5072900.0</td>\n",
       "      <td>101812.0</td>\n",
       "    </tr>\n",
       "    <tr>\n",
       "      <th>4</th>\n",
       "      <td>^BVSP</td>\n",
       "      <td>2019-08-01</td>\n",
       "      <td>101819.0</td>\n",
       "      <td>102126.0</td>\n",
       "      <td>104056.0</td>\n",
       "      <td>101819.0</td>\n",
       "      <td>7129100.0</td>\n",
       "      <td>102126.0</td>\n",
       "    </tr>\n",
       "    <tr>\n",
       "      <th>...</th>\n",
       "      <td>...</td>\n",
       "      <td>...</td>\n",
       "      <td>...</td>\n",
       "      <td>...</td>\n",
       "      <td>...</td>\n",
       "      <td>...</td>\n",
       "      <td>...</td>\n",
       "      <td>...</td>\n",
       "    </tr>\n",
       "    <tr>\n",
       "      <th>360</th>\n",
       "      <td>^BVSP</td>\n",
       "      <td>2021-01-11</td>\n",
       "      <td>125075.0</td>\n",
       "      <td>122807.0</td>\n",
       "      <td>125075.0</td>\n",
       "      <td>122506.0</td>\n",
       "      <td>9537600.0</td>\n",
       "      <td>122807.0</td>\n",
       "    </tr>\n",
       "    <tr>\n",
       "      <th>361</th>\n",
       "      <td>^BVSP</td>\n",
       "      <td>2021-01-12</td>\n",
       "      <td>123255.0</td>\n",
       "      <td>123998.0</td>\n",
       "      <td>124584.0</td>\n",
       "      <td>123227.0</td>\n",
       "      <td>8949000.0</td>\n",
       "      <td>123998.0</td>\n",
       "    </tr>\n",
       "    <tr>\n",
       "      <th>362</th>\n",
       "      <td>^BVSP</td>\n",
       "      <td>2021-01-13</td>\n",
       "      <td>123996.0</td>\n",
       "      <td>122040.0</td>\n",
       "      <td>124032.0</td>\n",
       "      <td>121016.0</td>\n",
       "      <td>10291500.0</td>\n",
       "      <td>122040.0</td>\n",
       "    </tr>\n",
       "    <tr>\n",
       "      <th>363</th>\n",
       "      <td>^BVSP</td>\n",
       "      <td>2021-01-14</td>\n",
       "      <td>121947.0</td>\n",
       "      <td>123481.0</td>\n",
       "      <td>123896.0</td>\n",
       "      <td>121947.0</td>\n",
       "      <td>8974400.0</td>\n",
       "      <td>123481.0</td>\n",
       "    </tr>\n",
       "    <tr>\n",
       "      <th>364</th>\n",
       "      <td>^BVSP</td>\n",
       "      <td>2021-01-15</td>\n",
       "      <td>123472.0</td>\n",
       "      <td>120502.0</td>\n",
       "      <td>123472.0</td>\n",
       "      <td>120374.0</td>\n",
       "      <td>9387600.0</td>\n",
       "      <td>120502.0</td>\n",
       "    </tr>\n",
       "  </tbody>\n",
       "</table>\n",
       "<p>365 rows × 8 columns</p>\n",
       "</div>"
      ],
      "text/plain": [
       "    symbol        date      open     close      high       low      volume  \\\n",
       "0    ^BVSP  2019-07-26  102654.0  102819.0  103209.0  102196.0   5141400.0   \n",
       "1    ^BVSP  2019-07-29  102817.0  103483.0  103483.0  102461.0   3559900.0   \n",
       "2    ^BVSP  2019-07-30  103483.0  102933.0  103555.0  102596.0   4060500.0   \n",
       "3    ^BVSP  2019-07-31  102946.0  101812.0  103129.0  100950.0   5072900.0   \n",
       "4    ^BVSP  2019-08-01  101819.0  102126.0  104056.0  101819.0   7129100.0   \n",
       "..     ...         ...       ...       ...       ...       ...         ...   \n",
       "360  ^BVSP  2021-01-11  125075.0  122807.0  125075.0  122506.0   9537600.0   \n",
       "361  ^BVSP  2021-01-12  123255.0  123998.0  124584.0  123227.0   8949000.0   \n",
       "362  ^BVSP  2021-01-13  123996.0  122040.0  124032.0  121016.0  10291500.0   \n",
       "363  ^BVSP  2021-01-14  121947.0  123481.0  123896.0  121947.0   8974400.0   \n",
       "364  ^BVSP  2021-01-15  123472.0  120502.0  123472.0  120374.0   9387600.0   \n",
       "\n",
       "     adjclose  \n",
       "0    102819.0  \n",
       "1    103483.0  \n",
       "2    102933.0  \n",
       "3    101812.0  \n",
       "4    102126.0  \n",
       "..        ...  \n",
       "360  122807.0  \n",
       "361  123998.0  \n",
       "362  122040.0  \n",
       "363  123481.0  \n",
       "364  120502.0  \n",
       "\n",
       "[365 rows x 8 columns]"
      ]
     },
     "execution_count": 49,
     "metadata": {},
     "output_type": "execute_result"
    }
   ],
   "source": [
    "df"
   ]
  },
  {
   "cell_type": "code",
   "execution_count": null,
   "metadata": {},
   "outputs": [],
   "source": []
  }
 ],
 "metadata": {
  "kernelspec": {
   "display_name": "Python 3",
   "language": "python",
   "name": "python3"
  },
  "language_info": {
   "codemirror_mode": {
    "name": "ipython",
    "version": 3
   },
   "file_extension": ".py",
   "mimetype": "text/x-python",
   "name": "python",
   "nbconvert_exporter": "python",
   "pygments_lexer": "ipython3",
   "version": "3.8.5"
  }
 },
 "nbformat": 4,
 "nbformat_minor": 4
}
