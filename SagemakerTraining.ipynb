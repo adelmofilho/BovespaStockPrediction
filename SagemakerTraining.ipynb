{
 "cells": [
  {
   "cell_type": "code",
   "execution_count": 1,
   "metadata": {},
   "outputs": [],
   "source": [
    "import boto3 \n",
    "import sagemaker\n",
    "from ibov.utils import load_config\n",
    "from sagemaker.pytorch import PyTorch"
   ]
  },
  {
   "cell_type": "markdown",
   "metadata": {},
   "source": [
    "### Loading Configs"
   ]
  },
  {
   "cell_type": "code",
   "execution_count": 2,
   "metadata": {},
   "outputs": [],
   "source": [
    "# Load config dict\n",
    "config = load_config()"
   ]
  },
  {
   "cell_type": "code",
   "execution_count": 3,
   "metadata": {},
   "outputs": [],
   "source": [
    "role = config.get(\"sagemaker\").get(\"role\")\n",
    "prefix = config.get(\"sagemaker\").get(\"bucket_prefx\")\n",
    "data_dir = config.get(\"data\").get(\"dir\")\n",
    "region = config.get(\"sagemaker\").get(\"region\")"
   ]
  },
  {
   "cell_type": "markdown",
   "metadata": {},
   "source": [
    "### Upload Data"
   ]
  },
  {
   "cell_type": "code",
   "execution_count": 4,
   "metadata": {},
   "outputs": [],
   "source": [
    "session = sagemaker.Session(boto_session=boto3.session.Session(region_name=region))\n",
    "bucket = session.default_bucket()"
   ]
  },
  {
   "cell_type": "code",
   "execution_count": 5,
   "metadata": {},
   "outputs": [],
   "source": [
    "input_data = session.upload_data(path=data_dir, bucket=bucket, key_prefix=prefix)\n",
    "input_config = session.upload_data(path=\"config.json\", bucket=bucket, key_prefix=prefix)"
   ]
  },
  {
   "cell_type": "markdown",
   "metadata": {},
   "source": [
    "### Train Model"
   ]
  },
  {
   "cell_type": "code",
   "execution_count": 13,
   "metadata": {},
   "outputs": [],
   "source": [
    "estimator = PyTorch(entry_point=\"train.py\", \n",
    "                    source_dir=\"ibov\", \n",
    "                    py_version=\"py3\",\n",
    "                    role=role, \n",
    "                    framework_version='0.4.0',\n",
    "                    instance_count=1, \n",
    "                    instance_type='ml.p2.xlarge')"
   ]
  },
  {
   "cell_type": "code",
   "execution_count": null,
   "metadata": {},
   "outputs": [
    {
     "name": "stdout",
     "output_type": "stream",
     "text": [
      "2021-01-14 02:20:19 Starting - Starting the training job...\n",
      "2021-01-14 02:20:44 Starting - Launching requested ML instancesProfilerReport-1610590817: InProgress\n",
      "....."
     ]
    }
   ],
   "source": [
    "estimator.fit({'train': input_data, \"config\": input_config})"
   ]
  },
  {
   "cell_type": "markdown",
   "metadata": {},
   "source": [
    "predictor = estimator.deploy(initial_instance_count=1,instance_type=\"ml.m4.xlarge\")"
   ]
  }
 ],
 "metadata": {
  "kernelspec": {
   "display_name": "Python 3",
   "language": "python",
   "name": "python3"
  },
  "language_info": {
   "codemirror_mode": {
    "name": "ipython",
    "version": 3
   },
   "file_extension": ".py",
   "mimetype": "text/x-python",
   "name": "python",
   "nbconvert_exporter": "python",
   "pygments_lexer": "ipython3",
   "version": "3.8.5"
  }
 },
 "nbformat": 4,
 "nbformat_minor": 4
}
