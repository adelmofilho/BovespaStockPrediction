{
 "cells": [
  {
   "cell_type": "code",
   "execution_count": 1,
   "metadata": {},
   "outputs": [],
   "source": [
    "import os\n",
    "import io\n",
    "import ast\n",
    "import boto3\n",
    "import sagemaker\n",
    "import numpy as np\n",
    "import pandas as pd\n",
    "\n",
    "from sagemaker.pytorch import PyTorch\n",
    "\n",
    "from ibov.utils import load_config\n",
    "from ibov.deploy import get_deploy_config, build_endpoint, kill_endpoint"
   ]
  },
  {
   "cell_type": "markdown",
   "metadata": {},
   "source": [
    "### Loading Configs"
   ]
  },
  {
   "cell_type": "code",
   "execution_count": 2,
   "metadata": {},
   "outputs": [],
   "source": [
    "# Load config dict\n",
    "config = load_config()"
   ]
  },
  {
   "cell_type": "code",
   "execution_count": 3,
   "metadata": {},
   "outputs": [],
   "source": [
    "role = config.get(\"sagemaker\").get(\"role\")\n",
    "prefix = config.get(\"sagemaker\").get(\"bucket_prefx\")\n",
    "data_dir = config.get(\"data\").get(\"dir\")\n",
    "region = config.get(\"sagemaker\").get(\"region\")"
   ]
  },
  {
   "cell_type": "code",
   "execution_count": 4,
   "metadata": {},
   "outputs": [],
   "source": [
    "dropout = config.get(\"model\").get(\"dropout\")\n",
    "window = config.get(\"feature\").get(\"window\")\n",
    "hidden_layer = config.get(\"model\").get(\"hidden_layer\")\n",
    "lr = config.get(\"model\").get(\"lr\")\n",
    "seed = config.get(\"model\").get(\"seed\")\n",
    "epochs = config.get(\"model\").get(\"epochs\")"
   ]
  },
  {
   "cell_type": "markdown",
   "metadata": {},
   "source": [
    "### Upload Data"
   ]
  },
  {
   "cell_type": "code",
   "execution_count": 5,
   "metadata": {},
   "outputs": [],
   "source": [
    "session = sagemaker.Session(boto_session=boto3.session.Session(region_name=region))\n",
    "bucket = session.default_bucket()"
   ]
  },
  {
   "cell_type": "code",
   "execution_count": 6,
   "metadata": {},
   "outputs": [],
   "source": [
    "input_data = session.upload_data(path=data_dir, bucket=bucket, key_prefix=prefix)\n",
    "input_config = session.upload_data(path=\"config.json\", bucket=bucket, key_prefix=prefix)"
   ]
  },
  {
   "cell_type": "markdown",
   "metadata": {},
   "source": [
    "### Train Model"
   ]
  },
  {
   "cell_type": "code",
   "execution_count": 7,
   "metadata": {},
   "outputs": [],
   "source": [
    "estimator = PyTorch(entry_point=\"train.py\", \n",
    "                    source_dir=\"ibov\", \n",
    "                    py_version=\"py3\",\n",
    "                    role=role, \n",
    "                    framework_version='0.4.0',\n",
    "                    instance_count=1, \n",
    "                    instance_type='ml.p2.xlarge',\n",
    "                    hyperparameters = {\n",
    "                        \"batch-size\": 50,\n",
    "                        \"epochs\": epochs,\n",
    "                        \"seed\": seed,\n",
    "                        \"input-layer\": window,\n",
    "                        \"hidden-layer\": hidden_layer,\n",
    "                        \"dropout\": dropout        \n",
    "                    })"
   ]
  },
  {
   "cell_type": "code",
   "execution_count": 8,
   "metadata": {},
   "outputs": [
    {
     "name": "stdout",
     "output_type": "stream",
     "text": [
      "2021-01-25 19:12:35 Starting - Starting the training job...\n",
      "2021-01-25 19:13:07 Starting - Launching requested ML instancesProfilerReport-1611601952: InProgress\n",
      ".........\n",
      "2021-01-25 19:14:49 Starting - Preparing the instances for training......\n",
      "2021-01-25 19:15:50 Downloading - Downloading input data...\n",
      "2021-01-25 19:16:30 Training - Downloading the training image...\n",
      "2021-01-25 19:17:11 Uploading - Uploading generated training model\n",
      "2021-01-25 19:17:11 Completed - Training job completed\n",
      "\u001b[34mbash: cannot set terminal process group (-1): Inappropriate ioctl for device\u001b[0m\n",
      "\u001b[34mbash: no job control in this shell\u001b[0m\n",
      "\u001b[34m2021-01-25 19:16:53,295 sagemaker-containers INFO     Imported framework sagemaker_pytorch_container.training\u001b[0m\n",
      "\u001b[34m2021-01-25 19:16:53,323 sagemaker_pytorch_container.training INFO     Block until all host DNS lookups succeed.\u001b[0m\n",
      "\u001b[34m2021-01-25 19:16:53,327 sagemaker_pytorch_container.training INFO     Invoking user training script.\u001b[0m\n",
      "\u001b[34m2021-01-25 19:16:53,618 sagemaker-containers INFO     Module train does not provide a setup.py. \u001b[0m\n",
      "\u001b[34mGenerating setup.py\u001b[0m\n",
      "\u001b[34m2021-01-25 19:16:53,619 sagemaker-containers INFO     Generating setup.cfg\u001b[0m\n",
      "\u001b[34m2021-01-25 19:16:53,619 sagemaker-containers INFO     Generating MANIFEST.in\u001b[0m\n",
      "\u001b[34m2021-01-25 19:16:53,619 sagemaker-containers INFO     Installing module with the following command:\u001b[0m\n",
      "\u001b[34m/usr/bin/python -m pip install -U . -r requirements.txt\u001b[0m\n",
      "\u001b[34mProcessing /opt/ml/code\u001b[0m\n",
      "\u001b[34mCollecting pandas (from -r requirements.txt (line 1))\n",
      "  Downloading https://files.pythonhosted.org/packages/74/24/0cdbf8907e1e3bc5a8da03345c23cbed7044330bb8f73bb12e711a640a00/pandas-0.24.2-cp35-cp35m-manylinux1_x86_64.whl (10.0MB)\u001b[0m\n",
      "\u001b[34mCollecting pytz>=2011k (from pandas->-r requirements.txt (line 1))\n",
      "  Downloading https://files.pythonhosted.org/packages/89/06/2c2d3034b4d6bf22f2a4ae546d16925898658a33b4400cfb7e2c1e2871a3/pytz-2020.5-py2.py3-none-any.whl (510kB)\u001b[0m\n",
      "\u001b[34mRequirement already satisfied, skipping upgrade: numpy>=1.12.0 in /usr/local/lib/python3.5/dist-packages (from pandas->-r requirements.txt (line 1)) (1.15.4)\u001b[0m\n",
      "\u001b[34mRequirement already satisfied, skipping upgrade: python-dateutil>=2.5.0 in /usr/local/lib/python3.5/dist-packages (from pandas->-r requirements.txt (line 1)) (2.7.5)\u001b[0m\n",
      "\u001b[34mRequirement already satisfied, skipping upgrade: six>=1.5 in /usr/local/lib/python3.5/dist-packages (from python-dateutil>=2.5.0->pandas->-r requirements.txt (line 1)) (1.11.0)\u001b[0m\n",
      "\u001b[34mBuilding wheels for collected packages: train\n",
      "  Running setup.py bdist_wheel for train: started\n",
      "  Running setup.py bdist_wheel for train: finished with status 'done'\n",
      "  Stored in directory: /tmp/pip-ephem-wheel-cache-k5fh74gw/wheels/35/24/16/37574d11bf9bde50616c67372a334f94fa8356bc7164af8ca3\u001b[0m\n",
      "\u001b[34mSuccessfully built train\u001b[0m\n",
      "\u001b[34mInstalling collected packages: pytz, pandas, train\u001b[0m\n",
      "\u001b[34mSuccessfully installed pandas-0.24.2 pytz-2020.5 train-1.0.0\u001b[0m\n",
      "\u001b[34mYou are using pip version 18.1, however version 20.3.4 is available.\u001b[0m\n",
      "\u001b[34mYou should consider upgrading via the 'pip install --upgrade pip' command.\u001b[0m\n",
      "\u001b[34m2021-01-25 19:16:59,334 sagemaker-containers INFO     Invoking user script\n",
      "\u001b[0m\n",
      "\u001b[34mTraining Env:\n",
      "\u001b[0m\n",
      "\u001b[34m{\n",
      "    \"network_interface_name\": \"eth0\",\n",
      "    \"input_config_dir\": \"/opt/ml/input/config\",\n",
      "    \"output_dir\": \"/opt/ml/output\",\n",
      "    \"module_name\": \"train\",\n",
      "    \"log_level\": 20,\n",
      "    \"channel_input_dirs\": {\n",
      "        \"train\": \"/opt/ml/input/data/train\",\n",
      "        \"config\": \"/opt/ml/input/data/config\"\n",
      "    },\n",
      "    \"input_dir\": \"/opt/ml/input\",\n",
      "    \"resource_config\": {\n",
      "        \"current_host\": \"algo-1\",\n",
      "        \"hosts\": [\n",
      "            \"algo-1\"\n",
      "        ],\n",
      "        \"network_interface_name\": \"eth0\"\n",
      "    },\n",
      "    \"current_host\": \"algo-1\",\n",
      "    \"model_dir\": \"/opt/ml/model\",\n",
      "    \"hyperparameters\": {\n",
      "        \"batch-size\": 50,\n",
      "        \"dropout\": 0.25,\n",
      "        \"epochs\": 50,\n",
      "        \"input-layer\": 7,\n",
      "        \"hidden-layer\": 200,\n",
      "        \"seed\": 1903\n",
      "    },\n",
      "    \"user_entry_point\": \"train.py\",\n",
      "    \"module_dir\": \"s3://sagemaker-us-east-1-977053370764/sagemaker-pytorch-2021-01-25-19-12-30-751/source/sourcedir.tar.gz\",\n",
      "    \"num_cpus\": 4,\n",
      "    \"num_gpus\": 1,\n",
      "    \"additional_framework_parameters\": {},\n",
      "    \"framework_module\": \"sagemaker_pytorch_container.training:main\",\n",
      "    \"hosts\": [\n",
      "        \"algo-1\"\n",
      "    ],\n",
      "    \"output_intermediate_dir\": \"/opt/ml/output/intermediate\",\n",
      "    \"output_data_dir\": \"/opt/ml/output/data\",\n",
      "    \"input_data_config\": {\n",
      "        \"train\": {\n",
      "            \"RecordWrapperType\": \"None\",\n",
      "            \"TrainingInputMode\": \"File\",\n",
      "            \"S3DistributionType\": \"FullyReplicated\"\n",
      "        },\n",
      "        \"config\": {\n",
      "            \"RecordWrapperType\": \"None\",\n",
      "            \"TrainingInputMode\": \"File\",\n",
      "            \"S3DistributionType\": \"FullyReplicated\"\n",
      "        }\n",
      "    },\n",
      "    \"job_name\": \"sagemaker-pytorch-2021-01-25-19-12-30-751\"\u001b[0m\n",
      "\u001b[34m}\n",
      "\u001b[0m\n",
      "\u001b[34mEnvironment variables:\n",
      "\u001b[0m\n",
      "\u001b[34mSM_HPS={\"batch-size\":50,\"dropout\":0.25,\"epochs\":50,\"hidden-layer\":200,\"input-layer\":7,\"seed\":1903}\u001b[0m\n",
      "\u001b[34mSM_MODEL_DIR=/opt/ml/model\u001b[0m\n",
      "\u001b[34mPYTHONPATH=/usr/local/bin:/usr/lib/python35.zip:/usr/lib/python3.5:/usr/lib/python3.5/plat-x86_64-linux-gnu:/usr/lib/python3.5/lib-dynload:/usr/local/lib/python3.5/dist-packages:/usr/lib/python3/dist-packages\u001b[0m\n",
      "\u001b[34mSM_NETWORK_INTERFACE_NAME=eth0\u001b[0m\n",
      "\u001b[34mSM_USER_ENTRY_POINT=train.py\u001b[0m\n",
      "\u001b[34mSM_HP_SEED=1903\u001b[0m\n",
      "\u001b[34mSM_OUTPUT_DIR=/opt/ml/output\u001b[0m\n",
      "\u001b[34mSM_CHANNELS=[\"config\",\"train\"]\u001b[0m\n",
      "\u001b[34mSM_FRAMEWORK_MODULE=sagemaker_pytorch_container.training:main\u001b[0m\n",
      "\u001b[34mSM_FRAMEWORK_PARAMS={}\u001b[0m\n",
      "\u001b[34mSM_MODULE_DIR=s3://sagemaker-us-east-1-977053370764/sagemaker-pytorch-2021-01-25-19-12-30-751/source/sourcedir.tar.gz\u001b[0m\n",
      "\u001b[34mSM_NUM_CPUS=4\u001b[0m\n",
      "\u001b[34mSM_OUTPUT_INTERMEDIATE_DIR=/opt/ml/output/intermediate\u001b[0m\n",
      "\u001b[34mSM_HP_INPUT-LAYER=7\u001b[0m\n",
      "\u001b[34mSM_HP_EPOCHS=50\u001b[0m\n",
      "\u001b[34mSM_NUM_GPUS=1\u001b[0m\n",
      "\u001b[34mSM_CHANNEL_TRAIN=/opt/ml/input/data/train\u001b[0m\n",
      "\u001b[34mSM_HP_HIDDEN-LAYER=200\u001b[0m\n",
      "\u001b[34mSM_HOSTS=[\"algo-1\"]\u001b[0m\n",
      "\u001b[34mSM_HP_DROPOUT=0.25\u001b[0m\n",
      "\u001b[34mSM_MODULE_NAME=train\u001b[0m\n",
      "\u001b[34mSM_INPUT_CONFIG_DIR=/opt/ml/input/config\u001b[0m\n",
      "\u001b[34mSM_TRAINING_ENV={\"additional_framework_parameters\":{},\"channel_input_dirs\":{\"config\":\"/opt/ml/input/data/config\",\"train\":\"/opt/ml/input/data/train\"},\"current_host\":\"algo-1\",\"framework_module\":\"sagemaker_pytorch_container.training:main\",\"hosts\":[\"algo-1\"],\"hyperparameters\":{\"batch-size\":50,\"dropout\":0.25,\"epochs\":50,\"hidden-layer\":200,\"input-layer\":7,\"seed\":1903},\"input_config_dir\":\"/opt/ml/input/config\",\"input_data_config\":{\"config\":{\"RecordWrapperType\":\"None\",\"S3DistributionType\":\"FullyReplicated\",\"TrainingInputMode\":\"File\"},\"train\":{\"RecordWrapperType\":\"None\",\"S3DistributionType\":\"FullyReplicated\",\"TrainingInputMode\":\"File\"}},\"input_dir\":\"/opt/ml/input\",\"job_name\":\"sagemaker-pytorch-2021-01-25-19-12-30-751\",\"log_level\":20,\"model_dir\":\"/opt/ml/model\",\"module_dir\":\"s3://sagemaker-us-east-1-977053370764/sagemaker-pytorch-2021-01-25-19-12-30-751/source/sourcedir.tar.gz\",\"module_name\":\"train\",\"network_interface_name\":\"eth0\",\"num_cpus\":4,\"num_gpus\":1,\"output_data_dir\":\"/opt/ml/output/data\",\"output_dir\":\"/opt/ml/output\",\"output_intermediate_dir\":\"/opt/ml/output/intermediate\",\"resource_config\":{\"current_host\":\"algo-1\",\"hosts\":[\"algo-1\"],\"network_interface_name\":\"eth0\"},\"user_entry_point\":\"train.py\"}\u001b[0m\n",
      "\u001b[34mSM_INPUT_DIR=/opt/ml/input\u001b[0m\n",
      "\u001b[34mSM_CURRENT_HOST=algo-1\u001b[0m\n",
      "\u001b[34mSM_INPUT_DATA_CONFIG={\"config\":{\"RecordWrapperType\":\"None\",\"S3DistributionType\":\"FullyReplicated\",\"TrainingInputMode\":\"File\"},\"train\":{\"RecordWrapperType\":\"None\",\"S3DistributionType\":\"FullyReplicated\",\"TrainingInputMode\":\"File\"}}\u001b[0m\n",
      "\u001b[34mSM_OUTPUT_DATA_DIR=/opt/ml/output/data\u001b[0m\n",
      "\u001b[34mSM_LOG_LEVEL=20\u001b[0m\n",
      "\u001b[34mSM_HP_BATCH-SIZE=50\u001b[0m\n",
      "\u001b[34mSM_RESOURCE_CONFIG={\"current_host\":\"algo-1\",\"hosts\":[\"algo-1\"],\"network_interface_name\":\"eth0\"}\u001b[0m\n",
      "\u001b[34mSM_CHANNEL_CONFIG=/opt/ml/input/data/config\u001b[0m\n",
      "\u001b[34mSM_USER_ARGS=[\"--batch-size\",\"50\",\"--dropout\",\"0.25\",\"--epochs\",\"50\",\"--hidden-layer\",\"200\",\"--input-layer\",\"7\",\"--seed\",\"1903\"]\n",
      "\u001b[0m\n",
      "\u001b[34mInvoking script with the following command:\n",
      "\u001b[0m\n",
      "\u001b[34m/usr/bin/python -m train --batch-size 50 --dropout 0.25 --epochs 50 --hidden-layer 200 --input-layer 7 --seed 1903\n",
      "\n",
      "\u001b[0m\n",
      "\u001b[34m19:17:00, epoch: 0, train: 2.654, valid: 0.052\u001b[0m\n",
      "\u001b[34m19:17:00, epoch: 1, train: 1.232, valid: 0.3\u001b[0m\n",
      "\u001b[34m19:17:00, epoch: 2, train: 1.352, valid: 0.041\u001b[0m\n",
      "\u001b[34m19:17:00, epoch: 3, train: 0.855, valid: 0.152\u001b[0m\n",
      "\u001b[34m19:17:00, epoch: 4, train: 1.055, valid: 0.031\u001b[0m\n",
      "\u001b[34m19:17:00, epoch: 5, train: 0.825, valid: 0.108\u001b[0m\n",
      "\u001b[34m19:17:00, epoch: 6, train: 0.847, valid: 0.03\u001b[0m\n",
      "\u001b[34m19:17:00, epoch: 7, train: 0.776, valid: 0.029\u001b[0m\n",
      "\u001b[34m19:17:00, epoch: 8, train: 0.795, valid: 0.052\u001b[0m\n",
      "\u001b[34m19:17:00, epoch: 9, train: 0.661, valid: 0.028\u001b[0m\n",
      "\u001b[34m19:17:00, epoch: 10, train: 0.726, valid: 0.031\u001b[0m\n",
      "\u001b[34m19:17:00, epoch: 11, train: 0.711, valid: 0.061\u001b[0m\n",
      "\u001b[34m19:17:00, epoch: 12, train: 0.762, valid: 0.038\u001b[0m\n",
      "\u001b[34m19:17:00, epoch: 13, train: 0.681, valid: 0.039\u001b[0m\n",
      "\u001b[34m19:17:00, epoch: 14, train: 0.645, valid: 0.047\u001b[0m\n",
      "\u001b[34m19:17:00, epoch: 15, train: 0.667, valid: 0.028\u001b[0m\n",
      "\u001b[34m19:17:00, epoch: 16, train: 0.657, valid: 0.033\u001b[0m\n",
      "\u001b[34m19:17:00, epoch: 17, train: 0.602, valid: 0.034\u001b[0m\n",
      "\u001b[34m19:17:00, epoch: 18, train: 0.626, valid: 0.031\u001b[0m\n",
      "\u001b[34m19:17:00, epoch: 19, train: 0.627, valid: 0.035\u001b[0m\n",
      "\u001b[34m19:17:00, epoch: 20, train: 0.575, valid: 0.043\u001b[0m\n",
      "\u001b[34m19:17:00, epoch: 21, train: 0.561, valid: 0.028\u001b[0m\n",
      "\u001b[34m19:17:00, epoch: 22, train: 0.566, valid: 0.034\u001b[0m\n",
      "\u001b[34m19:17:01, epoch: 23, train: 0.584, valid: 0.028\u001b[0m\n",
      "\u001b[34m19:17:01, epoch: 24, train: 0.517, valid: 0.051\u001b[0m\n",
      "\u001b[34m19:17:01, epoch: 25, train: 0.553, valid: 0.031\u001b[0m\n",
      "\u001b[34m19:17:01, epoch: 26, train: 0.555, valid: 0.039\u001b[0m\n",
      "\u001b[34m19:17:01, epoch: 27, train: 0.526, valid: 0.026\u001b[0m\n",
      "\u001b[34m19:17:01, epoch: 28, train: 0.447, valid: 0.057\u001b[0m\n",
      "\u001b[34m19:17:01, epoch: 29, train: 0.503, valid: 0.043\u001b[0m\n",
      "\u001b[34m19:17:01, epoch: 30, train: 0.487, valid: 0.064\u001b[0m\n",
      "\u001b[34m19:17:01, epoch: 31, train: 0.481, valid: 0.027\u001b[0m\n",
      "\u001b[34m19:17:01, epoch: 32, train: 0.435, valid: 0.026\u001b[0m\n",
      "\u001b[34m19:17:01, epoch: 33, train: 0.451, valid: 0.032\u001b[0m\n",
      "\u001b[34m19:17:01, epoch: 34, train: 0.427, valid: 0.027\u001b[0m\n",
      "\u001b[34m19:17:01, epoch: 35, train: 0.423, valid: 0.026\u001b[0m\n",
      "\u001b[34m19:17:01, epoch: 36, train: 0.437, valid: 0.034\u001b[0m\n",
      "\u001b[34m19:17:01, epoch: 37, train: 0.4, valid: 0.028\u001b[0m\n",
      "\u001b[34m19:17:01, epoch: 38, train: 0.432, valid: 0.031\u001b[0m\n",
      "\u001b[34m19:17:01, epoch: 39, train: 0.41, valid: 0.029\u001b[0m\n",
      "\u001b[34m19:17:01, epoch: 40, train: 0.435, valid: 0.044\u001b[0m\n",
      "\u001b[34m19:17:01, epoch: 41, train: 0.415, valid: 0.028\u001b[0m\n",
      "\u001b[34m19:17:01, epoch: 42, train: 0.378, valid: 0.028\u001b[0m\n",
      "\u001b[34m19:17:01, epoch: 43, train: 0.365, valid: 0.026\u001b[0m\n",
      "\u001b[34m19:17:01, epoch: 44, train: 0.365, valid: 0.033\u001b[0m\n",
      "\u001b[34m19:17:01, epoch: 45, train: 0.35, valid: 0.027\u001b[0m\n",
      "\u001b[34m19:17:01, epoch: 46, train: 0.371, valid: 0.037\u001b[0m\n",
      "\u001b[34m19:17:01, epoch: 47, train: 0.351, valid: 0.027\u001b[0m\n",
      "\u001b[34m19:17:01, epoch: 48, train: 0.369, valid: 0.033\u001b[0m\n",
      "\u001b[34m19:17:01, epoch: 49, train: 0.341, valid: 0.027\u001b[0m\n",
      "\u001b[34m2021-01-25 19:17:01,396 sagemaker-containers INFO     Reporting training SUCCESS\u001b[0m\n"
     ]
    },
    {
     "name": "stdout",
     "output_type": "stream",
     "text": [
      "Training seconds: 88\n",
      "Billable seconds: 88\n"
     ]
    }
   ],
   "source": [
    "estimator.fit({'train': input_data, \"config\": input_config})"
   ]
  },
  {
   "cell_type": "code",
   "execution_count": 1,
   "metadata": {},
   "outputs": [
    {
     "ename": "NameError",
     "evalue": "name 'estimator' is not defined",
     "output_type": "error",
     "traceback": [
      "\u001b[0;31m---------------------------------------------------------------------------\u001b[0m",
      "\u001b[0;31mNameError\u001b[0m                                 Traceback (most recent call last)",
      "\u001b[0;32m<ipython-input-1-7aede36049fe>\u001b[0m in \u001b[0;36m<module>\u001b[0;34m\u001b[0m\n\u001b[0;32m----> 1\u001b[0;31m \u001b[0mestimator\u001b[0m\u001b[0;34m.\u001b[0m\u001b[0mcreate_model\u001b[0m\u001b[0;34m(\u001b[0m\u001b[0;34m)\u001b[0m\u001b[0;34m\u001b[0m\u001b[0;34m\u001b[0m\u001b[0m\n\u001b[0m",
      "\u001b[0;31mNameError\u001b[0m: name 'estimator' is not defined"
     ]
    }
   ],
   "source": [
    "estimator.create_model()"
   ]
  },
  {
   "cell_type": "markdown",
   "metadata": {},
   "source": [
    "### Endpoint Deployment"
   ]
  },
  {
   "cell_type": "markdown",
   "metadata": {},
   "source": [
    "config = load_config()"
   ]
  },
  {
   "cell_type": "markdown",
   "metadata": {},
   "source": [
    "deploy_config = get_deploy_config(config)"
   ]
  },
  {
   "cell_type": "markdown",
   "metadata": {},
   "source": [
    "build_endpoint(deploy_config)"
   ]
  },
  {
   "cell_type": "markdown",
   "metadata": {},
   "source": [
    "kill_endpoint(config)"
   ]
  }
 ],
 "metadata": {
  "kernelspec": {
   "display_name": "Python 3",
   "language": "python",
   "name": "python3"
  },
  "language_info": {
   "codemirror_mode": {
    "name": "ipython",
    "version": 3
   },
   "file_extension": ".py",
   "mimetype": "text/x-python",
   "name": "python",
   "nbconvert_exporter": "python",
   "pygments_lexer": "ipython3",
   "version": "3.8.5"
  }
 },
 "nbformat": 4,
 "nbformat_minor": 4
}
