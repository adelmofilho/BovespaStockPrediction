{
 "cells": [
  {
   "cell_type": "markdown",
   "metadata": {},
   "source": [
    "### Import python packages"
   ]
  },
  {
   "cell_type": "code",
   "execution_count": 10,
   "metadata": {},
   "outputs": [],
   "source": [
    "import numpy as np\n",
    "import pandas as pd\n",
    "from tqdm import tqdm\n",
    "\n",
    "from yahooquery import Ticker\n",
    "\n",
    "import torch\n",
    "import torch.utils.data\n",
    "from torch import optim\n",
    "from torch import nn\n",
    "from torch.autograd import Variable"
   ]
  },
  {
   "cell_type": "code",
   "execution_count": 13,
   "metadata": {},
   "outputs": [],
   "source": [
    "from ibov.utils import load_config\n",
    "from ibov.feature import create_lags\n",
    "from ibov.model import IbovModel, train"
   ]
  },
  {
   "cell_type": "markdown",
   "metadata": {},
   "source": [
    "### Load Data"
   ]
  },
  {
   "cell_type": "code",
   "execution_count": 14,
   "metadata": {},
   "outputs": [],
   "source": [
    "config = load_config()"
   ]
  },
  {
   "cell_type": "code",
   "execution_count": 15,
   "metadata": {},
   "outputs": [],
   "source": [
    "data_root_dir = config[\"data\"][\"root\"]"
   ]
  },
  {
   "cell_type": "code",
   "execution_count": 16,
   "metadata": {},
   "outputs": [],
   "source": [
    "ibov = Ticker(symbols = config[\"ibovespa\"][\"ticker\"])\n",
    "ibov_data = ibov.history(period=\"max\")\n",
    "ibov_data.to_csv(f\"{data_root_dir}/ibovespa.csv\")"
   ]
  },
  {
   "cell_type": "markdown",
   "metadata": {},
   "source": [
    "### Geração dos conjuntos de dados de treino"
   ]
  },
  {
   "cell_type": "code",
   "execution_count": 17,
   "metadata": {},
   "outputs": [],
   "source": [
    "dados_ibov = pd.read_csv(f\"{data_root_dir}/ibovespa.csv\")"
   ]
  },
  {
   "cell_type": "code",
   "execution_count": 18,
   "metadata": {},
   "outputs": [
    {
     "data": {
      "text/html": [
       "<div>\n",
       "<style scoped>\n",
       "    .dataframe tbody tr th:only-of-type {\n",
       "        vertical-align: middle;\n",
       "    }\n",
       "\n",
       "    .dataframe tbody tr th {\n",
       "        vertical-align: top;\n",
       "    }\n",
       "\n",
       "    .dataframe thead th {\n",
       "        text-align: right;\n",
       "    }\n",
       "</style>\n",
       "<table border=\"1\" class=\"dataframe\">\n",
       "  <thead>\n",
       "    <tr style=\"text-align: right;\">\n",
       "      <th></th>\n",
       "      <th>symbol</th>\n",
       "      <th>date</th>\n",
       "      <th>low</th>\n",
       "      <th>high</th>\n",
       "      <th>open</th>\n",
       "      <th>close</th>\n",
       "      <th>volume</th>\n",
       "      <th>adjclose</th>\n",
       "    </tr>\n",
       "  </thead>\n",
       "  <tbody>\n",
       "    <tr>\n",
       "      <th>0</th>\n",
       "      <td>^BVSP</td>\n",
       "      <td>2020-04-14</td>\n",
       "      <td>78848.0</td>\n",
       "      <td>81668.0</td>\n",
       "      <td>78848.0</td>\n",
       "      <td>79918.0</td>\n",
       "      <td>8593600.0</td>\n",
       "      <td>79918.0</td>\n",
       "    </tr>\n",
       "    <tr>\n",
       "      <th>1</th>\n",
       "      <td>^BVSP</td>\n",
       "      <td>2020-04-13</td>\n",
       "      <td>76405.0</td>\n",
       "      <td>78836.0</td>\n",
       "      <td>77682.0</td>\n",
       "      <td>78836.0</td>\n",
       "      <td>7651300.0</td>\n",
       "      <td>78836.0</td>\n",
       "    </tr>\n",
       "    <tr>\n",
       "      <th>2</th>\n",
       "      <td>^BVSP</td>\n",
       "      <td>2020-04-09</td>\n",
       "      <td>77457.0</td>\n",
       "      <td>80428.0</td>\n",
       "      <td>78640.0</td>\n",
       "      <td>77682.0</td>\n",
       "      <td>10748700.0</td>\n",
       "      <td>77682.0</td>\n",
       "    </tr>\n",
       "    <tr>\n",
       "      <th>3</th>\n",
       "      <td>^BVSP</td>\n",
       "      <td>2020-04-08</td>\n",
       "      <td>76115.0</td>\n",
       "      <td>79058.0</td>\n",
       "      <td>76335.0</td>\n",
       "      <td>78625.0</td>\n",
       "      <td>10206300.0</td>\n",
       "      <td>78625.0</td>\n",
       "    </tr>\n",
       "    <tr>\n",
       "      <th>4</th>\n",
       "      <td>^BVSP</td>\n",
       "      <td>2020-04-07</td>\n",
       "      <td>74078.0</td>\n",
       "      <td>79855.0</td>\n",
       "      <td>74078.0</td>\n",
       "      <td>76358.0</td>\n",
       "      <td>11286500.0</td>\n",
       "      <td>76358.0</td>\n",
       "    </tr>\n",
       "  </tbody>\n",
       "</table>\n",
       "</div>"
      ],
      "text/plain": [
       "  symbol        date      low     high     open    close      volume  adjclose\n",
       "0  ^BVSP  2020-04-14  78848.0  81668.0  78848.0  79918.0   8593600.0   79918.0\n",
       "1  ^BVSP  2020-04-13  76405.0  78836.0  77682.0  78836.0   7651300.0   78836.0\n",
       "2  ^BVSP  2020-04-09  77457.0  80428.0  78640.0  77682.0  10748700.0   77682.0\n",
       "3  ^BVSP  2020-04-08  76115.0  79058.0  76335.0  78625.0  10206300.0   78625.0\n",
       "4  ^BVSP  2020-04-07  74078.0  79855.0  74078.0  76358.0  11286500.0   76358.0"
      ]
     },
     "execution_count": 18,
     "metadata": {},
     "output_type": "execute_result"
    }
   ],
   "source": [
    "dados_ibov_train = dados_ibov.sort_values(by=\"date\", ascending=False)[180:360].reset_index(drop=\"True\")\n",
    "dados_ibov_train.head()"
   ]
  },
  {
   "cell_type": "code",
   "execution_count": 19,
   "metadata": {
    "scrolled": true
   },
   "outputs": [
    {
     "data": {
      "text/html": [
       "<div>\n",
       "<style scoped>\n",
       "    .dataframe tbody tr th:only-of-type {\n",
       "        vertical-align: middle;\n",
       "    }\n",
       "\n",
       "    .dataframe tbody tr th {\n",
       "        vertical-align: top;\n",
       "    }\n",
       "\n",
       "    .dataframe thead th {\n",
       "        text-align: right;\n",
       "    }\n",
       "</style>\n",
       "<table border=\"1\" class=\"dataframe\">\n",
       "  <thead>\n",
       "    <tr style=\"text-align: right;\">\n",
       "      <th></th>\n",
       "      <th>symbol</th>\n",
       "      <th>date</th>\n",
       "      <th>low</th>\n",
       "      <th>high</th>\n",
       "      <th>open</th>\n",
       "      <th>close</th>\n",
       "      <th>volume</th>\n",
       "      <th>adjclose</th>\n",
       "    </tr>\n",
       "  </thead>\n",
       "  <tbody>\n",
       "    <tr>\n",
       "      <th>0</th>\n",
       "      <td>^BVSP</td>\n",
       "      <td>2021-01-06</td>\n",
       "      <td>119060.6875</td>\n",
       "      <td>119970.148438</td>\n",
       "      <td>119376.90625</td>\n",
       "      <td>119140.507812</td>\n",
       "      <td>0.0</td>\n",
       "      <td>119140.507812</td>\n",
       "    </tr>\n",
       "    <tr>\n",
       "      <th>1</th>\n",
       "      <td>^BVSP</td>\n",
       "      <td>2021-01-05</td>\n",
       "      <td>116756.0000</td>\n",
       "      <td>119790.000000</td>\n",
       "      <td>118835.00000</td>\n",
       "      <td>119223.000000</td>\n",
       "      <td>9257100.0</td>\n",
       "      <td>119223.000000</td>\n",
       "    </tr>\n",
       "    <tr>\n",
       "      <th>2</th>\n",
       "      <td>^BVSP</td>\n",
       "      <td>2021-01-04</td>\n",
       "      <td>118062.0000</td>\n",
       "      <td>120354.000000</td>\n",
       "      <td>119024.00000</td>\n",
       "      <td>118558.000000</td>\n",
       "      <td>8741400.0</td>\n",
       "      <td>118558.000000</td>\n",
       "    </tr>\n",
       "    <tr>\n",
       "      <th>3</th>\n",
       "      <td>^BVSP</td>\n",
       "      <td>2020-12-30</td>\n",
       "      <td>118919.0000</td>\n",
       "      <td>120150.000000</td>\n",
       "      <td>119410.00000</td>\n",
       "      <td>119306.000000</td>\n",
       "      <td>8235700.0</td>\n",
       "      <td>119306.000000</td>\n",
       "    </tr>\n",
       "    <tr>\n",
       "      <th>4</th>\n",
       "      <td>^BVSP</td>\n",
       "      <td>2020-12-29</td>\n",
       "      <td>118750.0000</td>\n",
       "      <td>119861.000000</td>\n",
       "      <td>119130.00000</td>\n",
       "      <td>119475.000000</td>\n",
       "      <td>6769700.0</td>\n",
       "      <td>119475.000000</td>\n",
       "    </tr>\n",
       "  </tbody>\n",
       "</table>\n",
       "</div>"
      ],
      "text/plain": [
       "  symbol        date          low           high          open          close  \\\n",
       "0  ^BVSP  2021-01-06  119060.6875  119970.148438  119376.90625  119140.507812   \n",
       "1  ^BVSP  2021-01-05  116756.0000  119790.000000  118835.00000  119223.000000   \n",
       "2  ^BVSP  2021-01-04  118062.0000  120354.000000  119024.00000  118558.000000   \n",
       "3  ^BVSP  2020-12-30  118919.0000  120150.000000  119410.00000  119306.000000   \n",
       "4  ^BVSP  2020-12-29  118750.0000  119861.000000  119130.00000  119475.000000   \n",
       "\n",
       "      volume       adjclose  \n",
       "0        0.0  119140.507812  \n",
       "1  9257100.0  119223.000000  \n",
       "2  8741400.0  118558.000000  \n",
       "3  8235700.0  119306.000000  \n",
       "4  6769700.0  119475.000000  "
      ]
     },
     "execution_count": 19,
     "metadata": {},
     "output_type": "execute_result"
    }
   ],
   "source": [
    "dados_ibov_valid = dados_ibov.sort_values(by=\"date\", ascending=False)[0:180].reset_index(drop=\"True\")\n",
    "dados_ibov_valid.head()"
   ]
  },
  {
   "cell_type": "code",
   "execution_count": 20,
   "metadata": {},
   "outputs": [],
   "source": [
    "window = config[\"feature\"][\"window\"]"
   ]
  },
  {
   "cell_type": "code",
   "execution_count": 21,
   "metadata": {},
   "outputs": [],
   "source": [
    "trainY, trainX = create_lags(data = dados_ibov_train[\"close\"], window = window)\n",
    "validY, validX = create_lags(data = dados_ibov_valid[\"close\"], window = window)"
   ]
  },
  {
   "cell_type": "code",
   "execution_count": 30,
   "metadata": {},
   "outputs": [
    {
     "data": {
      "text/plain": [
       "[[79918.0],\n",
       " [78836.0],\n",
       " [77682.0],\n",
       " [78625.0],\n",
       " [76358.0],\n",
       " [74073.0],\n",
       " [69538.0],\n",
       " [72253.0],\n",
       " [70967.0],\n",
       " [73020.0],\n",
       " [74640.0],\n",
       " [73429.0],\n",
       " [77710.0],\n",
       " [74956.0],\n",
       " [69729.0],\n",
       " [63570.0],\n",
       " [67069.0],\n",
       " [68332.0],\n",
       " [66895.0],\n",
       " [74617.0],\n",
       " [71168.0],\n",
       " [82678.0],\n",
       " [72583.0],\n",
       " [85171.0],\n",
       " [92214.0],\n",
       " [86067.0],\n",
       " [97997.0],\n",
       " [102233.0],\n",
       " [107224.0],\n",
       " [105537.0],\n",
       " [106625.0],\n",
       " [104172.0],\n",
       " [102984.0],\n",
       " [113681.0],\n",
       " [114586.0],\n",
       " [116518.0],\n",
       " [114977.0],\n",
       " [115309.0],\n",
       " [114381.0],\n",
       " [115662.0],\n",
       " [116674.0],\n",
       " [115371.0],\n",
       " [112570.0],\n",
       " [113770.0],\n",
       " [115190.0],\n",
       " [116028.0],\n",
       " [115557.0],\n",
       " [114629.0],\n",
       " [113761.0],\n",
       " [115528.0],\n",
       " [115385.0],\n",
       " [116479.0],\n",
       " [114482.0],\n",
       " [118376.0],\n",
       " [119528.0],\n",
       " [118391.0],\n",
       " [117026.0],\n",
       " [118862.0],\n",
       " [118478.0],\n",
       " [116704.0],\n",
       " [116414.0],\n",
       " [117632.0],\n",
       " [117325.0],\n",
       " [115503.0],\n",
       " [115947.0],\n",
       " [116247.0],\n",
       " [116662.0],\n",
       " [116878.0],\n",
       " [117707.0],\n",
       " [118573.0],\n",
       " [115964.0],\n",
       " [116534.0],\n",
       " [117203.0],\n",
       " [115863.0],\n",
       " [115121.0],\n",
       " [115131.0],\n",
       " [114315.0],\n",
       " [112616.0],\n",
       " [111896.0],\n",
       " [112565.0],\n",
       " [112200.0],\n",
       " [110964.0],\n",
       " [110672.0],\n",
       " [110977.0],\n",
       " [111126.0],\n",
       " [110622.0],\n",
       " [110301.0],\n",
       " [108956.0],\n",
       " [109061.0],\n",
       " [108233.0],\n",
       " [108290.0],\n",
       " [107708.0],\n",
       " [107059.0],\n",
       " [108424.0],\n",
       " [108692.0],\n",
       " [107497.0],\n",
       " [105618.0],\n",
       " [106347.0],\n",
       " [106557.0],\n",
       " [105914.0],\n",
       " [106785.0],\n",
       " [108215.0],\n",
       " [107629.0],\n",
       " [109581.0],\n",
       " [108336.0],\n",
       " [108451.0],\n",
       " [108601.0],\n",
       " [108196.0],\n",
       " [107220.0],\n",
       " [108408.0],\n",
       " [107556.0],\n",
       " [108187.0],\n",
       " [107364.0],\n",
       " [106986.0],\n",
       " [107544.0],\n",
       " [107381.0],\n",
       " [106022.0],\n",
       " [104729.0],\n",
       " [105016.0],\n",
       " [105423.0],\n",
       " [104490.0],\n",
       " [104302.0],\n",
       " [103832.0],\n",
       " [101817.0],\n",
       " [101249.0],\n",
       " [99981.0],\n",
       " [100573.0],\n",
       " [102551.0],\n",
       " [101516.0],\n",
       " [101031.0],\n",
       " [104053.0],\n",
       " [104745.0],\n",
       " [105078.0],\n",
       " [105319.0],\n",
       " [104481.0],\n",
       " [103876.0],\n",
       " [104638.0],\n",
       " [104817.0],\n",
       " [104339.0],\n",
       " [104532.0],\n",
       " [104617.0],\n",
       " [103680.0],\n",
       " [103501.0],\n",
       " [104371.0],\n",
       " [103446.0],\n",
       " [103032.0],\n",
       " [103181.0],\n",
       " [102935.0],\n",
       " [102243.0],\n",
       " [101201.0],\n",
       " [99681.0],\n",
       " [100626.0],\n",
       " [101135.0],\n",
       " [100524.0],\n",
       " [98194.0],\n",
       " [97276.0],\n",
       " [96430.0],\n",
       " [97667.0],\n",
       " [100011.0],\n",
       " [101202.0],\n",
       " [99222.0],\n",
       " [99469.0],\n",
       " [99806.0],\n",
       " [99057.0],\n",
       " [100258.0],\n",
       " [103299.0],\n",
       " [101915.0],\n",
       " [103996.0],\n",
       " [104115.0],\n",
       " [102782.0],\n",
       " [102164.0],\n",
       " [100098.0],\n",
       " [102674.0],\n",
       " [102126.0],\n",
       " [101812.0],\n",
       " [102933.0],\n",
       " [103483.0],\n",
       " [102819.0]]"
      ]
     },
     "execution_count": 30,
     "metadata": {},
     "output_type": "execute_result"
    }
   ],
   "source": [
    "trainY"
   ]
  },
  {
   "cell_type": "code",
   "execution_count": 28,
   "metadata": {},
   "outputs": [
    {
     "ename": "ValueError",
     "evalue": "shape mismatch: value array of shape (178,1) could not be broadcast to indexing result of shape (1,0)",
     "output_type": "error",
     "traceback": [
      "\u001b[0;31m---------------------------------------------------------------------------\u001b[0m",
      "\u001b[0;31mValueError\u001b[0m                                Traceback (most recent call last)",
      "\u001b[0;32m<ipython-input-28-3e4c3d1e7c3a>\u001b[0m in \u001b[0;36m<module>\u001b[0;34m\u001b[0m\n\u001b[0;32m----> 1\u001b[0;31m \u001b[0mdata\u001b[0m\u001b[0;34m[\u001b[0m\u001b[0;34m[\u001b[0m\u001b[0;34m\"target\"\u001b[0m\u001b[0;34m]\u001b[0m\u001b[0;34m]\u001b[0m \u001b[0;34m=\u001b[0m \u001b[0mtrainY\u001b[0m\u001b[0;34m\u001b[0m\u001b[0;34m\u001b[0m\u001b[0m\n\u001b[0m",
      "\u001b[0;32m~/projetos/udacity/BovespaStockPrediction/.env/lib/python3.8/site-packages/pandas/core/frame.py\u001b[0m in \u001b[0;36m__setitem__\u001b[0;34m(self, key, value)\u001b[0m\n\u001b[1;32m   3158\u001b[0m             \u001b[0mself\u001b[0m\u001b[0;34m.\u001b[0m\u001b[0m_setitem_frame\u001b[0m\u001b[0;34m(\u001b[0m\u001b[0mkey\u001b[0m\u001b[0;34m,\u001b[0m \u001b[0mvalue\u001b[0m\u001b[0;34m)\u001b[0m\u001b[0;34m\u001b[0m\u001b[0;34m\u001b[0m\u001b[0m\n\u001b[1;32m   3159\u001b[0m         \u001b[0;32melif\u001b[0m \u001b[0misinstance\u001b[0m\u001b[0;34m(\u001b[0m\u001b[0mkey\u001b[0m\u001b[0;34m,\u001b[0m \u001b[0;34m(\u001b[0m\u001b[0mSeries\u001b[0m\u001b[0;34m,\u001b[0m \u001b[0mnp\u001b[0m\u001b[0;34m.\u001b[0m\u001b[0mndarray\u001b[0m\u001b[0;34m,\u001b[0m \u001b[0mlist\u001b[0m\u001b[0;34m,\u001b[0m \u001b[0mIndex\u001b[0m\u001b[0;34m)\u001b[0m\u001b[0;34m)\u001b[0m\u001b[0;34m:\u001b[0m\u001b[0;34m\u001b[0m\u001b[0;34m\u001b[0m\u001b[0m\n\u001b[0;32m-> 3160\u001b[0;31m             \u001b[0mself\u001b[0m\u001b[0;34m.\u001b[0m\u001b[0m_setitem_array\u001b[0m\u001b[0;34m(\u001b[0m\u001b[0mkey\u001b[0m\u001b[0;34m,\u001b[0m \u001b[0mvalue\u001b[0m\u001b[0;34m)\u001b[0m\u001b[0;34m\u001b[0m\u001b[0;34m\u001b[0m\u001b[0m\n\u001b[0m\u001b[1;32m   3161\u001b[0m         \u001b[0;32melse\u001b[0m\u001b[0;34m:\u001b[0m\u001b[0;34m\u001b[0m\u001b[0;34m\u001b[0m\u001b[0m\n\u001b[1;32m   3162\u001b[0m             \u001b[0;31m# set column\u001b[0m\u001b[0;34m\u001b[0m\u001b[0;34m\u001b[0m\u001b[0;34m\u001b[0m\u001b[0m\n",
      "\u001b[0;32m~/projetos/udacity/BovespaStockPrediction/.env/lib/python3.8/site-packages/pandas/core/frame.py\u001b[0m in \u001b[0;36m_setitem_array\u001b[0;34m(self, key, value)\u001b[0m\n\u001b[1;32m   3193\u001b[0m                 )[1]\n\u001b[1;32m   3194\u001b[0m                 \u001b[0mself\u001b[0m\u001b[0;34m.\u001b[0m\u001b[0m_check_setitem_copy\u001b[0m\u001b[0;34m(\u001b[0m\u001b[0;34m)\u001b[0m\u001b[0;34m\u001b[0m\u001b[0;34m\u001b[0m\u001b[0m\n\u001b[0;32m-> 3195\u001b[0;31m                 \u001b[0mself\u001b[0m\u001b[0;34m.\u001b[0m\u001b[0miloc\u001b[0m\u001b[0;34m[\u001b[0m\u001b[0;34m:\u001b[0m\u001b[0;34m,\u001b[0m \u001b[0mindexer\u001b[0m\u001b[0;34m]\u001b[0m \u001b[0;34m=\u001b[0m \u001b[0mvalue\u001b[0m\u001b[0;34m\u001b[0m\u001b[0;34m\u001b[0m\u001b[0m\n\u001b[0m\u001b[1;32m   3196\u001b[0m \u001b[0;34m\u001b[0m\u001b[0m\n\u001b[1;32m   3197\u001b[0m     \u001b[0;32mdef\u001b[0m \u001b[0m_setitem_frame\u001b[0m\u001b[0;34m(\u001b[0m\u001b[0mself\u001b[0m\u001b[0;34m,\u001b[0m \u001b[0mkey\u001b[0m\u001b[0;34m,\u001b[0m \u001b[0mvalue\u001b[0m\u001b[0;34m)\u001b[0m\u001b[0;34m:\u001b[0m\u001b[0;34m\u001b[0m\u001b[0;34m\u001b[0m\u001b[0m\n",
      "\u001b[0;32m~/projetos/udacity/BovespaStockPrediction/.env/lib/python3.8/site-packages/pandas/core/indexing.py\u001b[0m in \u001b[0;36m__setitem__\u001b[0;34m(self, key, value)\u001b[0m\n\u001b[1;32m    689\u001b[0m \u001b[0;34m\u001b[0m\u001b[0m\n\u001b[1;32m    690\u001b[0m         \u001b[0miloc\u001b[0m \u001b[0;34m=\u001b[0m \u001b[0mself\u001b[0m \u001b[0;32mif\u001b[0m \u001b[0mself\u001b[0m\u001b[0;34m.\u001b[0m\u001b[0mname\u001b[0m \u001b[0;34m==\u001b[0m \u001b[0;34m\"iloc\"\u001b[0m \u001b[0;32melse\u001b[0m \u001b[0mself\u001b[0m\u001b[0;34m.\u001b[0m\u001b[0mobj\u001b[0m\u001b[0;34m.\u001b[0m\u001b[0miloc\u001b[0m\u001b[0;34m\u001b[0m\u001b[0;34m\u001b[0m\u001b[0m\n\u001b[0;32m--> 691\u001b[0;31m         \u001b[0miloc\u001b[0m\u001b[0;34m.\u001b[0m\u001b[0m_setitem_with_indexer\u001b[0m\u001b[0;34m(\u001b[0m\u001b[0mindexer\u001b[0m\u001b[0;34m,\u001b[0m \u001b[0mvalue\u001b[0m\u001b[0;34m,\u001b[0m \u001b[0mself\u001b[0m\u001b[0;34m.\u001b[0m\u001b[0mname\u001b[0m\u001b[0;34m)\u001b[0m\u001b[0;34m\u001b[0m\u001b[0;34m\u001b[0m\u001b[0m\n\u001b[0m\u001b[1;32m    692\u001b[0m \u001b[0;34m\u001b[0m\u001b[0m\n\u001b[1;32m    693\u001b[0m     \u001b[0;32mdef\u001b[0m \u001b[0m_validate_key\u001b[0m\u001b[0;34m(\u001b[0m\u001b[0mself\u001b[0m\u001b[0;34m,\u001b[0m \u001b[0mkey\u001b[0m\u001b[0;34m,\u001b[0m \u001b[0maxis\u001b[0m\u001b[0;34m:\u001b[0m \u001b[0mint\u001b[0m\u001b[0;34m)\u001b[0m\u001b[0;34m:\u001b[0m\u001b[0;34m\u001b[0m\u001b[0;34m\u001b[0m\u001b[0m\n",
      "\u001b[0;32m~/projetos/udacity/BovespaStockPrediction/.env/lib/python3.8/site-packages/pandas/core/indexing.py\u001b[0m in \u001b[0;36m_setitem_with_indexer\u001b[0;34m(self, indexer, value, name)\u001b[0m\n\u001b[1;32m   1634\u001b[0m             \u001b[0mself\u001b[0m\u001b[0;34m.\u001b[0m\u001b[0m_setitem_with_indexer_split_path\u001b[0m\u001b[0;34m(\u001b[0m\u001b[0mindexer\u001b[0m\u001b[0;34m,\u001b[0m \u001b[0mvalue\u001b[0m\u001b[0;34m,\u001b[0m \u001b[0mname\u001b[0m\u001b[0;34m)\u001b[0m\u001b[0;34m\u001b[0m\u001b[0;34m\u001b[0m\u001b[0m\n\u001b[1;32m   1635\u001b[0m         \u001b[0;32melse\u001b[0m\u001b[0;34m:\u001b[0m\u001b[0;34m\u001b[0m\u001b[0;34m\u001b[0m\u001b[0m\n\u001b[0;32m-> 1636\u001b[0;31m             \u001b[0mself\u001b[0m\u001b[0;34m.\u001b[0m\u001b[0m_setitem_single_block\u001b[0m\u001b[0;34m(\u001b[0m\u001b[0mindexer\u001b[0m\u001b[0;34m,\u001b[0m \u001b[0mvalue\u001b[0m\u001b[0;34m,\u001b[0m \u001b[0mname\u001b[0m\u001b[0;34m)\u001b[0m\u001b[0;34m\u001b[0m\u001b[0;34m\u001b[0m\u001b[0m\n\u001b[0m\u001b[1;32m   1637\u001b[0m \u001b[0;34m\u001b[0m\u001b[0m\n\u001b[1;32m   1638\u001b[0m     \u001b[0;32mdef\u001b[0m \u001b[0m_setitem_with_indexer_split_path\u001b[0m\u001b[0;34m(\u001b[0m\u001b[0mself\u001b[0m\u001b[0;34m,\u001b[0m \u001b[0mindexer\u001b[0m\u001b[0;34m,\u001b[0m \u001b[0mvalue\u001b[0m\u001b[0;34m,\u001b[0m \u001b[0mname\u001b[0m\u001b[0;34m:\u001b[0m \u001b[0mstr\u001b[0m\u001b[0;34m)\u001b[0m\u001b[0;34m:\u001b[0m\u001b[0;34m\u001b[0m\u001b[0;34m\u001b[0m\u001b[0m\n",
      "\u001b[0;32m~/projetos/udacity/BovespaStockPrediction/.env/lib/python3.8/site-packages/pandas/core/indexing.py\u001b[0m in \u001b[0;36m_setitem_single_block\u001b[0;34m(self, indexer, value, name)\u001b[0m\n\u001b[1;32m   1858\u001b[0m         \u001b[0;31m# actually do the set\u001b[0m\u001b[0;34m\u001b[0m\u001b[0;34m\u001b[0m\u001b[0;34m\u001b[0m\u001b[0m\n\u001b[1;32m   1859\u001b[0m         \u001b[0mself\u001b[0m\u001b[0;34m.\u001b[0m\u001b[0mobj\u001b[0m\u001b[0;34m.\u001b[0m\u001b[0m_consolidate_inplace\u001b[0m\u001b[0;34m(\u001b[0m\u001b[0;34m)\u001b[0m\u001b[0;34m\u001b[0m\u001b[0;34m\u001b[0m\u001b[0m\n\u001b[0;32m-> 1860\u001b[0;31m         \u001b[0mself\u001b[0m\u001b[0;34m.\u001b[0m\u001b[0mobj\u001b[0m\u001b[0;34m.\u001b[0m\u001b[0m_mgr\u001b[0m \u001b[0;34m=\u001b[0m \u001b[0mself\u001b[0m\u001b[0;34m.\u001b[0m\u001b[0mobj\u001b[0m\u001b[0;34m.\u001b[0m\u001b[0m_mgr\u001b[0m\u001b[0;34m.\u001b[0m\u001b[0msetitem\u001b[0m\u001b[0;34m(\u001b[0m\u001b[0mindexer\u001b[0m\u001b[0;34m=\u001b[0m\u001b[0mindexer\u001b[0m\u001b[0;34m,\u001b[0m \u001b[0mvalue\u001b[0m\u001b[0;34m=\u001b[0m\u001b[0mvalue\u001b[0m\u001b[0;34m)\u001b[0m\u001b[0;34m\u001b[0m\u001b[0;34m\u001b[0m\u001b[0m\n\u001b[0m\u001b[1;32m   1861\u001b[0m         \u001b[0mself\u001b[0m\u001b[0;34m.\u001b[0m\u001b[0mobj\u001b[0m\u001b[0;34m.\u001b[0m\u001b[0m_maybe_update_cacher\u001b[0m\u001b[0;34m(\u001b[0m\u001b[0mclear\u001b[0m\u001b[0;34m=\u001b[0m\u001b[0;32mTrue\u001b[0m\u001b[0;34m)\u001b[0m\u001b[0;34m\u001b[0m\u001b[0;34m\u001b[0m\u001b[0m\n\u001b[1;32m   1862\u001b[0m \u001b[0;34m\u001b[0m\u001b[0m\n",
      "\u001b[0;32m~/projetos/udacity/BovespaStockPrediction/.env/lib/python3.8/site-packages/pandas/core/internals/managers.py\u001b[0m in \u001b[0;36msetitem\u001b[0;34m(self, indexer, value)\u001b[0m\n\u001b[1;32m    566\u001b[0m \u001b[0;34m\u001b[0m\u001b[0m\n\u001b[1;32m    567\u001b[0m     \u001b[0;32mdef\u001b[0m \u001b[0msetitem\u001b[0m\u001b[0;34m(\u001b[0m\u001b[0mself\u001b[0m\u001b[0;34m,\u001b[0m \u001b[0mindexer\u001b[0m\u001b[0;34m,\u001b[0m \u001b[0mvalue\u001b[0m\u001b[0;34m)\u001b[0m \u001b[0;34m->\u001b[0m \u001b[0;34m\"BlockManager\"\u001b[0m\u001b[0;34m:\u001b[0m\u001b[0;34m\u001b[0m\u001b[0;34m\u001b[0m\u001b[0m\n\u001b[0;32m--> 568\u001b[0;31m         \u001b[0;32mreturn\u001b[0m \u001b[0mself\u001b[0m\u001b[0;34m.\u001b[0m\u001b[0mapply\u001b[0m\u001b[0;34m(\u001b[0m\u001b[0;34m\"setitem\"\u001b[0m\u001b[0;34m,\u001b[0m \u001b[0mindexer\u001b[0m\u001b[0;34m=\u001b[0m\u001b[0mindexer\u001b[0m\u001b[0;34m,\u001b[0m \u001b[0mvalue\u001b[0m\u001b[0;34m=\u001b[0m\u001b[0mvalue\u001b[0m\u001b[0;34m)\u001b[0m\u001b[0;34m\u001b[0m\u001b[0;34m\u001b[0m\u001b[0m\n\u001b[0m\u001b[1;32m    569\u001b[0m \u001b[0;34m\u001b[0m\u001b[0m\n\u001b[1;32m    570\u001b[0m     \u001b[0;32mdef\u001b[0m \u001b[0mputmask\u001b[0m\u001b[0;34m(\u001b[0m\u001b[0mself\u001b[0m\u001b[0;34m,\u001b[0m \u001b[0mmask\u001b[0m\u001b[0;34m,\u001b[0m \u001b[0mnew\u001b[0m\u001b[0;34m,\u001b[0m \u001b[0malign\u001b[0m\u001b[0;34m:\u001b[0m \u001b[0mbool\u001b[0m \u001b[0;34m=\u001b[0m \u001b[0;32mTrue\u001b[0m\u001b[0;34m,\u001b[0m \u001b[0maxis\u001b[0m\u001b[0;34m:\u001b[0m \u001b[0mint\u001b[0m \u001b[0;34m=\u001b[0m \u001b[0;36m0\u001b[0m\u001b[0;34m)\u001b[0m\u001b[0;34m:\u001b[0m\u001b[0;34m\u001b[0m\u001b[0;34m\u001b[0m\u001b[0m\n",
      "\u001b[0;32m~/projetos/udacity/BovespaStockPrediction/.env/lib/python3.8/site-packages/pandas/core/internals/managers.py\u001b[0m in \u001b[0;36mapply\u001b[0;34m(self, f, align_keys, ignore_failures, **kwargs)\u001b[0m\n\u001b[1;32m    425\u001b[0m                     \u001b[0mapplied\u001b[0m \u001b[0;34m=\u001b[0m \u001b[0mb\u001b[0m\u001b[0;34m.\u001b[0m\u001b[0mapply\u001b[0m\u001b[0;34m(\u001b[0m\u001b[0mf\u001b[0m\u001b[0;34m,\u001b[0m \u001b[0;34m**\u001b[0m\u001b[0mkwargs\u001b[0m\u001b[0;34m)\u001b[0m\u001b[0;34m\u001b[0m\u001b[0;34m\u001b[0m\u001b[0m\n\u001b[1;32m    426\u001b[0m                 \u001b[0;32melse\u001b[0m\u001b[0;34m:\u001b[0m\u001b[0;34m\u001b[0m\u001b[0;34m\u001b[0m\u001b[0m\n\u001b[0;32m--> 427\u001b[0;31m                     \u001b[0mapplied\u001b[0m \u001b[0;34m=\u001b[0m \u001b[0mgetattr\u001b[0m\u001b[0;34m(\u001b[0m\u001b[0mb\u001b[0m\u001b[0;34m,\u001b[0m \u001b[0mf\u001b[0m\u001b[0;34m)\u001b[0m\u001b[0;34m(\u001b[0m\u001b[0;34m**\u001b[0m\u001b[0mkwargs\u001b[0m\u001b[0;34m)\u001b[0m\u001b[0;34m\u001b[0m\u001b[0;34m\u001b[0m\u001b[0m\n\u001b[0m\u001b[1;32m    428\u001b[0m             \u001b[0;32mexcept\u001b[0m \u001b[0;34m(\u001b[0m\u001b[0mTypeError\u001b[0m\u001b[0;34m,\u001b[0m \u001b[0mNotImplementedError\u001b[0m\u001b[0;34m)\u001b[0m\u001b[0;34m:\u001b[0m\u001b[0;34m\u001b[0m\u001b[0;34m\u001b[0m\u001b[0m\n\u001b[1;32m    429\u001b[0m                 \u001b[0;32mif\u001b[0m \u001b[0;32mnot\u001b[0m \u001b[0mignore_failures\u001b[0m\u001b[0;34m:\u001b[0m\u001b[0;34m\u001b[0m\u001b[0;34m\u001b[0m\u001b[0m\n",
      "\u001b[0;32m~/projetos/udacity/BovespaStockPrediction/.env/lib/python3.8/site-packages/pandas/core/internals/blocks.py\u001b[0m in \u001b[0;36msetitem\u001b[0;34m(self, indexer, value)\u001b[0m\n\u001b[1;32m   1023\u001b[0m         \u001b[0;31m# set\u001b[0m\u001b[0;34m\u001b[0m\u001b[0;34m\u001b[0m\u001b[0;34m\u001b[0m\u001b[0m\n\u001b[1;32m   1024\u001b[0m         \u001b[0;32melse\u001b[0m\u001b[0;34m:\u001b[0m\u001b[0;34m\u001b[0m\u001b[0;34m\u001b[0m\u001b[0m\n\u001b[0;32m-> 1025\u001b[0;31m             \u001b[0mvalues\u001b[0m\u001b[0;34m[\u001b[0m\u001b[0mindexer\u001b[0m\u001b[0;34m]\u001b[0m \u001b[0;34m=\u001b[0m \u001b[0mvalue\u001b[0m\u001b[0;34m\u001b[0m\u001b[0;34m\u001b[0m\u001b[0m\n\u001b[0m\u001b[1;32m   1026\u001b[0m \u001b[0;34m\u001b[0m\u001b[0m\n\u001b[1;32m   1027\u001b[0m         \u001b[0;32mif\u001b[0m \u001b[0mtranspose\u001b[0m\u001b[0;34m:\u001b[0m\u001b[0;34m\u001b[0m\u001b[0;34m\u001b[0m\u001b[0m\n",
      "\u001b[0;31mValueError\u001b[0m: shape mismatch: value array of shape (178,1) could not be broadcast to indexing result of shape (1,0)"
     ]
    }
   ],
   "source": [
    "data[[\"target\"]] = trainY"
   ]
  },
  {
   "cell_type": "code",
   "execution_count": 23,
   "metadata": {},
   "outputs": [
    {
     "data": {
      "text/plain": [
       "[[119223.0, 118558.0],\n",
       " [118558.0, 119306.0],\n",
       " [119306.0, 119475.0],\n",
       " [119475.0, 119051.0],\n",
       " [119051.0, 117857.0],\n",
       " [117857.0, 116348.0],\n",
       " [116348.0, 116016.0],\n",
       " [116016.0, 117679.0],\n",
       " [117679.0, 118157.0],\n",
       " [118157.0, 117947.0],\n",
       " [117947.0, 116146.0],\n",
       " [116146.0, 114975.0],\n",
       " [114975.0, 115323.0],\n",
       " [115323.0, 114992.0],\n",
       " [114992.0, 112722.0],\n",
       " [112722.0, 113571.0],\n",
       " [113571.0, 113625.0],\n",
       " [113625.0, 113682.0],\n",
       " [113682.0, 112919.0],\n",
       " [112919.0, 111814.0],\n",
       " [111814.0, 111335.0],\n",
       " [111335.0, 108888.0],\n",
       " [108888.0, 110575.0],\n",
       " [110575.0, 110227.0],\n",
       " [110227.0, 110133.0],\n",
       " [110133.0, 109786.0],\n",
       " [109786.0, 107379.0],\n",
       " [107379.0, 106517.0],\n",
       " [106517.0, 106483.0],\n",
       " [106483.0, 107229.0],\n",
       " [107229.0, 106430.0],\n",
       " [106430.0, 104512.0],\n",
       " [104512.0, 102175.0],\n",
       " [102175.0, 104532.0],\n",
       " [104532.0, 105351.0],\n",
       " [105351.0, 103913.0],\n",
       " [103913.0, 100799.0],\n",
       " [100799.0, 100774.0],\n",
       " [100774.0, 97811.0],\n",
       " [97811.0, 95587.0],\n",
       " [95587.0, 93952.0],\n",
       " [93952.0, 96582.0],\n",
       " [96582.0, 95369.0],\n",
       " [95369.0, 99606.0],\n",
       " [99606.0, 101017.0],\n",
       " [101017.0, 101260.0],\n",
       " [101260.0, 101918.0],\n",
       " [101918.0, 100552.0],\n",
       " [100552.0, 100540.0],\n",
       " [100540.0, 98658.0],\n",
       " [98658.0, 98309.0],\n",
       " [98309.0, 99054.0],\n",
       " [99054.0, 99334.0],\n",
       " [99334.0, 98503.0],\n",
       " [98503.0, 97483.0],\n",
       " [97483.0, 97920.0],\n",
       " [97920.0, 95526.0],\n",
       " [95526.0, 95615.0],\n",
       " [95615.0, 96089.0],\n",
       " [96089.0, 94016.0],\n",
       " [94016.0, 95479.0],\n",
       " [95479.0, 94603.0],\n",
       " [94603.0, 93580.0],\n",
       " [93580.0, 94666.0],\n",
       " [94666.0, 96999.0],\n",
       " [96999.0, 97012.0],\n",
       " [97012.0, 95735.0],\n",
       " [95735.0, 97294.0],\n",
       " [97294.0, 96991.0],\n",
       " [96991.0, 98290.0],\n",
       " [98290.0, 100098.0],\n",
       " [100098.0, 99676.0],\n",
       " [99676.0, 100298.0],\n",
       " [100298.0, 100275.0],\n",
       " [100275.0, 98363.0],\n",
       " [98363.0, 98835.0],\n",
       " [98835.0, 101292.0],\n",
       " [101292.0, 100050.0],\n",
       " [100050.0, 101242.0],\n",
       " [101242.0, 100721.0],\n",
       " [100721.0, 101911.0],\n",
       " [101911.0, 102168.0],\n",
       " [102168.0, 99369.0],\n",
       " [99369.0, 102143.0],\n",
       " [102143.0, 100624.0],\n",
       " [100624.0, 100627.0],\n",
       " [100627.0, 102118.0],\n",
       " [102118.0, 102298.0],\n",
       " [102298.0, 101521.0],\n",
       " [101521.0, 101468.0],\n",
       " [101468.0, 100854.0],\n",
       " [100854.0, 102065.0],\n",
       " [102065.0, 99595.0],\n",
       " [99595.0, 101353.0],\n",
       " [101353.0, 100461.0],\n",
       " [100461.0, 102118.0],\n",
       " [102118.0, 102174.0],\n",
       " [102174.0, 103444.0],\n",
       " [103444.0, 102776.0],\n",
       " [102776.0, 104126.0],\n",
       " [104126.0, 102802.0],\n",
       " [102802.0, 101216.0],\n",
       " [101216.0, 102830.0],\n",
       " [102830.0, 102912.0],\n",
       " [102912.0, 105009.0],\n",
       " [105009.0, 105605.0],\n",
       " [105605.0, 104109.0],\n",
       " [104109.0, 104477.0],\n",
       " [104477.0, 102382.0],\n",
       " [102382.0, 102293.0],\n",
       " [102293.0, 104290.0],\n",
       " [104290.0, 104310.0],\n",
       " [104310.0, 104426.0],\n",
       " [104426.0, 102888.0],\n",
       " [102888.0, 100553.0],\n",
       " [100553.0, 101791.0],\n",
       " [101791.0, 100440.0],\n",
       " [100440.0, 98697.0],\n",
       " [98697.0, 100032.0],\n",
       " [100032.0, 99160.0],\n",
       " [99160.0, 99770.0],\n",
       " [99770.0, 97761.0],\n",
       " [97761.0, 98937.0],\n",
       " [98937.0, 96765.0],\n",
       " [96765.0, 96235.0],\n",
       " [96235.0, 96203.0],\n",
       " [96203.0, 95056.0],\n",
       " [95056.0, 95735.0],\n",
       " [95735.0, 93834.0],\n",
       " [93834.0, 95983.0],\n",
       " [95983.0, 94377.0],\n",
       " [94377.0, 95975.0],\n",
       " [95975.0, 95336.0],\n",
       " [95336.0, 96572.0],\n",
       " [96572.0, 96125.0],\n",
       " [96125.0, 95547.0],\n",
       " [95547.0, 93531.0],\n",
       " [93531.0, 92376.0],\n",
       " [92376.0, 92795.0],\n",
       " [92795.0, 94686.0],\n",
       " [94686.0, 96747.0],\n",
       " [96747.0, 97645.0],\n",
       " [97645.0, 94637.0],\n",
       " [94637.0, 93829.0],\n",
       " [93829.0, 93002.0],\n",
       " [93002.0, 91046.0],\n",
       " [91046.0, 88620.0],\n",
       " [88620.0, 87403.0],\n",
       " [87403.0, 86949.0],\n",
       " [86949.0, 87946.0],\n",
       " [87946.0, 85469.0],\n",
       " [85469.0, 85663.0],\n",
       " [85663.0, 82173.0],\n",
       " [82173.0, 83027.0],\n",
       " [83027.0, 81319.0],\n",
       " [81319.0, 80742.0],\n",
       " [80742.0, 81194.0],\n",
       " [81194.0, 77557.0],\n",
       " [77557.0, 79011.0],\n",
       " [79011.0, 77772.0],\n",
       " [77772.0, 77872.0],\n",
       " [77872.0, 79065.0],\n",
       " [79065.0, 80263.0],\n",
       " [80263.0, 78119.0],\n",
       " [78119.0, 79064.0],\n",
       " [79064.0, 79471.0],\n",
       " [79471.0, 78876.0],\n",
       " [78876.0, 80506.0],\n",
       " [80506.0, 83171.0],\n",
       " [83171.0, 81312.0],\n",
       " [81312.0, 78239.0],\n",
       " [78239.0, 75331.0],\n",
       " [75331.0, 79673.0],\n",
       " [79673.0, 80687.0],\n",
       " [80687.0, 78973.0],\n",
       " [78973.0, 78990.0],\n",
       " [78990.0, 77812.0],\n",
       " [77812.0, 78831.0]]"
      ]
     },
     "execution_count": 23,
     "metadata": {},
     "output_type": "execute_result"
    }
   ],
   "source": [
    "validX"
   ]
  },
  {
   "cell_type": "markdown",
   "metadata": {},
   "source": [
    "### Definição do modelo"
   ]
  },
  {
   "cell_type": "markdown",
   "metadata": {},
   "source": [
    "#### Test Net"
   ]
  },
  {
   "cell_type": "markdown",
   "metadata": {},
   "source": [
    "random_data = torch.rand((1, 1, 7))\n",
    "test_net = Net(window=window)\n",
    "result = test_net(random_data)\n",
    "print(result)"
   ]
  },
  {
   "cell_type": "markdown",
   "metadata": {},
   "source": [
    "### Train Net"
   ]
  },
  {
   "cell_type": "code",
   "execution_count": 11,
   "metadata": {},
   "outputs": [
    {
     "data": {
      "text/plain": [
       "<torch._C.Generator at 0x7f7975723c30>"
      ]
     },
     "execution_count": 11,
     "metadata": {},
     "output_type": "execute_result"
    }
   ],
   "source": [
    "torch.manual_seed(0)"
   ]
  },
  {
   "cell_type": "code",
   "execution_count": 12,
   "metadata": {},
   "outputs": [],
   "source": [
    "tensor_x = torch.Tensor(np.array(trainX))\n",
    "tensor_y = torch.Tensor(np.array(trainY))"
   ]
  },
  {
   "cell_type": "code",
   "execution_count": 13,
   "metadata": {},
   "outputs": [],
   "source": [
    "tensor_val_x = torch.Tensor(np.array(validX))\n",
    "tensor_val_y = torch.Tensor(np.array(validY))"
   ]
  },
  {
   "cell_type": "code",
   "execution_count": 14,
   "metadata": {},
   "outputs": [],
   "source": [
    "dataset = torch.utils.data.TensorDataset(tensor_x,tensor_y)\n",
    "dataloader = torch.utils.data.DataLoader(dataset, batch_size=10)"
   ]
  },
  {
   "cell_type": "code",
   "execution_count": 15,
   "metadata": {},
   "outputs": [],
   "source": [
    "val_dataset = torch.utils.data.TensorDataset(tensor_val_x,tensor_val_y)\n",
    "val_dataloader = torch.utils.data.DataLoader(val_dataset, batch_size=10)"
   ]
  },
  {
   "cell_type": "code",
   "execution_count": 16,
   "metadata": {},
   "outputs": [],
   "source": [
    "model = IbovModel(window=window)\n",
    "criterion = nn.MSELoss()\n",
    "optimizer = optim.Adam(model.parameters(), lr=0.001)"
   ]
  },
  {
   "cell_type": "code",
   "execution_count": 17,
   "metadata": {
    "scrolled": true
   },
   "outputs": [
    {
     "data": {
      "image/png": "[encoded data removed]",
      "text/plain": [
       "<Figure size 432x288 with 1 Axes>"
      ]
     },
     "metadata": {
      "needs_background": "light"
     },
     "output_type": "display_data"
    }
   ],
   "source": [
    "train(dataloader, val_dataloader, model, criterion, optimizer, epochs=10)"
   ]
  },
  {
   "cell_type": "code",
   "execution_count": 18,
   "metadata": {},
   "outputs": [],
   "source": [
    "import seaborn as sns"
   ]
  },
  {
   "cell_type": "code",
   "execution_count": 19,
   "metadata": {},
   "outputs": [
    {
     "data": {
      "text/html": [
       "<div>\n",
       "<style scoped>\n",
       "    .dataframe tbody tr th:only-of-type {\n",
       "        vertical-align: middle;\n",
       "    }\n",
       "\n",
       "    .dataframe tbody tr th {\n",
       "        vertical-align: top;\n",
       "    }\n",
       "\n",
       "    .dataframe thead th {\n",
       "        text-align: right;\n",
       "    }\n",
       "</style>\n",
       "<table border=\"1\" class=\"dataframe\">\n",
       "  <thead>\n",
       "    <tr style=\"text-align: right;\">\n",
       "      <th></th>\n",
       "      <th>pred</th>\n",
       "      <th>true</th>\n",
       "    </tr>\n",
       "  </thead>\n",
       "  <tbody>\n",
       "    <tr>\n",
       "      <th>0</th>\n",
       "      <td>75069.867188</td>\n",
       "      <td>78625.0</td>\n",
       "    </tr>\n",
       "    <tr>\n",
       "      <th>1</th>\n",
       "      <td>71456.781250</td>\n",
       "      <td>76358.0</td>\n",
       "    </tr>\n",
       "    <tr>\n",
       "      <th>2</th>\n",
       "      <td>71192.031250</td>\n",
       "      <td>74073.0</td>\n",
       "    </tr>\n",
       "    <tr>\n",
       "      <th>3</th>\n",
       "      <td>71550.601562</td>\n",
       "      <td>69538.0</td>\n",
       "    </tr>\n",
       "    <tr>\n",
       "      <th>4</th>\n",
       "      <td>72231.890625</td>\n",
       "      <td>72253.0</td>\n",
       "    </tr>\n",
       "  </tbody>\n",
       "</table>\n",
       "</div>"
      ],
      "text/plain": [
       "           pred     true\n",
       "0  75069.867188  78625.0\n",
       "1  71456.781250  76358.0\n",
       "2  71192.031250  74073.0\n",
       "3  71550.601562  69538.0\n",
       "4  72231.890625  72253.0"
      ]
     },
     "execution_count": 19,
     "metadata": {},
     "output_type": "execute_result"
    }
   ],
   "source": [
    "prediction = np.hstack(model(tensor_x).detach().numpy()).tolist()\n",
    "true_value = np.hstack(trainY).tolist()\n",
    "evaluation_data = pd.DataFrame(columns=[\"pred\", \"true\"])\n",
    "evaluation_data[\"pred\"] = prediction\n",
    "evaluation_data[\"true\"] = true_value\n",
    "evaluation_data.head()"
   ]
  },
  {
   "cell_type": "code",
   "execution_count": 20,
   "metadata": {},
   "outputs": [
    {
     "data": {
      "text/html": [
       "<div>\n",
       "<style scoped>\n",
       "    .dataframe tbody tr th:only-of-type {\n",
       "        vertical-align: middle;\n",
       "    }\n",
       "\n",
       "    .dataframe tbody tr th {\n",
       "        vertical-align: top;\n",
       "    }\n",
       "\n",
       "    .dataframe thead th {\n",
       "        text-align: right;\n",
       "    }\n",
       "</style>\n",
       "<table border=\"1\" class=\"dataframe\">\n",
       "  <thead>\n",
       "    <tr style=\"text-align: right;\">\n",
       "      <th></th>\n",
       "      <th>pred</th>\n",
       "      <th>true</th>\n",
       "    </tr>\n",
       "  </thead>\n",
       "  <tbody>\n",
       "    <tr>\n",
       "      <th>0</th>\n",
       "      <td>119317.031250</td>\n",
       "      <td>119306.0</td>\n",
       "    </tr>\n",
       "    <tr>\n",
       "      <th>1</th>\n",
       "      <td>118438.812500</td>\n",
       "      <td>119475.0</td>\n",
       "    </tr>\n",
       "    <tr>\n",
       "      <th>2</th>\n",
       "      <td>117058.203125</td>\n",
       "      <td>119051.0</td>\n",
       "    </tr>\n",
       "    <tr>\n",
       "      <th>3</th>\n",
       "      <td>116241.851562</td>\n",
       "      <td>117857.0</td>\n",
       "    </tr>\n",
       "    <tr>\n",
       "      <th>4</th>\n",
       "      <td>117085.617188</td>\n",
       "      <td>116348.0</td>\n",
       "    </tr>\n",
       "  </tbody>\n",
       "</table>\n",
       "</div>"
      ],
      "text/plain": [
       "            pred      true\n",
       "0  119317.031250  119306.0\n",
       "1  118438.812500  119475.0\n",
       "2  117058.203125  119051.0\n",
       "3  116241.851562  117857.0\n",
       "4  117085.617188  116348.0"
      ]
     },
     "execution_count": 20,
     "metadata": {},
     "output_type": "execute_result"
    }
   ],
   "source": [
    "prediction = np.hstack(model(tensor_val_x).detach().numpy()).tolist()\n",
    "true_value = np.hstack(validY).tolist()\n",
    "evaluation = pd.DataFrame(columns=[\"pred\", \"true\"])\n",
    "evaluation[\"pred\"] = prediction\n",
    "evaluation[\"true\"] = true_value\n",
    "evaluation.head()"
   ]
  },
  {
   "cell_type": "code",
   "execution_count": 22,
   "metadata": {},
   "outputs": [],
   "source": [
    "from sklearn.metrics import median_absolute_error, accuracy_score, confusion_matrix"
   ]
  },
  {
   "cell_type": "code",
   "execution_count": 23,
   "metadata": {},
   "outputs": [
    {
     "data": {
      "text/plain": [
       "1173.91015625"
      ]
     },
     "execution_count": 23,
     "metadata": {},
     "output_type": "execute_result"
    }
   ],
   "source": [
    "median_absolute_error(evaluation.true, evaluation.pred)"
   ]
  },
  {
   "cell_type": "code",
   "execution_count": 24,
   "metadata": {},
   "outputs": [
    {
     "data": {
      "text/plain": [
       "1322.4317064606741"
      ]
     },
     "execution_count": 24,
     "metadata": {},
     "output_type": "execute_result"
    }
   ],
   "source": [
    "np.mean(np.abs(evaluation.true - evaluation.pred))"
   ]
  },
  {
   "cell_type": "code",
   "execution_count": null,
   "metadata": {},
   "outputs": [],
   "source": []
  },
  {
   "cell_type": "markdown",
   "metadata": {},
   "source": [
    "evaluation = evaluation.append(evaluation_data)"
   ]
  },
  {
   "cell_type": "code",
   "execution_count": null,
   "metadata": {},
   "outputs": [],
   "source": []
  },
  {
   "cell_type": "code",
   "execution_count": null,
   "metadata": {},
   "outputs": [],
   "source": [
    "true = evaluation.true[:-1].reset_index(drop=True)\n",
    "pred = evaluation.true[1:].reset_index(drop=True)"
   ]
  },
  {
   "cell_type": "code",
   "execution_count": null,
   "metadata": {},
   "outputs": [],
   "source": [
    "a = pd.DataFrame(columns=[\"pred\", \"true\"])\n",
    "a[\"pred\"] = pred\n",
    "a[\"true\"] = true"
   ]
  },
  {
   "cell_type": "code",
   "execution_count": null,
   "metadata": {},
   "outputs": [],
   "source": [
    "pred"
   ]
  },
  {
   "cell_type": "code",
   "execution_count": null,
   "metadata": {},
   "outputs": [],
   "source": [
    "delta_pred = [1 if np.sign(pred[idx]-pred[idx+1]) >=0 else 0 for idx in range(pred.shape[0]-1)]\n",
    "delta_true = [1 if np.sign(true[idx]-true[idx+1]) >=0 else 0 for idx in range(true.shape[0]-1)]"
   ]
  },
  {
   "cell_type": "code",
   "execution_count": null,
   "metadata": {},
   "outputs": [],
   "source": [
    "confusion_matrix(delta_true, delta_pred)"
   ]
  },
  {
   "cell_type": "code",
   "execution_count": null,
   "metadata": {},
   "outputs": [],
   "source": [
    "confusion_matrix(delta_true, delta_pred)"
   ]
  },
  {
   "cell_type": "code",
   "execution_count": null,
   "metadata": {
    "scrolled": true
   },
   "outputs": [],
   "source": [
    "median_absolute_error(a.true, a.pred)"
   ]
  },
  {
   "cell_type": "code",
   "execution_count": null,
   "metadata": {},
   "outputs": [],
   "source": [
    "from matplotlib import pyplot"
   ]
  },
  {
   "cell_type": "code",
   "execution_count": null,
   "metadata": {},
   "outputs": [],
   "source": [
    "a4_dims = (16.5, 11.7)\n",
    "fig, ax = pyplot.subplots(figsize=a4_dims)\n",
    "sns.lineplot(ax=ax, data=a, dashes=False, markers=True)"
   ]
  }
 ],
 "metadata": {
  "kernelspec": {
   "display_name": "Python 3",
   "language": "python",
   "name": "python3"
  },
  "language_info": {
   "codemirror_mode": {
    "name": "ipython",
    "version": 3
   },
   "file_extension": ".py",
   "mimetype": "text/x-python",
   "name": "python",
   "nbconvert_exporter": "python",
   "pygments_lexer": "ipython3",
   "version": "3.8.5"
  }
 },
 "nbformat": 4,
 "nbformat_minor": 4
}
