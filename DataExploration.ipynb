{
 "cells": [
  {
   "cell_type": "markdown",
   "metadata": {},
   "source": [
    "# Ibovespa forecasting using neural networks\n",
    "\n",
    "## Machine Learning Engineer Nanodegree - Capstone Proposal"
   ]
  },
  {
   "cell_type": "markdown",
   "metadata": {},
   "source": [
    "### Import python packages"
   ]
  },
  {
   "cell_type": "code",
   "execution_count": 1,
   "metadata": {},
   "outputs": [
    {
     "ename": "ModuleNotFoundError",
     "evalue": "No module named 'ibov'",
     "output_type": "error",
     "traceback": [
      "\u001b[0;31m---------------------------------------------------------------------------\u001b[0m",
      "\u001b[0;31mModuleNotFoundError\u001b[0m                       Traceback (most recent call last)",
      "\u001b[0;32m<ipython-input-1-3894a0809716>\u001b[0m in \u001b[0;36m<module>\u001b[0;34m\u001b[0m\n\u001b[1;32m      7\u001b[0m \u001b[0;32mfrom\u001b[0m \u001b[0mtorch\u001b[0m\u001b[0;34m.\u001b[0m\u001b[0moptim\u001b[0m \u001b[0;32mimport\u001b[0m \u001b[0mAdam\u001b[0m\u001b[0;34m\u001b[0m\u001b[0;34m\u001b[0m\u001b[0m\n\u001b[1;32m      8\u001b[0m \u001b[0;34m\u001b[0m\u001b[0m\n\u001b[0;32m----> 9\u001b[0;31m \u001b[0;32mfrom\u001b[0m \u001b[0mibov\u001b[0m\u001b[0;34m.\u001b[0m\u001b[0mutils\u001b[0m \u001b[0;32mimport\u001b[0m \u001b[0mload_config\u001b[0m\u001b[0;34m\u001b[0m\u001b[0;34m\u001b[0m\u001b[0m\n\u001b[0m\u001b[1;32m     10\u001b[0m \u001b[0;32mfrom\u001b[0m \u001b[0mibov\u001b[0m\u001b[0;34m.\u001b[0m\u001b[0mmodel\u001b[0m \u001b[0;32mimport\u001b[0m \u001b[0mtrain\u001b[0m\u001b[0;34m,\u001b[0m \u001b[0mtorch_data\u001b[0m\u001b[0;34m,\u001b[0m \u001b[0mmodel_fc1h\u001b[0m\u001b[0;34m,\u001b[0m \u001b[0mmodel_fc2h\u001b[0m\u001b[0;34m,\u001b[0m \u001b[0mmodel_lstm\u001b[0m\u001b[0;34m,\u001b[0m \u001b[0mModel\u001b[0m\u001b[0;34m\u001b[0m\u001b[0;34m\u001b[0m\u001b[0m\n\u001b[1;32m     11\u001b[0m \u001b[0;32mfrom\u001b[0m \u001b[0mibov\u001b[0m\u001b[0;34m.\u001b[0m\u001b[0mfeature\u001b[0m \u001b[0;32mimport\u001b[0m \u001b[0mcreate_lags\u001b[0m\u001b[0;34m,\u001b[0m \u001b[0mconsolidate_features\u001b[0m\u001b[0;34m,\u001b[0m \u001b[0mcreate_delta_sign\u001b[0m\u001b[0;34m,\u001b[0m \u001b[0mlabel_train_test\u001b[0m\u001b[0;34m,\u001b[0m \u001b[0mNormalize\u001b[0m\u001b[0;34m\u001b[0m\u001b[0;34m\u001b[0m\u001b[0m\n",
      "\u001b[0;31mModuleNotFoundError\u001b[0m: No module named 'ibov'"
     ]
    }
   ],
   "source": [
    "import os\n",
    "import pandas as pd\n",
    "import seaborn as sns\n",
    "import matplotlib.pyplot as plt\n",
    "\n",
    "from torch.nn import L1Loss\n",
    "from torch.optim import Adam\n",
    "\n",
    "from ibov.utils import load_config\n",
    "from ibov.model import train, torch_data, model_fc1h, model_fc2h, model_lstm, Model\n",
    "from ibov.feature import create_lags, consolidate_features, create_delta_sign, label_train_test, Normalize\n",
    "from ibov.request import get_history\n",
    "from ibov.metrics import calculate_metrics, model_prediction, benchmark_model, graphical_evaluation"
   ]
  },
  {
   "cell_type": "markdown",
   "metadata": {},
   "source": [
    "### Loading Configs"
   ]
  },
  {
   "cell_type": "code",
   "execution_count": null,
   "metadata": {},
   "outputs": [],
   "source": [
    "# Load config dict\n",
    "config = load_config()"
   ]
  },
  {
   "cell_type": "code",
   "execution_count": null,
   "metadata": {},
   "outputs": [],
   "source": [
    "# Feature Engineering Configs\n",
    "window = config.get(\"feature\").get(\"window\")\n",
    "variables = config.get(\"feature\").get(\"variables\")\n",
    "test_split = config.get(\"feature\").get(\"split\").get(\"test\")\n",
    "valid_split = config.get(\"feature\").get(\"split\").get(\"valid\")\n",
    "\n",
    "# Data Configs\n",
    "data_dir = config.get(\"data\").get(\"dir\")\n",
    "ibov_ticker = config.get(\"ibov\").get(\"ticker\")\n",
    "filename = config.get(\"data\").get(\"file\")\n",
    "data_size = config.get(\"data\").get(\"size\")\n",
    "ascending = config.get(\"data\").get(\"ascending\") == 'True'\n",
    "\n",
    "# Model configurations\n",
    "dropout = config.get(\"model\").get(\"dropout\")\n",
    "hidden_layer = config.get(\"model\").get(\"hidden_layer\")\n",
    "lr = config.get(\"model\").get(\"lr\")\n",
    "seed = config.get(\"model\").get(\"seed\")\n",
    "epochs = config.get(\"model\").get(\"epochs\")"
   ]
  },
  {
   "cell_type": "markdown",
   "metadata": {},
   "source": [
    "### Data Collection"
   ]
  },
  {
   "cell_type": "code",
   "execution_count": null,
   "metadata": {},
   "outputs": [],
   "source": [
    "import pandas as pd\n",
    "from yahooquery import Ticker\n",
    "\n",
    "def get_history(ticker, data_size, ascending):\n",
    "     \n",
    "    ticker = Ticker(symbols = ticker)\n",
    "    history = ticker.history(period=\"max\")\n",
    "     \n",
    "    df = history.sort_values(by=\"date\", ascending=ascending)\n",
    "         \n",
    "    if ascending:\n",
    "        df = df.tail(data_size).reset_index(drop=False)\n",
    "    else:\n",
    "        df = df.head(data_size).reset_index(drop=False)\n",
    "          \n",
    "    return df[[\"date\", \"close\"]]  \n",
    "\n",
    "def collect_data(stocks, data_size, ascending):\n",
    "    \n",
    "    stocks_df = get_history(stocks[0], data_size, ascending)[[\"date\"]]\n",
    "    \n",
    "    for stock in stocks:\n",
    "        stock_df = get_history(stock, data_size, ascending)\n",
    "        stock_df.rename(columns={\"close\": stock[:-3]}, inplace=True)\n",
    "        stocks_df = stocks_df.merge(stock_df, how=\"inner\", on=\"date\")\n",
    "        \n",
    "    return stocks_df"
   ]
  },
  {
   "cell_type": "code",
   "execution_count": null,
   "metadata": {},
   "outputs": [],
   "source": [
    "collect_data(stocks=config[\"ibov\"][\"stocks\"], \n",
    "             data_size=config[\"data\"][\"size\"], \n",
    "             ascending=config[\"data\"][\"ascending\"])"
   ]
  },
  {
   "cell_type": "code",
   "execution_count": null,
   "metadata": {},
   "outputs": [],
   "source": []
  },
  {
   "cell_type": "code",
   "execution_count": null,
   "metadata": {},
   "outputs": [],
   "source": []
  },
  {
   "cell_type": "markdown",
   "metadata": {},
   "source": [
    "#### Capture new data"
   ]
  },
  {
   "cell_type": "code",
   "execution_count": null,
   "metadata": {},
   "outputs": [],
   "source": [
    "# Target collection\n",
    "ibovespa = get_history(ticker=ibov_ticker, data_size=data_size, ascending=ascending)\n",
    "\n",
    "# Stock Prices\n",
    "for stock in config[\"ibov\"][\"stocks\"]:    \n",
    "    df = get_history(ticker=stock, data_size=data_size, ascending=ascending)\n",
    "    df.rename(columns={\"close\": stock[:-3]},inplace=True)\n",
    "    ibovespa = ibovespa.merge(df, how=\"inner\", on=\"date\")\n",
    "    \n",
    "# Label datapoint as train or test dataset\n",
    "ibovespa = label_train_test(ibovespa, split=test_split, split_valid=valid_split, ascending=ascending)\n",
    "\n",
    "# Save data on disk\n",
    "ibovespa.to_csv(os.path.join(data_dir, filename), index=False)"
   ]
  },
  {
   "cell_type": "markdown",
   "metadata": {},
   "source": [
    "#### Read Existing data"
   ]
  },
  {
   "cell_type": "code",
   "execution_count": null,
   "metadata": {},
   "outputs": [],
   "source": [
    "# Read from disk\n",
    "ibovespa = pd.read_csv(os.path.join(data_dir, filename))"
   ]
  },
  {
   "cell_type": "markdown",
   "metadata": {},
   "source": [
    "### Data Exploration"
   ]
  },
  {
   "cell_type": "markdown",
   "metadata": {},
   "source": [
    "It is important to evaluate data and get insights only form the train dataset. Otherwise, we will have a data leakage even before any model training."
   ]
  },
  {
   "cell_type": "code",
   "execution_count": null,
   "metadata": {},
   "outputs": [],
   "source": [
    "explore_data = ibovespa[ibovespa[\"group\"]==\"train\"]\n",
    "\n",
    "# Calendar Variables\n",
    "calendar_variables = pd.get_dummies(pd.DatetimeIndex(explore_data['date']).weekday, prefix=\"weekday\")\n",
    "explore_data = pd.concat([explore_data, calendar_variables], axis = 1)\n",
    "explore_data[[\"weekday\"]] = pd.DatetimeIndex(explore_data['date']).weekday\n",
    "\n",
    "numeric_columns = ['close', 'ITUB4', 'BBDC4', 'VALE3', 'PETR4', 'PETR3', 'ABEV3', 'BBAS3', 'B3SA3', 'ITSA4']\n",
    "stocks_diff = explore_data[numeric_columns].pct_change().reset_index(drop=True)\n",
    "stocks_diff.columns = [\"diff_\" + column for column in stocks_diff.columns]\n",
    "\n",
    "complete_explore_data = pd.concat([explore_data, stocks_diff], axis=1).iloc[1:].reset_index(drop=True)\n",
    "complete_explore_data.head()"
   ]
  },
  {
   "cell_type": "markdown",
   "metadata": {},
   "source": [
    "#### Weekday Boxplots"
   ]
  },
  {
   "cell_type": "code",
   "execution_count": null,
   "metadata": {},
   "outputs": [],
   "source": [
    "f, ax = plt.subplots(figsize=(13.7, 5.5))\n",
    "sns.boxplot(y=\"weekday\", x=\"diff_close\", data=complete_explore_data, orient=\"h\", ax=ax)\n",
    "sns.swarmplot(x=\"diff_close\", y=\"weekday\", orient=\"h\", data=complete_explore_data, color=\".25\", ax=ax)\n",
    "plt.axvline(0, 0,1, ls=\"--\", color=\"gray\")"
   ]
  },
  {
   "cell_type": "code",
   "execution_count": null,
   "metadata": {},
   "outputs": [],
   "source": [
    "sns.displot(y=\"weekday\", x=\"diff_close\", data=complete_explore_data)"
   ]
  },
  {
   "cell_type": "markdown",
   "metadata": {},
   "source": [
    "#### Correlations"
   ]
  },
  {
   "cell_type": "code",
   "execution_count": null,
   "metadata": {},
   "outputs": [],
   "source": [
    "last_day_diff = complete_explore_data.iloc[:-1][['diff_ITUB4', 'diff_BBDC4', 'diff_VALE3', 'diff_PETR4', 'diff_PETR3',\n",
    "       'diff_ABEV3', 'diff_BBAS3', 'diff_B3SA3', 'diff_ITSA4']].reset_index(drop=True)\n",
    "\n",
    "today_diff_close = complete_explore_data.iloc[1:][[\"diff_close\"]].reset_index(drop=True)\n",
    "\n",
    "diff_evaluation = pd.concat([today_diff_close, last_day_diff], axis=1)"
   ]
  },
  {
   "cell_type": "code",
   "execution_count": null,
   "metadata": {},
   "outputs": [],
   "source": [
    "diff_evaluation.corr(method=\"spearman\")"
   ]
  },
  {
   "cell_type": "code",
   "execution_count": null,
   "metadata": {},
   "outputs": [],
   "source": [
    "sns.pairplot(diff_evaluation, kind='reg', plot_kws={'line_kws':{'color':'red'}, 'scatter_kws': {'alpha': 0.1}})"
   ]
  },
  {
   "cell_type": "markdown",
   "metadata": {},
   "source": [
    "### Feature Engineering"
   ]
  },
  {
   "cell_type": "code",
   "execution_count": null,
   "metadata": {},
   "outputs": [],
   "source": [
    "def feature_engineer(dados, config, mode, model=None):\n",
    "\n",
    "    # Target Normalization\n",
    "\n",
    "    scaler = Normalize()\n",
    "\n",
    "    if mode == \"train\":\n",
    "        scaler.fit(dados[dados[\"group\"]==\"train\"][[\"close\"]])\n",
    "    elif mode == \"predict\":\n",
    "        scaler.load_configs(maximo=model.maximo, minimo=model.minimo)\n",
    "    else:\n",
    "        raise Exception(\"mode does not exist\")\n",
    "\n",
    "    dados[[\"close\"]] = scaler.transform(dados[[\"close\"]])\n",
    "\n",
    "    # Feature Engineering   \n",
    "\n",
    "    ibov_lags_df = create_lags(dados, \n",
    "                               window=config[\"feature\"][\"window\"], \n",
    "                               var=\"close\", \n",
    "                               index=\"date\")\n",
    "\n",
    "    ibov_delta_sign_df = create_delta_sign(ibov_lags_df, \n",
    "                                           var=\"lags\", \n",
    "                                           index=\"date\", \n",
    "                                           window=config[\"feature\"][\"window\"])\n",
    "\n",
    "    master_table = consolidate_features(dados, \"date\", ibov_lags_df, ibov_delta_sign_df)\n",
    "\n",
    "    return master_table, scaler"
   ]
  },
  {
   "cell_type": "code",
   "execution_count": null,
   "metadata": {},
   "outputs": [],
   "source": []
  },
  {
   "cell_type": "code",
   "execution_count": null,
   "metadata": {},
   "outputs": [],
   "source": [
    "scaler = Normalize()\n",
    "scaler.fit(ibovespa[ibovespa[\"group\"]==\"train\"][[\"close\"]])\n",
    "ibovespa[[\"close\"]] = scaler.transform(ibovespa[[\"close\"]])"
   ]
  },
  {
   "cell_type": "code",
   "execution_count": null,
   "metadata": {},
   "outputs": [],
   "source": [
    "# Create lag variables\n",
    "ibov_lags_df = create_lags(ibovespa, window=window, var=\"close\", index=\"date\")"
   ]
  },
  {
   "cell_type": "code",
   "execution_count": null,
   "metadata": {},
   "outputs": [],
   "source": [
    "# Create sign variables\n",
    "ibov_delta_sign_df = create_delta_sign(ibov_lags_df, var=\"lags\", index=\"date\", window=window)"
   ]
  },
  {
   "cell_type": "code",
   "execution_count": null,
   "metadata": {},
   "outputs": [],
   "source": [
    "# Create weekdays dummies\n",
    "weekdays_df = ibovespa[['date', 'weekday_1', 'weekday_2', 'weekday_3', 'weekday_4']]"
   ]
  },
  {
   "cell_type": "code",
   "execution_count": null,
   "metadata": {},
   "outputs": [],
   "source": [
    "# Create last day stock price diff variables\n",
    "numeric_columns = ['close', 'ITUB4', 'BBDC4', 'VALE3', 'PETR4', 'PETR3', 'ABEV3', 'BBAS3', 'B3SA3', 'ITSA4']\n",
    "stocks_diff = ibovespa[numeric_columns].pct_change().reset_index(drop=True)\n",
    "diff_dates = ibovespa.iloc[2:][[\"date\"]].reset_index(drop=True)\n",
    "last_diff_df = stocks_diff.iloc[1:].iloc[:-1].reset_index(drop=True)\n",
    "last_day_stock_diff = pd.concat([diff_dates, last_diff_df], axis=1)"
   ]
  },
  {
   "cell_type": "code",
   "execution_count": null,
   "metadata": {},
   "outputs": [],
   "source": [
    "last_day_stock_diff"
   ]
  },
  {
   "cell_type": "code",
   "execution_count": null,
   "metadata": {},
   "outputs": [],
   "source": [
    "ement = create_lags(last_day_stock_diff, window=2, var=\"close\", index=\"date\")[[\"date\", \"lags\"]].rename(columns={\"lags\": \"close\"})"
   ]
  },
  {
   "cell_type": "code",
   "execution_count": null,
   "metadata": {},
   "outputs": [],
   "source": [
    "# Consolidate raw data with features\n",
    "master_table = consolidate_features(ibovespa[[\"date\", \"group\"]], \"date\", \n",
    "                                    ibov_lags_df, ibov_delta_sign_df, ement, weekdays_df)"
   ]
  },
  {
   "cell_type": "code",
   "execution_count": null,
   "metadata": {},
   "outputs": [],
   "source": [
    "def torch_data(data, target, variables, group_var, batch, group):\n",
    "    \n",
    "    if group is not None:\n",
    "        data  = data[data[group_var] == group].reset_index()\n",
    "    \n",
    "    x_tensor = torch.Tensor(data[variables].values.tolist())\n",
    "    y_tensor = torch.Tensor(data[target])\n",
    "    \n",
    "    dataset = torch.utils.data.TensorDataset(x_tensor,y_tensor)\n",
    "    loader = torch.utils.data.DataLoader(dataset, batch_size=batch)\n",
    "    \n",
    "    return loader, x_tensor, y_tensor"
   ]
  },
  {
   "cell_type": "code",
   "execution_count": null,
   "metadata": {},
   "outputs": [],
   "source": [
    "# Load data to torch standard\n",
    "train_loader, train_x_tensor, train_y_tensor = \\\n",
    "    torch_data(master_table, target=\"target\", variables=variables, group_var=\"group\", batch=50, group=\"train\")\n",
    "\n",
    "valid_loader, valid_x_tensor, valid_y_tensor = \\\n",
    "    torch_data(master_table, target=\"target\", variables=variables, group_var=\"group\", batch=50, group=\"valid\")\n",
    "\n",
    "test_loader, test_x_tensor, test_y_tensor = \\\n",
    "    torch_data(master_table, target=\"target\", variables=variables, group_var=\"group\", batch=50, group=\"test\")"
   ]
  },
  {
   "cell_type": "markdown",
   "metadata": {},
   "source": [
    "### Training step"
   ]
  },
  {
   "cell_type": "code",
   "execution_count": null,
   "metadata": {},
   "outputs": [],
   "source": [
    "from torch import nn\n",
    "import torch"
   ]
  },
  {
   "cell_type": "code",
   "execution_count": null,
   "metadata": {},
   "outputs": [],
   "source": [
    "class Model(nn.Module):\n",
    "\n",
    "    def __init__(self, input_layer, hidden_layer=50, dropout=0.25):\n",
    "\n",
    "        super(Model, self).__init__()\n",
    "        self.hidden_layer = hidden_layer\n",
    "        self.dropout = nn.Dropout(dropout)\n",
    "        self.fc1 = nn.Linear(input_layer, hidden_layer)\n",
    "        self.fc2 = nn.Linear(hidden_layer+hidden_layer, 1)\n",
    "\n",
    "        self.hidden_cell = (torch.zeros(1,1,self.hidden_layer),\n",
    "                            torch.zeros(1,1,self.hidden_layer))\n",
    "        \n",
    "        self.lstm = nn.LSTM(input_layer, hidden_layer)\n",
    "        \n",
    "    def forward(self, input):\n",
    "\n",
    "        x = input[:,0,:]\n",
    "        z = input[:,1,:]\n",
    "        x = self.fc1(x)\n",
    "        x = self.dropout(x)\n",
    "\n",
    "        lstm_out, self.hidden_cell = self.lstm(z.view(len(z),1 , -1), self.hidden_cell)\n",
    "        ds = torch.cat((x,lstm_out[:,0,:]),1)\n",
    "        output = self.fc2(ds)\n",
    "\n",
    "        return output"
   ]
  },
  {
   "cell_type": "code",
   "execution_count": null,
   "metadata": {},
   "outputs": [],
   "source": [
    "# Model definition\n",
    "model = Model(input_layer=window, hidden_layer=hidden_layer, dropout=dropout)\n",
    "criterion = L1Loss()\n",
    "optimizer = Adam(model.parameters(), lr=lr)"
   ]
  },
  {
   "cell_type": "code",
   "execution_count": null,
   "metadata": {
    "scrolled": true
   },
   "outputs": [],
   "source": [
    "# Model training\n",
    "train(model, train_loader, valid_loader, criterion, optimizer, epochs=epochs, seed=seed)"
   ]
  },
  {
   "cell_type": "markdown",
   "metadata": {},
   "source": [
    "### Evaluation"
   ]
  },
  {
   "cell_type": "code",
   "execution_count": null,
   "metadata": {},
   "outputs": [],
   "source": [
    "# Model performance on Training dataset\n",
    "train_true, train_pred = model_prediction(model, train_x_tensor, train_y_tensor)\n",
    "calculate_metrics(train_true, train_pred)"
   ]
  },
  {
   "cell_type": "code",
   "execution_count": null,
   "metadata": {},
   "outputs": [],
   "source": [
    "# Model performance on Validation dataset\n",
    "valid_true, valid_pred = model_prediction(model, valid_x_tensor, valid_y_tensor)\n",
    "calculate_metrics(valid_true, valid_pred) "
   ]
  },
  {
   "cell_type": "code",
   "execution_count": null,
   "metadata": {},
   "outputs": [],
   "source": [
    "# Model performance on Test dataset\n",
    "test_true, test_pred = model_prediction(model, test_x_tensor, test_y_tensor)\n",
    "calculate_metrics(test_true, test_pred)"
   ]
  },
  {
   "cell_type": "markdown",
   "metadata": {},
   "source": [
    "### Benchmark Model"
   ]
  },
  {
   "cell_type": "code",
   "execution_count": null,
   "metadata": {},
   "outputs": [],
   "source": [
    "# Set and Evaludate Benchmark Model\n",
    "bmk_true, bmk_pred = benchmark_model(test_y_tensor, valid_y_tensor)\n",
    "calculate_metrics(bmk_true, bmk_pred)"
   ]
  },
  {
   "cell_type": "markdown",
   "metadata": {},
   "source": [
    "### Graphical Evaluation"
   ]
  },
  {
   "cell_type": "markdown",
   "metadata": {},
   "source": [
    "#### Test dataset and benchmark model"
   ]
  },
  {
   "cell_type": "code",
   "execution_count": null,
   "metadata": {
    "scrolled": false
   },
   "outputs": [],
   "source": [
    "# Evaluate test dataset graphically\n",
    "graphical_evaluation(test_true, test_pred, bmk_true, bmk_pred)"
   ]
  },
  {
   "cell_type": "markdown",
   "metadata": {},
   "source": [
    "#### Train and validation datasets"
   ]
  },
  {
   "cell_type": "code",
   "execution_count": null,
   "metadata": {},
   "outputs": [],
   "source": [
    "# Evaluate train and validation dataset graphically\n",
    "graphical_evaluation(train_true, train_pred, valid_true, valid_pred)"
   ]
  }
 ],
 "metadata": {
  "kernelspec": {
   "display_name": "Python 3",
   "language": "python",
   "name": "python3"
  },
  "language_info": {
   "codemirror_mode": {
    "name": "ipython",
    "version": 3
   },
   "file_extension": ".py",
   "mimetype": "text/x-python",
   "name": "python",
   "nbconvert_exporter": "python",
   "pygments_lexer": "ipython3",
   "version": "3.8.5"
  }
 },
 "nbformat": 4,
 "nbformat_minor": 4
}
