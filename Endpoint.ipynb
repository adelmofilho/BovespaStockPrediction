{
 "cells": [
  {
   "cell_type": "code",
   "execution_count": 98,
   "metadata": {},
   "outputs": [],
   "source": [
    "import boto3\n",
    "from datetime import datetime"
   ]
  },
  {
   "cell_type": "code",
   "execution_count": 99,
   "metadata": {},
   "outputs": [],
   "source": [
    "training_job_name = 'sagemaker-pytorch-2021-01-17-02-36-21-851'"
   ]
  },
  {
   "cell_type": "code",
   "execution_count": 100,
   "metadata": {},
   "outputs": [],
   "source": [
    "client = boto3.client(\"sagemaker\")"
   ]
  },
  {
   "cell_type": "code",
   "execution_count": 101,
   "metadata": {},
   "outputs": [],
   "source": [
    "role = 'arn:aws:iam::977053370764:role/service-role/AmazonSageMaker-ExecutionRole-20201202T141643'"
   ]
  },
  {
   "cell_type": "code",
   "execution_count": 102,
   "metadata": {},
   "outputs": [],
   "source": [
    "training_job = client.describe_training_job(TrainingJobName=training_job_name)"
   ]
  },
  {
   "cell_type": "code",
   "execution_count": 103,
   "metadata": {},
   "outputs": [
    {
     "data": {
      "text/plain": [
       "{'TrainingJobName': 'sagemaker-pytorch-2021-01-17-02-36-21-851',\n",
       " 'TrainingJobArn': 'arn:aws:sagemaker:us-east-1:977053370764:training-job/sagemaker-pytorch-2021-01-17-02-36-21-851',\n",
       " 'ModelArtifacts': {'S3ModelArtifacts': 's3://sagemaker-us-east-1-977053370764/sagemaker-pytorch-2021-01-17-02-36-21-851/output/model.tar.gz'},\n",
       " 'TrainingJobStatus': 'Completed',\n",
       " 'SecondaryStatus': 'Completed',\n",
       " 'HyperParameters': {'batch-size': '50',\n",
       "  'dropout': '0.25',\n",
       "  'epochs': '25',\n",
       "  'hidden-layer': '50',\n",
       "  'input-layer': '7',\n",
       "  'sagemaker_container_log_level': '20',\n",
       "  'sagemaker_job_name': '\"sagemaker-pytorch-2021-01-17-02-36-21-851\"',\n",
       "  'sagemaker_program': '\"train.py\"',\n",
       "  'sagemaker_region': '\"us-east-1\"',\n",
       "  'sagemaker_submit_directory': '\"s3://sagemaker-us-east-1-977053370764/sagemaker-pytorch-2021-01-17-02-36-21-851/source/sourcedir.tar.gz\"',\n",
       "  'seed': '1903'},\n",
       " 'AlgorithmSpecification': {'TrainingImage': '520713654638.dkr.ecr.us-east-1.amazonaws.com/sagemaker-pytorch:0.4.0-gpu-py3',\n",
       "  'TrainingInputMode': 'File',\n",
       "  'EnableSageMakerMetricsTimeSeries': False},\n",
       " 'RoleArn': 'arn:aws:iam::977053370764:role/service-role/AmazonSageMaker-ExecutionRole-20201202T141643',\n",
       " 'InputDataConfig': [{'ChannelName': 'train',\n",
       "   'DataSource': {'S3DataSource': {'S3DataType': 'S3Prefix',\n",
       "     'S3Uri': 's3://sagemaker-us-east-1-977053370764/sagemaker/ibovespa',\n",
       "     'S3DataDistributionType': 'FullyReplicated'}},\n",
       "   'CompressionType': 'None',\n",
       "   'RecordWrapperType': 'None'},\n",
       "  {'ChannelName': 'config',\n",
       "   'DataSource': {'S3DataSource': {'S3DataType': 'S3Prefix',\n",
       "     'S3Uri': 's3://sagemaker-us-east-1-977053370764/sagemaker/ibovespa/config.json',\n",
       "     'S3DataDistributionType': 'FullyReplicated'}},\n",
       "   'CompressionType': 'None',\n",
       "   'RecordWrapperType': 'None'}],\n",
       " 'OutputDataConfig': {'KmsKeyId': '',\n",
       "  'S3OutputPath': 's3://sagemaker-us-east-1-977053370764/'},\n",
       " 'ResourceConfig': {'InstanceType': 'ml.p2.xlarge',\n",
       "  'InstanceCount': 1,\n",
       "  'VolumeSizeInGB': 30},\n",
       " 'StoppingCondition': {'MaxRuntimeInSeconds': 86400},\n",
       " 'CreationTime': datetime.datetime(2021, 1, 16, 23, 36, 26, 117000, tzinfo=tzlocal()),\n",
       " 'TrainingStartTime': datetime.datetime(2021, 1, 16, 23, 39, 37, 897000, tzinfo=tzlocal()),\n",
       " 'TrainingEndTime': datetime.datetime(2021, 1, 16, 23, 42, 26, 873000, tzinfo=tzlocal()),\n",
       " 'LastModifiedTime': datetime.datetime(2021, 1, 16, 23, 42, 53, 643000, tzinfo=tzlocal()),\n",
       " 'SecondaryStatusTransitions': [{'Status': 'Starting',\n",
       "   'StartTime': datetime.datetime(2021, 1, 16, 23, 36, 26, 117000, tzinfo=tzlocal()),\n",
       "   'EndTime': datetime.datetime(2021, 1, 16, 23, 39, 37, 897000, tzinfo=tzlocal()),\n",
       "   'StatusMessage': 'Preparing the instances for training'},\n",
       "  {'Status': 'Downloading',\n",
       "   'StartTime': datetime.datetime(2021, 1, 16, 23, 39, 37, 897000, tzinfo=tzlocal()),\n",
       "   'EndTime': datetime.datetime(2021, 1, 16, 23, 39, 50, 596000, tzinfo=tzlocal()),\n",
       "   'StatusMessage': 'Downloading input data'},\n",
       "  {'Status': 'Training',\n",
       "   'StartTime': datetime.datetime(2021, 1, 16, 23, 39, 50, 596000, tzinfo=tzlocal()),\n",
       "   'EndTime': datetime.datetime(2021, 1, 16, 23, 42, 19, 383000, tzinfo=tzlocal()),\n",
       "   'StatusMessage': 'Training image download completed. Training in progress.'},\n",
       "  {'Status': 'Uploading',\n",
       "   'StartTime': datetime.datetime(2021, 1, 16, 23, 42, 19, 383000, tzinfo=tzlocal()),\n",
       "   'EndTime': datetime.datetime(2021, 1, 16, 23, 42, 26, 873000, tzinfo=tzlocal()),\n",
       "   'StatusMessage': 'Uploading generated training model'},\n",
       "  {'Status': 'Completed',\n",
       "   'StartTime': datetime.datetime(2021, 1, 16, 23, 42, 26, 873000, tzinfo=tzlocal()),\n",
       "   'EndTime': datetime.datetime(2021, 1, 16, 23, 42, 26, 873000, tzinfo=tzlocal()),\n",
       "   'StatusMessage': 'Training job completed'}],\n",
       " 'EnableNetworkIsolation': False,\n",
       " 'EnableInterContainerTrafficEncryption': False,\n",
       " 'EnableManagedSpotTraining': False,\n",
       " 'TrainingTimeInSeconds': 169,\n",
       " 'BillableTimeInSeconds': 169,\n",
       " 'DebugHookConfig': {'S3OutputPath': 's3://sagemaker-us-east-1-977053370764/',\n",
       "  'CollectionConfigurations': []},\n",
       " 'ProfilerConfig': {'S3OutputPath': 's3://sagemaker-us-east-1-977053370764/',\n",
       "  'ProfilingIntervalInMilliseconds': 500},\n",
       " 'ProfilerRuleConfigurations': [{'RuleConfigurationName': 'ProfilerReport-1610850984',\n",
       "   'RuleEvaluatorImage': '503895931360.dkr.ecr.us-east-1.amazonaws.com/sagemaker-debugger-rules:latest',\n",
       "   'VolumeSizeInGB': 0,\n",
       "   'RuleParameters': {'rule_to_invoke': 'ProfilerReport'}}],\n",
       " 'ProfilerRuleEvaluationStatuses': [{'RuleConfigurationName': 'ProfilerReport-1610850984',\n",
       "   'RuleEvaluationJobArn': 'arn:aws:sagemaker:us-east-1:977053370764:processing-job/sagemaker-pytorch-2021-01--profilerreport-1610850984-8574b4b2',\n",
       "   'RuleEvaluationStatus': 'NoIssuesFound',\n",
       "   'LastModifiedTime': datetime.datetime(2021, 1, 16, 23, 42, 53, 639000, tzinfo=tzlocal())}],\n",
       " 'ProfilingStatus': 'Enabled',\n",
       " 'ResponseMetadata': {'RequestId': '3211bcfa-04a1-4f7b-bedc-f256cdc4bf80',\n",
       "  'HTTPStatusCode': 200,\n",
       "  'HTTPHeaders': {'x-amzn-requestid': '3211bcfa-04a1-4f7b-bedc-f256cdc4bf80',\n",
       "   'content-type': 'application/x-amz-json-1.1',\n",
       "   'content-length': '3902',\n",
       "   'date': 'Sun, 17 Jan 2021 02:44:00 GMT'},\n",
       "  'RetryAttempts': 0}}"
      ]
     },
     "execution_count": 103,
     "metadata": {},
     "output_type": "execute_result"
    }
   ],
   "source": [
    "training_job"
   ]
  },
  {
   "cell_type": "code",
   "execution_count": 104,
   "metadata": {},
   "outputs": [
    {
     "data": {
      "text/plain": [
       "'s3://sagemaker-us-east-1-977053370764/sagemaker-pytorch-2021-01-17-02-36-21-851/source/sourcedir.tar.gz'"
      ]
     },
     "execution_count": 104,
     "metadata": {},
     "output_type": "execute_result"
    }
   ],
   "source": [
    "training_job[\"HyperParameters\"][\"sagemaker_submit_directory\"].replace(\"\\\"\", \"\")"
   ]
  },
  {
   "cell_type": "code",
   "execution_count": 105,
   "metadata": {},
   "outputs": [
    {
     "data": {
      "text/plain": [
       "'s3://sagemaker-us-east-1-977053370764/sagemaker-pytorch-2021-01-17-02-36-21-851/output/model.tar.gz'"
      ]
     },
     "execution_count": 105,
     "metadata": {},
     "output_type": "execute_result"
    }
   ],
   "source": [
    "training_job[\"ModelArtifacts\"][\"S3ModelArtifacts\"]"
   ]
  },
  {
   "cell_type": "code",
   "execution_count": 106,
   "metadata": {},
   "outputs": [],
   "source": [
    "model_creation = client.create_model(\n",
    "    ModelName=training_job_name,\n",
    "    PrimaryContainer={\n",
    "        'ContainerHostname': training_job_name,\n",
    "        'Image': training_job[\"AlgorithmSpecification\"][\"TrainingImage\"],\n",
    "        'ImageConfig': {\n",
    "            'RepositoryAccessMode': 'Platform'\n",
    "        },\n",
    "        'Mode': 'SingleModel',\n",
    "        'ModelDataUrl': training_job[\"ModelArtifacts\"][\"S3ModelArtifacts\"],\n",
    "        'Environment': {\n",
    "              \"SAGEMAKER_PROGRAM\": \"train.py\",\n",
    "              'SAGEMAKER_SUBMIT_DIRECTORY': training_job[\"HyperParameters\"][\"sagemaker_submit_directory\"].replace(\"\\\"\", \"\")\n",
    "          },\n",
    "    },\n",
    "    ExecutionRoleArn=role)"
   ]
  },
  {
   "cell_type": "code",
   "execution_count": 107,
   "metadata": {},
   "outputs": [],
   "source": [
    "config_creation = client.create_endpoint_config(\n",
    "    EndpointConfigName=training_job_name,\n",
    "    ProductionVariants=[\n",
    "        {\n",
    "            'VariantName': training_job_name,\n",
    "            'ModelName': training_job_name,\n",
    "            'InitialInstanceCount': 1,\n",
    "            'InstanceType': 'ml.t2.medium'\n",
    "        },\n",
    "    ]\n",
    ")"
   ]
  },
  {
   "cell_type": "code",
   "execution_count": 108,
   "metadata": {},
   "outputs": [],
   "source": [
    "endpoint_creation = client.create_endpoint(\n",
    "    EndpointName=training_job_name,\n",
    "    EndpointConfigName=training_job_name\n",
    ")"
   ]
  },
  {
   "cell_type": "code",
   "execution_count": 109,
   "metadata": {},
   "outputs": [],
   "source": [
    "import os\n",
    "import io\n",
    "import pandas as pd"
   ]
  },
  {
   "cell_type": "code",
   "execution_count": 110,
   "metadata": {},
   "outputs": [],
   "source": [
    "ibovespa = pd.read_csv(os.path.join(\"data\", \"data.csv\"))"
   ]
  },
  {
   "cell_type": "code",
   "execution_count": 111,
   "metadata": {},
   "outputs": [],
   "source": [
    "with open(os.path.join(\"data\", \"data.csv\")) as f:\n",
    "    dados = f.read().encode(\"utf-8\")"
   ]
  },
  {
   "cell_type": "code",
   "execution_count": 112,
   "metadata": {},
   "outputs": [],
   "source": [
    "runtime = boto3.client(\"sagemaker-runtime\")"
   ]
  },
  {
   "cell_type": "code",
   "execution_count": 114,
   "metadata": {},
   "outputs": [],
   "source": [
    "response = runtime.invoke_endpoint(EndpointName='sagemaker-pytorch-2021-01-17-02-36-21-851',\n",
    "                       Body=dados,\n",
    "                       ContentType='text/csv',\n",
    "                       Accept='Accept')"
   ]
  },
  {
   "cell_type": "code",
   "execution_count": 117,
   "metadata": {},
   "outputs": [
    {
     "data": {
      "text/plain": [
       "'[0.10484547168016434, 0.2182859480381012, 0.3236715495586395, 0.4115184545516968, 0.4766795337200165, 0.5254829525947571, 0.5601202249526978, 0.5821685791015625, 0.5982837080955505, 0.6081803441047668, 0.6124605536460876, 0.6142750978469849, 0.6132918000221252, 0.607500433921814, 0.6003987193107605, 0.5944706797599792, 0.5902760624885559, 0.5876886248588562, 0.5857018232345581, 0.58204185962677, 0.5782886147499084, 0.5774833559989929, 0.5808299779891968, 0.5858021378517151, 0.5915355682373047, 0.5967764854431152, 0.6023174524307251, 0.6091407537460327, 0.6158046722412109, 0.6216511726379395, 0.6281389594078064, 0.6340134143829346, 0.6387987732887268, 0.6433814764022827, 0.6474251747131348, 0.6501380205154419, 0.6528744101524353, 0.6562739610671997, 0.6589218378067017, 0.6605839729309082, 0.6614805459976196, 0.6599161028862, 0.6578516960144043, 0.6577481627464294, 0.6554138660430908, 0.6506258249282837, 0.6461991667747498, 0.6417202353477478, 0.6382236480712891, 0.6362022161483765, 0.6340805888175964, 0.633698046207428, 0.6350117921829224, 0.6374396085739136, 0.6421961188316345, 0.6489986181259155, 0.6557441353797913, 0.6614699363708496, 0.6669684648513794, 0.6730679273605347, 0.6787928342819214, 0.6844871044158936, 0.6894673705101013, 0.6934728026390076, 0.6980454921722412, 0.7016372680664062, 0.7045759558677673, 0.7077779173851013, 0.7098200917243958, 0.710913896560669, 0.7122319340705872, 0.7118384838104248, 0.7119228839874268, 0.7118070721626282, 0.7101792693138123, 0.7088793516159058, 0.7086637616157532, 0.707497775554657, 0.7055259943008423, 0.7043283581733704, 0.7047613859176636, 0.7057303190231323, 0.707689642906189, 0.7097518444061279, 0.7118909358978271, 0.7147418856620789, 0.7177327275276184, 0.7209666967391968, 0.7239572405815125, 0.727322518825531, 0.7316389083862305, 0.7362642288208008, 0.7397944927215576, 0.743146538734436, 0.7474657297134399, 0.7520575523376465, 0.756259560585022, 0.7606102228164673, 0.7655524611473083, 0.7700309753417969, 0.7738885879516602, 0.7792887091636658, 0.78443843126297, 0.7876726388931274, 0.7909896969795227, 0.7938054203987122, 0.7957602739334106, 0.7975364327430725, 0.7998123168945312, 0.8017750382423401, 0.8020855188369751, 0.8021202087402344, 0.8033106327056885, 0.8046659231185913, 0.8049558401107788, 0.8058745861053467, 0.8078736662864685, 0.8087971210479736, 0.8078832626342773, 0.8080019950866699, 0.8086402416229248, 0.8080446124076843, 0.8072978854179382, 0.8061239123344421, 0.8049894571304321, 0.803669810295105, 0.8020070195198059, 0.7994284629821777, 0.7963758707046509, 0.7951348423957825, 0.7957891821861267, 0.795291543006897, 0.7936743497848511, 0.7925384640693665, 0.791763961315155, 0.7920034527778625, 0.7924896478652954, 0.7914921045303345, 0.7855470776557922, 0.7784935235977173, 0.7765200138092041, 0.7724465131759644, 0.7668699622154236, 0.7575847506523132, 0.741192638874054, 0.7174376845359802, 0.695709764957428, 0.6746314764022827, 0.634131133556366, 0.5937479734420776, 0.5426735281944275, 0.47688090801239014, 0.41021615266799927, 0.33556821942329407, 0.2767133116722107, 0.21931806206703186, 0.18153049051761627, 0.15986008942127228, 0.14881886541843414, 0.1391652524471283, 0.13332124054431915, 0.1364949345588684, 0.14140184223651886, 0.1488681584596634, 0.15227006375789642, 0.1562795341014862, 0.1626737266778946, 0.167504221200943, 0.1715013086795807, 0.17483650147914886, 0.18335726857185364, 0.19238495826721191, 0.20057882368564606, 0.2089006006717682, 0.21731328964233398, 0.22525696456432343, 0.23103994131088257, 0.22969429194927216, 0.22941854596138, 0.23493511974811554, 0.24153104424476624, 0.24374084174633026, 0.24067524075508118, 0.24077582359313965, 0.24333876371383667, 0.24526558816432953, 0.24707551300525665, 0.24731692671775818, 0.24396492540836334, 0.2405206263065338, 0.23863182961940765, 0.23689347505569458, 0.23684880137443542, 0.23859357833862305, 0.23881538212299347, 0.24258948862552643, 0.24636037647724152, 0.2543296813964844, 0.2645398676395416, 0.2754913568496704, 0.2875179946422577, 0.29771268367767334, 0.3110847473144531, 0.3262399733066559, 0.3437986671924591, 0.3601844608783722, 0.3760567903518677, 0.39435648918151855, 0.4134119153022766, 0.42890921235084534, 0.4421209990978241, 0.45380285382270813, 0.465711772441864, 0.47697553038597107, 0.4853765666484833, 0.48990392684936523, 0.49162203073501587, 0.49308881163597107, 0.49531835317611694, 0.4984254240989685, 0.5014818906784058, 0.5030562877655029, 0.5055221915245056, 0.5061154365539551, 0.5078697204589844, 0.5086327195167542, 0.5122632384300232, 0.5157234072685242, 0.5202391147613525, 0.5264795422554016, 0.5325771570205688, 0.5393109917640686, 0.546198308467865, 0.5557863712310791, 0.5631055235862732, 0.5709272623062134, 0.5806048512458801, 0.5892912149429321, 0.5974993109703064, 0.6043874621391296, 0.6105363368988037, 0.6189871430397034, 0.627198338508606, 0.6341518759727478, 0.6399717926979065, 0.642196774482727, 0.6437508463859558, 0.6450911164283752, 0.6466411352157593, 0.6495576500892639, 0.6498860120773315, 0.6485626101493835, 0.6465404629707336, 0.6437414288520813, 0.641045093536377, 0.6386693716049194, 0.6359927654266357, 0.6331628561019897, 0.6309520602226257, 0.6267388463020325, 0.6238014101982117, 0.6210508346557617, 0.6195690631866455, 0.617215096950531, 0.6153865456581116, 0.6155951619148254, 0.6146566271781921, 0.6140636801719666, 0.6154643893241882, 0.6137765645980835, 0.6127198934555054, 0.6114284992218018, 0.6106574535369873, 0.6092994213104248, 0.605994701385498, 0.6047665476799011, 0.6035878658294678, 0.6009931564331055, 0.5981934666633606, 0.594376802444458, 0.5889727473258972, 0.5850152373313904, 0.5806179642677307, 0.575937032699585, 0.5717600584030151, 0.5640570521354675, 0.5542972087860107, 0.5458788275718689, 0.5395005941390991, 0.5321463942527771, 0.5255968570709229, 0.520430862903595, 0.5146526098251343, 0.5131412148475647, 0.5135475397109985, 0.515036404132843, 0.5192217826843262, 0.5240157246589661, 0.5289363861083984, 0.5345736145973206, 0.5425803661346436, 0.5508131980895996, 0.5586640238761902, 0.5659024715423584, 0.571343719959259, 0.5761758089065552, 0.5771551132202148, 0.5777525305747986, 0.5773792266845703, 0.574237048625946, 0.572563886642456, 0.5701442360877991, 0.5670887231826782, 0.5651569962501526, 0.5682687163352966, 0.572700560092926, 0.5783862471580505, 0.5876837372779846, 0.6017354130744934, 0.6156959533691406, 0.6279717087745667, 0.637873113155365, 0.6474012732505798, 0.6581604480743408, 0.6693852543830872, 0.6788831353187561, 0.6875997185707092, 0.6945058703422546, 0.7020629644393921, 0.7110905647277832, 0.7190352082252502, 0.7267066836357117, 0.7331500053405762, 0.7386313080787659, 0.743513822555542, 0.7495197057723999, 0.7560837864875793, 0.7611018419265747, 0.7660607695579529, 0.7716190814971924, 0.7765863537788391, 0.7807297110557556, 0.7840629816055298, 0.7870534658432007, 0.7911868095397949, 0.7958176732063293, 0.7998529076576233, 0.8028146028518677, 0.8046054244041443, 0.8064055442810059, 0.8090773820877075, 0.8126307725906372, 0.8174216151237488, 0.8205440640449524, 0.8226116895675659, 0.8248741626739502, 0.827140212059021, 0.8292076587677002]'"
      ]
     },
     "execution_count": 117,
     "metadata": {},
     "output_type": "execute_result"
    }
   ],
   "source": [
    "response[\"Body\"].read().decode(\"utf-8\")"
   ]
  },
  {
   "cell_type": "code",
   "execution_count": null,
   "metadata": {},
   "outputs": [],
   "source": []
  }
 ],
 "metadata": {
  "kernelspec": {
   "display_name": "Python 3",
   "language": "python",
   "name": "python3"
  },
  "language_info": {
   "codemirror_mode": {
    "name": "ipython",
    "version": 3
   },
   "file_extension": ".py",
   "mimetype": "text/x-python",
   "name": "python",
   "nbconvert_exporter": "python",
   "pygments_lexer": "ipython3",
   "version": "3.8.5"
  }
 },
 "nbformat": 4,
 "nbformat_minor": 4
}
