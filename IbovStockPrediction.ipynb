{
 "cells": [
  {
   "cell_type": "markdown",
   "metadata": {},
   "source": [
    "### Import python packages"
   ]
  },
  {
   "cell_type": "code",
   "execution_count": 1,
   "metadata": {},
   "outputs": [],
   "source": [
    "import numpy as np\n",
    "import pandas as pd\n",
    "from tqdm import tqdm\n",
    "\n",
    "from yahooquery import Ticker\n",
    "\n",
    "import torch\n",
    "import torch.utils.data\n",
    "from torch import optim\n",
    "from torch import nn\n",
    "from torch.autograd import Variable"
   ]
  },
  {
   "cell_type": "code",
   "execution_count": 2,
   "metadata": {},
   "outputs": [],
   "source": [
    "from ibov.utils import load_config\n",
    "from ibov.feature import create_lags\n",
    "from ibov.training import IbovModel, train"
   ]
  },
  {
   "cell_type": "markdown",
   "metadata": {},
   "source": [
    "### Load Data"
   ]
  },
  {
   "cell_type": "code",
   "execution_count": 3,
   "metadata": {},
   "outputs": [],
   "source": [
    "config = load_config()"
   ]
  },
  {
   "cell_type": "code",
   "execution_count": 4,
   "metadata": {},
   "outputs": [],
   "source": [
    "data_root_dir = config[\"data\"][\"root\"]"
   ]
  },
  {
   "cell_type": "code",
   "execution_count": 5,
   "metadata": {},
   "outputs": [],
   "source": [
    "ibov = Ticker(symbols = config[\"ibovespa\"][\"ticker\"])\n",
    "ibov_data = ibov.history(period=\"max\")\n",
    "ibov_data.to_csv(f\"{data_root_dir}/ibovespa.csv\")"
   ]
  },
  {
   "cell_type": "markdown",
   "metadata": {},
   "source": [
    "### Geração dos conjuntos de dados de treino"
   ]
  },
  {
   "cell_type": "code",
   "execution_count": 6,
   "metadata": {},
   "outputs": [],
   "source": [
    "dados_ibov = pd.read_csv(f\"{data_root_dir}/ibovespa.csv\")"
   ]
  },
  {
   "cell_type": "code",
   "execution_count": 7,
   "metadata": {},
   "outputs": [
    {
     "data": {
      "text/html": [
       "<div>\n",
       "<style scoped>\n",
       "    .dataframe tbody tr th:only-of-type {\n",
       "        vertical-align: middle;\n",
       "    }\n",
       "\n",
       "    .dataframe tbody tr th {\n",
       "        vertical-align: top;\n",
       "    }\n",
       "\n",
       "    .dataframe thead th {\n",
       "        text-align: right;\n",
       "    }\n",
       "</style>\n",
       "<table border=\"1\" class=\"dataframe\">\n",
       "  <thead>\n",
       "    <tr style=\"text-align: right;\">\n",
       "      <th></th>\n",
       "      <th>symbol</th>\n",
       "      <th>date</th>\n",
       "      <th>open</th>\n",
       "      <th>close</th>\n",
       "      <th>low</th>\n",
       "      <th>high</th>\n",
       "      <th>volume</th>\n",
       "      <th>adjclose</th>\n",
       "    </tr>\n",
       "  </thead>\n",
       "  <tbody>\n",
       "    <tr>\n",
       "      <th>0</th>\n",
       "      <td>^BVSP</td>\n",
       "      <td>2020-04-08</td>\n",
       "      <td>76335.0</td>\n",
       "      <td>78625.0</td>\n",
       "      <td>76115.0</td>\n",
       "      <td>79058.0</td>\n",
       "      <td>10206300.0</td>\n",
       "      <td>78625.0</td>\n",
       "    </tr>\n",
       "    <tr>\n",
       "      <th>1</th>\n",
       "      <td>^BVSP</td>\n",
       "      <td>2020-04-07</td>\n",
       "      <td>74078.0</td>\n",
       "      <td>76358.0</td>\n",
       "      <td>74078.0</td>\n",
       "      <td>79855.0</td>\n",
       "      <td>11286500.0</td>\n",
       "      <td>76358.0</td>\n",
       "    </tr>\n",
       "    <tr>\n",
       "      <th>2</th>\n",
       "      <td>^BVSP</td>\n",
       "      <td>2020-04-06</td>\n",
       "      <td>69556.0</td>\n",
       "      <td>74073.0</td>\n",
       "      <td>69556.0</td>\n",
       "      <td>75260.0</td>\n",
       "      <td>9685400.0</td>\n",
       "      <td>74073.0</td>\n",
       "    </tr>\n",
       "    <tr>\n",
       "      <th>3</th>\n",
       "      <td>^BVSP</td>\n",
       "      <td>2020-04-03</td>\n",
       "      <td>72241.0</td>\n",
       "      <td>69538.0</td>\n",
       "      <td>67802.0</td>\n",
       "      <td>72241.0</td>\n",
       "      <td>10411300.0</td>\n",
       "      <td>69538.0</td>\n",
       "    </tr>\n",
       "    <tr>\n",
       "      <th>4</th>\n",
       "      <td>^BVSP</td>\n",
       "      <td>2020-04-02</td>\n",
       "      <td>70969.0</td>\n",
       "      <td>72253.0</td>\n",
       "      <td>70957.0</td>\n",
       "      <td>73861.0</td>\n",
       "      <td>10540200.0</td>\n",
       "      <td>72253.0</td>\n",
       "    </tr>\n",
       "  </tbody>\n",
       "</table>\n",
       "</div>"
      ],
      "text/plain": [
       "  symbol        date     open    close      low     high      volume  adjclose\n",
       "0  ^BVSP  2020-04-08  76335.0  78625.0  76115.0  79058.0  10206300.0   78625.0\n",
       "1  ^BVSP  2020-04-07  74078.0  76358.0  74078.0  79855.0  11286500.0   76358.0\n",
       "2  ^BVSP  2020-04-06  69556.0  74073.0  69556.0  75260.0   9685400.0   74073.0\n",
       "3  ^BVSP  2020-04-03  72241.0  69538.0  67802.0  72241.0  10411300.0   69538.0\n",
       "4  ^BVSP  2020-04-02  70969.0  72253.0  70957.0  73861.0  10540200.0   72253.0"
      ]
     },
     "execution_count": 7,
     "metadata": {},
     "output_type": "execute_result"
    }
   ],
   "source": [
    "dados_ibov_train = dados_ibov.sort_values(by=\"date\", ascending=False)[180:360].reset_index(drop=\"True\")\n",
    "dados_ibov_train.head()"
   ]
  },
  {
   "cell_type": "code",
   "execution_count": 8,
   "metadata": {
    "scrolled": true
   },
   "outputs": [
    {
     "data": {
      "text/html": [
       "<div>\n",
       "<style scoped>\n",
       "    .dataframe tbody tr th:only-of-type {\n",
       "        vertical-align: middle;\n",
       "    }\n",
       "\n",
       "    .dataframe tbody tr th {\n",
       "        vertical-align: top;\n",
       "    }\n",
       "\n",
       "    .dataframe thead th {\n",
       "        text-align: right;\n",
       "    }\n",
       "</style>\n",
       "<table border=\"1\" class=\"dataframe\">\n",
       "  <thead>\n",
       "    <tr style=\"text-align: right;\">\n",
       "      <th></th>\n",
       "      <th>symbol</th>\n",
       "      <th>date</th>\n",
       "      <th>open</th>\n",
       "      <th>close</th>\n",
       "      <th>low</th>\n",
       "      <th>high</th>\n",
       "      <th>volume</th>\n",
       "      <th>adjclose</th>\n",
       "    </tr>\n",
       "  </thead>\n",
       "  <tbody>\n",
       "    <tr>\n",
       "      <th>0</th>\n",
       "      <td>^BVSP</td>\n",
       "      <td>2020-12-30</td>\n",
       "      <td>119410.0</td>\n",
       "      <td>119306.0</td>\n",
       "      <td>118919.0</td>\n",
       "      <td>120150.0</td>\n",
       "      <td>8235700.0</td>\n",
       "      <td>119306.0</td>\n",
       "    </tr>\n",
       "    <tr>\n",
       "      <th>1</th>\n",
       "      <td>^BVSP</td>\n",
       "      <td>2020-12-29</td>\n",
       "      <td>119130.0</td>\n",
       "      <td>119475.0</td>\n",
       "      <td>118750.0</td>\n",
       "      <td>119861.0</td>\n",
       "      <td>6769700.0</td>\n",
       "      <td>119475.0</td>\n",
       "    </tr>\n",
       "    <tr>\n",
       "      <th>2</th>\n",
       "      <td>^BVSP</td>\n",
       "      <td>2020-12-28</td>\n",
       "      <td>117806.0</td>\n",
       "      <td>119051.0</td>\n",
       "      <td>117805.0</td>\n",
       "      <td>119213.0</td>\n",
       "      <td>7171700.0</td>\n",
       "      <td>119051.0</td>\n",
       "    </tr>\n",
       "    <tr>\n",
       "      <th>3</th>\n",
       "      <td>^BVSP</td>\n",
       "      <td>2020-12-23</td>\n",
       "      <td>116636.0</td>\n",
       "      <td>117857.0</td>\n",
       "      <td>116636.0</td>\n",
       "      <td>118311.0</td>\n",
       "      <td>6483300.0</td>\n",
       "      <td>117857.0</td>\n",
       "    </tr>\n",
       "    <tr>\n",
       "      <th>4</th>\n",
       "      <td>^BVSP</td>\n",
       "      <td>2020-12-22</td>\n",
       "      <td>115825.0</td>\n",
       "      <td>116348.0</td>\n",
       "      <td>115648.0</td>\n",
       "      <td>116903.0</td>\n",
       "      <td>6947900.0</td>\n",
       "      <td>116348.0</td>\n",
       "    </tr>\n",
       "  </tbody>\n",
       "</table>\n",
       "</div>"
      ],
      "text/plain": [
       "  symbol        date      open     close       low      high     volume  \\\n",
       "0  ^BVSP  2020-12-30  119410.0  119306.0  118919.0  120150.0  8235700.0   \n",
       "1  ^BVSP  2020-12-29  119130.0  119475.0  118750.0  119861.0  6769700.0   \n",
       "2  ^BVSP  2020-12-28  117806.0  119051.0  117805.0  119213.0  7171700.0   \n",
       "3  ^BVSP  2020-12-23  116636.0  117857.0  116636.0  118311.0  6483300.0   \n",
       "4  ^BVSP  2020-12-22  115825.0  116348.0  115648.0  116903.0  6947900.0   \n",
       "\n",
       "   adjclose  \n",
       "0  119306.0  \n",
       "1  119475.0  \n",
       "2  119051.0  \n",
       "3  117857.0  \n",
       "4  116348.0  "
      ]
     },
     "execution_count": 8,
     "metadata": {},
     "output_type": "execute_result"
    }
   ],
   "source": [
    "dados_ibov_valid = dados_ibov.sort_values(by=\"date\", ascending=False)[0:180].reset_index(drop=\"True\")\n",
    "dados_ibov_valid.head()"
   ]
  },
  {
   "cell_type": "code",
   "execution_count": 9,
   "metadata": {},
   "outputs": [],
   "source": [
    "window = config[\"feature\"][\"window\"]"
   ]
  },
  {
   "cell_type": "code",
   "execution_count": 10,
   "metadata": {},
   "outputs": [],
   "source": [
    "trainY, trainX = create_lags(data = dados_ibov_train[\"close\"], window = window)\n",
    "validY, validX = create_lags(data = dados_ibov_valid[\"close\"], window = window)"
   ]
  },
  {
   "cell_type": "markdown",
   "metadata": {},
   "source": [
    "### Definição do modelo"
   ]
  },
  {
   "cell_type": "markdown",
   "metadata": {},
   "source": [
    "#### Test Net"
   ]
  },
  {
   "cell_type": "markdown",
   "metadata": {},
   "source": [
    "random_data = torch.rand((1, 1, 7))\n",
    "test_net = Net(window=window)\n",
    "result = test_net(random_data)\n",
    "print(result)"
   ]
  },
  {
   "cell_type": "markdown",
   "metadata": {},
   "source": [
    "### Train Net"
   ]
  },
  {
   "cell_type": "code",
   "execution_count": 11,
   "metadata": {},
   "outputs": [
    {
     "data": {
      "text/plain": [
       "<torch._C.Generator at 0x7f7975723c30>"
      ]
     },
     "execution_count": 11,
     "metadata": {},
     "output_type": "execute_result"
    }
   ],
   "source": [
    "torch.manual_seed(0)"
   ]
  },
  {
   "cell_type": "code",
   "execution_count": 12,
   "metadata": {},
   "outputs": [],
   "source": [
    "tensor_x = torch.Tensor(np.array(trainX))\n",
    "tensor_y = torch.Tensor(np.array(trainY))"
   ]
  },
  {
   "cell_type": "code",
   "execution_count": 13,
   "metadata": {},
   "outputs": [],
   "source": [
    "tensor_val_x = torch.Tensor(np.array(validX))\n",
    "tensor_val_y = torch.Tensor(np.array(validY))"
   ]
  },
  {
   "cell_type": "code",
   "execution_count": 14,
   "metadata": {},
   "outputs": [],
   "source": [
    "dataset = torch.utils.data.TensorDataset(tensor_x,tensor_y)\n",
    "dataloader = torch.utils.data.DataLoader(dataset, batch_size=10)"
   ]
  },
  {
   "cell_type": "code",
   "execution_count": 15,
   "metadata": {},
   "outputs": [],
   "source": [
    "val_dataset = torch.utils.data.TensorDataset(tensor_val_x,tensor_val_y)\n",
    "val_dataloader = torch.utils.data.DataLoader(val_dataset, batch_size=10)"
   ]
  },
  {
   "cell_type": "code",
   "execution_count": 16,
   "metadata": {},
   "outputs": [],
   "source": [
    "model = IbovModel(window=window)\n",
    "criterion = nn.MSELoss()\n",
    "optimizer = optim.Adam(model.parameters(), lr=0.001)"
   ]
  },
  {
   "cell_type": "code",
   "execution_count": 17,
   "metadata": {
    "scrolled": true
   },
   "outputs": [
    {
     "data": {
      "image/png": "[encoded data removed]",
      "text/plain": [
       "<Figure size 432x288 with 1 Axes>"
      ]
     },
     "metadata": {
      "needs_background": "light"
     },
     "output_type": "display_data"
    }
   ],
   "source": [
    "train(dataloader, val_dataloader, model, criterion, optimizer, epochs=10)"
   ]
  },
  {
   "cell_type": "code",
   "execution_count": 18,
   "metadata": {},
   "outputs": [],
   "source": [
    "import seaborn as sns"
   ]
  },
  {
   "cell_type": "code",
   "execution_count": 19,
   "metadata": {},
   "outputs": [
    {
     "data": {
      "text/html": [
       "<div>\n",
       "<style scoped>\n",
       "    .dataframe tbody tr th:only-of-type {\n",
       "        vertical-align: middle;\n",
       "    }\n",
       "\n",
       "    .dataframe tbody tr th {\n",
       "        vertical-align: top;\n",
       "    }\n",
       "\n",
       "    .dataframe thead th {\n",
       "        text-align: right;\n",
       "    }\n",
       "</style>\n",
       "<table border=\"1\" class=\"dataframe\">\n",
       "  <thead>\n",
       "    <tr style=\"text-align: right;\">\n",
       "      <th></th>\n",
       "      <th>pred</th>\n",
       "      <th>true</th>\n",
       "    </tr>\n",
       "  </thead>\n",
       "  <tbody>\n",
       "    <tr>\n",
       "      <th>0</th>\n",
       "      <td>75069.867188</td>\n",
       "      <td>78625.0</td>\n",
       "    </tr>\n",
       "    <tr>\n",
       "      <th>1</th>\n",
       "      <td>71456.781250</td>\n",
       "      <td>76358.0</td>\n",
       "    </tr>\n",
       "    <tr>\n",
       "      <th>2</th>\n",
       "      <td>71192.031250</td>\n",
       "      <td>74073.0</td>\n",
       "    </tr>\n",
       "    <tr>\n",
       "      <th>3</th>\n",
       "      <td>71550.601562</td>\n",
       "      <td>69538.0</td>\n",
       "    </tr>\n",
       "    <tr>\n",
       "      <th>4</th>\n",
       "      <td>72231.890625</td>\n",
       "      <td>72253.0</td>\n",
       "    </tr>\n",
       "  </tbody>\n",
       "</table>\n",
       "</div>"
      ],
      "text/plain": [
       "           pred     true\n",
       "0  75069.867188  78625.0\n",
       "1  71456.781250  76358.0\n",
       "2  71192.031250  74073.0\n",
       "3  71550.601562  69538.0\n",
       "4  72231.890625  72253.0"
      ]
     },
     "execution_count": 19,
     "metadata": {},
     "output_type": "execute_result"
    }
   ],
   "source": [
    "prediction = np.hstack(model(tensor_x).detach().numpy()).tolist()\n",
    "true_value = np.hstack(trainY).tolist()\n",
    "evaluation_data = pd.DataFrame(columns=[\"pred\", \"true\"])\n",
    "evaluation_data[\"pred\"] = prediction\n",
    "evaluation_data[\"true\"] = true_value\n",
    "evaluation_data.head()"
   ]
  },
  {
   "cell_type": "code",
   "execution_count": 20,
   "metadata": {},
   "outputs": [
    {
     "data": {
      "text/html": [
       "<div>\n",
       "<style scoped>\n",
       "    .dataframe tbody tr th:only-of-type {\n",
       "        vertical-align: middle;\n",
       "    }\n",
       "\n",
       "    .dataframe tbody tr th {\n",
       "        vertical-align: top;\n",
       "    }\n",
       "\n",
       "    .dataframe thead th {\n",
       "        text-align: right;\n",
       "    }\n",
       "</style>\n",
       "<table border=\"1\" class=\"dataframe\">\n",
       "  <thead>\n",
       "    <tr style=\"text-align: right;\">\n",
       "      <th></th>\n",
       "      <th>pred</th>\n",
       "      <th>true</th>\n",
       "    </tr>\n",
       "  </thead>\n",
       "  <tbody>\n",
       "    <tr>\n",
       "      <th>0</th>\n",
       "      <td>119317.031250</td>\n",
       "      <td>119306.0</td>\n",
       "    </tr>\n",
       "    <tr>\n",
       "      <th>1</th>\n",
       "      <td>118438.812500</td>\n",
       "      <td>119475.0</td>\n",
       "    </tr>\n",
       "    <tr>\n",
       "      <th>2</th>\n",
       "      <td>117058.203125</td>\n",
       "      <td>119051.0</td>\n",
       "    </tr>\n",
       "    <tr>\n",
       "      <th>3</th>\n",
       "      <td>116241.851562</td>\n",
       "      <td>117857.0</td>\n",
       "    </tr>\n",
       "    <tr>\n",
       "      <th>4</th>\n",
       "      <td>117085.617188</td>\n",
       "      <td>116348.0</td>\n",
       "    </tr>\n",
       "  </tbody>\n",
       "</table>\n",
       "</div>"
      ],
      "text/plain": [
       "            pred      true\n",
       "0  119317.031250  119306.0\n",
       "1  118438.812500  119475.0\n",
       "2  117058.203125  119051.0\n",
       "3  116241.851562  117857.0\n",
       "4  117085.617188  116348.0"
      ]
     },
     "execution_count": 20,
     "metadata": {},
     "output_type": "execute_result"
    }
   ],
   "source": [
    "prediction = np.hstack(model(tensor_val_x).detach().numpy()).tolist()\n",
    "true_value = np.hstack(validY).tolist()\n",
    "evaluation = pd.DataFrame(columns=[\"pred\", \"true\"])\n",
    "evaluation[\"pred\"] = prediction\n",
    "evaluation[\"true\"] = true_value\n",
    "evaluation.head()"
   ]
  },
  {
   "cell_type": "code",
   "execution_count": 22,
   "metadata": {},
   "outputs": [],
   "source": [
    "from sklearn.metrics import median_absolute_error, accuracy_score, confusion_matrix"
   ]
  },
  {
   "cell_type": "code",
   "execution_count": 23,
   "metadata": {},
   "outputs": [
    {
     "data": {
      "text/plain": [
       "1173.91015625"
      ]
     },
     "execution_count": 23,
     "metadata": {},
     "output_type": "execute_result"
    }
   ],
   "source": [
    "median_absolute_error(evaluation.true, evaluation.pred)"
   ]
  },
  {
   "cell_type": "code",
   "execution_count": 24,
   "metadata": {},
   "outputs": [
    {
     "data": {
      "text/plain": [
       "1322.4317064606741"
      ]
     },
     "execution_count": 24,
     "metadata": {},
     "output_type": "execute_result"
    }
   ],
   "source": [
    "np.mean(np.abs(evaluation.true - evaluation.pred))"
   ]
  },
  {
   "cell_type": "code",
   "execution_count": null,
   "metadata": {},
   "outputs": [],
   "source": []
  },
  {
   "cell_type": "markdown",
   "metadata": {},
   "source": [
    "evaluation = evaluation.append(evaluation_data)"
   ]
  },
  {
   "cell_type": "code",
   "execution_count": null,
   "metadata": {},
   "outputs": [],
   "source": []
  },
  {
   "cell_type": "code",
   "execution_count": null,
   "metadata": {},
   "outputs": [],
   "source": [
    "true = evaluation.true[:-1].reset_index(drop=True)\n",
    "pred = evaluation.true[1:].reset_index(drop=True)"
   ]
  },
  {
   "cell_type": "code",
   "execution_count": null,
   "metadata": {},
   "outputs": [],
   "source": [
    "a = pd.DataFrame(columns=[\"pred\", \"true\"])\n",
    "a[\"pred\"] = pred\n",
    "a[\"true\"] = true"
   ]
  },
  {
   "cell_type": "code",
   "execution_count": null,
   "metadata": {},
   "outputs": [],
   "source": [
    "pred"
   ]
  },
  {
   "cell_type": "code",
   "execution_count": null,
   "metadata": {},
   "outputs": [],
   "source": [
    "delta_pred = [1 if np.sign(pred[idx]-pred[idx+1]) >=0 else 0 for idx in range(pred.shape[0]-1)]\n",
    "delta_true = [1 if np.sign(true[idx]-true[idx+1]) >=0 else 0 for idx in range(true.shape[0]-1)]"
   ]
  },
  {
   "cell_type": "code",
   "execution_count": null,
   "metadata": {},
   "outputs": [],
   "source": [
    "confusion_matrix(delta_true, delta_pred)"
   ]
  },
  {
   "cell_type": "code",
   "execution_count": null,
   "metadata": {},
   "outputs": [],
   "source": [
    "confusion_matrix(delta_true, delta_pred)"
   ]
  },
  {
   "cell_type": "code",
   "execution_count": null,
   "metadata": {
    "scrolled": true
   },
   "outputs": [],
   "source": [
    "median_absolute_error(a.true, a.pred)"
   ]
  },
  {
   "cell_type": "code",
   "execution_count": null,
   "metadata": {},
   "outputs": [],
   "source": [
    "from matplotlib import pyplot"
   ]
  },
  {
   "cell_type": "code",
   "execution_count": null,
   "metadata": {},
   "outputs": [],
   "source": [
    "a4_dims = (16.5, 11.7)\n",
    "fig, ax = pyplot.subplots(figsize=a4_dims)\n",
    "sns.lineplot(ax=ax, data=a, dashes=False, markers=True)"
   ]
  },
  {
   "cell_type": "code",
   "execution_count": null,
   "metadata": {},
   "outputs": [],
   "source": []
  }
 ],
 "metadata": {
  "kernelspec": {
   "display_name": "Python 3",
   "language": "python",
   "name": "python3"
  },
  "language_info": {
   "codemirror_mode": {
    "name": "ipython",
    "version": 3
   },
   "file_extension": ".py",
   "mimetype": "text/x-python",
   "name": "python",
   "nbconvert_exporter": "python",
   "pygments_lexer": "ipython3",
   "version": "3.8.5"
  }
 },
 "nbformat": 4,
 "nbformat_minor": 4
}
