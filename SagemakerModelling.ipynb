{
 "cells": [
  {
   "cell_type": "code",
   "execution_count": 16,
   "metadata": {},
   "outputs": [
    {
     "ename": "ImportError",
     "evalue": "cannot import name 'define_model' from 'ibov.deploy' (/home/aadelmo/projetos/udacity/BovespaStockPrediction/ibov/deploy.py)",
     "output_type": "error",
     "traceback": [
      "\u001b[0;31m---------------------------------------------------------------------------\u001b[0m",
      "\u001b[0;31mImportError\u001b[0m                               Traceback (most recent call last)",
      "\u001b[0;32m<ipython-input-16-470f7090e63b>\u001b[0m in \u001b[0;36m<module>\u001b[0;34m\u001b[0m\n\u001b[1;32m     10\u001b[0m \u001b[0;34m\u001b[0m\u001b[0m\n\u001b[1;32m     11\u001b[0m \u001b[0;32mfrom\u001b[0m \u001b[0mibov\u001b[0m\u001b[0;34m.\u001b[0m\u001b[0mutils\u001b[0m \u001b[0;32mimport\u001b[0m \u001b[0mload_config\u001b[0m\u001b[0;34m\u001b[0m\u001b[0;34m\u001b[0m\u001b[0m\n\u001b[0;32m---> 12\u001b[0;31m \u001b[0;32mfrom\u001b[0m \u001b[0mibov\u001b[0m\u001b[0;34m.\u001b[0m\u001b[0mdeploy\u001b[0m \u001b[0;32mimport\u001b[0m \u001b[0mget_deploy_config\u001b[0m\u001b[0;34m,\u001b[0m \u001b[0mdefine_model\u001b[0m\u001b[0;34m\u001b[0m\u001b[0;34m\u001b[0m\u001b[0m\n\u001b[0m",
      "\u001b[0;31mImportError\u001b[0m: cannot import name 'define_model' from 'ibov.deploy' (/home/aadelmo/projetos/udacity/BovespaStockPrediction/ibov/deploy.py)"
     ]
    }
   ],
   "source": [
    "import os\n",
    "import io\n",
    "import ast\n",
    "import boto3\n",
    "import sagemaker\n",
    "import numpy as np\n",
    "import pandas as pd\n",
    "\n",
    "from sagemaker.pytorch import PyTorch\n",
    "\n",
    "from ibov.utils import load_config\n",
    "from ibov.deploy import get_deploy_config, define_model"
   ]
  },
  {
   "cell_type": "markdown",
   "metadata": {},
   "source": [
    "### Loading Configs"
   ]
  },
  {
   "cell_type": "code",
   "execution_count": 21,
   "metadata": {},
   "outputs": [],
   "source": [
    "# Load config dict\n",
    "config = load_config()"
   ]
  },
  {
   "cell_type": "code",
   "execution_count": 22,
   "metadata": {},
   "outputs": [],
   "source": [
    "role = config.get(\"sagemaker\").get(\"role\")\n",
    "prefix = config.get(\"sagemaker\").get(\"bucket_prefx\")\n",
    "data_dir = config.get(\"data\").get(\"dir\")\n",
    "region = config.get(\"sagemaker\").get(\"region\")"
   ]
  },
  {
   "cell_type": "code",
   "execution_count": 23,
   "metadata": {},
   "outputs": [],
   "source": [
    "dropout = config.get(\"model\").get(\"dropout\")\n",
    "window = config.get(\"feature\").get(\"window\")\n",
    "hidden_layer = config.get(\"model\").get(\"hidden_layer\")\n",
    "lr = config.get(\"model\").get(\"lr\")\n",
    "seed = config.get(\"model\").get(\"seed\")\n",
    "epochs = config.get(\"model\").get(\"epochs\")"
   ]
  },
  {
   "cell_type": "markdown",
   "metadata": {},
   "source": [
    "### Upload Data"
   ]
  },
  {
   "cell_type": "code",
   "execution_count": 5,
   "metadata": {},
   "outputs": [],
   "source": [
    "session = sagemaker.Session(boto_session=boto3.session.Session(region_name=region))\n",
    "bucket = session.default_bucket()"
   ]
  },
  {
   "cell_type": "code",
   "execution_count": 6,
   "metadata": {},
   "outputs": [],
   "source": [
    "input_data = session.upload_data(path=data_dir, bucket=bucket, key_prefix=prefix)\n",
    "input_config = session.upload_data(path=\"config.json\", bucket=bucket, key_prefix=prefix)"
   ]
  },
  {
   "cell_type": "markdown",
   "metadata": {},
   "source": [
    "### Train Model"
   ]
  },
  {
   "cell_type": "code",
   "execution_count": 7,
   "metadata": {},
   "outputs": [],
   "source": [
    "estimator = PyTorch(entry_point=\"train.py\", \n",
    "                    source_dir=\"ibov\", \n",
    "                    py_version=\"py3\",\n",
    "                    role=role, \n",
    "                    framework_version='0.4.0',\n",
    "                    instance_count=1, \n",
    "                    instance_type='ml.p2.xlarge',\n",
    "                    hyperparameters = {\n",
    "                        \"batch-size\": 50,\n",
    "                        \"epochs\": epochs,\n",
    "                        \"seed\": seed,\n",
    "                        \"input-layer\": window,\n",
    "                        \"hidden-layer\": hidden_layer,\n",
    "                        \"dropout\": dropout        \n",
    "                    })"
   ]
  },
  {
   "cell_type": "code",
   "execution_count": 8,
   "metadata": {},
   "outputs": [
    {
     "name": "stdout",
     "output_type": "stream",
     "text": [
      "2021-01-25 22:23:41 Starting - Starting the training job...\n",
      "2021-01-25 22:24:05 Starting - Launching requested ML instancesProfilerReport-1611613418: InProgress\n",
      "......\n",
      "2021-01-25 22:25:16 Starting - Preparing the instances for training.........\n",
      "2021-01-25 22:27:07 Downloading - Downloading input data\n",
      "2021-01-25 22:27:07 Training - Downloading the training image..\u001b[34mbash: cannot set terminal process group (-1): Inappropriate ioctl for device\u001b[0m\n",
      "\u001b[34mbash: no job control in this shell\u001b[0m\n",
      "\u001b[34m2021-01-25 22:27:24,345 sagemaker-containers INFO     Imported framework sagemaker_pytorch_container.training\u001b[0m\n",
      "\u001b[34m2021-01-25 22:27:24,386 sagemaker_pytorch_container.training INFO     Block until all host DNS lookups succeed.\u001b[0m\n",
      "\u001b[34m2021-01-25 22:27:27,427 sagemaker_pytorch_container.training INFO     Invoking user training script.\u001b[0m\n",
      "\u001b[34m2021-01-25 22:27:27,708 sagemaker-containers INFO     Module train does not provide a setup.py. \u001b[0m\n",
      "\u001b[34mGenerating setup.py\u001b[0m\n",
      "\u001b[34m2021-01-25 22:27:27,708 sagemaker-containers INFO     Generating setup.cfg\u001b[0m\n",
      "\u001b[34m2021-01-25 22:27:27,708 sagemaker-containers INFO     Generating MANIFEST.in\u001b[0m\n",
      "\u001b[34m2021-01-25 22:27:27,708 sagemaker-containers INFO     Installing module with the following command:\u001b[0m\n",
      "\u001b[34m/usr/bin/python -m pip install -U . -r requirements.txt\u001b[0m\n",
      "\n",
      "2021-01-25 22:27:48 Training - Training image download completed. Training in progress.\u001b[34mProcessing /opt/ml/code\u001b[0m\n",
      "\u001b[34mCollecting pandas (from -r requirements.txt (line 1))\u001b[0m\n",
      "\u001b[34m  Downloading https://files.pythonhosted.org/packages/74/24/0cdbf8907e1e3bc5a8da03345c23cbed7044330bb8f73bb12e711a640a00/pandas-0.24.2-cp35-cp35m-manylinux1_x86_64.whl (10.0MB)\u001b[0m\n",
      "\u001b[34mCollecting pytz>=2011k (from pandas->-r requirements.txt (line 1))\n",
      "  Downloading https://files.pythonhosted.org/packages/89/06/2c2d3034b4d6bf22f2a4ae546d16925898658a33b4400cfb7e2c1e2871a3/pytz-2020.5-py2.py3-none-any.whl (510kB)\u001b[0m\n",
      "\u001b[34mRequirement already satisfied, skipping upgrade: python-dateutil>=2.5.0 in /usr/local/lib/python3.5/dist-packages (from pandas->-r requirements.txt (line 1)) (2.7.5)\u001b[0m\n",
      "\u001b[34mRequirement already satisfied, skipping upgrade: numpy>=1.12.0 in /usr/local/lib/python3.5/dist-packages (from pandas->-r requirements.txt (line 1)) (1.15.4)\u001b[0m\n",
      "\u001b[34mRequirement already satisfied, skipping upgrade: six>=1.5 in /usr/local/lib/python3.5/dist-packages (from python-dateutil>=2.5.0->pandas->-r requirements.txt (line 1)) (1.11.0)\u001b[0m\n",
      "\u001b[34mBuilding wheels for collected packages: train\n",
      "  Running setup.py bdist_wheel for train: started\u001b[0m\n",
      "\u001b[34m  Running setup.py bdist_wheel for train: finished with status 'done'\n",
      "  Stored in directory: /tmp/pip-ephem-wheel-cache-z4ccwmm3/wheels/35/24/16/37574d11bf9bde50616c67372a334f94fa8356bc7164af8ca3\u001b[0m\n",
      "\u001b[34mSuccessfully built train\u001b[0m\n",
      "\u001b[34mInstalling collected packages: pytz, pandas, train\u001b[0m\n",
      "\u001b[34mSuccessfully installed pandas-0.24.2 pytz-2020.5 train-1.0.0\u001b[0m\n",
      "\u001b[34mYou are using pip version 18.1, however version 20.3.4 is available.\u001b[0m\n",
      "\u001b[34mYou should consider upgrading via the 'pip install --upgrade pip' command.\u001b[0m\n",
      "\u001b[34m2021-01-25 22:27:33,581 sagemaker-containers INFO     Invoking user script\n",
      "\u001b[0m\n",
      "\u001b[34mTraining Env:\n",
      "\u001b[0m\n",
      "\u001b[34m{\n",
      "    \"output_data_dir\": \"/opt/ml/output/data\",\n",
      "    \"current_host\": \"algo-1\",\n",
      "    \"output_intermediate_dir\": \"/opt/ml/output/intermediate\",\n",
      "    \"output_dir\": \"/opt/ml/output\",\n",
      "    \"hosts\": [\n",
      "        \"algo-1\"\n",
      "    ],\n",
      "    \"num_gpus\": 1,\n",
      "    \"module_dir\": \"s3://sagemaker-us-east-1-977053370764/sagemaker-pytorch-2021-01-25-22-23-37-005/source/sourcedir.tar.gz\",\n",
      "    \"input_data_config\": {\n",
      "        \"train\": {\n",
      "            \"S3DistributionType\": \"FullyReplicated\",\n",
      "            \"TrainingInputMode\": \"File\",\n",
      "            \"RecordWrapperType\": \"None\"\n",
      "        },\n",
      "        \"config\": {\n",
      "            \"S3DistributionType\": \"FullyReplicated\",\n",
      "            \"TrainingInputMode\": \"File\",\n",
      "            \"RecordWrapperType\": \"None\"\n",
      "        }\n",
      "    },\n",
      "    \"framework_module\": \"sagemaker_pytorch_container.training:main\",\n",
      "    \"network_interface_name\": \"eth0\",\n",
      "    \"job_name\": \"sagemaker-pytorch-2021-01-25-22-23-37-005\",\n",
      "    \"hyperparameters\": {\n",
      "        \"dropout\": 0.25,\n",
      "        \"seed\": 1903,\n",
      "        \"epochs\": 50,\n",
      "        \"hidden-layer\": 50,\n",
      "        \"batch-size\": 50,\n",
      "        \"input-layer\": 7\n",
      "    },\n",
      "    \"input_config_dir\": \"/opt/ml/input/config\",\n",
      "    \"log_level\": 20,\n",
      "    \"module_name\": \"train\",\n",
      "    \"channel_input_dirs\": {\n",
      "        \"train\": \"/opt/ml/input/data/train\",\n",
      "        \"config\": \"/opt/ml/input/data/config\"\n",
      "    },\n",
      "    \"model_dir\": \"/opt/ml/model\",\n",
      "    \"input_dir\": \"/opt/ml/input\",\n",
      "    \"resource_config\": {\n",
      "        \"hosts\": [\n",
      "            \"algo-1\"\n",
      "        ],\n",
      "        \"current_host\": \"algo-1\",\n",
      "        \"network_interface_name\": \"eth0\"\n",
      "    },\n",
      "    \"additional_framework_parameters\": {},\n",
      "    \"num_cpus\": 4,\n",
      "    \"user_entry_point\": \"train.py\"\u001b[0m\n",
      "\u001b[34m}\n",
      "\u001b[0m\n",
      "\u001b[34mEnvironment variables:\n",
      "\u001b[0m\n",
      "\u001b[34mSM_HP_SEED=1903\u001b[0m\n",
      "\u001b[34mSM_INPUT_DATA_CONFIG={\"config\":{\"RecordWrapperType\":\"None\",\"S3DistributionType\":\"FullyReplicated\",\"TrainingInputMode\":\"File\"},\"train\":{\"RecordWrapperType\":\"None\",\"S3DistributionType\":\"FullyReplicated\",\"TrainingInputMode\":\"File\"}}\u001b[0m\n",
      "\u001b[34mSM_RESOURCE_CONFIG={\"current_host\":\"algo-1\",\"hosts\":[\"algo-1\"],\"network_interface_name\":\"eth0\"}\u001b[0m\n",
      "\u001b[34mSM_USER_ENTRY_POINT=train.py\u001b[0m\n",
      "\u001b[34mSM_LOG_LEVEL=20\u001b[0m\n",
      "\u001b[34mPYTHONPATH=/usr/local/bin:/usr/lib/python35.zip:/usr/lib/python3.5:/usr/lib/python3.5/plat-x86_64-linux-gnu:/usr/lib/python3.5/lib-dynload:/usr/local/lib/python3.5/dist-packages:/usr/lib/python3/dist-packages\u001b[0m\n",
      "\u001b[34mSM_USER_ARGS=[\"--batch-size\",\"50\",\"--dropout\",\"0.25\",\"--epochs\",\"50\",\"--hidden-layer\",\"50\",\"--input-layer\",\"7\",\"--seed\",\"1903\"]\u001b[0m\n",
      "\u001b[34mSM_FRAMEWORK_MODULE=sagemaker_pytorch_container.training:main\u001b[0m\n",
      "\u001b[34mSM_HOSTS=[\"algo-1\"]\u001b[0m\n",
      "\u001b[34mSM_CHANNEL_TRAIN=/opt/ml/input/data/train\u001b[0m\n",
      "\u001b[34mSM_NETWORK_INTERFACE_NAME=eth0\u001b[0m\n",
      "\u001b[34mSM_HPS={\"batch-size\":50,\"dropout\":0.25,\"epochs\":50,\"hidden-layer\":50,\"input-layer\":7,\"seed\":1903}\u001b[0m\n",
      "\u001b[34mSM_HP_BATCH-SIZE=50\u001b[0m\n",
      "\u001b[34mSM_OUTPUT_DIR=/opt/ml/output\u001b[0m\n",
      "\u001b[34mSM_OUTPUT_DATA_DIR=/opt/ml/output/data\u001b[0m\n",
      "\u001b[34mSM_MODULE_NAME=train\u001b[0m\n",
      "\u001b[34mSM_HP_EPOCHS=50\u001b[0m\n",
      "\u001b[34mSM_NUM_CPUS=4\u001b[0m\n",
      "\u001b[34mSM_CHANNELS=[\"config\",\"train\"]\u001b[0m\n",
      "\u001b[34mSM_HP_HIDDEN-LAYER=50\u001b[0m\n",
      "\u001b[34mSM_CURRENT_HOST=algo-1\u001b[0m\n",
      "\u001b[34mSM_MODULE_DIR=s3://sagemaker-us-east-1-977053370764/sagemaker-pytorch-2021-01-25-22-23-37-005/source/sourcedir.tar.gz\u001b[0m\n",
      "\u001b[34mSM_FRAMEWORK_PARAMS={}\u001b[0m\n",
      "\u001b[34mSM_NUM_GPUS=1\u001b[0m\n",
      "\u001b[34mSM_HP_DROPOUT=0.25\u001b[0m\n",
      "\u001b[34mSM_CHANNEL_CONFIG=/opt/ml/input/data/config\u001b[0m\n",
      "\u001b[34mSM_OUTPUT_INTERMEDIATE_DIR=/opt/ml/output/intermediate\u001b[0m\n",
      "\u001b[34mSM_INPUT_DIR=/opt/ml/input\u001b[0m\n",
      "\u001b[34mSM_TRAINING_ENV={\"additional_framework_parameters\":{},\"channel_input_dirs\":{\"config\":\"/opt/ml/input/data/config\",\"train\":\"/opt/ml/input/data/train\"},\"current_host\":\"algo-1\",\"framework_module\":\"sagemaker_pytorch_container.training:main\",\"hosts\":[\"algo-1\"],\"hyperparameters\":{\"batch-size\":50,\"dropout\":0.25,\"epochs\":50,\"hidden-layer\":50,\"input-layer\":7,\"seed\":1903},\"input_config_dir\":\"/opt/ml/input/config\",\"input_data_config\":{\"config\":{\"RecordWrapperType\":\"None\",\"S3DistributionType\":\"FullyReplicated\",\"TrainingInputMode\":\"File\"},\"train\":{\"RecordWrapperType\":\"None\",\"S3DistributionType\":\"FullyReplicated\",\"TrainingInputMode\":\"File\"}},\"input_dir\":\"/opt/ml/input\",\"job_name\":\"sagemaker-pytorch-2021-01-25-22-23-37-005\",\"log_level\":20,\"model_dir\":\"/opt/ml/model\",\"module_dir\":\"s3://sagemaker-us-east-1-977053370764/sagemaker-pytorch-2021-01-25-22-23-37-005/source/sourcedir.tar.gz\",\"module_name\":\"train\",\"network_interface_name\":\"eth0\",\"num_cpus\":4,\"num_gpus\":1,\"output_data_dir\":\"/opt/ml/output/data\",\"output_dir\":\"/opt/ml/output\",\"output_intermediate_dir\":\"/opt/ml/output/intermediate\",\"resource_config\":{\"current_host\":\"algo-1\",\"hosts\":[\"algo-1\"],\"network_interface_name\":\"eth0\"},\"user_entry_point\":\"train.py\"}\u001b[0m\n",
      "\u001b[34mSM_HP_INPUT-LAYER=7\u001b[0m\n",
      "\u001b[34mSM_MODEL_DIR=/opt/ml/model\u001b[0m\n",
      "\u001b[34mSM_INPUT_CONFIG_DIR=/opt/ml/input/config\n",
      "\u001b[0m\n",
      "\u001b[34mInvoking script with the following command:\n",
      "\u001b[0m\n",
      "\u001b[34m/usr/bin/python -m train --batch-size 50 --dropout 0.25 --epochs 50 --hidden-layer 50 --input-layer 7 --seed 1903\n",
      "\n",
      "\u001b[0m\n",
      "\u001b[34m22:27:35, epoch: 0, train: 1.765, valid: 0.127\u001b[0m\n",
      "\u001b[34m22:27:35, epoch: 1, train: 0.75, valid: 0.083\u001b[0m\n",
      "\u001b[34m22:27:36, epoch: 2, train: 0.722, valid: 0.119\u001b[0m\n",
      "\u001b[34m22:27:37, epoch: 3, train: 0.716, valid: 0.036\u001b[0m\n",
      "\u001b[34m22:27:39, epoch: 4, train: 0.628, valid: 0.071\u001b[0m\n",
      "\u001b[34m22:27:40, epoch: 5, train: 0.644, valid: 0.071\u001b[0m\n",
      "\u001b[34m22:27:42, epoch: 6, train: 0.592, valid: 0.03\u001b[0m\n",
      "\u001b[34m22:27:44, epoch: 7, train: 0.579, valid: 0.031\u001b[0m\n",
      "\u001b[34m22:27:47, epoch: 8, train: 0.577, valid: 0.031\u001b[0m\n"
     ]
    },
    {
     "name": "stdout",
     "output_type": "stream",
     "text": [
      "\u001b[34m22:27:50, epoch: 9, train: 0.54, valid: 0.042\u001b[0m\n",
      "\u001b[34m22:27:53, epoch: 10, train: 0.571, valid: 0.04\u001b[0m\n",
      "\u001b[34m22:27:56, epoch: 11, train: 0.561, valid: 0.035\u001b[0m\n",
      "\u001b[34m22:28:00, epoch: 12, train: 0.545, valid: 0.026\u001b[0m\n",
      "\u001b[34m22:28:04, epoch: 13, train: 0.558, valid: 0.026\u001b[0m\n",
      "\u001b[34m22:28:09, epoch: 14, train: 0.485, valid: 0.035\u001b[0m\n",
      "\u001b[34m22:28:14, epoch: 15, train: 0.495, valid: 0.028\u001b[0m\n",
      "\u001b[34m22:28:18, epoch: 16, train: 0.486, valid: 0.028\u001b[0m\n",
      "\u001b[34m22:28:24, epoch: 17, train: 0.52, valid: 0.03\u001b[0m\n",
      "\u001b[34m22:28:29, epoch: 18, train: 0.507, valid: 0.027\u001b[0m\n",
      "\u001b[34m22:28:35, epoch: 19, train: 0.502, valid: 0.033\u001b[0m\n",
      "\u001b[34m22:28:41, epoch: 20, train: 0.497, valid: 0.04\u001b[0m\n",
      "\u001b[34m22:28:47, epoch: 21, train: 0.482, valid: 0.043\u001b[0m\n",
      "\u001b[34m22:28:54, epoch: 22, train: 0.469, valid: 0.027\u001b[0m\n",
      "\u001b[34m22:29:00, epoch: 23, train: 0.438, valid: 0.027\u001b[0m\n",
      "\u001b[34m22:29:09, epoch: 24, train: 0.433, valid: 0.032\u001b[0m\n",
      "\u001b[34m22:29:16, epoch: 25, train: 0.454, valid: 0.037\u001b[0m\n",
      "\u001b[34m22:29:24, epoch: 26, train: 0.45, valid: 0.031\u001b[0m\n",
      "\u001b[34m22:29:32, epoch: 27, train: 0.403, valid: 0.039\u001b[0m\n",
      "\u001b[34m22:29:40, epoch: 28, train: 0.425, valid: 0.033\u001b[0m\n",
      "\u001b[34m22:29:49, epoch: 29, train: 0.425, valid: 0.027\u001b[0m\n",
      "\u001b[34m22:29:58, epoch: 30, train: 0.385, valid: 0.031\u001b[0m\n",
      "\u001b[34m22:30:09, epoch: 31, train: 0.387, valid: 0.027\u001b[0m\n",
      "\u001b[34m22:30:18, epoch: 32, train: 0.428, valid: 0.03\u001b[0m\n",
      "\u001b[34m22:30:28, epoch: 33, train: 0.378, valid: 0.027\u001b[0m\n",
      "\u001b[34m22:30:38, epoch: 34, train: 0.412, valid: 0.035\u001b[0m\n",
      "\u001b[34m22:30:49, epoch: 35, train: 0.394, valid: 0.025\u001b[0m\n",
      "\u001b[34m22:31:00, epoch: 36, train: 0.372, valid: 0.029\u001b[0m\n",
      "\u001b[34m22:31:12, epoch: 37, train: 0.379, valid: 0.025\u001b[0m\n",
      "\u001b[34m22:31:23, epoch: 38, train: 0.374, valid: 0.031\u001b[0m\n",
      "\u001b[34m22:31:35, epoch: 39, train: 0.375, valid: 0.033\u001b[0m\n",
      "\u001b[34m22:31:46, epoch: 40, train: 0.337, valid: 0.038\u001b[0m\n",
      "\u001b[34m22:31:59, epoch: 41, train: 0.375, valid: 0.026\u001b[0m\n",
      "\u001b[34m22:32:12, epoch: 42, train: 0.369, valid: 0.028\u001b[0m\n",
      "\u001b[34m22:32:25, epoch: 43, train: 0.353, valid: 0.025\u001b[0m\n",
      "\u001b[34m22:32:38, epoch: 44, train: 0.318, valid: 0.024\u001b[0m\n",
      "\u001b[34m22:32:52, epoch: 45, train: 0.345, valid: 0.028\u001b[0m\n",
      "\u001b[34m22:33:07, epoch: 46, train: 0.332, valid: 0.033\u001b[0m\n",
      "\u001b[34m22:33:21, epoch: 47, train: 0.317, valid: 0.029\u001b[0m\n",
      "\u001b[34m22:33:36, epoch: 48, train: 0.337, valid: 0.023\u001b[0m\n",
      "\u001b[34m22:33:51, epoch: 49, train: 0.331, valid: 0.024\u001b[0m\n",
      "\u001b[34m2021-01-25 22:33:51,639 sagemaker-containers INFO     Reporting training SUCCESS\u001b[0m\n",
      "\n",
      "2021-01-25 22:34:13 Uploading - Uploading generated training model\n",
      "2021-01-25 22:34:13 Completed - Training job completed\n",
      "ProfilerReport-1611613418: NoIssuesFound\n",
      "Training seconds: 443\n",
      "Billable seconds: 443\n"
     ]
    }
   ],
   "source": [
    "estimator.fit({'train': input_data, \"config\": input_config})"
   ]
  },
  {
   "cell_type": "code",
   "execution_count": 25,
   "metadata": {},
   "outputs": [
    {
     "data": {
      "text/plain": [
       "'sagemaker-pytorch-2021-01-25-22-23-37-005'"
      ]
     },
     "execution_count": 25,
     "metadata": {},
     "output_type": "execute_result"
    }
   ],
   "source": [
    "estimator.latest_training_job.job_name"
   ]
  },
  {
   "cell_type": "code",
   "execution_count": 26,
   "metadata": {},
   "outputs": [],
   "source": [
    "deploy_config = get_deploy_config(config)"
   ]
  },
  {
   "cell_type": "code",
   "execution_count": 27,
   "metadata": {},
   "outputs": [],
   "source": [
    "def define_model(deploy_config):\n",
    "\n",
    "    codename = deploy_config.get(\"codename\")\n",
    "    \n",
    "    client  = boto3.client(\"sagemaker\")\n",
    "\n",
    "    model = client.create_model(ModelName=codename,\n",
    "                                PrimaryContainer=deploy_config.get(\"primary_container\"),\n",
    "                                ExecutionRoleArn=deploy_config.get(\"role\"))\n",
    "\n",
    "    return model"
   ]
  },
  {
   "cell_type": "code",
   "execution_count": 28,
   "metadata": {},
   "outputs": [
    {
     "data": {
      "text/plain": [
       "{'ModelArn': 'arn:aws:sagemaker:us-east-1:977053370764:model/sagemaker-pytorch-2021-01-25-22-23-37-005',\n",
       " 'ResponseMetadata': {'RequestId': 'cdf8cd34-7144-48cf-b4a9-fc01db859e64',\n",
       "  'HTTPStatusCode': 200,\n",
       "  'HTTPHeaders': {'x-amzn-requestid': 'cdf8cd34-7144-48cf-b4a9-fc01db859e64',\n",
       "   'content-type': 'application/x-amz-json-1.1',\n",
       "   'content-length': '103',\n",
       "   'date': 'Tue, 26 Jan 2021 00:30:29 GMT'},\n",
       "  'RetryAttempts': 0}}"
      ]
     },
     "execution_count": 28,
     "metadata": {},
     "output_type": "execute_result"
    }
   ],
   "source": [
    "define_model(deploy_config)"
   ]
  },
  {
   "cell_type": "markdown",
   "metadata": {},
   "source": [
    "### Endpoint Deployment"
   ]
  },
  {
   "cell_type": "markdown",
   "metadata": {},
   "source": [
    "config = load_config()"
   ]
  },
  {
   "cell_type": "markdown",
   "metadata": {},
   "source": [
    "deploy_config = get_deploy_config(config)"
   ]
  },
  {
   "cell_type": "markdown",
   "metadata": {},
   "source": [
    "build_endpoint(deploy_config)"
   ]
  },
  {
   "cell_type": "markdown",
   "metadata": {},
   "source": [
    "kill_endpoint(config)"
   ]
  }
 ],
 "metadata": {
  "kernelspec": {
   "display_name": "Python 3",
   "language": "python",
   "name": "python3"
  },
  "language_info": {
   "codemirror_mode": {
    "name": "ipython",
    "version": 3
   },
   "file_extension": ".py",
   "mimetype": "text/x-python",
   "name": "python",
   "nbconvert_exporter": "python",
   "pygments_lexer": "ipython3",
   "version": "3.8.5"
  }
 },
 "nbformat": 4,
 "nbformat_minor": 4
}
