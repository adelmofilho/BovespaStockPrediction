{
 "cells": [
  {
   "cell_type": "markdown",
   "metadata": {},
   "source": [
    "# Ibovespa forecasting using neural networks\n",
    "\n",
    "## Machine Learning Engineer Nanodegree - Capstone Proposal"
   ]
  },
  {
   "cell_type": "markdown",
   "metadata": {},
   "source": [
    "### Import python packages"
   ]
  },
  {
   "cell_type": "code",
   "execution_count": 1,
   "metadata": {},
   "outputs": [],
   "source": [
    "import os\n",
    "import numpy as np\n",
    "import pandas as pd\n",
    "from tqdm import tqdm\n",
    "import torch\n",
    "import torch.utils.data\n",
    "from torch import optim\n",
    "from torch import nn\n",
    "from torch.autograd import Variable\n",
    "from ibov.utils import load_config\n",
    "from ibov.feature import create_lags, consolidate_features\n",
    "from ibov.model import Ibovespa, train\n",
    "from ibov.request import get_history, label_train_test"
   ]
  },
  {
   "cell_type": "markdown",
   "metadata": {},
   "source": [
    "### Loading Configs"
   ]
  },
  {
   "cell_type": "code",
   "execution_count": 2,
   "metadata": {},
   "outputs": [],
   "source": [
    "# Load config dict\n",
    "config = load_config()"
   ]
  },
  {
   "cell_type": "code",
   "execution_count": 3,
   "metadata": {},
   "outputs": [],
   "source": [
    "# Feature Engineering Configs\n",
    "split = config.get(\"feature\").get(\"split\")\n",
    "window = config.get(\"feature\").get(\"window\")\n",
    "\n",
    "# Data Configs\n",
    "data_dir = config.get(\"data\").get(\"dir\")\n",
    "ibov_ticker = config.get(\"ibov\").get(\"ticker\")\n",
    "history_file = config.get(\"data\").get(\"history\")"
   ]
  },
  {
   "cell_type": "markdown",
   "metadata": {},
   "source": [
    "### Data Preparation"
   ]
  },
  {
   "cell_type": "code",
   "execution_count": 4,
   "metadata": {},
   "outputs": [],
   "source": [
    "# Invoke yahoo finance api\n",
    "ibovespa = get_history(ticker=ibov_ticker)\n",
    "\n",
    "# Save data on disk\n",
    "ibovespa.to_csv(os.path.join(data_dir, history_file), index=False)\n",
    "\n",
    "# Label datapoint as train or test dataset\n",
    "ibovespa = label_train_test(ibovespa, split=split, split_valid=0.2)"
   ]
  },
  {
   "cell_type": "markdown",
   "metadata": {},
   "source": [
    "### Feature Engineering"
   ]
  },
  {
   "cell_type": "code",
   "execution_count": 5,
   "metadata": {},
   "outputs": [],
   "source": [
    "# Create lag variables\n",
    "ibov_lags_df = create_lags(ibovespa, window=window, var=\"close\", index=\"date\")"
   ]
  },
  {
   "cell_type": "code",
   "execution_count": 6,
   "metadata": {},
   "outputs": [],
   "source": [
    "# Consolidate raw data with features\n",
    "master_table = consolidate_features(ibovespa, \"date\", ibov_lags_df)"
   ]
  },
  {
   "cell_type": "markdown",
   "metadata": {},
   "source": [
    "### Definição do modelo"
   ]
  },
  {
   "cell_type": "code",
   "execution_count": 15,
   "metadata": {},
   "outputs": [],
   "source": [
    "def torch_data(df, target, variables, group_var, batch, group):\n",
    "    \n",
    "    data  = df[df[group_var] == group].reset_index()\n",
    "    \n",
    "    x_tensor = torch.Tensor(data[variables])\n",
    "    y_tensor = torch.Tensor(data[target])\n",
    "    \n",
    "    dataset = torch.utils.data.TensorDataset(x_tensor,y_tensor)\n",
    "    loader = torch.utils.data.DataLoader(dataset, batch_size=batch)\n",
    "    \n",
    "    return loader, x_tensor, y_tensor   "
   ]
  },
  {
   "cell_type": "code",
   "execution_count": 17,
   "metadata": {},
   "outputs": [],
   "source": [
    "train_loader, train_x_tensor, train_y_tensor = \\\n",
    "    torch_data(master_table, target=\"target\", variables=\"lags\", group_var=\"group\", batch=10, group=\"train\")\n",
    "\n",
    "valid_loader, valid_x_tensor, valid_y_tensor = \\\n",
    "    torch_data(master_table, target=\"target\", variables=\"lags\", group_var=\"group\", batch=10, group=\"valid\")\n",
    "\n",
    "test_loader, test_x_tensor, test_y_tensor = \\\n",
    "    torch_data(master_table, target=\"target\", variables=\"lags\", group_var=\"group\", batch=10, group=\"test\")"
   ]
  },
  {
   "cell_type": "code",
   "execution_count": 18,
   "metadata": {},
   "outputs": [],
   "source": [
    "model = Ibovespa(input_layer=window)\n",
    "criterion = nn.MSELoss()\n",
    "optimizer = optim.Adam(model.parameters(), lr=0.001)"
   ]
  },
  {
   "cell_type": "code",
   "execution_count": 19,
   "metadata": {
    "scrolled": true
   },
   "outputs": [
    {
     "name": "stdout",
     "output_type": "stream",
     "text": [
      "253244388.734375\n",
      "242366546.390625\n",
      "227100552.25\n",
      "208438436.828125\n",
      "191173837.4375\n",
      "174416356.046875\n",
      "158213161.078125\n",
      "145366052.515625\n",
      "133479587.46875\n",
      "122718445.875\n"
     ]
    }
   ],
   "source": [
    "train(model, train_loader, valid_loader, criterion, optimizer, epochs=10)"
   ]
  },
  {
   "cell_type": "code",
   "execution_count": 12,
   "metadata": {},
   "outputs": [],
   "source": [
    "import seaborn as sns"
   ]
  },
  {
   "cell_type": "code",
   "execution_count": 105,
   "metadata": {},
   "outputs": [],
   "source": [
    "def evaluate_results(x_tensor, y_tensor):\n",
    "    # Prediction error\n",
    "    pred = np.array(np.hstack(model(x_tensor).detach().numpy()).tolist())\n",
    "    true = np.array(np.hstack(y_tensor).tolist())\n",
    "    mae = np.mean(np.abs(pred - true))\n",
    "    # Predict delta accuracy\n",
    "    delta_true = np.array([1 if np.sign(true[idx]-true[idx+1]) >=0 else 0 for idx in range(true.shape[0]-1)])\n",
    "    delta_pred = np.array([1 if np.sign(pred[idx]-pred[idx+1]) >=0 else 0 for idx in range(pred.shape[0]-1)])\n",
    "    tp = sum(1 for val in (delta_true + delta_pred) if val==2)\n",
    "    fp = sum(1 for val in (delta_true - delta_pred) if val==-1)\n",
    "    fn = sum(1 for val in (delta_true - delta_pred) if val==1)\n",
    "    precision = tp/(tp+fp)\n",
    "    recal = tp/(tp+fn)\n",
    "    f1 = 2*(precision*recal)/(precision+recal)\n",
    "    \n",
    "    return mae, f1"
   ]
  },
  {
   "cell_type": "code",
   "execution_count": 106,
   "metadata": {},
   "outputs": [
    {
     "data": {
      "text/plain": [
       "(467.84016883828406, 0.5604274134119381)"
      ]
     },
     "execution_count": 106,
     "metadata": {},
     "output_type": "execute_result"
    }
   ],
   "source": [
    "evaluate_results(train_x_tensor, train_y_tensor)"
   ]
  },
  {
   "cell_type": "code",
   "execution_count": 107,
   "metadata": {},
   "outputs": [
    {
     "data": {
      "text/plain": [
       "(776.3718249848055, 0.5038402457757296)"
      ]
     },
     "execution_count": 107,
     "metadata": {},
     "output_type": "execute_result"
    }
   ],
   "source": [
    "evaluate_results(valid_x_tensor, valid_y_tensor)"
   ]
  },
  {
   "cell_type": "code",
   "execution_count": 108,
   "metadata": {},
   "outputs": [
    {
     "data": {
      "text/plain": [
       "(1339.5038093065693, 0.4919786096256685)"
      ]
     },
     "execution_count": 108,
     "metadata": {},
     "output_type": "execute_result"
    }
   ],
   "source": [
    "evaluate_results(test_x_tensor, test_y_tensor)"
   ]
  },
  {
   "cell_type": "markdown",
   "metadata": {},
   "source": [
    "### Benchmark Model"
   ]
  },
  {
   "cell_type": "code",
   "execution_count": 109,
   "metadata": {},
   "outputs": [],
   "source": [
    "true = np.array(np.hstack(y_tensor).tolist())\n",
    "pred = np.array(list(np.array(np.hstack(y_tensor).tolist())[1:]) + list(np.array(valid_y_tensor[0])))"
   ]
  },
  {
   "cell_type": "code",
   "execution_count": 110,
   "metadata": {},
   "outputs": [],
   "source": [
    "mae = np.mean(np.abs(pred - true))\n",
    "# Predict delta accuracy\n",
    "delta_true = np.array([1 if np.sign(true[idx]-true[idx+1]) >=0 else 0 for idx in range(true.shape[0]-1)])\n",
    "delta_pred = np.array([1 if np.sign(pred[idx]-pred[idx+1]) >=0 else 0 for idx in range(pred.shape[0]-1)])\n",
    "tp = sum(1 for val in (delta_true + delta_pred) if val==2)\n",
    "fp = sum(1 for val in (delta_true - delta_pred) if val==-1)\n",
    "fn = sum(1 for val in (delta_true - delta_pred) if val==1)\n",
    "precision = tp/(tp+fp)\n",
    "recal = tp/(tp+fn)\n",
    "f1 = 2*(precision*recal)/(precision+recal)"
   ]
  },
  {
   "cell_type": "code",
   "execution_count": 112,
   "metadata": {},
   "outputs": [
    {
     "data": {
      "text/plain": [
       "(391.6117385868906, 0.5516329998112138)"
      ]
     },
     "execution_count": 112,
     "metadata": {},
     "output_type": "execute_result"
    }
   ],
   "source": [
    "mae, f1"
   ]
  },
  {
   "cell_type": "markdown",
   "metadata": {},
   "source": [
    "### Graphical Evaluation"
   ]
  },
  {
   "cell_type": "code",
   "execution_count": null,
   "metadata": {},
   "outputs": [],
   "source": []
  },
  {
   "cell_type": "code",
   "execution_count": null,
   "metadata": {},
   "outputs": [],
   "source": []
  },
  {
   "cell_type": "code",
   "execution_count": null,
   "metadata": {},
   "outputs": [],
   "source": []
  },
  {
   "cell_type": "code",
   "execution_count": null,
   "metadata": {},
   "outputs": [],
   "source": []
  },
  {
   "cell_type": "code",
   "execution_count": null,
   "metadata": {},
   "outputs": [],
   "source": []
  },
  {
   "cell_type": "code",
   "execution_count": null,
   "metadata": {},
   "outputs": [],
   "source": [
    "from matplotlib import pyplot"
   ]
  },
  {
   "cell_type": "code",
   "execution_count": null,
   "metadata": {},
   "outputs": [],
   "source": [
    "a4_dims = (16.5, 11.7)\n",
    "fig, ax = pyplot.subplots(figsize=a4_dims)\n",
    "sns.lineplot(ax=ax, data=a, dashes=False, markers=True)"
   ]
  },
  {
   "cell_type": "markdown",
   "metadata": {},
   "source": [
    "### Sagemaker Training"
   ]
  },
  {
   "cell_type": "code",
   "execution_count": null,
   "metadata": {},
   "outputs": [],
   "source": [
    "import boto3\n",
    "import sagemaker\n",
    "\n",
    "sagemaker_session = sagemaker.Session(boto_session=boto3.session.Session(region_name=\"sa-east-1\"))\n",
    "\n",
    "bucket = sagemaker_session.default_bucket()\n",
    "prefix = 'sagemaker/ibovespa'\n",
    "\n",
    "try:\n",
    "    role = sagemaker.get_execution_role()\n",
    "except Exception as err:\n",
    "    role = \"arn:aws:iam::977053370764:role/service-role/AmazonSageMaker-ExecutionRole-20201202T141643\""
   ]
  },
  {
   "cell_type": "code",
   "execution_count": null,
   "metadata": {},
   "outputs": [],
   "source": [
    "data_root_dir"
   ]
  },
  {
   "cell_type": "code",
   "execution_count": null,
   "metadata": {},
   "outputs": [],
   "source": [
    "input_data = sagemaker_session.upload_data(path=data_root_dir, bucket=bucket, key_prefix=prefix)\n",
    "input_data"
   ]
  },
  {
   "cell_type": "code",
   "execution_count": null,
   "metadata": {},
   "outputs": [],
   "source": [
    "from sagemaker.pytorch import PyTorch\n",
    "\n",
    "estimator = PyTorch(entry_point=\"train.py\",\n",
    "                    source_dir=\"ibov\",\n",
    "                    py_version=\"py3\",\n",
    "                    role=role,\n",
    "                    framework_version='0.4.0',\n",
    "                    train_instance_count=1,\n",
    "                    train_instance_type='ml.m5.large')"
   ]
  },
  {
   "cell_type": "code",
   "execution_count": null,
   "metadata": {},
   "outputs": [],
   "source": [
    "estimator.fit({'train': input_data})"
   ]
  },
  {
   "cell_type": "code",
   "execution_count": null,
   "metadata": {},
   "outputs": [],
   "source": [
    "predictor = estimator.deploy(initial_instance_count=1,instance_type=\"ml.m4.xlarge\")"
   ]
  },
  {
   "cell_type": "code",
   "execution_count": null,
   "metadata": {},
   "outputs": [],
   "source": [
    "tensor_x"
   ]
  },
  {
   "cell_type": "code",
   "execution_count": null,
   "metadata": {},
   "outputs": [],
   "source": []
  },
  {
   "cell_type": "code",
   "execution_count": null,
   "metadata": {},
   "outputs": [],
   "source": [
    "predictor.predict(tensor_x)"
   ]
  },
  {
   "cell_type": "code",
   "execution_count": null,
   "metadata": {},
   "outputs": [],
   "source": []
  }
 ],
 "metadata": {
  "kernelspec": {
   "display_name": "Python 3",
   "language": "python",
   "name": "python3"
  },
  "language_info": {
   "codemirror_mode": {
    "name": "ipython",
    "version": 3
   },
   "file_extension": ".py",
   "mimetype": "text/x-python",
   "name": "python",
   "nbconvert_exporter": "python",
   "pygments_lexer": "ipython3",
   "version": "3.8.5"
  }
 },
 "nbformat": 4,
 "nbformat_minor": 4
}
