{
 "cells": [
  {
   "cell_type": "markdown",
   "metadata": {},
   "source": [
    "# Ibovespa forecasting using neural networks\n",
    "\n",
    "## Machine Learning Engineer Nanodegree - Capstone Proposal"
   ]
  },
  {
   "cell_type": "markdown",
   "metadata": {},
   "source": [
    "### Import python packages"
   ]
  },
  {
   "cell_type": "code",
   "execution_count": 69,
   "metadata": {},
   "outputs": [],
   "source": [
    "import os\n",
    "import pandas as pd\n",
    "import seaborn as sns\n",
    "import matplotlib.pyplot as plt\n",
    "\n",
    "from torch.nn import L1Loss\n",
    "from torch.optim import Adam\n",
    "\n",
    "from ibov.utils import load_config\n",
    "from ibov.model import train, torch_data, model_fc1h, model_fc2h, model_lstm, Model\n",
    "from ibov.feature import create_lags, consolidate_features, create_delta_sign, label_train_test, Normalize\n",
    "from ibov.request import get_history\n",
    "from ibov.metrics import calculate_metrics, model_prediction, benchmark_model, graphical_evaluation"
   ]
  },
  {
   "cell_type": "markdown",
   "metadata": {},
   "source": [
    "### Loading Configs"
   ]
  },
  {
   "cell_type": "code",
   "execution_count": 2,
   "metadata": {},
   "outputs": [],
   "source": [
    "# Load config dict\n",
    "config = load_config()"
   ]
  },
  {
   "cell_type": "code",
   "execution_count": 3,
   "metadata": {},
   "outputs": [],
   "source": [
    "# Feature Engineering Configs\n",
    "window = config.get(\"feature\").get(\"window\")\n",
    "variables = config.get(\"feature\").get(\"variables\")\n",
    "test_split = config.get(\"feature\").get(\"split\").get(\"test\")\n",
    "valid_split = config.get(\"feature\").get(\"split\").get(\"valid\")\n",
    "\n",
    "# Data Configs\n",
    "data_dir = config.get(\"data\").get(\"dir\")\n",
    "ibov_ticker = config.get(\"ibov\").get(\"ticker\")\n",
    "filename = config.get(\"data\").get(\"file\")\n",
    "data_size = config.get(\"data\").get(\"size\")\n",
    "ascending = config.get(\"data\").get(\"ascending\") == 'True'\n",
    "\n",
    "# Model configurations\n",
    "dropout = config.get(\"model\").get(\"dropout\")\n",
    "hidden_layer = config.get(\"model\").get(\"hidden_layer\")\n",
    "lr = config.get(\"model\").get(\"lr\")\n",
    "seed = config.get(\"model\").get(\"seed\")\n",
    "epochs = config.get(\"model\").get(\"epochs\")"
   ]
  },
  {
   "cell_type": "markdown",
   "metadata": {},
   "source": [
    "### Data Collection"
   ]
  },
  {
   "cell_type": "markdown",
   "metadata": {},
   "source": [
    "#### Capture new data"
   ]
  },
  {
   "cell_type": "code",
   "execution_count": 62,
   "metadata": {},
   "outputs": [],
   "source": [
    "# Target collection\n",
    "ibovespa = get_history(ticker=ibov_ticker, data_size=data_size, ascending=ascending)\n",
    "\n",
    "# Calendar Variables\n",
    "calendar_variables = pd.get_dummies(pd.DatetimeIndex(ibovespa['date']).weekday, prefix=\"weekday\")\n",
    "ibovespa = pd.concat([ibovespa, calendar_variables], axis = 1)\n",
    "ibovespa[[\"weekday\"]] = pd.DatetimeIndex(ibovespa['date']).weekday\n",
    "\n",
    "# Stock Prices\n",
    "for stock in config[\"ibov\"][\"stocks\"]:    \n",
    "    df = get_history(ticker=stock, data_size=data_size, ascending=ascending)\n",
    "    df.rename(columns={\"close\": stock[:-3]},inplace=True)\n",
    "    ibovespa = ibovespa.merge(df, how=\"inner\", on=\"date\")\n",
    "    \n",
    "# Label datapoint as train or test dataset\n",
    "ibovespa = label_train_test(ibovespa, split=test_split, split_valid=valid_split, ascending=ascending)\n",
    "\n",
    "# Save data on disk\n",
    "ibovespa.to_csv(os.path.join(data_dir, filename), index=False)"
   ]
  },
  {
   "cell_type": "markdown",
   "metadata": {},
   "source": [
    "#### Read Existing data"
   ]
  },
  {
   "cell_type": "code",
   "execution_count": null,
   "metadata": {},
   "outputs": [],
   "source": [
    "# Read from disk\n",
    "ibovespa = pd.read_csv(os.path.join(data_dir, filename))"
   ]
  },
  {
   "cell_type": "markdown",
   "metadata": {},
   "source": [
    "### Data Exploration"
   ]
  },
  {
   "cell_type": "markdown",
   "metadata": {},
   "source": [
    "It is important to evaluate data and get insights only form the train dataset. Otherwise, we will have a data leakage even before any model training."
   ]
  },
  {
   "cell_type": "code",
   "execution_count": 63,
   "metadata": {},
   "outputs": [
    {
     "data": {
      "text/html": [
       "<div>\n",
       "<style scoped>\n",
       "    .dataframe tbody tr th:only-of-type {\n",
       "        vertical-align: middle;\n",
       "    }\n",
       "\n",
       "    .dataframe tbody tr th {\n",
       "        vertical-align: top;\n",
       "    }\n",
       "\n",
       "    .dataframe thead th {\n",
       "        text-align: right;\n",
       "    }\n",
       "</style>\n",
       "<table border=\"1\" class=\"dataframe\">\n",
       "  <thead>\n",
       "    <tr style=\"text-align: right;\">\n",
       "      <th></th>\n",
       "      <th>date</th>\n",
       "      <th>close</th>\n",
       "      <th>ITUB4</th>\n",
       "      <th>BBDC4</th>\n",
       "      <th>VALE3</th>\n",
       "      <th>PETR4</th>\n",
       "      <th>PETR3</th>\n",
       "      <th>ABEV3</th>\n",
       "      <th>BBAS3</th>\n",
       "      <th>B3SA3</th>\n",
       "      <th>...</th>\n",
       "      <th>diff_close</th>\n",
       "      <th>diff_ITUB4</th>\n",
       "      <th>diff_BBDC4</th>\n",
       "      <th>diff_VALE3</th>\n",
       "      <th>diff_PETR4</th>\n",
       "      <th>diff_PETR3</th>\n",
       "      <th>diff_ABEV3</th>\n",
       "      <th>diff_BBAS3</th>\n",
       "      <th>diff_B3SA3</th>\n",
       "      <th>diff_ITSA4</th>\n",
       "    </tr>\n",
       "  </thead>\n",
       "  <tbody>\n",
       "    <tr>\n",
       "      <th>0</th>\n",
       "      <td>2019-08-07</td>\n",
       "      <td>102782.0</td>\n",
       "      <td>36.799999</td>\n",
       "      <td>34.889999</td>\n",
       "      <td>46.480000</td>\n",
       "      <td>25.600000</td>\n",
       "      <td>28.200001</td>\n",
       "      <td>20.629999</td>\n",
       "      <td>48.450001</td>\n",
       "      <td>43.439999</td>\n",
       "      <td>...</td>\n",
       "      <td>0.006049</td>\n",
       "      <td>0.036912</td>\n",
       "      <td>0.021071</td>\n",
       "      <td>-0.003003</td>\n",
       "      <td>-0.010819</td>\n",
       "      <td>-0.009484</td>\n",
       "      <td>0.007324</td>\n",
       "      <td>-0.001031</td>\n",
       "      <td>0.014953</td>\n",
       "      <td>0.026066</td>\n",
       "    </tr>\n",
       "    <tr>\n",
       "      <th>1</th>\n",
       "      <td>2019-08-08</td>\n",
       "      <td>104115.0</td>\n",
       "      <td>37.000000</td>\n",
       "      <td>35.060001</td>\n",
       "      <td>47.180000</td>\n",
       "      <td>26.350000</td>\n",
       "      <td>28.870001</td>\n",
       "      <td>20.170000</td>\n",
       "      <td>48.799999</td>\n",
       "      <td>45.330002</td>\n",
       "      <td>...</td>\n",
       "      <td>0.012969</td>\n",
       "      <td>0.005435</td>\n",
       "      <td>0.004873</td>\n",
       "      <td>0.015060</td>\n",
       "      <td>0.029297</td>\n",
       "      <td>0.023759</td>\n",
       "      <td>-0.022298</td>\n",
       "      <td>0.007224</td>\n",
       "      <td>0.043508</td>\n",
       "      <td>0.010008</td>\n",
       "    </tr>\n",
       "    <tr>\n",
       "      <th>2</th>\n",
       "      <td>2019-08-09</td>\n",
       "      <td>103996.0</td>\n",
       "      <td>36.720001</td>\n",
       "      <td>34.480000</td>\n",
       "      <td>45.490002</td>\n",
       "      <td>26.280001</td>\n",
       "      <td>28.620001</td>\n",
       "      <td>20.070000</td>\n",
       "      <td>48.650002</td>\n",
       "      <td>45.500000</td>\n",
       "      <td>...</td>\n",
       "      <td>-0.001143</td>\n",
       "      <td>-0.007568</td>\n",
       "      <td>-0.016543</td>\n",
       "      <td>-0.035820</td>\n",
       "      <td>-0.002657</td>\n",
       "      <td>-0.008660</td>\n",
       "      <td>-0.004958</td>\n",
       "      <td>-0.003074</td>\n",
       "      <td>0.003750</td>\n",
       "      <td>-0.004573</td>\n",
       "    </tr>\n",
       "    <tr>\n",
       "      <th>3</th>\n",
       "      <td>2019-08-12</td>\n",
       "      <td>101915.0</td>\n",
       "      <td>35.200001</td>\n",
       "      <td>33.759998</td>\n",
       "      <td>45.160000</td>\n",
       "      <td>25.650000</td>\n",
       "      <td>27.850000</td>\n",
       "      <td>19.480000</td>\n",
       "      <td>47.000000</td>\n",
       "      <td>44.240002</td>\n",
       "      <td>...</td>\n",
       "      <td>-0.020010</td>\n",
       "      <td>-0.041394</td>\n",
       "      <td>-0.020882</td>\n",
       "      <td>-0.007254</td>\n",
       "      <td>-0.023973</td>\n",
       "      <td>-0.026904</td>\n",
       "      <td>-0.029397</td>\n",
       "      <td>-0.033916</td>\n",
       "      <td>-0.027692</td>\n",
       "      <td>-0.035222</td>\n",
       "    </tr>\n",
       "    <tr>\n",
       "      <th>4</th>\n",
       "      <td>2019-08-13</td>\n",
       "      <td>103299.0</td>\n",
       "      <td>35.889999</td>\n",
       "      <td>34.099998</td>\n",
       "      <td>46.500000</td>\n",
       "      <td>25.790001</td>\n",
       "      <td>27.959999</td>\n",
       "      <td>19.379999</td>\n",
       "      <td>47.549999</td>\n",
       "      <td>45.860001</td>\n",
       "      <td>...</td>\n",
       "      <td>0.013580</td>\n",
       "      <td>0.019602</td>\n",
       "      <td>0.010071</td>\n",
       "      <td>0.029672</td>\n",
       "      <td>0.005458</td>\n",
       "      <td>0.003950</td>\n",
       "      <td>-0.005133</td>\n",
       "      <td>0.011702</td>\n",
       "      <td>0.036618</td>\n",
       "      <td>0.025397</td>\n",
       "    </tr>\n",
       "  </tbody>\n",
       "</table>\n",
       "<p>5 rows × 28 columns</p>\n",
       "</div>"
      ],
      "text/plain": [
       "         date     close      ITUB4      BBDC4      VALE3      PETR4  \\\n",
       "0  2019-08-07  102782.0  36.799999  34.889999  46.480000  25.600000   \n",
       "1  2019-08-08  104115.0  37.000000  35.060001  47.180000  26.350000   \n",
       "2  2019-08-09  103996.0  36.720001  34.480000  45.490002  26.280001   \n",
       "3  2019-08-12  101915.0  35.200001  33.759998  45.160000  25.650000   \n",
       "4  2019-08-13  103299.0  35.889999  34.099998  46.500000  25.790001   \n",
       "\n",
       "       PETR3      ABEV3      BBAS3      B3SA3  ...  diff_close  diff_ITUB4  \\\n",
       "0  28.200001  20.629999  48.450001  43.439999  ...    0.006049    0.036912   \n",
       "1  28.870001  20.170000  48.799999  45.330002  ...    0.012969    0.005435   \n",
       "2  28.620001  20.070000  48.650002  45.500000  ...   -0.001143   -0.007568   \n",
       "3  27.850000  19.480000  47.000000  44.240002  ...   -0.020010   -0.041394   \n",
       "4  27.959999  19.379999  47.549999  45.860001  ...    0.013580    0.019602   \n",
       "\n",
       "   diff_BBDC4  diff_VALE3  diff_PETR4  diff_PETR3  diff_ABEV3 diff_BBAS3  \\\n",
       "0    0.021071   -0.003003   -0.010819   -0.009484    0.007324  -0.001031   \n",
       "1    0.004873    0.015060    0.029297    0.023759   -0.022298   0.007224   \n",
       "2   -0.016543   -0.035820   -0.002657   -0.008660   -0.004958  -0.003074   \n",
       "3   -0.020882   -0.007254   -0.023973   -0.026904   -0.029397  -0.033916   \n",
       "4    0.010071    0.029672    0.005458    0.003950   -0.005133   0.011702   \n",
       "\n",
       "   diff_B3SA3  diff_ITSA4  \n",
       "0    0.014953    0.026066  \n",
       "1    0.043508    0.010008  \n",
       "2    0.003750   -0.004573  \n",
       "3   -0.027692   -0.035222  \n",
       "4    0.036618    0.025397  \n",
       "\n",
       "[5 rows x 28 columns]"
      ]
     },
     "execution_count": 63,
     "metadata": {},
     "output_type": "execute_result"
    }
   ],
   "source": [
    "explore_data = ibovespa[ibovespa[\"group\"]==\"train\"]\n",
    "\n",
    "numeric_columns = ['close', 'ITUB4', 'BBDC4', 'VALE3', 'PETR4', 'PETR3', 'ABEV3', 'BBAS3', 'B3SA3', 'ITSA4']\n",
    "stocks_diff = explore_data[numeric_columns].pct_change().reset_index(drop=True)\n",
    "stocks_diff.columns = [\"diff_\" + column for column in stocks_diff.columns]\n",
    "\n",
    "complete_explore_data = pd.concat([explore_data, stocks_diff], axis=1).iloc[1:].reset_index(drop=True)\n",
    "complete_explore_data.head()"
   ]
  },
  {
   "cell_type": "markdown",
   "metadata": {},
   "source": [
    "#### Weekday Boxplots"
   ]
  },
  {
   "cell_type": "code",
   "execution_count": 84,
   "metadata": {},
   "outputs": [
    {
     "data": {
      "text/plain": [
       "<matplotlib.lines.Line2D at 0x7fbe3ae80400>"
      ]
     },
     "execution_count": 84,
     "metadata": {},
     "output_type": "execute_result"
    },
    {
     "data": {
      "image/png": "[encoded data removed]",
      "text/plain": [
       "<Figure size 986.4x396 with 1 Axes>"
      ]
     },
     "metadata": {
      "needs_background": "light"
     },
     "output_type": "display_data"
    }
   ],
   "source": [
    "f, ax = plt.subplots(figsize=(13.7, 5.5))\n",
    "sns.boxplot(y=\"weekday\", x=\"diff_close\", data=complete_explore_data, orient=\"h\", ax=ax)\n",
    "sns.swarmplot(x=\"diff_close\", y=\"weekday\", orient=\"h\", data=complete_explore_data, color=\".25\", ax=ax)\n",
    "plt.axvline(0, 0,1, ls=\"--\", color=\"gray\")"
   ]
  },
  {
   "cell_type": "markdown",
   "metadata": {},
   "source": [
    "#### Weekday Distplots"
   ]
  },
  {
   "cell_type": "code",
   "execution_count": null,
   "metadata": {},
   "outputs": [],
   "source": []
  },
  {
   "cell_type": "code",
   "execution_count": null,
   "metadata": {},
   "outputs": [],
   "source": []
  },
  {
   "cell_type": "markdown",
   "metadata": {},
   "source": [
    "### Feature Engineering"
   ]
  },
  {
   "cell_type": "code",
   "execution_count": null,
   "metadata": {},
   "outputs": [],
   "source": [
    "scaler = Normalize()\n",
    "scaler.fit(ibovespa[ibovespa[\"group\"]==\"train\"][[\"close\"]])\n",
    "ibovespa[[\"close\"]] = scaler.transform(ibovespa[[\"close\"]])"
   ]
  },
  {
   "cell_type": "code",
   "execution_count": null,
   "metadata": {},
   "outputs": [],
   "source": [
    "# Create lag variables\n",
    "ibov_lags_df = create_lags(ibovespa, window=window, var=\"close\", index=\"date\")"
   ]
  },
  {
   "cell_type": "code",
   "execution_count": null,
   "metadata": {},
   "outputs": [],
   "source": [
    "# Create sign variables\n",
    "ibov_delta_sign_df = create_delta_sign(ibov_lags_df, var=\"lags\", index=\"date\", window=window)"
   ]
  },
  {
   "cell_type": "code",
   "execution_count": null,
   "metadata": {},
   "outputs": [],
   "source": [
    "# Consolidate raw data with features\n",
    "master_table = consolidate_features(ibovespa, \"date\", ibov_lags_df, ibov_delta_sign_df)"
   ]
  },
  {
   "cell_type": "code",
   "execution_count": null,
   "metadata": {},
   "outputs": [],
   "source": [
    "# Load data to torch standard\n",
    "train_loader, train_x_tensor, train_y_tensor = \\\n",
    "    torch_data(master_table, target=\"target\", variables=variables, group_var=\"group\", batch=50, group=\"train\")\n",
    "\n",
    "valid_loader, valid_x_tensor, valid_y_tensor = \\\n",
    "    torch_data(master_table, target=\"target\", variables=variables, group_var=\"group\", batch=50, group=\"valid\")\n",
    "\n",
    "test_loader, test_x_tensor, test_y_tensor = \\\n",
    "    torch_data(master_table, target=\"target\", variables=variables, group_var=\"group\", batch=50, group=\"test\")"
   ]
  },
  {
   "cell_type": "markdown",
   "metadata": {},
   "source": [
    "### Training step"
   ]
  },
  {
   "cell_type": "code",
   "execution_count": null,
   "metadata": {},
   "outputs": [],
   "source": [
    "from torch import nn\n",
    "import torch"
   ]
  },
  {
   "cell_type": "code",
   "execution_count": null,
   "metadata": {},
   "outputs": [],
   "source": [
    "class Model(nn.Module):\n",
    "\n",
    "    def __init__(self, input_layer, hidden_layer=50, dropout=0.25):\n",
    "\n",
    "        super(Model, self).__init__()\n",
    "        self.hidden_layer = hidden_layer\n",
    "        self.dropout = nn.Dropout(dropout)\n",
    "        self.fc1 = nn.Linear(input_layer, hidden_layer)\n",
    "        self.fc2 = nn.Linear(hidden_layer+hidden_layer, 1)\n",
    "\n",
    "        self.hidden_cell = (torch.zeros(1,1,self.hidden_layer),\n",
    "                            torch.zeros(1,1,self.hidden_layer))\n",
    "        \n",
    "        self.lstm = nn.LSTM(input_layer, hidden_layer)\n",
    "        \n",
    "    def forward(self, input):\n",
    "\n",
    "        x = input[:,0,:]\n",
    "        z = input[:,1,:]\n",
    "        x = self.fc1(x)\n",
    "        x = self.dropout(x)\n",
    "\n",
    "        lstm_out, self.hidden_cell = self.lstm(z.view(len(z),1 , -1), self.hidden_cell)\n",
    "        ds = torch.cat((x,lstm_out[:,0,:]),1)\n",
    "        output = self.fc2(ds)\n",
    "\n",
    "        return output"
   ]
  },
  {
   "cell_type": "code",
   "execution_count": null,
   "metadata": {},
   "outputs": [],
   "source": [
    "# Model definition\n",
    "model = Model(input_layer=window, hidden_layer=hidden_layer, dropout=dropout)\n",
    "criterion = L1Loss()\n",
    "optimizer = Adam(model.parameters(), lr=lr)"
   ]
  },
  {
   "cell_type": "code",
   "execution_count": null,
   "metadata": {
    "scrolled": true
   },
   "outputs": [],
   "source": [
    "# Model training\n",
    "train(model, train_loader, valid_loader, criterion, optimizer, epochs=epochs, seed=seed)"
   ]
  },
  {
   "cell_type": "markdown",
   "metadata": {},
   "source": [
    "### Evaluation"
   ]
  },
  {
   "cell_type": "code",
   "execution_count": null,
   "metadata": {},
   "outputs": [],
   "source": [
    "# Model performance on Training dataset\n",
    "train_true, train_pred = model_prediction(model, train_x_tensor, train_y_tensor)\n",
    "calculate_metrics(train_true, train_pred)"
   ]
  },
  {
   "cell_type": "code",
   "execution_count": null,
   "metadata": {},
   "outputs": [],
   "source": [
    "# Model performance on Validation dataset\n",
    "valid_true, valid_pred = model_prediction(model, valid_x_tensor, valid_y_tensor)\n",
    "calculate_metrics(valid_true, valid_pred) "
   ]
  },
  {
   "cell_type": "code",
   "execution_count": null,
   "metadata": {},
   "outputs": [],
   "source": [
    "# Model performance on Test dataset\n",
    "test_true, test_pred = model_prediction(model, test_x_tensor, test_y_tensor)\n",
    "calculate_metrics(test_true, test_pred)"
   ]
  },
  {
   "cell_type": "markdown",
   "metadata": {},
   "source": [
    "### Benchmark Model"
   ]
  },
  {
   "cell_type": "code",
   "execution_count": null,
   "metadata": {},
   "outputs": [],
   "source": [
    "# Set and Evaludate Benchmark Model\n",
    "bmk_true, bmk_pred = benchmark_model(test_y_tensor, valid_y_tensor)\n",
    "calculate_metrics(bmk_true, bmk_pred)"
   ]
  },
  {
   "cell_type": "markdown",
   "metadata": {},
   "source": [
    "### Graphical Evaluation"
   ]
  },
  {
   "cell_type": "markdown",
   "metadata": {},
   "source": [
    "#### Test dataset and benchmark model"
   ]
  },
  {
   "cell_type": "code",
   "execution_count": null,
   "metadata": {
    "scrolled": false
   },
   "outputs": [],
   "source": [
    "# Evaluate test dataset graphically\n",
    "graphical_evaluation(test_true, test_pred, bmk_true, bmk_pred)"
   ]
  },
  {
   "cell_type": "markdown",
   "metadata": {},
   "source": [
    "#### Train and validation datasets"
   ]
  },
  {
   "cell_type": "code",
   "execution_count": null,
   "metadata": {},
   "outputs": [],
   "source": [
    "# Evaluate train and validation dataset graphically\n",
    "graphical_evaluation(train_true, train_pred, valid_true, valid_pred)"
   ]
  }
 ],
 "metadata": {
  "kernelspec": {
   "display_name": "Python 3",
   "language": "python",
   "name": "python3"
  },
  "language_info": {
   "codemirror_mode": {
    "name": "ipython",
    "version": 3
   },
   "file_extension": ".py",
   "mimetype": "text/x-python",
   "name": "python",
   "nbconvert_exporter": "python",
   "pygments_lexer": "ipython3",
   "version": "3.8.5"
  }
 },
 "nbformat": 4,
 "nbformat_minor": 4
}
