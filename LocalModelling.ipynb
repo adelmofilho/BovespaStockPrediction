{
 "cells": [
  {
   "cell_type": "markdown",
   "metadata": {},
   "source": [
    "# Ibovespa forecasting using neural networks\n",
    "\n",
    "## Machine Learning Engineer Nanodegree - Capstone Proposal"
   ]
  },
  {
   "cell_type": "markdown",
   "metadata": {},
   "source": [
    "### Import python packages"
   ]
  },
  {
   "cell_type": "code",
   "execution_count": 131,
   "metadata": {},
   "outputs": [],
   "source": [
    "import os\n",
    "import pandas as pd\n",
    "import seaborn as sns\n",
    "import matplotlib.pyplot as plt\n",
    "\n",
    "from torch.nn import L1Loss\n",
    "from torch.optim import Adam\n",
    "\n",
    "from ibovespa.utils import load_config\n",
    "from ibovespa.data_collection import collect_data\n",
    "from ibovespa.data_preparation import prepare_data\n",
    "from ibovespa.feature_engineering import engineer_features\n",
    "from ibovespa.model_training import torch_data"
   ]
  },
  {
   "cell_type": "markdown",
   "metadata": {},
   "source": [
    "### Load Configurations"
   ]
  },
  {
   "cell_type": "code",
   "execution_count": 145,
   "metadata": {},
   "outputs": [],
   "source": [
    "config = load_config()"
   ]
  },
  {
   "cell_type": "markdown",
   "metadata": {},
   "source": [
    "### Data Collection"
   ]
  },
  {
   "cell_type": "code",
   "execution_count": 3,
   "metadata": {},
   "outputs": [],
   "source": [
    "period = config[\"data_collection\"][\"period\"]\n",
    "stocks = config[\"data_collection\"][\"stocks\"]\n",
    "\n",
    "raw_data = collect_data(stocks=stocks, data_size=period)"
   ]
  },
  {
   "cell_type": "code",
   "execution_count": 38,
   "metadata": {},
   "outputs": [
    {
     "data": {
      "text/html": [
       "<div>\n",
       "<style scoped>\n",
       "    .dataframe tbody tr th:only-of-type {\n",
       "        vertical-align: middle;\n",
       "    }\n",
       "\n",
       "    .dataframe tbody tr th {\n",
       "        vertical-align: top;\n",
       "    }\n",
       "\n",
       "    .dataframe thead th {\n",
       "        text-align: right;\n",
       "    }\n",
       "</style>\n",
       "<table border=\"1\" class=\"dataframe\">\n",
       "  <thead>\n",
       "    <tr style=\"text-align: right;\">\n",
       "      <th></th>\n",
       "      <th>date</th>\n",
       "      <th>^BVSP</th>\n",
       "      <th>ITUB4</th>\n",
       "      <th>BBDC4</th>\n",
       "      <th>VALE3</th>\n",
       "      <th>PETR4</th>\n",
       "      <th>PETR3</th>\n",
       "      <th>ABEV3</th>\n",
       "      <th>BBAS3</th>\n",
       "      <th>B3SA3</th>\n",
       "      <th>ITSA4</th>\n",
       "      <th>group</th>\n",
       "    </tr>\n",
       "  </thead>\n",
       "  <tbody>\n",
       "    <tr>\n",
       "      <th>360</th>\n",
       "      <td>2021-01-21</td>\n",
       "      <td>118443.000000</td>\n",
       "      <td>29.910000</td>\n",
       "      <td>25.480000</td>\n",
       "      <td>93.360001</td>\n",
       "      <td>27.549999</td>\n",
       "      <td>28.090000</td>\n",
       "      <td>15.61</td>\n",
       "      <td>34.180000</td>\n",
       "      <td>58.099998</td>\n",
       "      <td>11.04</td>\n",
       "      <td>test</td>\n",
       "    </tr>\n",
       "    <tr>\n",
       "      <th>361</th>\n",
       "      <td>2021-01-22</td>\n",
       "      <td>117172.000000</td>\n",
       "      <td>29.150000</td>\n",
       "      <td>24.990000</td>\n",
       "      <td>92.629997</td>\n",
       "      <td>27.020000</td>\n",
       "      <td>27.700001</td>\n",
       "      <td>15.03</td>\n",
       "      <td>33.419998</td>\n",
       "      <td>58.459999</td>\n",
       "      <td>10.82</td>\n",
       "      <td>test</td>\n",
       "    </tr>\n",
       "    <tr>\n",
       "      <th>362</th>\n",
       "      <td>2021-01-26</td>\n",
       "      <td>116464.000000</td>\n",
       "      <td>28.250000</td>\n",
       "      <td>24.410000</td>\n",
       "      <td>91.750000</td>\n",
       "      <td>27.000000</td>\n",
       "      <td>27.600000</td>\n",
       "      <td>15.40</td>\n",
       "      <td>32.790001</td>\n",
       "      <td>59.299999</td>\n",
       "      <td>10.62</td>\n",
       "      <td>test</td>\n",
       "    </tr>\n",
       "    <tr>\n",
       "      <th>363</th>\n",
       "      <td>2021-01-27</td>\n",
       "      <td>115954.000000</td>\n",
       "      <td>28.670000</td>\n",
       "      <td>24.940001</td>\n",
       "      <td>90.540001</td>\n",
       "      <td>27.930000</td>\n",
       "      <td>28.420000</td>\n",
       "      <td>15.53</td>\n",
       "      <td>33.770000</td>\n",
       "      <td>59.369999</td>\n",
       "      <td>10.65</td>\n",
       "      <td>test</td>\n",
       "    </tr>\n",
       "    <tr>\n",
       "      <th>364</th>\n",
       "      <td>2021-01-28</td>\n",
       "      <td>117587.726562</td>\n",
       "      <td>28.940001</td>\n",
       "      <td>25.370001</td>\n",
       "      <td>89.730003</td>\n",
       "      <td>28.340000</td>\n",
       "      <td>28.860001</td>\n",
       "      <td>15.53</td>\n",
       "      <td>34.310001</td>\n",
       "      <td>59.529999</td>\n",
       "      <td>10.74</td>\n",
       "      <td>test</td>\n",
       "    </tr>\n",
       "  </tbody>\n",
       "</table>\n",
       "</div>"
      ],
      "text/plain": [
       "           date          ^BVSP      ITUB4      BBDC4      VALE3      PETR4  \\\n",
       "360  2021-01-21  118443.000000  29.910000  25.480000  93.360001  27.549999   \n",
       "361  2021-01-22  117172.000000  29.150000  24.990000  92.629997  27.020000   \n",
       "362  2021-01-26  116464.000000  28.250000  24.410000  91.750000  27.000000   \n",
       "363  2021-01-27  115954.000000  28.670000  24.940001  90.540001  27.930000   \n",
       "364  2021-01-28  117587.726562  28.940001  25.370001  89.730003  28.340000   \n",
       "\n",
       "         PETR3  ABEV3      BBAS3      B3SA3  ITSA4 group  \n",
       "360  28.090000  15.61  34.180000  58.099998  11.04  test  \n",
       "361  27.700001  15.03  33.419998  58.459999  10.82  test  \n",
       "362  27.600000  15.40  32.790001  59.299999  10.62  test  \n",
       "363  28.420000  15.53  33.770000  59.369999  10.65  test  \n",
       "364  28.860001  15.53  34.310001  59.529999  10.74  test  "
      ]
     },
     "execution_count": 38,
     "metadata": {},
     "output_type": "execute_result"
    }
   ],
   "source": [
    "raw_data.tail()"
   ]
  },
  {
   "cell_type": "markdown",
   "metadata": {},
   "source": [
    "### Data Preparation"
   ]
  },
  {
   "cell_type": "code",
   "execution_count": 5,
   "metadata": {},
   "outputs": [],
   "source": [
    "test_split  = config[\"data_preparation\"][\"split_size\"][\"test\"]\n",
    "valid_split = config[\"data_preparation\"][\"split_size\"][\"validation\"]\n",
    "\n",
    "clean_data = prepare_data(raw_data, split=test_split, split_valid=valid_split)"
   ]
  },
  {
   "cell_type": "code",
   "execution_count": 39,
   "metadata": {},
   "outputs": [
    {
     "data": {
      "text/html": [
       "<div>\n",
       "<style scoped>\n",
       "    .dataframe tbody tr th:only-of-type {\n",
       "        vertical-align: middle;\n",
       "    }\n",
       "\n",
       "    .dataframe tbody tr th {\n",
       "        vertical-align: top;\n",
       "    }\n",
       "\n",
       "    .dataframe thead th {\n",
       "        text-align: right;\n",
       "    }\n",
       "</style>\n",
       "<table border=\"1\" class=\"dataframe\">\n",
       "  <thead>\n",
       "    <tr style=\"text-align: right;\">\n",
       "      <th></th>\n",
       "      <th>date</th>\n",
       "      <th>^BVSP</th>\n",
       "      <th>ITUB4</th>\n",
       "      <th>BBDC4</th>\n",
       "      <th>VALE3</th>\n",
       "      <th>PETR4</th>\n",
       "      <th>PETR3</th>\n",
       "      <th>ABEV3</th>\n",
       "      <th>BBAS3</th>\n",
       "      <th>B3SA3</th>\n",
       "      <th>ITSA4</th>\n",
       "      <th>group</th>\n",
       "    </tr>\n",
       "  </thead>\n",
       "  <tbody>\n",
       "    <tr>\n",
       "      <th>360</th>\n",
       "      <td>2021-01-21</td>\n",
       "      <td>118443.000000</td>\n",
       "      <td>29.910000</td>\n",
       "      <td>25.480000</td>\n",
       "      <td>93.360001</td>\n",
       "      <td>27.549999</td>\n",
       "      <td>28.090000</td>\n",
       "      <td>15.61</td>\n",
       "      <td>34.180000</td>\n",
       "      <td>58.099998</td>\n",
       "      <td>11.04</td>\n",
       "      <td>test</td>\n",
       "    </tr>\n",
       "    <tr>\n",
       "      <th>361</th>\n",
       "      <td>2021-01-22</td>\n",
       "      <td>117172.000000</td>\n",
       "      <td>29.150000</td>\n",
       "      <td>24.990000</td>\n",
       "      <td>92.629997</td>\n",
       "      <td>27.020000</td>\n",
       "      <td>27.700001</td>\n",
       "      <td>15.03</td>\n",
       "      <td>33.419998</td>\n",
       "      <td>58.459999</td>\n",
       "      <td>10.82</td>\n",
       "      <td>test</td>\n",
       "    </tr>\n",
       "    <tr>\n",
       "      <th>362</th>\n",
       "      <td>2021-01-26</td>\n",
       "      <td>116464.000000</td>\n",
       "      <td>28.250000</td>\n",
       "      <td>24.410000</td>\n",
       "      <td>91.750000</td>\n",
       "      <td>27.000000</td>\n",
       "      <td>27.600000</td>\n",
       "      <td>15.40</td>\n",
       "      <td>32.790001</td>\n",
       "      <td>59.299999</td>\n",
       "      <td>10.62</td>\n",
       "      <td>test</td>\n",
       "    </tr>\n",
       "    <tr>\n",
       "      <th>363</th>\n",
       "      <td>2021-01-27</td>\n",
       "      <td>115954.000000</td>\n",
       "      <td>28.670000</td>\n",
       "      <td>24.940001</td>\n",
       "      <td>90.540001</td>\n",
       "      <td>27.930000</td>\n",
       "      <td>28.420000</td>\n",
       "      <td>15.53</td>\n",
       "      <td>33.770000</td>\n",
       "      <td>59.369999</td>\n",
       "      <td>10.65</td>\n",
       "      <td>test</td>\n",
       "    </tr>\n",
       "    <tr>\n",
       "      <th>364</th>\n",
       "      <td>2021-01-28</td>\n",
       "      <td>117587.726562</td>\n",
       "      <td>28.940001</td>\n",
       "      <td>25.370001</td>\n",
       "      <td>89.730003</td>\n",
       "      <td>28.340000</td>\n",
       "      <td>28.860001</td>\n",
       "      <td>15.53</td>\n",
       "      <td>34.310001</td>\n",
       "      <td>59.529999</td>\n",
       "      <td>10.74</td>\n",
       "      <td>test</td>\n",
       "    </tr>\n",
       "  </tbody>\n",
       "</table>\n",
       "</div>"
      ],
      "text/plain": [
       "           date          ^BVSP      ITUB4      BBDC4      VALE3      PETR4  \\\n",
       "360  2021-01-21  118443.000000  29.910000  25.480000  93.360001  27.549999   \n",
       "361  2021-01-22  117172.000000  29.150000  24.990000  92.629997  27.020000   \n",
       "362  2021-01-26  116464.000000  28.250000  24.410000  91.750000  27.000000   \n",
       "363  2021-01-27  115954.000000  28.670000  24.940001  90.540001  27.930000   \n",
       "364  2021-01-28  117587.726562  28.940001  25.370001  89.730003  28.340000   \n",
       "\n",
       "         PETR3  ABEV3      BBAS3      B3SA3  ITSA4 group  \n",
       "360  28.090000  15.61  34.180000  58.099998  11.04  test  \n",
       "361  27.700001  15.03  33.419998  58.459999  10.82  test  \n",
       "362  27.600000  15.40  32.790001  59.299999  10.62  test  \n",
       "363  28.420000  15.53  33.770000  59.369999  10.65  test  \n",
       "364  28.860001  15.53  34.310001  59.529999  10.74  test  "
      ]
     },
     "execution_count": 39,
     "metadata": {},
     "output_type": "execute_result"
    }
   ],
   "source": [
    "clean_data.tail()"
   ]
  },
  {
   "cell_type": "markdown",
   "metadata": {},
   "source": [
    "### Feature Engineering"
   ]
  },
  {
   "cell_type": "code",
   "execution_count": 136,
   "metadata": {
    "scrolled": true
   },
   "outputs": [],
   "source": [
    "window = config[\"feature_engineering\"][\"window\"]\n",
    "\n",
    "feature_table, scaler = engineer_features(clean_data, window, \"train\", \"^BVSP\", model=None)"
   ]
  },
  {
   "cell_type": "markdown",
   "metadata": {},
   "source": [
    "### Model Training"
   ]
  },
  {
   "cell_type": "code",
   "execution_count": 146,
   "metadata": {},
   "outputs": [],
   "source": [
    "target = config[\"model_training\"][\"target\"]\n",
    "variables = config[\"model_training\"][\"variables\"]"
   ]
  },
  {
   "cell_type": "code",
   "execution_count": 148,
   "metadata": {},
   "outputs": [],
   "source": [
    "# Load data to torch standard\n",
    "train_loader, train_x_tensor, train_y_tensor = \\\n",
    "    torch_data(feature_table, target=\"target\", variables=variables, group_var=\"group\", batch=50, group=\"train\")\n",
    "\n",
    "valid_loader, valid_x_tensor, valid_y_tensor = \\\n",
    "    torch_data(feature_table, target=\"target\", variables=variables, group_var=\"group\", batch=50, group=\"valid\")\n",
    "\n",
    "test_loader, test_x_tensor, test_y_tensor = \\\n",
    "    torch_data(feature_table, target=\"target\", variables=variables, group_var=\"group\", batch=50, group=\"test\")"
   ]
  },
  {
   "cell_type": "markdown",
   "metadata": {},
   "source": [
    "### Training step"
   ]
  },
  {
   "cell_type": "code",
   "execution_count": 150,
   "metadata": {},
   "outputs": [],
   "source": [
    "from torch import nn\n",
    "import torch"
   ]
  },
  {
   "cell_type": "code",
   "execution_count": 151,
   "metadata": {},
   "outputs": [],
   "source": [
    "class Model(nn.Module):\n",
    "\n",
    "    def __init__(self, input_layer, hidden_layer=50, dropout=0.25):\n",
    "\n",
    "        super(Model, self).__init__()\n",
    "        self.hidden_layer = hidden_layer\n",
    "        self.dropout = nn.Dropout(dropout)\n",
    "        self.fc1 = nn.Linear(input_layer, hidden_layer)\n",
    "        self.fc2 = nn.Linear(hidden_layer+hidden_layer, 1)\n",
    "\n",
    "        self.hidden_cell = (torch.zeros(1,1,self.hidden_layer),\n",
    "                            torch.zeros(1,1,self.hidden_layer))\n",
    "        \n",
    "        self.lstm = nn.LSTM(input_layer, hidden_layer)\n",
    "        \n",
    "    def forward(self, input):\n",
    "\n",
    "        x = input[:,0,:]\n",
    "        z = input[:,1,:]\n",
    "        x = self.fc1(x)\n",
    "        x = self.dropout(x)\n",
    "\n",
    "        lstm_out, self.hidden_cell = self.lstm(z.view(len(z),1 , -1), self.hidden_cell)\n",
    "        ds = torch.cat((x,lstm_out[:,0,:]),1)\n",
    "        output = self.fc2(ds)\n",
    "\n",
    "        return output"
   ]
  },
  {
   "cell_type": "code",
   "execution_count": 154,
   "metadata": {},
   "outputs": [],
   "source": [
    "# Model definition\n",
    "model = Model(input_layer=window, hidden_layer=50, dropout=0.25)\n",
    "criterion = L1Loss()\n",
    "optimizer = Adam(model.parameters(), lr=0.01)"
   ]
  },
  {
   "cell_type": "code",
   "execution_count": 156,
   "metadata": {},
   "outputs": [],
   "source": [
    "from ibovespa.model_training import train"
   ]
  },
  {
   "cell_type": "code",
   "execution_count": 159,
   "metadata": {
    "scrolled": true
   },
   "outputs": [
    {
     "name": "stdout",
     "output_type": "stream",
     "text": [
      "13:43:09, epoch: 0, train: 2.327, valid: 0.11\n",
      "13:43:09, epoch: 1, train: 0.933, valid: 0.09\n",
      "13:43:10, epoch: 2, train: 0.748, valid: 0.038\n",
      "13:43:11, epoch: 3, train: 0.72, valid: 0.108\n",
      "13:43:11, epoch: 4, train: 0.623, valid: 0.058\n",
      "13:43:13, epoch: 5, train: 0.57, valid: 0.078\n",
      "13:43:14, epoch: 6, train: 0.611, valid: 0.053\n",
      "13:43:15, epoch: 7, train: 0.532, valid: 0.059\n",
      "13:43:17, epoch: 8, train: 0.571, valid: 0.028\n",
      "13:43:19, epoch: 9, train: 0.495, valid: 0.045\n"
     ]
    }
   ],
   "source": [
    "# Model training\n",
    "train(model, train_loader, valid_loader, criterion, optimizer, epochs=10, seed=42)"
   ]
  },
  {
   "cell_type": "markdown",
   "metadata": {},
   "source": [
    "### Evaluation"
   ]
  },
  {
   "cell_type": "code",
   "execution_count": null,
   "metadata": {},
   "outputs": [],
   "source": [
    "# Model performance on Training dataset\n",
    "train_true, train_pred = model_prediction(model, train_x_tensor, train_y_tensor)\n",
    "calculate_metrics(train_true, train_pred)"
   ]
  },
  {
   "cell_type": "code",
   "execution_count": null,
   "metadata": {},
   "outputs": [],
   "source": [
    "# Model performance on Validation dataset\n",
    "valid_true, valid_pred = model_prediction(model, valid_x_tensor, valid_y_tensor)\n",
    "calculate_metrics(valid_true, valid_pred) "
   ]
  },
  {
   "cell_type": "code",
   "execution_count": null,
   "metadata": {},
   "outputs": [],
   "source": [
    "# Model performance on Test dataset\n",
    "test_true, test_pred = model_prediction(model, test_x_tensor, test_y_tensor)\n",
    "calculate_metrics(test_true, test_pred)"
   ]
  },
  {
   "cell_type": "markdown",
   "metadata": {},
   "source": [
    "### Benchmark Model"
   ]
  },
  {
   "cell_type": "code",
   "execution_count": null,
   "metadata": {},
   "outputs": [],
   "source": [
    "# Set and Evaludate Benchmark Model\n",
    "bmk_true, bmk_pred = benchmark_model(test_y_tensor, valid_y_tensor)\n",
    "calculate_metrics(bmk_true, bmk_pred)"
   ]
  },
  {
   "cell_type": "markdown",
   "metadata": {},
   "source": [
    "### Graphical Evaluation"
   ]
  },
  {
   "cell_type": "markdown",
   "metadata": {},
   "source": [
    "#### Test dataset and benchmark model"
   ]
  },
  {
   "cell_type": "code",
   "execution_count": null,
   "metadata": {
    "scrolled": false
   },
   "outputs": [],
   "source": [
    "# Evaluate test dataset graphically\n",
    "graphical_evaluation(test_true, test_pred, bmk_true, bmk_pred)"
   ]
  },
  {
   "cell_type": "markdown",
   "metadata": {},
   "source": [
    "#### Train and validation datasets"
   ]
  },
  {
   "cell_type": "code",
   "execution_count": null,
   "metadata": {},
   "outputs": [],
   "source": [
    "# Evaluate train and validation dataset graphically\n",
    "graphical_evaluation(train_true, train_pred, valid_true, valid_pred)"
   ]
  }
 ],
 "metadata": {
  "kernelspec": {
   "display_name": "Python 3",
   "language": "python",
   "name": "python3"
  },
  "language_info": {
   "codemirror_mode": {
    "name": "ipython",
    "version": 3
   },
   "file_extension": ".py",
   "mimetype": "text/x-python",
   "name": "python",
   "nbconvert_exporter": "python",
   "pygments_lexer": "ipython3",
   "version": "3.8.5"
  }
 },
 "nbformat": 4,
 "nbformat_minor": 4
}
