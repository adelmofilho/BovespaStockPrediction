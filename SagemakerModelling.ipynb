{
 "cells": [
  {
   "cell_type": "code",
   "execution_count": 1,
   "metadata": {},
   "outputs": [],
   "source": [
    "import os\n",
    "import io\n",
    "import ast\n",
    "import boto3\n",
    "import sagemaker\n",
    "import numpy as np\n",
    "import pandas as pd\n",
    "\n",
    "from sagemaker.pytorch import PyTorch\n",
    "\n",
    "from ibov.utils import load_config\n",
    "from ibov.deploy import get_deploy_config, build_endpoint, kill_endpoint"
   ]
  },
  {
   "cell_type": "markdown",
   "metadata": {},
   "source": [
    "### Loading Configs"
   ]
  },
  {
   "cell_type": "code",
   "execution_count": 2,
   "metadata": {},
   "outputs": [],
   "source": [
    "# Load config dict\n",
    "config = load_config()"
   ]
  },
  {
   "cell_type": "code",
   "execution_count": 3,
   "metadata": {},
   "outputs": [],
   "source": [
    "role = config.get(\"sagemaker\").get(\"role\")\n",
    "prefix = config.get(\"sagemaker\").get(\"bucket_prefx\")\n",
    "data_dir = config.get(\"data\").get(\"dir\")\n",
    "region = config.get(\"sagemaker\").get(\"region\")"
   ]
  },
  {
   "cell_type": "code",
   "execution_count": 4,
   "metadata": {},
   "outputs": [],
   "source": [
    "dropout = config.get(\"model\").get(\"dropout\")\n",
    "window = config.get(\"feature\").get(\"window\")\n",
    "hidden_layer = config.get(\"model\").get(\"hidden_layer\")\n",
    "lr = config.get(\"model\").get(\"lr\")\n",
    "seed = config.get(\"model\").get(\"seed\")\n",
    "epochs = config.get(\"model\").get(\"epochs\")"
   ]
  },
  {
   "cell_type": "markdown",
   "metadata": {},
   "source": [
    "### Upload Data"
   ]
  },
  {
   "cell_type": "code",
   "execution_count": 114,
   "metadata": {},
   "outputs": [],
   "source": [
    "session = sagemaker.Session(boto_session=boto3.session.Session(region_name=region))\n",
    "bucket = session.default_bucket()"
   ]
  },
  {
   "cell_type": "code",
   "execution_count": 115,
   "metadata": {},
   "outputs": [],
   "source": [
    "input_data = session.upload_data(path=data_dir, bucket=bucket, key_prefix=prefix)\n",
    "input_config = session.upload_data(path=\"config.json\", bucket=bucket, key_prefix=prefix)"
   ]
  },
  {
   "cell_type": "markdown",
   "metadata": {},
   "source": [
    "### Train Model"
   ]
  },
  {
   "cell_type": "code",
   "execution_count": 116,
   "metadata": {},
   "outputs": [],
   "source": [
    "estimator = PyTorch(entry_point=\"train.py\", \n",
    "                    source_dir=\"ibov\", \n",
    "                    py_version=\"py3\",\n",
    "                    role=role, \n",
    "                    framework_version='0.4.0',\n",
    "                    instance_count=1, \n",
    "                    instance_type='ml.p2.xlarge',\n",
    "                    hyperparameters = {\n",
    "                        \"batch-size\": 50,\n",
    "                        \"epochs\": epochs,\n",
    "                        \"seed\": seed,\n",
    "                        \"input-layer\": window,\n",
    "                        \"hidden-layer\": hidden_layer,\n",
    "                        \"dropout\": dropout        \n",
    "                    })"
   ]
  },
  {
   "cell_type": "code",
   "execution_count": 117,
   "metadata": {},
   "outputs": [
    {
     "name": "stdout",
     "output_type": "stream",
     "text": [
      "2021-01-17 19:46:07 Starting - Starting the training job...\n",
      "2021-01-17 19:46:32 Starting - Launching requested ML instancesProfilerReport-1610912764: InProgress\n",
      "...\n",
      "2021-01-17 19:47:21 Starting - Preparing the instances for training......\n",
      "2021-01-17 19:48:47 Downloading - Downloading input data...\n",
      "2021-01-17 19:49:17 Training - Downloading the training image..\n",
      "2021-01-17 19:50:06 Uploading - Uploading generated training model\u001b[34mbash: cannot set terminal process group (-1): Inappropriate ioctl for device\u001b[0m\n",
      "\u001b[34mbash: no job control in this shell\u001b[0m\n",
      "\u001b[34m2021-01-17 19:49:51,137 sagemaker-containers INFO     Imported framework sagemaker_pytorch_container.training\u001b[0m\n",
      "\u001b[34m2021-01-17 19:49:51,165 sagemaker_pytorch_container.training INFO     Block until all host DNS lookups succeed.\u001b[0m\n",
      "\u001b[34m2021-01-17 19:49:51,378 sagemaker_pytorch_container.training INFO     Invoking user training script.\u001b[0m\n",
      "\u001b[34m2021-01-17 19:49:51,662 sagemaker-containers INFO     Module train does not provide a setup.py. \u001b[0m\n",
      "\u001b[34mGenerating setup.py\u001b[0m\n",
      "\u001b[34m2021-01-17 19:49:51,662 sagemaker-containers INFO     Generating setup.cfg\u001b[0m\n",
      "\u001b[34m2021-01-17 19:49:51,662 sagemaker-containers INFO     Generating MANIFEST.in\u001b[0m\n",
      "\u001b[34m2021-01-17 19:49:51,662 sagemaker-containers INFO     Installing module with the following command:\u001b[0m\n",
      "\u001b[34m/usr/bin/python -m pip install -U . -r requirements.txt\u001b[0m\n",
      "\u001b[34mProcessing /opt/ml/code\u001b[0m\n",
      "\u001b[34mCollecting pandas (from -r requirements.txt (line 1))\n",
      "  Downloading https://files.pythonhosted.org/packages/74/24/0cdbf8907e1e3bc5a8da03345c23cbed7044330bb8f73bb12e711a640a00/pandas-0.24.2-cp35-cp35m-manylinux1_x86_64.whl (10.0MB)\u001b[0m\n",
      "\u001b[34mRequirement already satisfied, skipping upgrade: python-dateutil>=2.5.0 in /usr/local/lib/python3.5/dist-packages (from pandas->-r requirements.txt (line 1)) (2.7.5)\u001b[0m\n",
      "\u001b[34mCollecting pytz>=2011k (from pandas->-r requirements.txt (line 1))\n",
      "  Downloading https://files.pythonhosted.org/packages/89/06/2c2d3034b4d6bf22f2a4ae546d16925898658a33b4400cfb7e2c1e2871a3/pytz-2020.5-py2.py3-none-any.whl (510kB)\u001b[0m\n",
      "\u001b[34mRequirement already satisfied, skipping upgrade: numpy>=1.12.0 in /usr/local/lib/python3.5/dist-packages (from pandas->-r requirements.txt (line 1)) (1.15.4)\u001b[0m\n",
      "\u001b[34mRequirement already satisfied, skipping upgrade: six>=1.5 in /usr/local/lib/python3.5/dist-packages (from python-dateutil>=2.5.0->pandas->-r requirements.txt (line 1)) (1.11.0)\u001b[0m\n",
      "\u001b[34mBuilding wheels for collected packages: train\n",
      "  Running setup.py bdist_wheel for train: started\n",
      "  Running setup.py bdist_wheel for train: finished with status 'done'\n",
      "  Stored in directory: /tmp/pip-ephem-wheel-cache-x126xaa6/wheels/35/24/16/37574d11bf9bde50616c67372a334f94fa8356bc7164af8ca3\u001b[0m\n",
      "\u001b[34mSuccessfully built train\u001b[0m\n",
      "\u001b[34mInstalling collected packages: pytz, pandas, train\u001b[0m\n",
      "\u001b[34mSuccessfully installed pandas-0.24.2 pytz-2020.5 train-1.0.0\u001b[0m\n",
      "\u001b[34mYou are using pip version 18.1, however version 20.3.3 is available.\u001b[0m\n",
      "\u001b[34mYou should consider upgrading via the 'pip install --upgrade pip' command.\u001b[0m\n",
      "\u001b[34m2021-01-17 19:49:57,350 sagemaker-containers INFO     Invoking user script\n",
      "\u001b[0m\n",
      "\u001b[34mTraining Env:\n",
      "\u001b[0m\n",
      "\u001b[34m{\n",
      "    \"channel_input_dirs\": {\n",
      "        \"config\": \"/opt/ml/input/data/config\",\n",
      "        \"train\": \"/opt/ml/input/data/train\"\n",
      "    },\n",
      "    \"user_entry_point\": \"train.py\",\n",
      "    \"module_dir\": \"s3://sagemaker-us-east-1-977053370764/sagemaker-pytorch-2021-01-17-19-45-55-738/source/sourcedir.tar.gz\",\n",
      "    \"network_interface_name\": \"eth0\",\n",
      "    \"framework_module\": \"sagemaker_pytorch_container.training:main\",\n",
      "    \"num_gpus\": 1,\n",
      "    \"num_cpus\": 4,\n",
      "    \"current_host\": \"algo-1\",\n",
      "    \"log_level\": 20,\n",
      "    \"output_data_dir\": \"/opt/ml/output/data\",\n",
      "    \"input_dir\": \"/opt/ml/input\",\n",
      "    \"input_config_dir\": \"/opt/ml/input/config\",\n",
      "    \"input_data_config\": {\n",
      "        \"config\": {\n",
      "            \"TrainingInputMode\": \"File\",\n",
      "            \"S3DistributionType\": \"FullyReplicated\",\n",
      "            \"RecordWrapperType\": \"None\"\n",
      "        },\n",
      "        \"train\": {\n",
      "            \"TrainingInputMode\": \"File\",\n",
      "            \"S3DistributionType\": \"FullyReplicated\",\n",
      "            \"RecordWrapperType\": \"None\"\n",
      "        }\n",
      "    },\n",
      "    \"additional_framework_parameters\": {},\n",
      "    \"output_dir\": \"/opt/ml/output\",\n",
      "    \"model_dir\": \"/opt/ml/model\",\n",
      "    \"hosts\": [\n",
      "        \"algo-1\"\n",
      "    ],\n",
      "    \"job_name\": \"sagemaker-pytorch-2021-01-17-19-45-55-738\",\n",
      "    \"resource_config\": {\n",
      "        \"hosts\": [\n",
      "            \"algo-1\"\n",
      "        ],\n",
      "        \"current_host\": \"algo-1\",\n",
      "        \"network_interface_name\": \"eth0\"\n",
      "    },\n",
      "    \"module_name\": \"train\",\n",
      "    \"hyperparameters\": {\n",
      "        \"input-layer\": 7,\n",
      "        \"hidden-layer\": 50,\n",
      "        \"batch-size\": 50,\n",
      "        \"dropout\": 0.25,\n",
      "        \"epochs\": 5,\n",
      "        \"seed\": 1903\n",
      "    },\n",
      "    \"output_intermediate_dir\": \"/opt/ml/output/intermediate\"\u001b[0m\n",
      "\u001b[34m}\n",
      "\u001b[0m\n",
      "\u001b[34mEnvironment variables:\n",
      "\u001b[0m\n",
      "\u001b[34mPYTHONPATH=/usr/local/bin:/usr/lib/python35.zip:/usr/lib/python3.5:/usr/lib/python3.5/plat-x86_64-linux-gnu:/usr/lib/python3.5/lib-dynload:/usr/local/lib/python3.5/dist-packages:/usr/lib/python3/dist-packages\u001b[0m\n",
      "\u001b[34mSM_CHANNELS=[\"config\",\"train\"]\u001b[0m\n",
      "\u001b[34mSM_FRAMEWORK_MODULE=sagemaker_pytorch_container.training:main\u001b[0m\n",
      "\u001b[34mSM_MODULE_DIR=s3://sagemaker-us-east-1-977053370764/sagemaker-pytorch-2021-01-17-19-45-55-738/source/sourcedir.tar.gz\u001b[0m\n",
      "\u001b[34mSM_CURRENT_HOST=algo-1\u001b[0m\n",
      "\u001b[34mSM_HP_EPOCHS=5\u001b[0m\n",
      "\u001b[34mSM_CHANNEL_TRAIN=/opt/ml/input/data/train\u001b[0m\n",
      "\u001b[34mSM_MODEL_DIR=/opt/ml/model\u001b[0m\n",
      "\u001b[34mSM_MODULE_NAME=train\u001b[0m\n",
      "\u001b[34mSM_HOSTS=[\"algo-1\"]\u001b[0m\n",
      "\u001b[34mSM_HP_BATCH-SIZE=50\u001b[0m\n",
      "\u001b[34mSM_FRAMEWORK_PARAMS={}\u001b[0m\n",
      "\u001b[34mSM_LOG_LEVEL=20\u001b[0m\n",
      "\u001b[34mSM_OUTPUT_DATA_DIR=/opt/ml/output/data\u001b[0m\n",
      "\u001b[34mSM_OUTPUT_INTERMEDIATE_DIR=/opt/ml/output/intermediate\u001b[0m\n",
      "\u001b[34mSM_USER_ARGS=[\"--batch-size\",\"50\",\"--dropout\",\"0.25\",\"--epochs\",\"5\",\"--hidden-layer\",\"50\",\"--input-layer\",\"7\",\"--seed\",\"1903\"]\u001b[0m\n",
      "\u001b[34mSM_NUM_GPUS=1\u001b[0m\n",
      "\u001b[34mSM_NUM_CPUS=4\u001b[0m\n",
      "\u001b[34mSM_OUTPUT_DIR=/opt/ml/output\u001b[0m\n",
      "\u001b[34mSM_CHANNEL_CONFIG=/opt/ml/input/data/config\u001b[0m\n",
      "\u001b[34mSM_HPS={\"batch-size\":50,\"dropout\":0.25,\"epochs\":5,\"hidden-layer\":50,\"input-layer\":7,\"seed\":1903}\u001b[0m\n",
      "\u001b[34mSM_HP_SEED=1903\u001b[0m\n",
      "\u001b[34mSM_HP_HIDDEN-LAYER=50\u001b[0m\n",
      "\u001b[34mSM_NETWORK_INTERFACE_NAME=eth0\u001b[0m\n",
      "\u001b[34mSM_INPUT_DATA_CONFIG={\"config\":{\"RecordWrapperType\":\"None\",\"S3DistributionType\":\"FullyReplicated\",\"TrainingInputMode\":\"File\"},\"train\":{\"RecordWrapperType\":\"None\",\"S3DistributionType\":\"FullyReplicated\",\"TrainingInputMode\":\"File\"}}\u001b[0m\n",
      "\u001b[34mSM_HP_DROPOUT=0.25\u001b[0m\n",
      "\u001b[34mSM_USER_ENTRY_POINT=train.py\u001b[0m\n",
      "\u001b[34mSM_RESOURCE_CONFIG={\"current_host\":\"algo-1\",\"hosts\":[\"algo-1\"],\"network_interface_name\":\"eth0\"}\u001b[0m\n",
      "\u001b[34mSM_TRAINING_ENV={\"additional_framework_parameters\":{},\"channel_input_dirs\":{\"config\":\"/opt/ml/input/data/config\",\"train\":\"/opt/ml/input/data/train\"},\"current_host\":\"algo-1\",\"framework_module\":\"sagemaker_pytorch_container.training:main\",\"hosts\":[\"algo-1\"],\"hyperparameters\":{\"batch-size\":50,\"dropout\":0.25,\"epochs\":5,\"hidden-layer\":50,\"input-layer\":7,\"seed\":1903},\"input_config_dir\":\"/opt/ml/input/config\",\"input_data_config\":{\"config\":{\"RecordWrapperType\":\"None\",\"S3DistributionType\":\"FullyReplicated\",\"TrainingInputMode\":\"File\"},\"train\":{\"RecordWrapperType\":\"None\",\"S3DistributionType\":\"FullyReplicated\",\"TrainingInputMode\":\"File\"}},\"input_dir\":\"/opt/ml/input\",\"job_name\":\"sagemaker-pytorch-2021-01-17-19-45-55-738\",\"log_level\":20,\"model_dir\":\"/opt/ml/model\",\"module_dir\":\"s3://sagemaker-us-east-1-977053370764/sagemaker-pytorch-2021-01-17-19-45-55-738/source/sourcedir.tar.gz\",\"module_name\":\"train\",\"network_interface_name\":\"eth0\",\"num_cpus\":4,\"num_gpus\":1,\"output_data_dir\":\"/opt/ml/output/data\",\"output_dir\":\"/opt/ml/output\",\"output_intermediate_dir\":\"/opt/ml/output/intermediate\",\"resource_config\":{\"current_host\":\"algo-1\",\"hosts\":[\"algo-1\"],\"network_interface_name\":\"eth0\"},\"user_entry_point\":\"train.py\"}\u001b[0m\n",
      "\u001b[34mSM_HP_INPUT-LAYER=7\u001b[0m\n",
      "\u001b[34mSM_INPUT_DIR=/opt/ml/input\u001b[0m\n",
      "\u001b[34mSM_INPUT_CONFIG_DIR=/opt/ml/input/config\n",
      "\u001b[0m\n",
      "\u001b[34mInvoking script with the following command:\n",
      "\u001b[0m\n",
      "\u001b[34m/usr/bin/python -m train --batch-size 50 --dropout 0.25 --epochs 5 --hidden-layer 50 --input-layer 7 --seed 1903\n",
      "\n",
      "\u001b[0m\n",
      "\u001b[34m19:49:58, epoch: 0, train: 3.198, valid: 0.476\u001b[0m\n",
      "\u001b[34m19:49:59, epoch: 1, train: 2.73, valid: 0.396\u001b[0m\n",
      "\u001b[34m19:50:00, epoch: 2, train: 2.246, valid: 0.301\u001b[0m\n",
      "\u001b[34m19:50:01, epoch: 3, train: 1.676, valid: 0.177\u001b[0m\n",
      "\u001b[34m19:50:03, epoch: 4, train: 1.073, valid: 0.048\u001b[0m\n",
      "\u001b[34m2021-01-17 19:50:03,298 sagemaker-containers INFO     Reporting training SUCCESS\u001b[0m\n"
     ]
    },
    {
     "name": "stdout",
     "output_type": "stream",
     "text": [
      "\n",
      "2021-01-17 19:50:35 Completed - Training job completed\n",
      "ProfilerReport-1610912764: NoIssuesFound\n",
      "Training seconds: 86\n",
      "Billable seconds: 86\n"
     ]
    }
   ],
   "source": [
    "estimator.fit({'train': input_data, \"config\": input_config})"
   ]
  },
  {
   "cell_type": "code",
   "execution_count": 118,
   "metadata": {
    "scrolled": true
   },
   "outputs": [
    {
     "data": {
      "text/plain": [
       "'sagemaker-pytorch-2021-01-17-19-45-55-738'"
      ]
     },
     "execution_count": 118,
     "metadata": {},
     "output_type": "execute_result"
    }
   ],
   "source": [
    "estimator.latest_training_job.job_name"
   ]
  },
  {
   "cell_type": "markdown",
   "metadata": {},
   "source": [
    "### Model Deployment"
   ]
  },
  {
   "cell_type": "code",
   "execution_count": 119,
   "metadata": {},
   "outputs": [],
   "source": [
    "config = load_config()"
   ]
  },
  {
   "cell_type": "code",
   "execution_count": 120,
   "metadata": {},
   "outputs": [],
   "source": [
    "deploy_config = get_deploy_config(config)"
   ]
  },
  {
   "cell_type": "code",
   "execution_count": 121,
   "metadata": {},
   "outputs": [
    {
     "data": {
      "text/plain": [
       "({'ModelArn': 'arn:aws:sagemaker:us-east-1:977053370764:model/first-fly2',\n",
       "  'ResponseMetadata': {'RequestId': '8d19379c-eaed-40b0-998a-a7c7c8e6986b',\n",
       "   'HTTPStatusCode': 200,\n",
       "   'HTTPHeaders': {'x-amzn-requestid': '8d19379c-eaed-40b0-998a-a7c7c8e6986b',\n",
       "    'content-type': 'application/x-amz-json-1.1',\n",
       "    'content-length': '72',\n",
       "    'date': 'Sun, 17 Jan 2021 19:51:46 GMT'},\n",
       "   'RetryAttempts': 0}},\n",
       " {'EndpointConfigArn': 'arn:aws:sagemaker:us-east-1:977053370764:endpoint-config/first-fly2',\n",
       "  'ResponseMetadata': {'RequestId': 'ef0943cd-b568-4c72-802e-6f4834802323',\n",
       "   'HTTPStatusCode': 200,\n",
       "   'HTTPHeaders': {'x-amzn-requestid': 'ef0943cd-b568-4c72-802e-6f4834802323',\n",
       "    'content-type': 'application/x-amz-json-1.1',\n",
       "    'content-length': '91',\n",
       "    'date': 'Sun, 17 Jan 2021 19:51:46 GMT'},\n",
       "   'RetryAttempts': 0}},\n",
       " {'EndpointArn': 'arn:aws:sagemaker:us-east-1:977053370764:endpoint/first-fly2',\n",
       "  'ResponseMetadata': {'RequestId': '88611ed9-0dec-4d98-9eb5-4effdc9e67fb',\n",
       "   'HTTPStatusCode': 200,\n",
       "   'HTTPHeaders': {'x-amzn-requestid': '88611ed9-0dec-4d98-9eb5-4effdc9e67fb',\n",
       "    'content-type': 'application/x-amz-json-1.1',\n",
       "    'content-length': '78',\n",
       "    'date': 'Sun, 17 Jan 2021 19:51:47 GMT'},\n",
       "   'RetryAttempts': 0}})"
      ]
     },
     "execution_count": 121,
     "metadata": {},
     "output_type": "execute_result"
    }
   ],
   "source": [
    "build_endpoint(deploy_config)"
   ]
  },
  {
   "cell_type": "markdown",
   "metadata": {},
   "source": [
    "### Scoring"
   ]
  },
  {
   "cell_type": "code",
   "execution_count": 7,
   "metadata": {},
   "outputs": [],
   "source": [
    "import boto3\n",
    "import io"
   ]
  },
  {
   "cell_type": "code",
   "execution_count": 8,
   "metadata": {},
   "outputs": [],
   "source": [
    "def get_data(config):\n",
    "    \n",
    "    bucket = config.get(\"scoring\").get(\"bucket\")\n",
    "    key = config.get(\"scoring\").get(\"key\")\n",
    "    \n",
    "    s3 = boto3.client('s3')\n",
    "    obj = s3.get_object(Bucket=bucket, Key=key)\n",
    "    df = obj['Body'].read()\n",
    "    \n",
    "    return df "
   ]
  },
  {
   "cell_type": "code",
   "execution_count": 9,
   "metadata": {},
   "outputs": [],
   "source": [
    "dados = get_data(config)"
   ]
  },
  {
   "cell_type": "code",
   "execution_count": 10,
   "metadata": {},
   "outputs": [],
   "source": [
    "asd = pd.read_csv(io.BytesIO(dados))"
   ]
  },
  {
   "cell_type": "code",
   "execution_count": 11,
   "metadata": {},
   "outputs": [],
   "source": [
    "from datetime import datetime, timedelta"
   ]
  },
  {
   "cell_type": "code",
   "execution_count": 29,
   "metadata": {},
   "outputs": [
    {
     "data": {
      "text/html": [
       "<div>\n",
       "<style scoped>\n",
       "    .dataframe tbody tr th:only-of-type {\n",
       "        vertical-align: middle;\n",
       "    }\n",
       "\n",
       "    .dataframe tbody tr th {\n",
       "        vertical-align: top;\n",
       "    }\n",
       "\n",
       "    .dataframe thead th {\n",
       "        text-align: right;\n",
       "    }\n",
       "</style>\n",
       "<table border=\"1\" class=\"dataframe\">\n",
       "  <thead>\n",
       "    <tr style=\"text-align: right;\">\n",
       "      <th></th>\n",
       "      <th>symbol</th>\n",
       "      <th>date</th>\n",
       "      <th>low</th>\n",
       "      <th>high</th>\n",
       "      <th>open</th>\n",
       "      <th>close</th>\n",
       "      <th>volume</th>\n",
       "      <th>adjclose</th>\n",
       "    </tr>\n",
       "  </thead>\n",
       "  <tbody>\n",
       "    <tr>\n",
       "      <th>0</th>\n",
       "      <td>^BVSP</td>\n",
       "      <td>2021-01-06</td>\n",
       "      <td>118917.0</td>\n",
       "      <td>120924.0</td>\n",
       "      <td>119377.0</td>\n",
       "      <td>119851.0</td>\n",
       "      <td>11638200.0</td>\n",
       "      <td>119851.0</td>\n",
       "    </tr>\n",
       "    <tr>\n",
       "      <th>1</th>\n",
       "      <td>^BVSP</td>\n",
       "      <td>2021-01-07</td>\n",
       "      <td>119101.0</td>\n",
       "      <td>121983.0</td>\n",
       "      <td>119103.0</td>\n",
       "      <td>121956.0</td>\n",
       "      <td>11774800.0</td>\n",
       "      <td>121956.0</td>\n",
       "    </tr>\n",
       "    <tr>\n",
       "      <th>2</th>\n",
       "      <td>^BVSP</td>\n",
       "      <td>2021-01-08</td>\n",
       "      <td>122386.0</td>\n",
       "      <td>125324.0</td>\n",
       "      <td>122387.0</td>\n",
       "      <td>125077.0</td>\n",
       "      <td>11085800.0</td>\n",
       "      <td>125077.0</td>\n",
       "    </tr>\n",
       "    <tr>\n",
       "      <th>3</th>\n",
       "      <td>^BVSP</td>\n",
       "      <td>2021-01-11</td>\n",
       "      <td>122506.0</td>\n",
       "      <td>125075.0</td>\n",
       "      <td>125075.0</td>\n",
       "      <td>122807.0</td>\n",
       "      <td>9537600.0</td>\n",
       "      <td>122807.0</td>\n",
       "    </tr>\n",
       "    <tr>\n",
       "      <th>4</th>\n",
       "      <td>^BVSP</td>\n",
       "      <td>2021-01-12</td>\n",
       "      <td>123227.0</td>\n",
       "      <td>124584.0</td>\n",
       "      <td>123255.0</td>\n",
       "      <td>123998.0</td>\n",
       "      <td>8949000.0</td>\n",
       "      <td>123998.0</td>\n",
       "    </tr>\n",
       "    <tr>\n",
       "      <th>5</th>\n",
       "      <td>^BVSP</td>\n",
       "      <td>2021-01-13</td>\n",
       "      <td>121016.0</td>\n",
       "      <td>124032.0</td>\n",
       "      <td>123996.0</td>\n",
       "      <td>122040.0</td>\n",
       "      <td>10291500.0</td>\n",
       "      <td>122040.0</td>\n",
       "    </tr>\n",
       "    <tr>\n",
       "      <th>6</th>\n",
       "      <td>^BVSP</td>\n",
       "      <td>2021-01-14</td>\n",
       "      <td>121947.0</td>\n",
       "      <td>123896.0</td>\n",
       "      <td>121947.0</td>\n",
       "      <td>123481.0</td>\n",
       "      <td>8974400.0</td>\n",
       "      <td>123481.0</td>\n",
       "    </tr>\n",
       "    <tr>\n",
       "      <th>7</th>\n",
       "      <td>^BVSP</td>\n",
       "      <td>2021-01-15</td>\n",
       "      <td>120374.0</td>\n",
       "      <td>123472.0</td>\n",
       "      <td>123472.0</td>\n",
       "      <td>120502.0</td>\n",
       "      <td>9387600.0</td>\n",
       "      <td>120502.0</td>\n",
       "    </tr>\n",
       "  </tbody>\n",
       "</table>\n",
       "</div>"
      ],
      "text/plain": [
       "  symbol        date       low      high      open     close      volume  \\\n",
       "0  ^BVSP  2021-01-06  118917.0  120924.0  119377.0  119851.0  11638200.0   \n",
       "1  ^BVSP  2021-01-07  119101.0  121983.0  119103.0  121956.0  11774800.0   \n",
       "2  ^BVSP  2021-01-08  122386.0  125324.0  122387.0  125077.0  11085800.0   \n",
       "3  ^BVSP  2021-01-11  122506.0  125075.0  125075.0  122807.0   9537600.0   \n",
       "4  ^BVSP  2021-01-12  123227.0  124584.0  123255.0  123998.0   8949000.0   \n",
       "5  ^BVSP  2021-01-13  121016.0  124032.0  123996.0  122040.0  10291500.0   \n",
       "6  ^BVSP  2021-01-14  121947.0  123896.0  121947.0  123481.0   8974400.0   \n",
       "7  ^BVSP  2021-01-15  120374.0  123472.0  123472.0  120502.0   9387600.0   \n",
       "\n",
       "   adjclose  \n",
       "0  119851.0  \n",
       "1  121956.0  \n",
       "2  125077.0  \n",
       "3  122807.0  \n",
       "4  123998.0  \n",
       "5  122040.0  \n",
       "6  123481.0  \n",
       "7  120502.0  "
      ]
     },
     "execution_count": 29,
     "metadata": {},
     "output_type": "execute_result"
    }
   ],
   "source": [
    "asd"
   ]
  },
  {
   "cell_type": "code",
   "execution_count": 32,
   "metadata": {
    "scrolled": true
   },
   "outputs": [],
   "source": [
    "tomm = datetime.strftime(datetime.strptime(asd[\"date\"][len(asd)-1], \"%Y-%m-%d\") + timedelta(days=1), \"%Y-%m-%d\")"
   ]
  },
  {
   "cell_type": "code",
   "execution_count": 13,
   "metadata": {},
   "outputs": [],
   "source": [
    "resposta = '[70986.03125]'"
   ]
  },
  {
   "cell_type": "code",
   "execution_count": null,
   "metadata": {},
   "outputs": [],
   "source": [
    "import "
   ]
  },
  {
   "cell_type": "code",
   "execution_count": 125,
   "metadata": {
    "scrolled": true
   },
   "outputs": [
    {
     "data": {
      "text/plain": [
       "'first-fly2'"
      ]
     },
     "execution_count": 125,
     "metadata": {},
     "output_type": "execute_result"
    }
   ],
   "source": [
    "config.get(\"deploy\").get(\"codename\")"
   ]
  },
  {
   "cell_type": "code",
   "execution_count": 126,
   "metadata": {},
   "outputs": [],
   "source": [
    "runtime = boto3.client(\"sagemaker-runtime\")\n",
    "\n",
    "response = runtime.invoke_endpoint(EndpointName=config.get(\"deploy\").get(\"codename\"),\n",
    "                       Body=dados,\n",
    "                       ContentType='text/csv',\n",
    "                       Accept='Accept')"
   ]
  },
  {
   "cell_type": "code",
   "execution_count": 127,
   "metadata": {},
   "outputs": [],
   "source": [
    "resposta = response[\"Body\"].read().decode(\"utf-8\")"
   ]
  },
  {
   "cell_type": "code",
   "execution_count": 18,
   "metadata": {},
   "outputs": [],
   "source": [
    "prediction = ast.literal_eval(resposta)[0]"
   ]
  },
  {
   "cell_type": "code",
   "execution_count": 1,
   "metadata": {},
   "outputs": [
    {
     "ename": "NameError",
     "evalue": "name 'prediction' is not defined",
     "output_type": "error",
     "traceback": [
      "\u001b[0;31m---------------------------------------------------------------------------\u001b[0m",
      "\u001b[0;31mNameError\u001b[0m                                 Traceback (most recent call last)",
      "\u001b[0;32m<ipython-input-1-c3d8c93f720f>\u001b[0m in \u001b[0;36m<module>\u001b[0;34m\u001b[0m\n\u001b[0;32m----> 1\u001b[0;31m \u001b[0mprediction\u001b[0m\u001b[0;34m\u001b[0m\u001b[0;34m\u001b[0m\u001b[0m\n\u001b[0m",
      "\u001b[0;31mNameError\u001b[0m: name 'prediction' is not defined"
     ]
    }
   ],
   "source": [
    "prediction"
   ]
  },
  {
   "cell_type": "code",
   "execution_count": 61,
   "metadata": {},
   "outputs": [],
   "source": [
    "dados_graph = asd[[\"date\", \"close\"]]\n",
    "dados_graph[[\"type\"]] = \"true\"\n",
    "dados_graph.loc[len(dados_graph)] = [tomm, prediction, \"pred\"]\n",
    "dados_graph['color']= np.where( type==\"true\" , \"#9b59b6\", \"#3498db\")"
   ]
  },
  {
   "cell_type": "code",
   "execution_count": 62,
   "metadata": {},
   "outputs": [
    {
     "data": {
      "text/html": [
       "<div>\n",
       "<style scoped>\n",
       "    .dataframe tbody tr th:only-of-type {\n",
       "        vertical-align: middle;\n",
       "    }\n",
       "\n",
       "    .dataframe tbody tr th {\n",
       "        vertical-align: top;\n",
       "    }\n",
       "\n",
       "    .dataframe thead th {\n",
       "        text-align: right;\n",
       "    }\n",
       "</style>\n",
       "<table border=\"1\" class=\"dataframe\">\n",
       "  <thead>\n",
       "    <tr style=\"text-align: right;\">\n",
       "      <th></th>\n",
       "      <th>date</th>\n",
       "      <th>close</th>\n",
       "      <th>type</th>\n",
       "      <th>color</th>\n",
       "    </tr>\n",
       "  </thead>\n",
       "  <tbody>\n",
       "    <tr>\n",
       "      <th>0</th>\n",
       "      <td>2021-01-06</td>\n",
       "      <td>119851.00000</td>\n",
       "      <td>true</td>\n",
       "      <td>#3498db</td>\n",
       "    </tr>\n",
       "    <tr>\n",
       "      <th>1</th>\n",
       "      <td>2021-01-07</td>\n",
       "      <td>121956.00000</td>\n",
       "      <td>true</td>\n",
       "      <td>#3498db</td>\n",
       "    </tr>\n",
       "    <tr>\n",
       "      <th>2</th>\n",
       "      <td>2021-01-08</td>\n",
       "      <td>125077.00000</td>\n",
       "      <td>true</td>\n",
       "      <td>#3498db</td>\n",
       "    </tr>\n",
       "    <tr>\n",
       "      <th>3</th>\n",
       "      <td>2021-01-11</td>\n",
       "      <td>122807.00000</td>\n",
       "      <td>true</td>\n",
       "      <td>#3498db</td>\n",
       "    </tr>\n",
       "    <tr>\n",
       "      <th>4</th>\n",
       "      <td>2021-01-12</td>\n",
       "      <td>123998.00000</td>\n",
       "      <td>true</td>\n",
       "      <td>#3498db</td>\n",
       "    </tr>\n",
       "    <tr>\n",
       "      <th>5</th>\n",
       "      <td>2021-01-13</td>\n",
       "      <td>122040.00000</td>\n",
       "      <td>true</td>\n",
       "      <td>#3498db</td>\n",
       "    </tr>\n",
       "    <tr>\n",
       "      <th>6</th>\n",
       "      <td>2021-01-14</td>\n",
       "      <td>123481.00000</td>\n",
       "      <td>true</td>\n",
       "      <td>#3498db</td>\n",
       "    </tr>\n",
       "    <tr>\n",
       "      <th>7</th>\n",
       "      <td>2021-01-15</td>\n",
       "      <td>120502.00000</td>\n",
       "      <td>true</td>\n",
       "      <td>#3498db</td>\n",
       "    </tr>\n",
       "    <tr>\n",
       "      <th>8</th>\n",
       "      <td>2021-01-16</td>\n",
       "      <td>70986.03125</td>\n",
       "      <td>pred</td>\n",
       "      <td>#3498db</td>\n",
       "    </tr>\n",
       "  </tbody>\n",
       "</table>\n",
       "</div>"
      ],
      "text/plain": [
       "         date         close  type    color\n",
       "0  2021-01-06  119851.00000  true  #3498db\n",
       "1  2021-01-07  121956.00000  true  #3498db\n",
       "2  2021-01-08  125077.00000  true  #3498db\n",
       "3  2021-01-11  122807.00000  true  #3498db\n",
       "4  2021-01-12  123998.00000  true  #3498db\n",
       "5  2021-01-13  122040.00000  true  #3498db\n",
       "6  2021-01-14  123481.00000  true  #3498db\n",
       "7  2021-01-15  120502.00000  true  #3498db\n",
       "8  2021-01-16   70986.03125  pred  #3498db"
      ]
     },
     "execution_count": 62,
     "metadata": {},
     "output_type": "execute_result"
    }
   ],
   "source": [
    "dados_graph"
   ]
  },
  {
   "cell_type": "code",
   "execution_count": 46,
   "metadata": {},
   "outputs": [],
   "source": [
    "import matplotlib.pyplot as plt\n",
    "import seaborn as sns"
   ]
  },
  {
   "cell_type": "code",
   "execution_count": 103,
   "metadata": {},
   "outputs": [
    {
     "data": {
      "image/png": "[encoded data removed]",
      "text/plain": [
       "<Figure size 1512x432 with 1 Axes>"
      ]
     },
     "metadata": {},
     "output_type": "display_data"
    }
   ],
   "source": [
    "sns.set_style('whitegrid')\n",
    "sns.set_context('talk')\n",
    "plt.figure(figsize=(21, 6))\n",
    "sns.scatterplot(data=dados_graph, x=\"date\", y=\"close\", hue='type', s=10**2, zorder=2)\n",
    "sns.lineplot(data=dados_graph, x=\"date\", y=\"close\", color=\"black\", style=True, dashes=[(2,2)], zorder=1)\n",
    "plt.savefig('plot.png', dpi=300, bbox_inches='tight')"
   ]
  },
  {
   "cell_type": "code",
   "execution_count": 83,
   "metadata": {},
   "outputs": [
    {
     "data": {
      "text/plain": [
       "({'ResponseMetadata': {'RequestId': '74c84e9d-356a-4696-b926-e6291d51c0bb',\n",
       "   'HTTPStatusCode': 200,\n",
       "   'HTTPHeaders': {'x-amzn-requestid': '74c84e9d-356a-4696-b926-e6291d51c0bb',\n",
       "    'content-type': 'application/x-amz-json-1.1',\n",
       "    'content-length': '0',\n",
       "    'date': 'Sun, 17 Jan 2021 18:43:54 GMT'},\n",
       "   'RetryAttempts': 0}},\n",
       " {'ResponseMetadata': {'RequestId': 'd4fd94a7-123b-4657-b5a3-3520c3cb71b8',\n",
       "   'HTTPStatusCode': 200,\n",
       "   'HTTPHeaders': {'x-amzn-requestid': 'd4fd94a7-123b-4657-b5a3-3520c3cb71b8',\n",
       "    'content-type': 'application/x-amz-json-1.1',\n",
       "    'content-length': '0',\n",
       "    'date': 'Sun, 17 Jan 2021 18:43:55 GMT'},\n",
       "   'RetryAttempts': 0}},\n",
       " {'ResponseMetadata': {'RequestId': 'be0e8b14-81ec-4511-93e4-fd3e53181c62',\n",
       "   'HTTPStatusCode': 200,\n",
       "   'HTTPHeaders': {'x-amzn-requestid': 'be0e8b14-81ec-4511-93e4-fd3e53181c62',\n",
       "    'content-type': 'application/x-amz-json-1.1',\n",
       "    'content-length': '0',\n",
       "    'date': 'Sun, 17 Jan 2021 18:43:55 GMT'},\n",
       "   'RetryAttempts': 0}})"
      ]
     },
     "execution_count": 83,
     "metadata": {},
     "output_type": "execute_result"
    }
   ],
   "source": [
    "kill_endpoint(config)"
   ]
  }
 ],
 "metadata": {
  "kernelspec": {
   "display_name": "Python 3",
   "language": "python",
   "name": "python3"
  },
  "language_info": {
   "codemirror_mode": {
    "name": "ipython",
    "version": 3
   },
   "file_extension": ".py",
   "mimetype": "text/x-python",
   "name": "python",
   "nbconvert_exporter": "python",
   "pygments_lexer": "ipython3",
   "version": "3.8.5"
  }
 },
 "nbformat": 4,
 "nbformat_minor": 4
}
