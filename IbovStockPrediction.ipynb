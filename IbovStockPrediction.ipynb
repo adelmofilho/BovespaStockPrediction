{
 "cells": [
  {
   "cell_type": "markdown",
   "metadata": {},
   "source": [
    "### Import python packages"
   ]
  },
  {
   "cell_type": "code",
   "execution_count": 57,
   "metadata": {},
   "outputs": [],
   "source": [
    "import numpy as np\n",
    "import pandas as pd\n",
    "from tqdm import tqdm\n",
    "\n",
    "from yahooquery import Ticker\n",
    "\n",
    "import torch\n",
    "import torch.utils.data\n",
    "from torch import optim\n",
    "from torch import nn\n",
    "from torch.autograd import Variable"
   ]
  },
  {
   "cell_type": "code",
   "execution_count": 58,
   "metadata": {},
   "outputs": [],
   "source": [
    "from ibov.utils import load_config\n",
    "from ibov.feature import create_lags\n",
    "from ibov.model import IbovModel, train"
   ]
  },
  {
   "cell_type": "markdown",
   "metadata": {},
   "source": [
    "### Load Data"
   ]
  },
  {
   "cell_type": "code",
   "execution_count": 59,
   "metadata": {},
   "outputs": [],
   "source": [
    "config = load_config()"
   ]
  },
  {
   "cell_type": "code",
   "execution_count": 60,
   "metadata": {},
   "outputs": [],
   "source": [
    "data_root_dir = config[\"data\"][\"root\"]"
   ]
  },
  {
   "cell_type": "code",
   "execution_count": 61,
   "metadata": {},
   "outputs": [],
   "source": [
    "ibov = Ticker(symbols = config[\"ibovespa\"][\"ticker\"])\n",
    "ibov_data = ibov.history(period=\"max\")\n",
    "ibov_data.to_csv(f\"{data_root_dir}/ibovespa.csv\")"
   ]
  },
  {
   "cell_type": "markdown",
   "metadata": {},
   "source": [
    "### Geração dos conjuntos de dados de treino"
   ]
  },
  {
   "cell_type": "code",
   "execution_count": 62,
   "metadata": {},
   "outputs": [],
   "source": [
    "dados_ibov = pd.read_csv(f\"{data_root_dir}/ibovespa.csv\")"
   ]
  },
  {
   "cell_type": "code",
   "execution_count": 63,
   "metadata": {},
   "outputs": [
    {
     "data": {
      "text/html": [
       "<div>\n",
       "<style scoped>\n",
       "    .dataframe tbody tr th:only-of-type {\n",
       "        vertical-align: middle;\n",
       "    }\n",
       "\n",
       "    .dataframe tbody tr th {\n",
       "        vertical-align: top;\n",
       "    }\n",
       "\n",
       "    .dataframe thead th {\n",
       "        text-align: right;\n",
       "    }\n",
       "</style>\n",
       "<table border=\"1\" class=\"dataframe\">\n",
       "  <thead>\n",
       "    <tr style=\"text-align: right;\">\n",
       "      <th></th>\n",
       "      <th>symbol</th>\n",
       "      <th>date</th>\n",
       "      <th>low</th>\n",
       "      <th>close</th>\n",
       "      <th>volume</th>\n",
       "      <th>open</th>\n",
       "      <th>high</th>\n",
       "      <th>adjclose</th>\n",
       "    </tr>\n",
       "  </thead>\n",
       "  <tbody>\n",
       "    <tr>\n",
       "      <th>0</th>\n",
       "      <td>^BVSP</td>\n",
       "      <td>2020-04-16</td>\n",
       "      <td>77452.0</td>\n",
       "      <td>77812.0</td>\n",
       "      <td>9028400.0</td>\n",
       "      <td>78837.0</td>\n",
       "      <td>80167.0</td>\n",
       "      <td>77812.0</td>\n",
       "    </tr>\n",
       "    <tr>\n",
       "      <th>1</th>\n",
       "      <td>^BVSP</td>\n",
       "      <td>2020-04-15</td>\n",
       "      <td>77546.0</td>\n",
       "      <td>78831.0</td>\n",
       "      <td>9758400.0</td>\n",
       "      <td>79911.0</td>\n",
       "      <td>80035.0</td>\n",
       "      <td>78831.0</td>\n",
       "    </tr>\n",
       "    <tr>\n",
       "      <th>2</th>\n",
       "      <td>^BVSP</td>\n",
       "      <td>2020-04-14</td>\n",
       "      <td>78848.0</td>\n",
       "      <td>79918.0</td>\n",
       "      <td>8593600.0</td>\n",
       "      <td>78848.0</td>\n",
       "      <td>81668.0</td>\n",
       "      <td>79918.0</td>\n",
       "    </tr>\n",
       "    <tr>\n",
       "      <th>3</th>\n",
       "      <td>^BVSP</td>\n",
       "      <td>2020-04-13</td>\n",
       "      <td>76405.0</td>\n",
       "      <td>78836.0</td>\n",
       "      <td>7651300.0</td>\n",
       "      <td>77682.0</td>\n",
       "      <td>78836.0</td>\n",
       "      <td>78836.0</td>\n",
       "    </tr>\n",
       "    <tr>\n",
       "      <th>4</th>\n",
       "      <td>^BVSP</td>\n",
       "      <td>2020-04-09</td>\n",
       "      <td>77457.0</td>\n",
       "      <td>77682.0</td>\n",
       "      <td>10748700.0</td>\n",
       "      <td>78640.0</td>\n",
       "      <td>80428.0</td>\n",
       "      <td>77682.0</td>\n",
       "    </tr>\n",
       "  </tbody>\n",
       "</table>\n",
       "</div>"
      ],
      "text/plain": [
       "  symbol        date      low    close      volume     open     high  adjclose\n",
       "0  ^BVSP  2020-04-16  77452.0  77812.0   9028400.0  78837.0  80167.0   77812.0\n",
       "1  ^BVSP  2020-04-15  77546.0  78831.0   9758400.0  79911.0  80035.0   78831.0\n",
       "2  ^BVSP  2020-04-14  78848.0  79918.0   8593600.0  78848.0  81668.0   79918.0\n",
       "3  ^BVSP  2020-04-13  76405.0  78836.0   7651300.0  77682.0  78836.0   78836.0\n",
       "4  ^BVSP  2020-04-09  77457.0  77682.0  10748700.0  78640.0  80428.0   77682.0"
      ]
     },
     "execution_count": 63,
     "metadata": {},
     "output_type": "execute_result"
    }
   ],
   "source": [
    "dados_ibov_train = dados_ibov.sort_values(by=\"date\", ascending=False)[180:360].reset_index(drop=\"True\")\n",
    "dados_ibov_train.head()"
   ]
  },
  {
   "cell_type": "code",
   "execution_count": 64,
   "metadata": {
    "scrolled": true
   },
   "outputs": [
    {
     "data": {
      "text/html": [
       "<div>\n",
       "<style scoped>\n",
       "    .dataframe tbody tr th:only-of-type {\n",
       "        vertical-align: middle;\n",
       "    }\n",
       "\n",
       "    .dataframe tbody tr th {\n",
       "        vertical-align: top;\n",
       "    }\n",
       "\n",
       "    .dataframe thead th {\n",
       "        text-align: right;\n",
       "    }\n",
       "</style>\n",
       "<table border=\"1\" class=\"dataframe\">\n",
       "  <thead>\n",
       "    <tr style=\"text-align: right;\">\n",
       "      <th></th>\n",
       "      <th>symbol</th>\n",
       "      <th>date</th>\n",
       "      <th>low</th>\n",
       "      <th>close</th>\n",
       "      <th>volume</th>\n",
       "      <th>open</th>\n",
       "      <th>high</th>\n",
       "      <th>adjclose</th>\n",
       "    </tr>\n",
       "  </thead>\n",
       "  <tbody>\n",
       "    <tr>\n",
       "      <th>0</th>\n",
       "      <td>^BVSP</td>\n",
       "      <td>2021-01-08</td>\n",
       "      <td>122386.0</td>\n",
       "      <td>125199.0</td>\n",
       "      <td>11085800.0</td>\n",
       "      <td>122387.0</td>\n",
       "      <td>125324.0</td>\n",
       "      <td>125199.0</td>\n",
       "    </tr>\n",
       "    <tr>\n",
       "      <th>1</th>\n",
       "      <td>^BVSP</td>\n",
       "      <td>2021-01-07</td>\n",
       "      <td>119101.0</td>\n",
       "      <td>121956.0</td>\n",
       "      <td>11774800.0</td>\n",
       "      <td>119103.0</td>\n",
       "      <td>121983.0</td>\n",
       "      <td>121956.0</td>\n",
       "    </tr>\n",
       "    <tr>\n",
       "      <th>2</th>\n",
       "      <td>^BVSP</td>\n",
       "      <td>2021-01-06</td>\n",
       "      <td>118917.0</td>\n",
       "      <td>119851.0</td>\n",
       "      <td>11638200.0</td>\n",
       "      <td>119377.0</td>\n",
       "      <td>120924.0</td>\n",
       "      <td>119851.0</td>\n",
       "    </tr>\n",
       "    <tr>\n",
       "      <th>3</th>\n",
       "      <td>^BVSP</td>\n",
       "      <td>2021-01-05</td>\n",
       "      <td>116756.0</td>\n",
       "      <td>119223.0</td>\n",
       "      <td>9257100.0</td>\n",
       "      <td>118835.0</td>\n",
       "      <td>119790.0</td>\n",
       "      <td>119223.0</td>\n",
       "    </tr>\n",
       "    <tr>\n",
       "      <th>4</th>\n",
       "      <td>^BVSP</td>\n",
       "      <td>2021-01-04</td>\n",
       "      <td>118062.0</td>\n",
       "      <td>118558.0</td>\n",
       "      <td>8741400.0</td>\n",
       "      <td>119024.0</td>\n",
       "      <td>120354.0</td>\n",
       "      <td>118558.0</td>\n",
       "    </tr>\n",
       "  </tbody>\n",
       "</table>\n",
       "</div>"
      ],
      "text/plain": [
       "  symbol        date       low     close      volume      open      high  \\\n",
       "0  ^BVSP  2021-01-08  122386.0  125199.0  11085800.0  122387.0  125324.0   \n",
       "1  ^BVSP  2021-01-07  119101.0  121956.0  11774800.0  119103.0  121983.0   \n",
       "2  ^BVSP  2021-01-06  118917.0  119851.0  11638200.0  119377.0  120924.0   \n",
       "3  ^BVSP  2021-01-05  116756.0  119223.0   9257100.0  118835.0  119790.0   \n",
       "4  ^BVSP  2021-01-04  118062.0  118558.0   8741400.0  119024.0  120354.0   \n",
       "\n",
       "   adjclose  \n",
       "0  125199.0  \n",
       "1  121956.0  \n",
       "2  119851.0  \n",
       "3  119223.0  \n",
       "4  118558.0  "
      ]
     },
     "execution_count": 64,
     "metadata": {},
     "output_type": "execute_result"
    }
   ],
   "source": [
    "dados_ibov_valid = dados_ibov.sort_values(by=\"date\", ascending=False)[0:180].reset_index(drop=\"True\")\n",
    "dados_ibov_valid.head()"
   ]
  },
  {
   "cell_type": "code",
   "execution_count": 74,
   "metadata": {},
   "outputs": [],
   "source": [
    "window = 7#config[\"feature\"][\"window\"]"
   ]
  },
  {
   "cell_type": "code",
   "execution_count": 75,
   "metadata": {},
   "outputs": [
    {
     "data": {
      "text/plain": [
       "7"
      ]
     },
     "execution_count": 75,
     "metadata": {},
     "output_type": "execute_result"
    }
   ],
   "source": [
    "window"
   ]
  },
  {
   "cell_type": "code",
   "execution_count": 76,
   "metadata": {},
   "outputs": [],
   "source": [
    "trainY, trainX = create_lags(data = dados_ibov_train[\"close\"], window = window)\n",
    "validY, validX = create_lags(data = dados_ibov_valid[\"close\"], window = window)"
   ]
  },
  {
   "cell_type": "markdown",
   "metadata": {},
   "source": [
    "### Definição do modelo"
   ]
  },
  {
   "cell_type": "markdown",
   "metadata": {},
   "source": [
    "#### Test Net"
   ]
  },
  {
   "cell_type": "markdown",
   "metadata": {},
   "source": [
    "random_data = torch.rand((1, 1, 7))\n",
    "test_net = Net(window=window)\n",
    "result = test_net(random_data)\n",
    "print(result)"
   ]
  },
  {
   "cell_type": "markdown",
   "metadata": {},
   "source": [
    "### Train Net"
   ]
  },
  {
   "cell_type": "code",
   "execution_count": 77,
   "metadata": {},
   "outputs": [
    {
     "data": {
      "text/plain": [
       "<torch._C.Generator at 0x7ffaa560ffb0>"
      ]
     },
     "execution_count": 77,
     "metadata": {},
     "output_type": "execute_result"
    }
   ],
   "source": [
    "torch.manual_seed(0)"
   ]
  },
  {
   "cell_type": "code",
   "execution_count": 78,
   "metadata": {},
   "outputs": [],
   "source": [
    "tensor_x = torch.Tensor(np.array(trainX))\n",
    "tensor_y = torch.Tensor(np.array(trainY))"
   ]
  },
  {
   "cell_type": "code",
   "execution_count": 13,
   "metadata": {},
   "outputs": [],
   "source": [
    "tensor_val_x = torch.Tensor(np.array(validX))\n",
    "tensor_val_y = torch.Tensor(np.array(validY))"
   ]
  },
  {
   "cell_type": "code",
   "execution_count": 14,
   "metadata": {},
   "outputs": [],
   "source": [
    "dataset = torch.utils.data.TensorDataset(tensor_x,tensor_y)\n",
    "dataloader = torch.utils.data.DataLoader(dataset, batch_size=10)"
   ]
  },
  {
   "cell_type": "code",
   "execution_count": 15,
   "metadata": {},
   "outputs": [],
   "source": [
    "val_dataset = torch.utils.data.TensorDataset(tensor_val_x,tensor_val_y)\n",
    "val_dataloader = torch.utils.data.DataLoader(val_dataset, batch_size=10)"
   ]
  },
  {
   "cell_type": "code",
   "execution_count": 16,
   "metadata": {},
   "outputs": [],
   "source": [
    "model = IbovModel(window=window)\n",
    "criterion = nn.MSELoss()\n",
    "optimizer = optim.Adam(model.parameters(), lr=0.001)"
   ]
  },
  {
   "cell_type": "code",
   "execution_count": 17,
   "metadata": {
    "scrolled": true
   },
   "outputs": [
    {
     "data": {
      "image/png": "[encoded data removed]",
      "text/plain": [
       "<Figure size 432x288 with 1 Axes>"
      ]
     },
     "metadata": {
      "needs_background": "light"
     },
     "output_type": "display_data"
    }
   ],
   "source": [
    "train(dataloader, val_dataloader, model, criterion, optimizer, epochs=10)"
   ]
  },
  {
   "cell_type": "code",
   "execution_count": 18,
   "metadata": {},
   "outputs": [],
   "source": [
    "import seaborn as sns"
   ]
  },
  {
   "cell_type": "code",
   "execution_count": 19,
   "metadata": {},
   "outputs": [
    {
     "data": {
      "text/html": [
       "<div>\n",
       "<style scoped>\n",
       "    .dataframe tbody tr th:only-of-type {\n",
       "        vertical-align: middle;\n",
       "    }\n",
       "\n",
       "    .dataframe tbody tr th {\n",
       "        vertical-align: top;\n",
       "    }\n",
       "\n",
       "    .dataframe thead th {\n",
       "        text-align: right;\n",
       "    }\n",
       "</style>\n",
       "<table border=\"1\" class=\"dataframe\">\n",
       "  <thead>\n",
       "    <tr style=\"text-align: right;\">\n",
       "      <th></th>\n",
       "      <th>pred</th>\n",
       "      <th>true</th>\n",
       "    </tr>\n",
       "  </thead>\n",
       "  <tbody>\n",
       "    <tr>\n",
       "      <th>0</th>\n",
       "      <td>75069.867188</td>\n",
       "      <td>78625.0</td>\n",
       "    </tr>\n",
       "    <tr>\n",
       "      <th>1</th>\n",
       "      <td>71456.781250</td>\n",
       "      <td>76358.0</td>\n",
       "    </tr>\n",
       "    <tr>\n",
       "      <th>2</th>\n",
       "      <td>71192.031250</td>\n",
       "      <td>74073.0</td>\n",
       "    </tr>\n",
       "    <tr>\n",
       "      <th>3</th>\n",
       "      <td>71550.601562</td>\n",
       "      <td>69538.0</td>\n",
       "    </tr>\n",
       "    <tr>\n",
       "      <th>4</th>\n",
       "      <td>72231.890625</td>\n",
       "      <td>72253.0</td>\n",
       "    </tr>\n",
       "  </tbody>\n",
       "</table>\n",
       "</div>"
      ],
      "text/plain": [
       "           pred     true\n",
       "0  75069.867188  78625.0\n",
       "1  71456.781250  76358.0\n",
       "2  71192.031250  74073.0\n",
       "3  71550.601562  69538.0\n",
       "4  72231.890625  72253.0"
      ]
     },
     "execution_count": 19,
     "metadata": {},
     "output_type": "execute_result"
    }
   ],
   "source": [
    "prediction = np.hstack(model(tensor_x).detach().numpy()).tolist()\n",
    "true_value = np.hstack(trainY).tolist()\n",
    "evaluation_data = pd.DataFrame(columns=[\"pred\", \"true\"])\n",
    "evaluation_data[\"pred\"] = prediction\n",
    "evaluation_data[\"true\"] = true_value\n",
    "evaluation_data.head()"
   ]
  },
  {
   "cell_type": "code",
   "execution_count": 20,
   "metadata": {},
   "outputs": [
    {
     "data": {
      "text/html": [
       "<div>\n",
       "<style scoped>\n",
       "    .dataframe tbody tr th:only-of-type {\n",
       "        vertical-align: middle;\n",
       "    }\n",
       "\n",
       "    .dataframe tbody tr th {\n",
       "        vertical-align: top;\n",
       "    }\n",
       "\n",
       "    .dataframe thead th {\n",
       "        text-align: right;\n",
       "    }\n",
       "</style>\n",
       "<table border=\"1\" class=\"dataframe\">\n",
       "  <thead>\n",
       "    <tr style=\"text-align: right;\">\n",
       "      <th></th>\n",
       "      <th>pred</th>\n",
       "      <th>true</th>\n",
       "    </tr>\n",
       "  </thead>\n",
       "  <tbody>\n",
       "    <tr>\n",
       "      <th>0</th>\n",
       "      <td>119317.031250</td>\n",
       "      <td>119306.0</td>\n",
       "    </tr>\n",
       "    <tr>\n",
       "      <th>1</th>\n",
       "      <td>118438.812500</td>\n",
       "      <td>119475.0</td>\n",
       "    </tr>\n",
       "    <tr>\n",
       "      <th>2</th>\n",
       "      <td>117058.203125</td>\n",
       "      <td>119051.0</td>\n",
       "    </tr>\n",
       "    <tr>\n",
       "      <th>3</th>\n",
       "      <td>116241.851562</td>\n",
       "      <td>117857.0</td>\n",
       "    </tr>\n",
       "    <tr>\n",
       "      <th>4</th>\n",
       "      <td>117085.617188</td>\n",
       "      <td>116348.0</td>\n",
       "    </tr>\n",
       "  </tbody>\n",
       "</table>\n",
       "</div>"
      ],
      "text/plain": [
       "            pred      true\n",
       "0  119317.031250  119306.0\n",
       "1  118438.812500  119475.0\n",
       "2  117058.203125  119051.0\n",
       "3  116241.851562  117857.0\n",
       "4  117085.617188  116348.0"
      ]
     },
     "execution_count": 20,
     "metadata": {},
     "output_type": "execute_result"
    }
   ],
   "source": [
    "prediction = np.hstack(model(tensor_val_x).detach().numpy()).tolist()\n",
    "true_value = np.hstack(validY).tolist()\n",
    "evaluation = pd.DataFrame(columns=[\"pred\", \"true\"])\n",
    "evaluation[\"pred\"] = prediction\n",
    "evaluation[\"true\"] = true_value\n",
    "evaluation.head()"
   ]
  },
  {
   "cell_type": "code",
   "execution_count": 22,
   "metadata": {},
   "outputs": [],
   "source": [
    "from sklearn.metrics import median_absolute_error, accuracy_score, confusion_matrix"
   ]
  },
  {
   "cell_type": "code",
   "execution_count": 23,
   "metadata": {},
   "outputs": [
    {
     "data": {
      "text/plain": [
       "1173.91015625"
      ]
     },
     "execution_count": 23,
     "metadata": {},
     "output_type": "execute_result"
    }
   ],
   "source": [
    "median_absolute_error(evaluation.true, evaluation.pred)"
   ]
  },
  {
   "cell_type": "code",
   "execution_count": 24,
   "metadata": {},
   "outputs": [
    {
     "data": {
      "text/plain": [
       "1322.4317064606741"
      ]
     },
     "execution_count": 24,
     "metadata": {},
     "output_type": "execute_result"
    }
   ],
   "source": [
    "np.mean(np.abs(evaluation.true - evaluation.pred))"
   ]
  },
  {
   "cell_type": "code",
   "execution_count": null,
   "metadata": {},
   "outputs": [],
   "source": []
  },
  {
   "cell_type": "markdown",
   "metadata": {},
   "source": [
    "evaluation = evaluation.append(evaluation_data)"
   ]
  },
  {
   "cell_type": "code",
   "execution_count": null,
   "metadata": {},
   "outputs": [],
   "source": []
  },
  {
   "cell_type": "code",
   "execution_count": null,
   "metadata": {},
   "outputs": [],
   "source": [
    "true = evaluation.true[:-1].reset_index(drop=True)\n",
    "pred = evaluation.true[1:].reset_index(drop=True)"
   ]
  },
  {
   "cell_type": "code",
   "execution_count": null,
   "metadata": {},
   "outputs": [],
   "source": [
    "a = pd.DataFrame(columns=[\"pred\", \"true\"])\n",
    "a[\"pred\"] = pred\n",
    "a[\"true\"] = true"
   ]
  },
  {
   "cell_type": "code",
   "execution_count": null,
   "metadata": {},
   "outputs": [],
   "source": [
    "pred"
   ]
  },
  {
   "cell_type": "code",
   "execution_count": null,
   "metadata": {},
   "outputs": [],
   "source": [
    "delta_pred = [1 if np.sign(pred[idx]-pred[idx+1]) >=0 else 0 for idx in range(pred.shape[0]-1)]\n",
    "delta_true = [1 if np.sign(true[idx]-true[idx+1]) >=0 else 0 for idx in range(true.shape[0]-1)]"
   ]
  },
  {
   "cell_type": "code",
   "execution_count": null,
   "metadata": {},
   "outputs": [],
   "source": [
    "confusion_matrix(delta_true, delta_pred)"
   ]
  },
  {
   "cell_type": "code",
   "execution_count": null,
   "metadata": {},
   "outputs": [],
   "source": [
    "confusion_matrix(delta_true, delta_pred)"
   ]
  },
  {
   "cell_type": "code",
   "execution_count": null,
   "metadata": {
    "scrolled": true
   },
   "outputs": [],
   "source": [
    "median_absolute_error(a.true, a.pred)"
   ]
  },
  {
   "cell_type": "code",
   "execution_count": null,
   "metadata": {},
   "outputs": [],
   "source": [
    "from matplotlib import pyplot"
   ]
  },
  {
   "cell_type": "code",
   "execution_count": null,
   "metadata": {},
   "outputs": [],
   "source": [
    "a4_dims = (16.5, 11.7)\n",
    "fig, ax = pyplot.subplots(figsize=a4_dims)\n",
    "sns.lineplot(ax=ax, data=a, dashes=False, markers=True)"
   ]
  },
  {
   "cell_type": "markdown",
   "metadata": {},
   "source": [
    "### Sagemaker Training"
   ]
  },
  {
   "cell_type": "code",
   "execution_count": 50,
   "metadata": {},
   "outputs": [
    {
     "name": "stderr",
     "output_type": "stream",
     "text": [
      "Couldn't call 'get_role' to get Role ARN from role name aadelmo to get Role path.\n"
     ]
    }
   ],
   "source": [
    "import boto3\n",
    "import sagemaker\n",
    "\n",
    "sagemaker_session = sagemaker.Session(boto_session=boto3.session.Session(region_name=\"sa-east-1\"))\n",
    "\n",
    "bucket = sagemaker_session.default_bucket()\n",
    "prefix = 'sagemaker/ibovespa'\n",
    "\n",
    "try:\n",
    "    role = sagemaker.get_execution_role()\n",
    "except Exception as err:\n",
    "    role = \"arn:aws:iam::977053370764:role/service-role/AmazonSageMaker-ExecutionRole-20201202T141643\""
   ]
  },
  {
   "cell_type": "code",
   "execution_count": 51,
   "metadata": {},
   "outputs": [
    {
     "data": {
      "text/plain": [
       "'data'"
      ]
     },
     "execution_count": 51,
     "metadata": {},
     "output_type": "execute_result"
    }
   ],
   "source": [
    "data_root_dir"
   ]
  },
  {
   "cell_type": "code",
   "execution_count": 52,
   "metadata": {},
   "outputs": [
    {
     "data": {
      "text/plain": [
       "'s3://sagemaker-sa-east-1-977053370764/sagemaker/ibovespa'"
      ]
     },
     "execution_count": 52,
     "metadata": {},
     "output_type": "execute_result"
    }
   ],
   "source": [
    "input_data = sagemaker_session.upload_data(path=data_root_dir, bucket=bucket, key_prefix=prefix)\n",
    "input_data"
   ]
  },
  {
   "cell_type": "code",
   "execution_count": 53,
   "metadata": {},
   "outputs": [
    {
     "name": "stderr",
     "output_type": "stream",
     "text": [
      "train_instance_count has been renamed in sagemaker>=2.\n",
      "See: https://sagemaker.readthedocs.io/en/stable/v2.html for details.\n",
      "train_instance_type has been renamed in sagemaker>=2.\n",
      "See: https://sagemaker.readthedocs.io/en/stable/v2.html for details.\n"
     ]
    }
   ],
   "source": [
    "from sagemaker.pytorch import PyTorch\n",
    "\n",
    "estimator = PyTorch(entry_point=\"train.py\",\n",
    "                    source_dir=\"ibov\",\n",
    "                    py_version=\"py3\",\n",
    "                    role=role,\n",
    "                    framework_version='0.4.0',\n",
    "                    train_instance_count=1,\n",
    "                    train_instance_type='ml.m5.large')"
   ]
  },
  {
   "cell_type": "code",
   "execution_count": 54,
   "metadata": {},
   "outputs": [
    {
     "name": "stdout",
     "output_type": "stream",
     "text": [
      "2021-01-09 21:24:39 Starting - Starting the training job...\n",
      "2021-01-09 21:24:42 Starting - Launching requested ML instancesProfilerReport-1610227477: InProgress\n",
      "......\n",
      "2021-01-09 21:25:56 Starting - Preparing the instances for training...\n",
      "2021-01-09 21:26:40 Downloading - Downloading input data...\n",
      "2021-01-09 21:27:15 Training - Training image download completed. Training in progress.\u001b[34mbash: cannot set terminal process group (-1): Inappropriate ioctl for device\u001b[0m\n",
      "\u001b[34mbash: no job control in this shell\u001b[0m\n",
      "\u001b[34m2021-01-09 21:27:14,616 sagemaker-containers INFO     Imported framework sagemaker_pytorch_container.training\u001b[0m\n",
      "\u001b[34m2021-01-09 21:27:14,619 sagemaker-containers INFO     No GPUs detected (normal if no gpus installed)\u001b[0m\n",
      "\u001b[34m2021-01-09 21:27:14,631 sagemaker_pytorch_container.training INFO     Block until all host DNS lookups succeed.\u001b[0m\n",
      "\u001b[34m2021-01-09 21:27:20,953 sagemaker_pytorch_container.training INFO     Invoking user training script.\u001b[0m\n",
      "\u001b[34m2021-01-09 21:27:21,192 sagemaker-containers INFO     Module train does not provide a setup.py. \u001b[0m\n",
      "\u001b[34mGenerating setup.py\u001b[0m\n",
      "\u001b[34m2021-01-09 21:27:21,192 sagemaker-containers INFO     Generating setup.cfg\u001b[0m\n",
      "\u001b[34m2021-01-09 21:27:21,192 sagemaker-containers INFO     Generating MANIFEST.in\u001b[0m\n",
      "\u001b[34m2021-01-09 21:27:21,193 sagemaker-containers INFO     Installing module with the following command:\u001b[0m\n",
      "\u001b[34m/usr/bin/python -m pip install -U . -r requirements.txt\u001b[0m\n",
      "\u001b[34mProcessing /opt/ml/code\u001b[0m\n",
      "\u001b[34mCollecting pandas (from -r requirements.txt (line 1))\u001b[0m\n",
      "\u001b[34m  Downloading https://files.pythonhosted.org/packages/74/24/0cdbf8907e1e3bc5a8da03345c23cbed7044330bb8f73bb12e711a640a00/pandas-0.24.2-cp35-cp35m-manylinux1_x86_64.whl (10.0MB)\u001b[0m\n",
      "\u001b[34mRequirement already satisfied, skipping upgrade: python-dateutil>=2.5.0 in /usr/local/lib/python3.5/dist-packages (from pandas->-r requirements.txt (line 1)) (2.7.5)\u001b[0m\n",
      "\u001b[34mRequirement already satisfied, skipping upgrade: numpy>=1.12.0 in /usr/local/lib/python3.5/dist-packages (from pandas->-r requirements.txt (line 1)) (1.15.4)\u001b[0m\n",
      "\u001b[34mCollecting pytz>=2011k (from pandas->-r requirements.txt (line 1))\u001b[0m\n",
      "\u001b[34m  Downloading https://files.pythonhosted.org/packages/89/06/2c2d3034b4d6bf22f2a4ae546d16925898658a33b4400cfb7e2c1e2871a3/pytz-2020.5-py2.py3-none-any.whl (510kB)\u001b[0m\n",
      "\u001b[34mRequirement already satisfied, skipping upgrade: six>=1.5 in /usr/local/lib/python3.5/dist-packages (from python-dateutil>=2.5.0->pandas->-r requirements.txt (line 1)) (1.11.0)\u001b[0m\n",
      "\u001b[34mBuilding wheels for collected packages: train\n",
      "  Running setup.py bdist_wheel for train: started\n",
      "  Running setup.py bdist_wheel for train: finished with status 'done'\n",
      "  Stored in directory: /tmp/pip-ephem-wheel-cache-bikwaruh/wheels/35/24/16/37574d11bf9bde50616c67372a334f94fa8356bc7164af8ca3\u001b[0m\n",
      "\u001b[34mSuccessfully built train\u001b[0m\n",
      "\u001b[34mInstalling collected packages: pytz, pandas, train\u001b[0m\n",
      "\u001b[34mSuccessfully installed pandas-0.24.2 pytz-2020.5 train-1.0.0\u001b[0m\n",
      "\u001b[34mYou are using pip version 18.1, however version 20.3.3 is available.\u001b[0m\n",
      "\u001b[34mYou should consider upgrading via the 'pip install --upgrade pip' command.\u001b[0m\n",
      "\u001b[34m2021-01-09 21:27:26,652 sagemaker-containers INFO     No GPUs detected (normal if no gpus installed)\u001b[0m\n",
      "\u001b[34m2021-01-09 21:27:26,664 sagemaker-containers INFO     Invoking user script\n",
      "\u001b[0m\n",
      "\u001b[34mTraining Env:\n",
      "\u001b[0m\n",
      "\u001b[34m{\n",
      "    \"output_data_dir\": \"/opt/ml/output/data\",\n",
      "    \"num_cpus\": 2,\n",
      "    \"job_name\": \"sagemaker-pytorch-2021-01-09-21-24-37-255\",\n",
      "    \"channel_input_dirs\": {\n",
      "        \"train\": \"/opt/ml/input/data/train\"\n",
      "    },\n",
      "    \"hyperparameters\": {},\n",
      "    \"current_host\": \"algo-1\",\n",
      "    \"model_dir\": \"/opt/ml/model\",\n",
      "    \"additional_framework_parameters\": {},\n",
      "    \"framework_module\": \"sagemaker_pytorch_container.training:main\",\n",
      "    \"network_interface_name\": \"eth0\",\n",
      "    \"input_data_config\": {\n",
      "        \"train\": {\n",
      "            \"TrainingInputMode\": \"File\",\n",
      "            \"S3DistributionType\": \"FullyReplicated\",\n",
      "            \"RecordWrapperType\": \"None\"\n",
      "        }\n",
      "    },\n",
      "    \"resource_config\": {\n",
      "        \"hosts\": [\n",
      "            \"algo-1\"\n",
      "        ],\n",
      "        \"network_interface_name\": \"eth0\",\n",
      "        \"current_host\": \"algo-1\"\n",
      "    },\n",
      "    \"log_level\": 20,\n",
      "    \"module_dir\": \"s3://sagemaker-sa-east-1-977053370764/sagemaker-pytorch-2021-01-09-21-24-37-255/source/sourcedir.tar.gz\",\n",
      "    \"hosts\": [\n",
      "        \"algo-1\"\n",
      "    ],\n",
      "    \"input_dir\": \"/opt/ml/input\",\n",
      "    \"user_entry_point\": \"train.py\",\n",
      "    \"num_gpus\": 0,\n",
      "    \"module_name\": \"train\",\n",
      "    \"output_dir\": \"/opt/ml/output\",\n",
      "    \"input_config_dir\": \"/opt/ml/input/config\",\n",
      "    \"output_intermediate_dir\": \"/opt/ml/output/intermediate\"\u001b[0m\n",
      "\u001b[34m}\n",
      "\u001b[0m\n",
      "\u001b[34mEnvironment variables:\n",
      "\u001b[0m\n",
      "\u001b[34mSM_RESOURCE_CONFIG={\"current_host\":\"algo-1\",\"hosts\":[\"algo-1\"],\"network_interface_name\":\"eth0\"}\u001b[0m\n",
      "\u001b[34mSM_OUTPUT_DATA_DIR=/opt/ml/output/data\u001b[0m\n",
      "\u001b[34mSM_MODEL_DIR=/opt/ml/model\u001b[0m\n",
      "\u001b[34mSM_USER_ENTRY_POINT=train.py\u001b[0m\n",
      "\u001b[34mSM_CHANNELS=[\"train\"]\u001b[0m\n",
      "\u001b[34mSM_HOSTS=[\"algo-1\"]\u001b[0m\n",
      "\u001b[34mSM_INPUT_DATA_CONFIG={\"train\":{\"RecordWrapperType\":\"None\",\"S3DistributionType\":\"FullyReplicated\",\"TrainingInputMode\":\"File\"}}\u001b[0m\n",
      "\u001b[34mSM_INPUT_CONFIG_DIR=/opt/ml/input/config\u001b[0m\n",
      "\u001b[34mSM_FRAMEWORK_PARAMS={}\u001b[0m\n",
      "\u001b[34mPYTHONPATH=/usr/local/bin:/usr/lib/python35.zip:/usr/lib/python3.5:/usr/lib/python3.5/plat-x86_64-linux-gnu:/usr/lib/python3.5/lib-dynload:/usr/local/lib/python3.5/dist-packages:/usr/lib/python3/dist-packages\u001b[0m\n",
      "\u001b[34mSM_MODULE_NAME=train\u001b[0m\n",
      "\u001b[34mSM_NUM_GPUS=0\u001b[0m\n",
      "\u001b[34mSM_USER_ARGS=[]\u001b[0m\n",
      "\u001b[34mSM_MODULE_DIR=s3://sagemaker-sa-east-1-977053370764/sagemaker-pytorch-2021-01-09-21-24-37-255/source/sourcedir.tar.gz\u001b[0m\n",
      "\u001b[34mSM_NETWORK_INTERFACE_NAME=eth0\u001b[0m\n",
      "\u001b[34mSM_TRAINING_ENV={\"additional_framework_parameters\":{},\"channel_input_dirs\":{\"train\":\"/opt/ml/input/data/train\"},\"current_host\":\"algo-1\",\"framework_module\":\"sagemaker_pytorch_container.training:main\",\"hosts\":[\"algo-1\"],\"hyperparameters\":{},\"input_config_dir\":\"/opt/ml/input/config\",\"input_data_config\":{\"train\":{\"RecordWrapperType\":\"None\",\"S3DistributionType\":\"FullyReplicated\",\"TrainingInputMode\":\"File\"}},\"input_dir\":\"/opt/ml/input\",\"job_name\":\"sagemaker-pytorch-2021-01-09-21-24-37-255\",\"log_level\":20,\"model_dir\":\"/opt/ml/model\",\"module_dir\":\"s3://sagemaker-sa-east-1-977053370764/sagemaker-pytorch-2021-01-09-21-24-37-255/source/sourcedir.tar.gz\",\"module_name\":\"train\",\"network_interface_name\":\"eth0\",\"num_cpus\":2,\"num_gpus\":0,\"output_data_dir\":\"/opt/ml/output/data\",\"output_dir\":\"/opt/ml/output\",\"output_intermediate_dir\":\"/opt/ml/output/intermediate\",\"resource_config\":{\"current_host\":\"algo-1\",\"hosts\":[\"algo-1\"],\"network_interface_name\":\"eth0\"},\"user_entry_point\":\"train.py\"}\u001b[0m\n",
      "\u001b[34mSM_NUM_CPUS=2\u001b[0m\n",
      "\u001b[34mSM_LOG_LEVEL=20\u001b[0m\n",
      "\u001b[34mSM_CURRENT_HOST=algo-1\u001b[0m\n",
      "\u001b[34mSM_FRAMEWORK_MODULE=sagemaker_pytorch_container.training:main\u001b[0m\n",
      "\u001b[34mSM_OUTPUT_DIR=/opt/ml/output\u001b[0m\n",
      "\u001b[34mSM_HPS={}\u001b[0m\n",
      "\u001b[34mSM_INPUT_DIR=/opt/ml/input\u001b[0m\n",
      "\u001b[34mSM_CHANNEL_TRAIN=/opt/ml/input/data/train\u001b[0m\n",
      "\u001b[34mSM_OUTPUT_INTERMEDIATE_DIR=/opt/ml/output/intermediate\n",
      "\u001b[0m\n",
      "\u001b[34mInvoking script with the following command:\n",
      "\u001b[0m\n",
      "\u001b[34m/usr/bin/python -m train\n",
      "\n",
      "\u001b[0m\n",
      "\u001b[34mGet train data loader.\u001b[0m\n",
      "\u001b[34m1300272764.0\u001b[0m\n",
      "\u001b[34m1812164464.0\u001b[0m\n",
      "\u001b[34m455165662.0\u001b[0m\n",
      "\u001b[34m109935964.875\u001b[0m\n",
      "\u001b[34m92739926.3125\u001b[0m\n",
      "\u001b[34m106234154.375\u001b[0m\n",
      "\u001b[34m100737406.8125\u001b[0m\n",
      "\u001b[34m98181727.875\u001b[0m\n",
      "\u001b[34m97951332.875\u001b[0m\n",
      "\u001b[34m97490793.75\u001b[0m\n",
      "\u001b[34m91252787.75\u001b[0m\n",
      "\u001b[34m94092957.75\u001b[0m\n",
      "\u001b[34m93346523.0625\u001b[0m\n",
      "\u001b[34m88314546.875\u001b[0m\n",
      "\u001b[34m89411143.0\u001b[0m\n",
      "\u001b[34m85658070.6875\u001b[0m\n",
      "\u001b[34m84746649.0625\u001b[0m\n",
      "\u001b[34m88505865.8125\u001b[0m\n",
      "\u001b[34m83799411.5\u001b[0m\n",
      "\u001b[34m83926581.75\u001b[0m\n",
      "\u001b[34m80418896.5\u001b[0m\n",
      "\u001b[34m91893810.9375\u001b[0m\n",
      "\u001b[34m80873689.5\u001b[0m\n",
      "\u001b[34m88496834.9375\u001b[0m\n",
      "\u001b[34m78962236.1875\u001b[0m\n",
      "\u001b[34m78937249.375\u001b[0m\n",
      "\u001b[34m77693095.5\u001b[0m\n",
      "\u001b[34m80891507.6875\u001b[0m\n",
      "\u001b[34m81780252.25\u001b[0m\n",
      "\u001b[34m77295455.375\u001b[0m\n",
      "\u001b[34m77896190.5625\u001b[0m\n",
      "\u001b[34m75694248.0\u001b[0m\n",
      "\u001b[34m89358994.0625\u001b[0m\n",
      "\u001b[34m79568803.6875\u001b[0m\n",
      "\u001b[34m76557016.375\u001b[0m\n",
      "\u001b[34m73718544.75\u001b[0m\n",
      "\u001b[34m76236411.8125\u001b[0m\n",
      "\u001b[34m73576677.375\u001b[0m\n",
      "\u001b[34m72637034.3125\u001b[0m\n",
      "\u001b[34m79119535.0625\u001b[0m\n",
      "\u001b[34m75056609.0625\u001b[0m\n",
      "\u001b[34m71020129.0\u001b[0m\n",
      "\u001b[34m77852327.9375\u001b[0m\n",
      "\u001b[34m74847304.5\u001b[0m\n",
      "\u001b[34m71569097.5\u001b[0m\n",
      "\u001b[34m80966572.6875\u001b[0m\n",
      "\u001b[34m71260635.125\u001b[0m\n",
      "\u001b[34m91837474.25\u001b[0m\n",
      "\u001b[34m84381082.8125\u001b[0m\n",
      "\u001b[34m71131315.625\u001b[0m\n",
      "\u001b[34m2021-01-09 21:27:28,270 sagemaker-containers INFO     Reporting training SUCCESS\u001b[0m\n"
     ]
    },
    {
     "name": "stdout",
     "output_type": "stream",
     "text": [
      "\n",
      "2021-01-09 21:27:37 Uploading - Uploading generated training model\n",
      "2021-01-09 21:27:37 Completed - Training job completed\n",
      "Training seconds: 57\n",
      "Billable seconds: 57\n"
     ]
    }
   ],
   "source": [
    "estimator.fit({'train': input_data})"
   ]
  },
  {
   "cell_type": "code",
   "execution_count": 55,
   "metadata": {},
   "outputs": [
    {
     "name": "stdout",
     "output_type": "stream",
     "text": [
      "-------------!"
     ]
    }
   ],
   "source": [
    "predictor = estimator.deploy(initial_instance_count=1,instance_type=\"ml.m4.xlarge\")"
   ]
  },
  {
   "cell_type": "code",
   "execution_count": 72,
   "metadata": {},
   "outputs": [
    {
     "data": {
      "text/plain": [
       "tensor([[ 78831.,  79918.],\n",
       "        [ 79918.,  78836.],\n",
       "        [ 78836.,  77682.],\n",
       "        [ 77682.,  78625.],\n",
       "        [ 78625.,  76358.],\n",
       "        [ 76358.,  74073.],\n",
       "        [ 74073.,  69538.],\n",
       "        [ 69538.,  72253.],\n",
       "        [ 72253.,  70967.],\n",
       "        [ 70967.,  73020.],\n",
       "        [ 73020.,  74640.],\n",
       "        [ 74640.,  73429.],\n",
       "        [ 73429.,  77710.],\n",
       "        [ 77710.,  74956.],\n",
       "        [ 74956.,  69729.],\n",
       "        [ 69729.,  63570.],\n",
       "        [ 63570.,  67069.],\n",
       "        [ 67069.,  68332.],\n",
       "        [ 68332.,  66895.],\n",
       "        [ 66895.,  74617.],\n",
       "        [ 74617.,  71168.],\n",
       "        [ 71168.,  82678.],\n",
       "        [ 82678.,  72583.],\n",
       "        [ 72583.,  85171.],\n",
       "        [ 85171.,  92214.],\n",
       "        [ 92214.,  86067.],\n",
       "        [ 86067.,  97997.],\n",
       "        [ 97997., 102233.],\n",
       "        [102233., 107224.],\n",
       "        [107224., 105537.],\n",
       "        [105537., 106625.],\n",
       "        [106625., 104172.],\n",
       "        [104172., 102984.],\n",
       "        [102984., 113681.],\n",
       "        [113681., 114586.],\n",
       "        [114586., 116518.],\n",
       "        [116518., 114977.],\n",
       "        [114977., 115309.],\n",
       "        [115309., 114381.],\n",
       "        [114381., 115662.],\n",
       "        [115662., 116674.],\n",
       "        [116674., 115371.],\n",
       "        [115371., 112570.],\n",
       "        [112570., 113770.],\n",
       "        [113770., 115190.],\n",
       "        [115190., 116028.],\n",
       "        [116028., 115557.],\n",
       "        [115557., 114629.],\n",
       "        [114629., 113761.],\n",
       "        [113761., 115528.],\n",
       "        [115528., 115385.],\n",
       "        [115385., 116479.],\n",
       "        [116479., 114482.],\n",
       "        [114482., 118376.],\n",
       "        [118376., 119528.],\n",
       "        [119528., 118391.],\n",
       "        [118391., 117026.],\n",
       "        [117026., 118862.],\n",
       "        [118862., 118478.],\n",
       "        [118478., 116704.],\n",
       "        [116704., 116414.],\n",
       "        [116414., 117632.],\n",
       "        [117632., 117325.],\n",
       "        [117325., 115503.],\n",
       "        [115503., 115947.],\n",
       "        [115947., 116247.],\n",
       "        [116247., 116662.],\n",
       "        [116662., 116878.],\n",
       "        [116878., 117707.],\n",
       "        [117707., 118573.],\n",
       "        [118573., 115964.],\n",
       "        [115964., 116534.],\n",
       "        [116534., 117203.],\n",
       "        [117203., 115863.],\n",
       "        [115863., 115121.],\n",
       "        [115121., 115131.],\n",
       "        [115131., 114315.],\n",
       "        [114315., 112616.],\n",
       "        [112616., 111896.],\n",
       "        [111896., 112565.],\n",
       "        [112565., 112200.],\n",
       "        [112200., 110964.],\n",
       "        [110964., 110672.],\n",
       "        [110672., 110977.],\n",
       "        [110977., 111126.],\n",
       "        [111126., 110622.],\n",
       "        [110622., 110301.],\n",
       "        [110301., 108956.],\n",
       "        [108956., 109061.],\n",
       "        [109061., 108233.],\n",
       "        [108233., 108290.],\n",
       "        [108290., 107708.],\n",
       "        [107708., 107059.],\n",
       "        [107059., 108424.],\n",
       "        [108424., 108692.],\n",
       "        [108692., 107497.],\n",
       "        [107497., 105618.],\n",
       "        [105618., 106347.],\n",
       "        [106347., 106557.],\n",
       "        [106557., 105914.],\n",
       "        [105914., 106785.],\n",
       "        [106785., 108215.],\n",
       "        [108215., 107629.],\n",
       "        [107629., 109581.],\n",
       "        [109581., 108336.],\n",
       "        [108336., 108451.],\n",
       "        [108451., 108601.],\n",
       "        [108601., 108196.],\n",
       "        [108196., 107220.],\n",
       "        [107220., 108408.],\n",
       "        [108408., 107556.],\n",
       "        [107556., 108187.],\n",
       "        [108187., 107364.],\n",
       "        [107364., 106986.],\n",
       "        [106986., 107544.],\n",
       "        [107544., 107381.],\n",
       "        [107381., 106022.],\n",
       "        [106022., 104729.],\n",
       "        [104729., 105016.],\n",
       "        [105016., 105423.],\n",
       "        [105423., 104490.],\n",
       "        [104490., 104302.],\n",
       "        [104302., 103832.],\n",
       "        [103832., 101817.],\n",
       "        [101817., 101249.],\n",
       "        [101249.,  99981.],\n",
       "        [ 99981., 100573.],\n",
       "        [100573., 102551.],\n",
       "        [102551., 101516.],\n",
       "        [101516., 101031.],\n",
       "        [101031., 104053.],\n",
       "        [104053., 104745.],\n",
       "        [104745., 105078.],\n",
       "        [105078., 105319.],\n",
       "        [105319., 104481.],\n",
       "        [104481., 103876.],\n",
       "        [103876., 104638.],\n",
       "        [104638., 104817.],\n",
       "        [104817., 104339.],\n",
       "        [104339., 104532.],\n",
       "        [104532., 104617.],\n",
       "        [104617., 103680.],\n",
       "        [103680., 103501.],\n",
       "        [103501., 104371.],\n",
       "        [104371., 103446.],\n",
       "        [103446., 103032.],\n",
       "        [103032., 103181.],\n",
       "        [103181., 102935.],\n",
       "        [102935., 102243.],\n",
       "        [102243., 101201.],\n",
       "        [101201.,  99681.],\n",
       "        [ 99681., 100626.],\n",
       "        [100626., 101135.],\n",
       "        [101135., 100524.],\n",
       "        [100524.,  98194.],\n",
       "        [ 98194.,  97276.],\n",
       "        [ 97276.,  96430.],\n",
       "        [ 96430.,  97667.],\n",
       "        [ 97667., 100011.],\n",
       "        [100011., 101202.],\n",
       "        [101202.,  99222.],\n",
       "        [ 99222.,  99469.],\n",
       "        [ 99469.,  99806.],\n",
       "        [ 99806.,  99057.],\n",
       "        [ 99057., 100258.],\n",
       "        [100258., 103299.],\n",
       "        [103299., 101915.],\n",
       "        [101915., 103996.],\n",
       "        [103996., 104115.],\n",
       "        [104115., 102782.],\n",
       "        [102782., 102164.],\n",
       "        [102164., 100098.],\n",
       "        [100098., 102674.],\n",
       "        [102674., 102126.],\n",
       "        [102126., 101812.],\n",
       "        [101812., 102933.],\n",
       "        [102933., 103483.],\n",
       "        [103483., 102819.]])"
      ]
     },
     "execution_count": 72,
     "metadata": {},
     "output_type": "execute_result"
    }
   ],
   "source": [
    "tensor_x"
   ]
  },
  {
   "cell_type": "code",
   "execution_count": null,
   "metadata": {},
   "outputs": [],
   "source": []
  },
  {
   "cell_type": "code",
   "execution_count": 79,
   "metadata": {},
   "outputs": [
    {
     "data": {
      "text/plain": [
       "array([[ 79343.164],\n",
       "       [ 78710.42 ],\n",
       "       [ 76628.586],\n",
       "       [ 77102.51 ],\n",
       "       [ 75351.94 ],\n",
       "       [ 75013.85 ],\n",
       "       [ 72804.68 ],\n",
       "       [ 73051.31 ],\n",
       "       [ 74357.984],\n",
       "       [ 73845.84 ],\n",
       "       [ 74324.69 ],\n",
       "       [ 72346.18 ],\n",
       "       [ 73916.8  ],\n",
       "       [ 72973.9  ],\n",
       "       [ 70750.48 ],\n",
       "       [ 69166.48 ],\n",
       "       [ 68273.21 ],\n",
       "       [ 73456.43 ],\n",
       "       [ 70121.07 ],\n",
       "       [ 78198.74 ],\n",
       "       [ 78006.12 ],\n",
       "       [ 82739.89 ],\n",
       "       [ 85249.53 ],\n",
       "       [ 87938.67 ],\n",
       "       [ 96595.914],\n",
       "       [ 95749.57 ],\n",
       "       [100230.12 ],\n",
       "       [103482.95 ],\n",
       "       [106543.23 ],\n",
       "       [109117.45 ],\n",
       "       [109106.35 ],\n",
       "       [110587.93 ],\n",
       "       [109225.65 ],\n",
       "       [113639.695],\n",
       "       [115790.1  ],\n",
       "       [117169.9  ],\n",
       "       [117003.164],\n",
       "       [116648.19 ],\n",
       "       [115874.63 ],\n",
       "       [116319.945],\n",
       "       [116879.88 ],\n",
       "       [116978.5  ],\n",
       "       [115663.51 ],\n",
       "       [115438.02 ],\n",
       "       [116012.04 ],\n",
       "       [116933.98 ],\n",
       "       [116748.31 ],\n",
       "       [116810.35 ],\n",
       "       [115802.15 ],\n",
       "       [117499.63 ],\n",
       "       [117662.21 ],\n",
       "       [118425.61 ],\n",
       "       [117736.38 ],\n",
       "       [119116.91 ],\n",
       "       [120030.77 ],\n",
       "       [119719.664],\n",
       "       [118830.88 ],\n",
       "       [119271.32 ],\n",
       "       [119350.445],\n",
       "       [118344.51 ],\n",
       "       [117928.24 ],\n",
       "       [118123.484],\n",
       "       [118454.85 ],\n",
       "       [117769.94 ],\n",
       "       [117839.234],\n",
       "       [118227.68 ],\n",
       "       [117963.4  ],\n",
       "       [118465.9  ],\n",
       "       [118519.56 ],\n",
       "       [118819.12 ],\n",
       "       [117911.43 ],\n",
       "       [117349.66 ],\n",
       "       [117398.21 ],\n",
       "       [116606.19 ],\n",
       "       [115755.766],\n",
       "       [115491.555],\n",
       "       [114943.805],\n",
       "       [113916.01 ],\n",
       "       [113154.41 ],\n",
       "       [113146.02 ],\n",
       "       [113128.81 ],\n",
       "       [112482.766],\n",
       "       [112029.1  ],\n",
       "       [111686.04 ],\n",
       "       [111792.586],\n",
       "       [111201.43 ],\n",
       "       [111014.87 ],\n",
       "       [110116.09 ],\n",
       "       [109771.73 ],\n",
       "       [109709.6  ],\n",
       "       [109472.87 ],\n",
       "       [109160.17 ],\n",
       "       [108388.47 ],\n",
       "       [108801.05 ],\n",
       "       [108922.49 ],\n",
       "       [108506.24 ],\n",
       "       [107778.02 ],\n",
       "       [107877.44 ],\n",
       "       [108144.78 ],\n",
       "       [108617.07 ],\n",
       "       [108384.32 ],\n",
       "       [109524.914],\n",
       "       [109389.67 ],\n",
       "       [109958.09 ],\n",
       "       [109695.63 ],\n",
       "       [109691.664],\n",
       "       [109405.34 ],\n",
       "       [109635.445],\n",
       "       [108787.63 ],\n",
       "       [109103.24 ],\n",
       "       [109007.52 ],\n",
       "       [108948.91 ],\n",
       "       [108502.66 ],\n",
       "       [107859.62 ],\n",
       "       [107873.57 ],\n",
       "       [107800.55 ],\n",
       "       [107052.23 ],\n",
       "       [106273.03 ],\n",
       "       [105801.11 ],\n",
       "       [105515.12 ],\n",
       "       [105023.18 ],\n",
       "       [104132.99 ],\n",
       "       [104035.836],\n",
       "       [103371.695],\n",
       "       [102540.47 ],\n",
       "       [102199.414],\n",
       "       [102718.055],\n",
       "       [103688.01 ],\n",
       "       [104282.24 ],\n",
       "       [103985.9  ],\n",
       "       [104918.5  ],\n",
       "       [105756.5  ],\n",
       "       [106089.56 ],\n",
       "       [106185.91 ],\n",
       "       [105923.76 ],\n",
       "       [105581.375],\n",
       "       [105673.07 ],\n",
       "       [105713.98 ],\n",
       "       [105562.74 ],\n",
       "       [105573.59 ],\n",
       "       [105384.55 ],\n",
       "       [105095.21 ],\n",
       "       [104696.914],\n",
       "       [104871.71 ],\n",
       "       [104534.14 ],\n",
       "       [103859.49 ],\n",
       "       [103387.54 ],\n",
       "       [103416.125],\n",
       "       [102939.84 ],\n",
       "       [102351.695],\n",
       "       [101029.38 ],\n",
       "       [100774.484],\n",
       "       [100630.24 ],\n",
       "       [100725.586],\n",
       "       [100102.836],\n",
       "       [ 99668.266],\n",
       "       [ 99024.29 ],\n",
       "       [ 99608.586],\n",
       "       [100522.46 ],\n",
       "       [101398.43 ],\n",
       "       [101277.195],\n",
       "       [101509.97 ],\n",
       "       [101566.87 ],\n",
       "       [102361.53 ],\n",
       "       [102382.46 ],\n",
       "       [103881.04 ],\n",
       "       [103802.695],\n",
       "       [103677.76 ],\n",
       "       [104721.195],\n",
       "       [103695.695],\n",
       "       [103577.83 ],\n",
       "       [102786.336],\n",
       "       [103429.414]], dtype=float32)"
      ]
     },
     "execution_count": 79,
     "metadata": {},
     "output_type": "execute_result"
    }
   ],
   "source": [
    "predictor.predict(tensor_x)"
   ]
  },
  {
   "cell_type": "code",
   "execution_count": null,
   "metadata": {},
   "outputs": [],
   "source": []
  }
 ],
 "metadata": {
  "kernelspec": {
   "display_name": "Python 3",
   "language": "python",
   "name": "python3"
  },
  "language_info": {
   "codemirror_mode": {
    "name": "ipython",
    "version": 3
   },
   "file_extension": ".py",
   "mimetype": "text/x-python",
   "name": "python",
   "nbconvert_exporter": "python",
   "pygments_lexer": "ipython3",
   "version": "3.8.5"
  }
 },
 "nbformat": 4,
 "nbformat_minor": 4
}
