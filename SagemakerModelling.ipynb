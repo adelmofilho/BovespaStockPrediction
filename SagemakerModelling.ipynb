{
 "cells": [
  {
   "cell_type": "code",
   "execution_count": 1,
   "metadata": {},
   "outputs": [],
   "source": [
    "import os\n",
    "import io\n",
    "import ast\n",
    "import boto3\n",
    "import sagemaker\n",
    "import numpy as np\n",
    "import pandas as pd\n",
    "\n",
    "from sagemaker.pytorch import PyTorch\n",
    "\n",
    "from ibov.utils import load_config\n",
    "from ibov.deploy import get_deploy_config, define_model"
   ]
  },
  {
   "cell_type": "markdown",
   "metadata": {},
   "source": [
    "### Loading Configs"
   ]
  },
  {
   "cell_type": "code",
   "execution_count": 24,
   "metadata": {},
   "outputs": [],
   "source": [
    "# Load config dict\n",
    "config = load_config()"
   ]
  },
  {
   "cell_type": "code",
   "execution_count": 3,
   "metadata": {},
   "outputs": [],
   "source": [
    "role = config.get(\"sagemaker\").get(\"role\")\n",
    "prefix = config.get(\"sagemaker\").get(\"bucket_prefx\")\n",
    "data_dir = config.get(\"data\").get(\"dir\")\n",
    "region = config.get(\"sagemaker\").get(\"region\")"
   ]
  },
  {
   "cell_type": "code",
   "execution_count": 4,
   "metadata": {},
   "outputs": [],
   "source": [
    "dropout = config.get(\"model\").get(\"dropout\")\n",
    "window = config.get(\"feature\").get(\"window\")\n",
    "hidden_layer = config.get(\"model\").get(\"hidden_layer\")\n",
    "lr = config.get(\"model\").get(\"lr\")\n",
    "seed = config.get(\"model\").get(\"seed\")\n",
    "epochs = config.get(\"model\").get(\"epochs\")"
   ]
  },
  {
   "cell_type": "markdown",
   "metadata": {},
   "source": [
    "### Upload Data"
   ]
  },
  {
   "cell_type": "code",
   "execution_count": 5,
   "metadata": {},
   "outputs": [],
   "source": [
    "session = sagemaker.Session(boto_session=boto3.session.Session(region_name=region))\n",
    "bucket = session.default_bucket()"
   ]
  },
  {
   "cell_type": "code",
   "execution_count": 6,
   "metadata": {},
   "outputs": [],
   "source": [
    "input_data = session.upload_data(path=data_dir, bucket=bucket, key_prefix=prefix)\n",
    "input_config = session.upload_data(path=\"config.json\", bucket=bucket, key_prefix=prefix)"
   ]
  },
  {
   "cell_type": "markdown",
   "metadata": {},
   "source": [
    "### Train Model"
   ]
  },
  {
   "cell_type": "code",
   "execution_count": 7,
   "metadata": {},
   "outputs": [],
   "source": [
    "estimator = PyTorch(entry_point=\"train.py\", \n",
    "                    source_dir=\"ibov\", \n",
    "                    py_version=\"py3\",\n",
    "                    role=role, \n",
    "                    framework_version='0.4.0',\n",
    "                    instance_count=1, \n",
    "                    instance_type='ml.p2.xlarge',\n",
    "                    hyperparameters = {\n",
    "                        \"batch-size\": 50,\n",
    "                        \"epochs\": epochs,\n",
    "                        \"seed\": seed,\n",
    "                        \"input-layer\": window,\n",
    "                        \"hidden-layer\": hidden_layer,\n",
    "                        \"dropout\": dropout        \n",
    "                    })"
   ]
  },
  {
   "cell_type": "code",
   "execution_count": 8,
   "metadata": {},
   "outputs": [
    {
     "name": "stdout",
     "output_type": "stream",
     "text": [
      "2021-01-26 15:19:48 Starting - Starting the training job...\n",
      "2021-01-26 15:20:12 Starting - Launching requested ML instancesProfilerReport-1611674386: InProgress\n",
      "......\n",
      "2021-01-26 15:21:33 Starting - Preparing the instances for training.........\n",
      "2021-01-26 15:23:14 Downloading - Downloading input data\n",
      "2021-01-26 15:23:14 Training - Downloading the training image...\n",
      "2021-01-26 15:23:35 Training - Training image download completed. Training in progress.\u001b[34mbash: cannot set terminal process group (-1): Inappropriate ioctl for device\u001b[0m\n",
      "\u001b[34mbash: no job control in this shell\u001b[0m\n",
      "\u001b[34m2021-01-26 15:23:36,242 sagemaker-containers INFO     Imported framework sagemaker_pytorch_container.training\u001b[0m\n",
      "\u001b[34m2021-01-26 15:23:36,270 sagemaker_pytorch_container.training INFO     Block until all host DNS lookups succeed.\u001b[0m\n",
      "\u001b[34m2021-01-26 15:23:37,695 sagemaker_pytorch_container.training INFO     Invoking user training script.\u001b[0m\n",
      "\u001b[34m2021-01-26 15:23:38,047 sagemaker-containers INFO     Module train does not provide a setup.py. \u001b[0m\n",
      "\u001b[34mGenerating setup.py\u001b[0m\n",
      "\u001b[34m2021-01-26 15:23:38,047 sagemaker-containers INFO     Generating setup.cfg\u001b[0m\n",
      "\u001b[34m2021-01-26 15:23:38,047 sagemaker-containers INFO     Generating MANIFEST.in\u001b[0m\n",
      "\u001b[34m2021-01-26 15:23:38,047 sagemaker-containers INFO     Installing module with the following command:\u001b[0m\n",
      "\u001b[34m/usr/bin/python -m pip install -U . -r requirements.txt\u001b[0m\n",
      "\u001b[34mProcessing /opt/ml/code\u001b[0m\n",
      "\u001b[34mCollecting pandas (from -r requirements.txt (line 1))\n",
      "  Downloading https://files.pythonhosted.org/packages/74/24/0cdbf8907e1e3bc5a8da03345c23cbed7044330bb8f73bb12e711a640a00/pandas-0.24.2-cp35-cp35m-manylinux1_x86_64.whl (10.0MB)\u001b[0m\n",
      "\u001b[34mRequirement already satisfied, skipping upgrade: python-dateutil>=2.5.0 in /usr/local/lib/python3.5/dist-packages (from pandas->-r requirements.txt (line 1)) (2.7.5)\u001b[0m\n",
      "\u001b[34mRequirement already satisfied, skipping upgrade: numpy>=1.12.0 in /usr/local/lib/python3.5/dist-packages (from pandas->-r requirements.txt (line 1)) (1.15.4)\u001b[0m\n",
      "\u001b[34mCollecting pytz>=2011k (from pandas->-r requirements.txt (line 1))\n",
      "  Downloading https://files.pythonhosted.org/packages/89/06/2c2d3034b4d6bf22f2a4ae546d16925898658a33b4400cfb7e2c1e2871a3/pytz-2020.5-py2.py3-none-any.whl (510kB)\u001b[0m\n",
      "\u001b[34mRequirement already satisfied, skipping upgrade: six>=1.5 in /usr/local/lib/python3.5/dist-packages (from python-dateutil>=2.5.0->pandas->-r requirements.txt (line 1)) (1.11.0)\u001b[0m\n",
      "\u001b[34mBuilding wheels for collected packages: train\n",
      "  Running setup.py bdist_wheel for train: started\n",
      "  Running setup.py bdist_wheel for train: finished with status 'done'\n",
      "  Stored in directory: /tmp/pip-ephem-wheel-cache-8vmhrlfx/wheels/35/24/16/37574d11bf9bde50616c67372a334f94fa8356bc7164af8ca3\u001b[0m\n",
      "\u001b[34mSuccessfully built train\u001b[0m\n",
      "\u001b[34mInstalling collected packages: pytz, pandas, train\u001b[0m\n",
      "\u001b[34mSuccessfully installed pandas-0.24.2 pytz-2020.5 train-1.0.0\u001b[0m\n",
      "\u001b[34mYou are using pip version 18.1, however version 20.3.4 is available.\u001b[0m\n",
      "\u001b[34mYou should consider upgrading via the 'pip install --upgrade pip' command.\u001b[0m\n",
      "\u001b[34m2021-01-26 15:23:44,146 sagemaker-containers INFO     Invoking user script\n",
      "\u001b[0m\n",
      "\u001b[34mTraining Env:\n",
      "\u001b[0m\n",
      "\u001b[34m{\n",
      "    \"output_dir\": \"/opt/ml/output\",\n",
      "    \"hyperparameters\": {\n",
      "        \"batch-size\": 50,\n",
      "        \"dropout\": 0.25,\n",
      "        \"input-layer\": 7,\n",
      "        \"seed\": 1903,\n",
      "        \"epochs\": 50,\n",
      "        \"hidden-layer\": 50\n",
      "    },\n",
      "    \"framework_module\": \"sagemaker_pytorch_container.training:main\",\n",
      "    \"model_dir\": \"/opt/ml/model\",\n",
      "    \"resource_config\": {\n",
      "        \"current_host\": \"algo-1\",\n",
      "        \"network_interface_name\": \"eth0\",\n",
      "        \"hosts\": [\n",
      "            \"algo-1\"\n",
      "        ]\n",
      "    },\n",
      "    \"additional_framework_parameters\": {},\n",
      "    \"num_gpus\": 1,\n",
      "    \"current_host\": \"algo-1\",\n",
      "    \"output_data_dir\": \"/opt/ml/output/data\",\n",
      "    \"num_cpus\": 4,\n",
      "    \"network_interface_name\": \"eth0\",\n",
      "    \"module_dir\": \"s3://sagemaker-us-east-1-977053370764/sagemaker-pytorch-2021-01-26-15-19-44-976/source/sourcedir.tar.gz\",\n",
      "    \"job_name\": \"sagemaker-pytorch-2021-01-26-15-19-44-976\",\n",
      "    \"input_data_config\": {\n",
      "        \"train\": {\n",
      "            \"S3DistributionType\": \"FullyReplicated\",\n",
      "            \"TrainingInputMode\": \"File\",\n",
      "            \"RecordWrapperType\": \"None\"\n",
      "        },\n",
      "        \"config\": {\n",
      "            \"S3DistributionType\": \"FullyReplicated\",\n",
      "            \"TrainingInputMode\": \"File\",\n",
      "            \"RecordWrapperType\": \"None\"\n",
      "        }\n",
      "    },\n",
      "    \"log_level\": 20,\n",
      "    \"module_name\": \"train\",\n",
      "    \"user_entry_point\": \"train.py\",\n",
      "    \"input_dir\": \"/opt/ml/input\",\n",
      "    \"input_config_dir\": \"/opt/ml/input/config\",\n",
      "    \"channel_input_dirs\": {\n",
      "        \"train\": \"/opt/ml/input/data/train\",\n",
      "        \"config\": \"/opt/ml/input/data/config\"\n",
      "    },\n",
      "    \"hosts\": [\n",
      "        \"algo-1\"\n",
      "    ],\n",
      "    \"output_intermediate_dir\": \"/opt/ml/output/intermediate\"\u001b[0m\n",
      "\u001b[34m}\n",
      "\u001b[0m\n",
      "\u001b[34mEnvironment variables:\n",
      "\u001b[0m\n",
      "\u001b[34mSM_NUM_GPUS=1\u001b[0m\n",
      "\u001b[34mSM_HP_DROPOUT=0.25\u001b[0m\n",
      "\u001b[34mSM_CHANNELS=[\"config\",\"train\"]\u001b[0m\n",
      "\u001b[34mSM_HP_INPUT-LAYER=7\u001b[0m\n",
      "\u001b[34mSM_INPUT_DIR=/opt/ml/input\u001b[0m\n",
      "\u001b[34mSM_MODULE_DIR=s3://sagemaker-us-east-1-977053370764/sagemaker-pytorch-2021-01-26-15-19-44-976/source/sourcedir.tar.gz\u001b[0m\n",
      "\u001b[34mSM_HP_EPOCHS=50\u001b[0m\n",
      "\u001b[34mSM_RESOURCE_CONFIG={\"current_host\":\"algo-1\",\"hosts\":[\"algo-1\"],\"network_interface_name\":\"eth0\"}\u001b[0m\n",
      "\u001b[34mSM_HPS={\"batch-size\":50,\"dropout\":0.25,\"epochs\":50,\"hidden-layer\":50,\"input-layer\":7,\"seed\":1903}\u001b[0m\n",
      "\u001b[34mSM_FRAMEWORK_PARAMS={}\u001b[0m\n",
      "\u001b[34mSM_MODULE_NAME=train\u001b[0m\n",
      "\u001b[34mSM_MODEL_DIR=/opt/ml/model\u001b[0m\n",
      "\u001b[34mSM_CHANNEL_CONFIG=/opt/ml/input/data/config\u001b[0m\n",
      "\u001b[34mSM_USER_ARGS=[\"--batch-size\",\"50\",\"--dropout\",\"0.25\",\"--epochs\",\"50\",\"--hidden-layer\",\"50\",\"--input-layer\",\"7\",\"--seed\",\"1903\"]\u001b[0m\n",
      "\u001b[34mSM_USER_ENTRY_POINT=train.py\u001b[0m\n",
      "\u001b[34mSM_HP_HIDDEN-LAYER=50\u001b[0m\n",
      "\u001b[34mSM_NETWORK_INTERFACE_NAME=eth0\u001b[0m\n",
      "\u001b[34mSM_OUTPUT_DIR=/opt/ml/output\u001b[0m\n",
      "\u001b[34mSM_HP_SEED=1903\u001b[0m\n",
      "\u001b[34mPYTHONPATH=/usr/local/bin:/usr/lib/python35.zip:/usr/lib/python3.5:/usr/lib/python3.5/plat-x86_64-linux-gnu:/usr/lib/python3.5/lib-dynload:/usr/local/lib/python3.5/dist-packages:/usr/lib/python3/dist-packages\u001b[0m\n",
      "\u001b[34mSM_LOG_LEVEL=20\u001b[0m\n",
      "\u001b[34mSM_HOSTS=[\"algo-1\"]\u001b[0m\n",
      "\u001b[34mSM_TRAINING_ENV={\"additional_framework_parameters\":{},\"channel_input_dirs\":{\"config\":\"/opt/ml/input/data/config\",\"train\":\"/opt/ml/input/data/train\"},\"current_host\":\"algo-1\",\"framework_module\":\"sagemaker_pytorch_container.training:main\",\"hosts\":[\"algo-1\"],\"hyperparameters\":{\"batch-size\":50,\"dropout\":0.25,\"epochs\":50,\"hidden-layer\":50,\"input-layer\":7,\"seed\":1903},\"input_config_dir\":\"/opt/ml/input/config\",\"input_data_config\":{\"config\":{\"RecordWrapperType\":\"None\",\"S3DistributionType\":\"FullyReplicated\",\"TrainingInputMode\":\"File\"},\"train\":{\"RecordWrapperType\":\"None\",\"S3DistributionType\":\"FullyReplicated\",\"TrainingInputMode\":\"File\"}},\"input_dir\":\"/opt/ml/input\",\"job_name\":\"sagemaker-pytorch-2021-01-26-15-19-44-976\",\"log_level\":20,\"model_dir\":\"/opt/ml/model\",\"module_dir\":\"s3://sagemaker-us-east-1-977053370764/sagemaker-pytorch-2021-01-26-15-19-44-976/source/sourcedir.tar.gz\",\"module_name\":\"train\",\"network_interface_name\":\"eth0\",\"num_cpus\":4,\"num_gpus\":1,\"output_data_dir\":\"/opt/ml/output/data\",\"output_dir\":\"/opt/ml/output\",\"output_intermediate_dir\":\"/opt/ml/output/intermediate\",\"resource_config\":{\"current_host\":\"algo-1\",\"hosts\":[\"algo-1\"],\"network_interface_name\":\"eth0\"},\"user_entry_point\":\"train.py\"}\u001b[0m\n",
      "\u001b[34mSM_NUM_CPUS=4\u001b[0m\n",
      "\u001b[34mSM_INPUT_DATA_CONFIG={\"config\":{\"RecordWrapperType\":\"None\",\"S3DistributionType\":\"FullyReplicated\",\"TrainingInputMode\":\"File\"},\"train\":{\"RecordWrapperType\":\"None\",\"S3DistributionType\":\"FullyReplicated\",\"TrainingInputMode\":\"File\"}}\u001b[0m\n",
      "\u001b[34mSM_OUTPUT_INTERMEDIATE_DIR=/opt/ml/output/intermediate\u001b[0m\n",
      "\u001b[34mSM_HP_BATCH-SIZE=50\u001b[0m\n",
      "\u001b[34mSM_FRAMEWORK_MODULE=sagemaker_pytorch_container.training:main\u001b[0m\n",
      "\u001b[34mSM_INPUT_CONFIG_DIR=/opt/ml/input/config\u001b[0m\n",
      "\u001b[34mSM_CHANNEL_TRAIN=/opt/ml/input/data/train\u001b[0m\n",
      "\u001b[34mSM_CURRENT_HOST=algo-1\u001b[0m\n",
      "\u001b[34mSM_OUTPUT_DATA_DIR=/opt/ml/output/data\n",
      "\u001b[0m\n",
      "\u001b[34mInvoking script with the following command:\n",
      "\u001b[0m\n",
      "\u001b[34m/usr/bin/python -m train --batch-size 50 --dropout 0.25 --epochs 50 --hidden-layer 50 --input-layer 7 --seed 1903\n",
      "\n",
      "\u001b[0m\n",
      "\u001b[34m15:23:46, epoch: 0, train: 3.068, valid: 0.417\u001b[0m\n",
      "\u001b[34m15:23:46, epoch: 1, train: 1.912, valid: 0.173\u001b[0m\n",
      "\u001b[34m15:23:47, epoch: 2, train: 0.986, valid: 0.062\u001b[0m\n"
     ]
    },
    {
     "name": "stdout",
     "output_type": "stream",
     "text": [
      "\u001b[34m15:23:48, epoch: 3, train: 0.857, valid: 0.119\u001b[0m\n",
      "\u001b[34m15:23:50, epoch: 4, train: 0.779, valid: 0.041\u001b[0m\n",
      "\u001b[34m15:23:52, epoch: 5, train: 0.633, valid: 0.057\u001b[0m\n",
      "\u001b[34m15:23:54, epoch: 6, train: 0.633, valid: 0.055\u001b[0m\n",
      "\u001b[34m15:23:56, epoch: 7, train: 0.601, valid: 0.037\u001b[0m\n",
      "\u001b[34m15:23:59, epoch: 8, train: 0.565, valid: 0.036\u001b[0m\n",
      "\u001b[34m15:24:03, epoch: 9, train: 0.579, valid: 0.039\u001b[0m\n",
      "\u001b[34m15:24:07, epoch: 10, train: 0.593, valid: 0.051\u001b[0m\n",
      "\u001b[34m15:24:10, epoch: 11, train: 0.576, valid: 0.041\u001b[0m\n",
      "\u001b[34m15:24:14, epoch: 12, train: 0.604, valid: 0.034\u001b[0m\n",
      "\u001b[34m15:24:19, epoch: 13, train: 0.555, valid: 0.033\u001b[0m\n",
      "\u001b[34m15:24:23, epoch: 14, train: 0.519, valid: 0.039\u001b[0m\n",
      "\u001b[34m15:24:28, epoch: 15, train: 0.484, valid: 0.043\u001b[0m\n",
      "\u001b[34m15:24:34, epoch: 16, train: 0.495, valid: 0.037\u001b[0m\n",
      "\u001b[34m15:24:40, epoch: 17, train: 0.463, valid: 0.032\u001b[0m\n",
      "\u001b[34m15:24:46, epoch: 18, train: 0.515, valid: 0.029\u001b[0m\n",
      "\u001b[34m15:24:52, epoch: 19, train: 0.485, valid: 0.03\u001b[0m\n",
      "\u001b[34m15:24:59, epoch: 20, train: 0.423, valid: 0.037\u001b[0m\n",
      "\u001b[34m15:25:07, epoch: 21, train: 0.46, valid: 0.032\u001b[0m\n",
      "\u001b[34m15:25:14, epoch: 22, train: 0.432, valid: 0.028\u001b[0m\n",
      "\u001b[34m15:25:22, epoch: 23, train: 0.425, valid: 0.028\u001b[0m\n",
      "\u001b[34m15:25:30, epoch: 24, train: 0.462, valid: 0.026\u001b[0m\n",
      "\u001b[34m15:25:38, epoch: 25, train: 0.439, valid: 0.025\u001b[0m\n",
      "\u001b[34m15:25:47, epoch: 26, train: 0.43, valid: 0.031\u001b[0m\n",
      "\u001b[34m15:25:56, epoch: 27, train: 0.431, valid: 0.024\u001b[0m\n",
      "\u001b[34m15:26:07, epoch: 28, train: 0.431, valid: 0.024\u001b[0m\n",
      "\u001b[34m15:26:17, epoch: 29, train: 0.396, valid: 0.029\u001b[0m\n",
      "\u001b[34m15:26:27, epoch: 30, train: 0.406, valid: 0.029\u001b[0m\n",
      "\u001b[34m15:26:38, epoch: 31, train: 0.409, valid: 0.024\u001b[0m\n",
      "\u001b[34m15:26:48, epoch: 32, train: 0.394, valid: 0.032\u001b[0m\n",
      "\u001b[34m15:27:00, epoch: 33, train: 0.38, valid: 0.031\u001b[0m\n",
      "\u001b[34m15:27:12, epoch: 34, train: 0.388, valid: 0.023\u001b[0m\n",
      "\u001b[34m15:27:24, epoch: 35, train: 0.367, valid: 0.025\u001b[0m\n",
      "\u001b[34m15:27:36, epoch: 36, train: 0.393, valid: 0.025\u001b[0m\n",
      "\u001b[34m15:27:48, epoch: 37, train: 0.397, valid: 0.024\u001b[0m\n",
      "\u001b[34m15:28:01, epoch: 38, train: 0.369, valid: 0.024\u001b[0m\n",
      "\u001b[34m15:28:15, epoch: 39, train: 0.357, valid: 0.024\u001b[0m\n",
      "\u001b[34m15:28:28, epoch: 40, train: 0.365, valid: 0.025\u001b[0m\n",
      "\u001b[34m15:28:42, epoch: 41, train: 0.343, valid: 0.025\u001b[0m\n",
      "\u001b[34m15:28:57, epoch: 42, train: 0.381, valid: 0.023\u001b[0m\n",
      "\u001b[34m15:29:13, epoch: 43, train: 0.37, valid: 0.023\u001b[0m\n",
      "\u001b[34m15:29:28, epoch: 44, train: 0.328, valid: 0.032\u001b[0m\n",
      "\u001b[34m15:29:43, epoch: 45, train: 0.369, valid: 0.028\u001b[0m\n",
      "\u001b[34m15:29:59, epoch: 46, train: 0.351, valid: 0.025\u001b[0m\n",
      "\u001b[34m15:30:16, epoch: 47, train: 0.344, valid: 0.028\u001b[0m\n",
      "\u001b[34m15:30:33, epoch: 48, train: 0.331, valid: 0.027\u001b[0m\n",
      "\n",
      "2021-01-26 15:30:53 Uploading - Uploading generated training model\u001b[34m15:30:49, epoch: 49, train: 0.334, valid: 0.023\u001b[0m\n",
      "\u001b[34m2021-01-26 15:30:50,390 sagemaker-containers INFO     Reporting training SUCCESS\u001b[0m\n",
      "\n",
      "2021-01-26 15:31:20 Completed - Training job completed\n",
      "ProfilerReport-1611674386: NoIssuesFound\n",
      "Training seconds: 491\n",
      "Billable seconds: 491\n"
     ]
    }
   ],
   "source": [
    "estimator.fit({'train': input_data, \"config\": input_config})"
   ]
  },
  {
   "cell_type": "code",
   "execution_count": 25,
   "metadata": {},
   "outputs": [
    {
     "data": {
      "text/plain": [
       "'sagemaker-pytorch-2021-01-26-15-19-44-976'"
      ]
     },
     "execution_count": 25,
     "metadata": {},
     "output_type": "execute_result"
    }
   ],
   "source": [
    "estimator.latest_training_job.job_name"
   ]
  },
  {
   "cell_type": "code",
   "execution_count": 26,
   "metadata": {},
   "outputs": [],
   "source": [
    "deploy_config = get_deploy_config(config)"
   ]
  },
  {
   "cell_type": "code",
   "execution_count": 27,
   "metadata": {},
   "outputs": [],
   "source": [
    "def define_model(deploy_config):\n",
    "\n",
    "    codename = deploy_config.get(\"codename\")\n",
    "    \n",
    "    client  = boto3.client(\"sagemaker\")\n",
    "\n",
    "    model = client.create_model(ModelName=codename,\n",
    "                                PrimaryContainer=deploy_config.get(\"primary_container\"),\n",
    "                                ExecutionRoleArn=deploy_config.get(\"role\"))\n",
    "\n",
    "    return model"
   ]
  },
  {
   "cell_type": "code",
   "execution_count": 28,
   "metadata": {},
   "outputs": [
    {
     "data": {
      "text/plain": [
       "{'ModelArn': 'arn:aws:sagemaker:us-east-1:977053370764:model/sagemaker-pytorch-2021-01-26-15-19-44-976',\n",
       " 'ResponseMetadata': {'RequestId': 'cc296fc3-d472-4005-97ba-ab0d91a9a4bb',\n",
       "  'HTTPStatusCode': 200,\n",
       "  'HTTPHeaders': {'x-amzn-requestid': 'cc296fc3-d472-4005-97ba-ab0d91a9a4bb',\n",
       "   'content-type': 'application/x-amz-json-1.1',\n",
       "   'content-length': '103',\n",
       "   'date': 'Tue, 26 Jan 2021 16:21:40 GMT'},\n",
       "  'RetryAttempts': 0}}"
      ]
     },
     "execution_count": 28,
     "metadata": {},
     "output_type": "execute_result"
    }
   ],
   "source": [
    "define_model(deploy_config)"
   ]
  },
  {
   "cell_type": "markdown",
   "metadata": {},
   "source": [
    "### Endpoint Deployment"
   ]
  },
  {
   "cell_type": "markdown",
   "metadata": {},
   "source": [
    "config = load_config()"
   ]
  },
  {
   "cell_type": "markdown",
   "metadata": {},
   "source": [
    "deploy_config = get_deploy_config(config)"
   ]
  },
  {
   "cell_type": "markdown",
   "metadata": {},
   "source": [
    "build_endpoint(deploy_config)"
   ]
  },
  {
   "cell_type": "markdown",
   "metadata": {},
   "source": [
    "kill_endpoint(config)"
   ]
  }
 ],
 "metadata": {
  "kernelspec": {
   "display_name": "Python 3",
   "language": "python",
   "name": "python3"
  },
  "language_info": {
   "codemirror_mode": {
    "name": "ipython",
    "version": 3
   },
   "file_extension": ".py",
   "mimetype": "text/x-python",
   "name": "python",
   "nbconvert_exporter": "python",
   "pygments_lexer": "ipython3",
   "version": "3.8.5"
  }
 },
 "nbformat": 4,
 "nbformat_minor": 4
}
